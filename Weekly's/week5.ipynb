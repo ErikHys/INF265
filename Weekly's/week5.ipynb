{
 "cells": [
  {
   "cell_type": "code",
   "execution_count": 1,
   "metadata": {
    "collapsed": true
   },
   "outputs": [],
   "source": [
    "import torch\n",
    "from torch import nn\n",
    "from torch.utils.data import DataLoader\n",
    "from torchvision import transforms, datasets\n",
    "import numpy as np\n",
    "import matplotlib.pyplot as plt\n",
    "from PIL import Image"
   ]
  },
  {
   "cell_type": "code",
   "execution_count": 2,
   "outputs": [],
   "source": [
    "#Didn't use os.mkdir here because I was a bit lazy... :(\n",
    "\n",
    "class CsvImgSet:\n",
    "\n",
    "    def __init__(self):\n",
    "        self.X = np.loadtxt('../Data/handwritten/handwritten_digits_images.csv', delimiter=',', dtype=np.uint8)\n",
    "        self.y = np.loadtxt('../Data/handwritten/handwritten_digits_labels.csv', delimiter=',', dtype=np.uint8)\n",
    "\n",
    "    def __getitem__(self, index):\n",
    "        return self.X[index], self.y[index]\n",
    "\n",
    "    def __len__(self):\n",
    "        return self.X.shape[0]\n",
    "\n",
    "\n",
    "def save_image(i, img, path, f):\n",
    "    # print(type(img))\n",
    "    img = Image.fromarray(img, 'L')\n",
    "    img.save(path + str(i) + '/' + str(f) + '.png')\n",
    "\n",
    "def write_to_folders():\n",
    "    csvImgSet = CsvImgSet()\n",
    "    path = [\"../Data/MNIST/train/\", \"../Data/MNIST/val/\", \"../Data/MNIST/test/\"]\n",
    "    zero_to_nine = [[] for i in range(10)]\n",
    "    n_samples = len(csvImgSet)\n",
    "    for i in range(n_samples):\n",
    "        zero_to_nine[csvImgSet[i][1]].append(csvImgSet[i][0].reshape(28, 28))\n",
    "\n",
    "    for i in range(10):\n",
    "        n_samples = len(zero_to_nine[i])\n",
    "        f = 0\n",
    "        for j in range(n_samples):\n",
    "            save_image(i, zero_to_nine[i][j], path[f], j)\n",
    "            if j >= int(n_samples*0.85):\n",
    "                break\n",
    "            elif j >= int(n_samples*0.7):\n",
    "                f = 1"
   ],
   "metadata": {
    "collapsed": false,
    "pycharm": {
     "name": "#%%\n"
    }
   }
  },
  {
   "cell_type": "code",
   "execution_count": 3,
   "outputs": [
    {
     "name": "stdout",
     "output_type": "stream",
     "text": [
      "True\n"
     ]
    }
   ],
   "source": [
    "\n",
    "print(torch.cuda.is_available())\n",
    "\n",
    "dev = torch.device(\"cuda\") if torch.cuda.is_available() else torch.device(\"cpu\")\n",
    "\n",
    "path = \"../Data/MNIST/\""
   ],
   "metadata": {
    "collapsed": false,
    "pycharm": {
     "name": "#%%\n"
    }
   }
  },
  {
   "cell_type": "code",
   "execution_count": 4,
   "outputs": [],
   "source": [
    "preprocessor = transforms.Compose([\n",
    "    transforms.Resize(32),\n",
    "    transforms.Grayscale(),\n",
    "    transforms.ToTensor(),\n",
    "    transforms.Normalize((0.5), (0.5))\n",
    "])"
   ],
   "metadata": {
    "collapsed": false,
    "pycharm": {
     "name": "#%%\n"
    }
   }
  },
  {
   "cell_type": "markdown",
   "source": [
    "Task 6:\n",
    "\n",
    "The dataloader is a great tool to split the data into batches, assign nr of processors, and I think only load\n",
    "parts of the data a a time(batches). Other than that they are easy to use.\n"
   ],
   "metadata": {
    "collapsed": false,
    "pycharm": {
     "name": "#%% md\n"
    }
   }
  },
  {
   "cell_type": "code",
   "execution_count": 5,
   "outputs": [],
   "source": [
    "def get_data():\n",
    "    train_set = datasets.ImageFolder(path+'train/', transform=preprocessor)\n",
    "    val_set = datasets.ImageFolder(path+'val/', transform=preprocessor)\n",
    "    test_set = datasets.ImageFolder(path+'test/', transform=preprocessor)\n",
    "    train_loader = DataLoader(dataset=train_set, batch_size=64, shuffle=True, num_workers=2, drop_last=True)\n",
    "    val_loader = DataLoader(dataset=val_set, batch_size=128, num_workers=2, drop_last=True)\n",
    "    test_loader = DataLoader(dataset=test_set, batch_size=64, num_workers=2, drop_last=True)\n",
    "    return train_loader, val_loader, test_loader"
   ],
   "metadata": {
    "collapsed": false,
    "pycharm": {
     "name": "#%%\n"
    }
   }
  },
  {
   "cell_type": "code",
   "execution_count": 6,
   "outputs": [],
   "source": [
    "train, val, test = get_data()\n",
    "trainiter = iter(train)\n",
    "nex = next(trainiter)\n"
   ],
   "metadata": {
    "collapsed": false,
    "pycharm": {
     "name": "#%%\n"
    }
   }
  },
  {
   "cell_type": "code",
   "execution_count": 7,
   "outputs": [
    {
     "data": {
      "text/plain": "<matplotlib.image.AxesImage at 0x26dff1599d0>"
     },
     "execution_count": 7,
     "metadata": {},
     "output_type": "execute_result"
    },
    {
     "data": {
      "text/plain": "<Figure size 432x288 with 1 Axes>",
      "image/png": "[encoded data removed]"
     },
     "metadata": {
      "needs_background": "light"
     },
     "output_type": "display_data"
    }
   ],
   "source": [
    "\n",
    "img = nex[0][0].numpy().reshape(32, 32, 1)\n",
    "plt.title('Label: ' + str(nex[1][0].item()))\n",
    "plt.imshow(img, cmap='gray')"
   ],
   "metadata": {
    "collapsed": false,
    "pycharm": {
     "name": "#%%\n"
    }
   }
  },
  {
   "cell_type": "code",
   "execution_count": 8,
   "outputs": [],
   "source": [
    "def loss_batch(model, loss_func, xb, yb, opt=None):\n",
    "    out = model(xb)\n",
    "    loss = loss_func(out, yb)\n",
    "    preds = torch.argmax(out, dim=1)\n",
    "    if opt is not None:\n",
    "        loss.backward()\n",
    "        opt.step()\n",
    "        opt.zero_grad()\n",
    "    return loss.item(), len(xb), (preds == yb).float().mean()\n",
    "\n",
    "def fit(epochs, model, loss_func, opt, train_dl, valid_dl, test_dl):\n",
    "    accuracy_plot = []\n",
    "    loss_plot = []\n",
    "    for epoch in range(epochs):\n",
    "        print(f\"Epoch {epoch+1}/{epochs}\")\n",
    "        print('-'*10)\n",
    "        model.train()\n",
    "        for xb, yb in train_dl:\n",
    "            xb = xb.to(dev)\n",
    "            yb = yb.to(dev)\n",
    "            loss_batch(model, loss_func, xb, yb, opt)\n",
    "\n",
    "        model.eval()\n",
    "        with torch.no_grad():\n",
    "            losses, nums, accuracy = zip(*[loss_batch(model, loss_func, xb.to(dev), yb.to(dev)) for xb, yb in valid_dl])\n",
    "\n",
    "        val_loss = np.sum(np.multiply(losses, nums)) / np.sum(nums)\n",
    "        accuracy = np.sum(accuracy)/len(accuracy)\n",
    "        print(\"Accuracy: \" + str(accuracy.item()))\n",
    "        accuracy_plot.append(accuracy)\n",
    "        loss_plot.append(val_loss)\n",
    "        print('Epoch: ' + str(epoch+1) + ' loss: ' + str(val_loss) + '\\n')\n",
    "\n",
    "    model.eval()\n",
    "    with torch.no_grad():\n",
    "        losses, nums, accuracy = zip(*[loss_batch(model, loss_func, xb.to(dev), yb.to(dev)) for xb, yb in test_dl])\n",
    "\n",
    "    val_loss = np.sum(np.multiply(losses, nums)) / np.sum(nums)\n",
    "    accuracy = np.sum(accuracy)/len(accuracy)\n",
    "    print(\"Test accuracy: \" + str(accuracy.item()))\n",
    "    print('Test loss: ' + str(val_loss) + '\\n')\n",
    "    return accuracy_plot, loss_plot\n",
    "\n",
    "def test_single_batch(epochs, model, loss_func, opt, xb, yb):\n",
    "    #Used to test if model is able to overfit a single batch, to see if the model is working.\n",
    "    for epoch in range(epochs):\n",
    "        if (epoch+1) % 100 == 0:\n",
    "            print(f\"Epoch {epoch+1}/{epochs}\")\n",
    "        model.train()\n",
    "\n",
    "        xb = xb.to(dev)\n",
    "        yb = yb.to(dev)\n",
    "        loss_batch(model, loss_func, xb, yb, opt)\n",
    "\n",
    "        if (epoch+1) % 100 == 0:\n",
    "            model.eval()\n",
    "            with torch.no_grad():\n",
    "                losses, nums, accuracy  = loss_batch(model, loss_func, xb, yb)\n",
    "                print(\"Accuracy: \" + str(accuracy.item()) + ' loss: '\n",
    "                      + str(np.sum(np.multiply(losses, nums)) / np.sum(nums)) + '\\n')\n"
   ],
   "metadata": {
    "collapsed": false,
    "pycharm": {
     "name": "#%%\n"
    }
   }
  },
  {
   "cell_type": "code",
   "execution_count": 9,
   "outputs": [],
   "source": [
    "\n",
    "class ViewLayer(torch.nn.Module):\n",
    "    def __init__(self, func):\n",
    "        super().__init__()\n",
    "        self.func = func\n",
    "\n",
    "    def forward(self, x):\n",
    "        return self.func(x)\n",
    "\n",
    "model = torch.nn.Sequential(\n",
    "    nn.Conv2d(1, 16, kernel_size=3, stride=2, padding=1),\n",
    "    nn.ReLU(),\n",
    "    nn.Conv2d(16, 16, kernel_size=3, stride=2, padding=1),\n",
    "    nn.ReLU(),\n",
    "    nn.Dropout2d(0.2),\n",
    "    nn.Conv2d(16, 10, kernel_size=3, stride=2, padding=1),\n",
    "    nn.ReLU(),\n",
    "    nn.AvgPool2d(4),\n",
    "    ViewLayer(lambda x: x.view(x.size(0), -1)),\n",
    ")"
   ],
   "metadata": {
    "collapsed": false,
    "pycharm": {
     "name": "#%%\n"
    }
   }
  },
  {
   "cell_type": "code",
   "execution_count": 10,
   "outputs": [
    {
     "data": {
      "text/plain": "Sequential(\n  (0): Conv2d(1, 16, kernel_size=(3, 3), stride=(2, 2), padding=(1, 1))\n  (1): ReLU()\n  (2): Conv2d(16, 16, kernel_size=(3, 3), stride=(2, 2), padding=(1, 1))\n  (3): ReLU()\n  (4): Dropout2d(p=0.2, inplace=False)\n  (5): Conv2d(16, 10, kernel_size=(3, 3), stride=(2, 2), padding=(1, 1))\n  (6): ReLU()\n  (7): AvgPool2d(kernel_size=4, stride=4, padding=0)\n  (8): ViewLayer()\n)"
     },
     "execution_count": 10,
     "metadata": {},
     "output_type": "execute_result"
    }
   ],
   "source": [
    "loss_func = torch.nn.CrossEntropyLoss()\n",
    "model.to(dev)\n",
    "\n",
    "# used for testing if model is working:\n",
    "# xb, yb = trainiter.next()\n",
    "# test_single_batch(1000, model, loss_func, opt, xb, yb)\n"
   ],
   "metadata": {
    "collapsed": false,
    "pycharm": {
     "name": "#%%\n"
    }
   }
  },
  {
   "cell_type": "code",
   "execution_count": 11,
   "outputs": [
    {
     "name": "stdout",
     "output_type": "stream",
     "text": [
      "Epoch 1/10\n",
      "----------\n",
      "Accuracy: 0.11261432617902756\n",
      "Epoch: 1 loss: 2.2900842922489817\n",
      "\n",
      "Epoch 2/10\n",
      "----------\n",
      "Accuracy: 0.11985518038272858\n",
      "Epoch: 2 loss: 2.2740355700981327\n",
      "\n",
      "Epoch 3/10\n",
      "----------\n",
      "Accuracy: 0.19912347197532654\n",
      "Epoch: 3 loss: 2.23707234423335\n",
      "\n",
      "Epoch 4/10\n",
      "----------\n",
      "Accuracy: 0.33917680382728577\n",
      "Epoch: 4 loss: 2.0586150404883594\n",
      "\n",
      "Epoch 5/10\n",
      "----------\n",
      "Accuracy: 0.4135861098766327\n",
      "Epoch: 5 loss: 1.7058126243149363\n",
      "\n",
      "Epoch 6/10\n",
      "----------\n",
      "Accuracy: 0.5272484421730042\n",
      "Epoch: 6 loss: 1.469348397923679\n",
      "\n",
      "Epoch 7/10\n",
      "----------\n",
      "Accuracy: 0.6205220818519592\n",
      "Epoch: 7 loss: 1.2708387912773504\n",
      "\n",
      "Epoch 8/10\n",
      "----------\n",
      "Accuracy: 0.6239519715309143\n",
      "Epoch: 8 loss: 1.178842428253918\n",
      "\n",
      "Epoch 9/10\n",
      "----------\n",
      "Accuracy: 0.6626333594322205\n",
      "Epoch: 9 loss: 1.0834916626534812\n",
      "\n",
      "Epoch 10/10\n",
      "----------\n",
      "Accuracy: 0.703410804271698\n",
      "Epoch: 10 loss: 0.9819904522198003\n",
      "\n",
      "Test accuracy: 0.7009202241897583\n",
      "Test loss: 0.9818537451921066\n",
      "\n",
      "Epoch 1/10\n",
      "----------\n",
      "Accuracy: 0.7940167188644409\n",
      "Epoch: 1 loss: 0.6891887934833039\n",
      "\n",
      "Epoch 2/10\n",
      "----------\n",
      "Accuracy: 0.8308879137039185\n",
      "Epoch: 2 loss: 0.5632368131745152\n",
      "\n",
      "Epoch 3/10\n",
      "----------\n",
      "Accuracy: 0.8492758870124817\n",
      "Epoch: 3 loss: 0.5025128565456082\n",
      "\n",
      "Epoch 4/10\n",
      "----------\n",
      "Accuracy: 0.879763662815094\n",
      "Epoch: 4 loss: 0.41352431239878257\n",
      "\n",
      "Epoch 5/10\n",
      "----------\n",
      "Accuracy: 0.8831935524940491\n",
      "Epoch: 5 loss: 0.3917045155312957\n",
      "\n",
      "Epoch 6/10\n",
      "----------\n",
      "Accuracy: 0.9028201103210449\n",
      "Epoch: 6 loss: 0.34121446520453547\n",
      "\n",
      "Epoch 7/10\n",
      "----------\n",
      "Accuracy: 0.9012957215309143\n",
      "Epoch: 7 loss: 0.33180886815960814\n",
      "\n",
      "Epoch 8/10\n",
      "----------\n",
      "Accuracy: 0.9098703861236572\n",
      "Epoch: 8 loss: 0.31072571519307973\n",
      "\n",
      "Epoch 9/10\n",
      "----------\n",
      "Accuracy: 0.9118711352348328\n",
      "Epoch: 9 loss: 0.3008808114724915\n",
      "\n",
      "Epoch 10/10\n",
      "----------\n",
      "Accuracy: 0.9056783318519592\n",
      "Epoch: 10 loss: 0.31543788241177073\n",
      "\n",
      "Test accuracy: 0.907112717628479\n",
      "Test loss: 0.31453121794056305\n",
      "\n",
      "Epoch 1/10\n",
      "----------\n",
      "Accuracy: 0.9176828861236572\n",
      "Epoch: 1 loss: 0.28650952475826913\n",
      "\n",
      "Epoch 2/10\n",
      "----------\n",
      "Accuracy: 0.9251142740249634\n",
      "Epoch: 2 loss: 0.2539909662815129\n",
      "\n",
      "Epoch 3/10\n",
      "----------\n",
      "Accuracy: 0.9296874403953552\n",
      "Epoch: 3 loss: 0.24194514715090032\n",
      "\n",
      "Epoch 4/10\n",
      "----------\n",
      "Accuracy: 0.9311165809631348\n",
      "Epoch: 4 loss: 0.23761896071274105\n",
      "\n",
      "Epoch 5/10\n",
      "----------\n",
      "Accuracy: 0.9379763603210449\n",
      "Epoch: 5 loss: 0.2210716735117319\n",
      "\n",
      "Epoch 6/10\n",
      "----------\n",
      "Accuracy: 0.9391196370124817\n",
      "Epoch: 6 loss: 0.20820733950268933\n",
      "\n",
      "Epoch 7/10\n",
      "----------\n",
      "Accuracy: 0.942263662815094\n",
      "Epoch: 7 loss: 0.19702221971096062\n",
      "\n",
      "Epoch 8/10\n",
      "----------\n",
      "Accuracy: 0.9395959973335266\n",
      "Epoch: 8 loss: 0.2085109625193404\n",
      "\n",
      "Epoch 9/10\n",
      "----------\n",
      "Accuracy: 0.9451219439506531\n",
      "Epoch: 9 loss: 0.18449131140439975\n",
      "\n",
      "Epoch 10/10\n",
      "----------\n",
      "Accuracy: 0.9469321370124817\n",
      "Epoch: 10 loss: 0.18340253293877695\n",
      "\n",
      "Test accuracy: 0.9477568864822388\n",
      "Test loss: 0.17960540102394812\n",
      "\n",
      "Epoch 1/10\n",
      "----------\n",
      "Accuracy: 0.9526485800743103\n",
      "Epoch: 1 loss: 0.16385032813541772\n",
      "\n",
      "Epoch 2/10\n",
      "----------\n",
      "Accuracy: 0.9540777206420898\n",
      "Epoch: 2 loss: 0.15919408188542214\n",
      "\n",
      "Epoch 3/10\n",
      "----------\n",
      "Accuracy: 0.9536013603210449\n",
      "Epoch: 3 loss: 0.1591502155245441\n",
      "\n",
      "Epoch 4/10\n",
      "----------\n",
      "Accuracy: 0.9550304412841797\n",
      "Epoch: 4 loss: 0.15646650869308448\n",
      "\n",
      "Epoch 5/10\n",
      "----------\n",
      "Accuracy: 0.9545540809631348\n",
      "Epoch: 5 loss: 0.1556182770830829\n",
      "\n",
      "Epoch 6/10\n",
      "----------\n",
      "Accuracy: 0.9541729688644409\n",
      "Epoch: 6 loss: 0.1541074449196458\n",
      "\n",
      "Epoch 7/10\n",
      "----------\n",
      "Accuracy: 0.9551257491111755\n",
      "Epoch: 7 loss: 0.15387571607602807\n",
      "\n",
      "Epoch 8/10\n",
      "----------\n",
      "Accuracy: 0.9558879137039185\n",
      "Epoch: 8 loss: 0.1538031498288236\n",
      "\n",
      "Epoch 9/10\n",
      "----------\n",
      "Accuracy: 0.9559832215309143\n",
      "Epoch: 9 loss: 0.1522020770509432\n",
      "\n",
      "Epoch 10/10\n",
      "----------\n",
      "Accuracy: 0.9554115533828735\n",
      "Epoch: 10 loss: 0.1526020926582377\n",
      "\n",
      "Test accuracy: 0.956575870513916\n",
      "Test loss: 0.1488036433109111\n",
      "\n",
      "Epoch 1/10\n",
      "----------\n",
      "Accuracy: 0.9501714706420898\n",
      "Epoch: 1 loss: 0.16767937612787978\n",
      "\n",
      "Epoch 2/10\n",
      "----------\n",
      "Accuracy: 0.9528391361236572\n",
      "Epoch: 2 loss: 0.16403845502290784\n",
      "\n",
      "Epoch 3/10\n",
      "----------\n",
      "Accuracy: 0.9505525827407837\n",
      "Epoch: 3 loss: 0.17067073053884796\n",
      "\n",
      "Epoch 4/10\n",
      "----------\n",
      "Accuracy: 0.9532202482223511\n",
      "Epoch: 4 loss: 0.15583621392526278\n",
      "\n",
      "Epoch 5/10\n",
      "----------\n",
      "Accuracy: 0.9532202482223511\n",
      "Epoch: 5 loss: 0.15395852948379954\n",
      "\n",
      "Epoch 6/10\n",
      "----------\n",
      "Accuracy: 0.957602858543396\n",
      "Epoch: 6 loss: 0.14885783240925976\n",
      "\n",
      "Epoch 7/10\n",
      "----------\n",
      "Accuracy: 0.9538871645927429\n",
      "Epoch: 7 loss: 0.15596852951296947\n",
      "\n",
      "Epoch 8/10\n",
      "----------\n",
      "Accuracy: 0.9544588327407837\n",
      "Epoch: 8 loss: 0.15085459564153741\n",
      "\n",
      "Epoch 9/10\n",
      "----------\n",
      "Accuracy: 0.9553163051605225\n",
      "Epoch: 9 loss: 0.14629244509084924\n",
      "\n",
      "Epoch 10/10\n",
      "----------\n",
      "Accuracy: 0.9549351930618286\n",
      "Epoch: 10 loss: 0.15021591912955046\n",
      "\n",
      "Test accuracy: 0.9566717743873596\n",
      "Test loss: 0.1506569583334623\n",
      "\n",
      "Epoch 1/10\n",
      "----------\n",
      "Accuracy: 0.9034870266914368\n",
      "Epoch: 1 loss: 0.3244306715886767\n",
      "\n",
      "Epoch 2/10\n",
      "----------\n",
      "Accuracy: 0.9105373024940491\n",
      "Epoch: 2 loss: 0.3084727540248778\n",
      "\n",
      "Epoch 3/10\n",
      "----------\n",
      "Accuracy: 0.8774771094322205\n",
      "Epoch: 3 loss: 0.4360443798870575\n",
      "\n",
      "Epoch 4/10\n",
      "----------\n",
      "Accuracy: 0.8892911076545715\n",
      "Epoch: 4 loss: 0.39119376469312644\n",
      "\n",
      "Epoch 5/10\n",
      "----------\n",
      "Accuracy: 0.8939595818519592\n",
      "Epoch: 5 loss: 0.35498296651171474\n",
      "\n",
      "Epoch 6/10\n",
      "----------\n",
      "Accuracy: 0.8867186903953552\n",
      "Epoch: 6 loss: 0.38895945373650004\n",
      "\n",
      "Epoch 7/10\n",
      "----------\n",
      "Accuracy: 0.8775723576545715\n",
      "Epoch: 7 loss: 0.40998200581568045\n",
      "\n",
      "Epoch 8/10\n",
      "----------\n",
      "Accuracy: 0.8427972197532654\n",
      "Epoch: 8 loss: 0.5232591283757512\n",
      "\n",
      "Epoch 9/10\n",
      "----------\n",
      "Accuracy: 0.8623284697532654\n",
      "Epoch: 9 loss: 0.4556445497565153\n",
      "\n",
      "Epoch 10/10\n",
      "----------\n",
      "Accuracy: 0.8738566637039185\n",
      "Epoch: 10 loss: 0.42578820193686134\n",
      "\n",
      "Test accuracy: 0.8737537860870361\n",
      "Test loss: 0.4404372695856299\n",
      "\n"
     ]
    }
   ],
   "source": [
    "\n",
    "optimizers = [torch.optim.SGD(model.parameters(), lr=0.001, momentum=0.9),\n",
    "              torch.optim.SGD(model.parameters(), lr=0.01, momentum=0.9),\n",
    "              torch.optim.SGD(model.parameters(), lr=0.1, momentum=0.9),\n",
    "              torch.optim.Adam(model.parameters(), lr=0.001),\n",
    "              torch.optim.Adam(model.parameters(), lr=0.01),\n",
    "              torch.optim.Adam(model.parameters(), lr=0.1)]\n",
    "lrs = [0.001, 0.01, 0.1, 0.001, 0.01, 0.1]\n",
    "opts = ['SGD', 'SGD', 'SGD', 'Adam', 'Adam', 'Adam']\n",
    "l_plots = []\n",
    "a_plots = []\n",
    "for opt in optimizers:\n",
    "    a_plot, l_plot = fit(10, model, loss_func, opt, train, val, test)\n",
    "    l_plots.append(l_plot)\n",
    "    a_plots.append(a_plot)"
   ],
   "metadata": {
    "collapsed": false,
    "pycharm": {
     "name": "#%%\n"
    }
   }
  },
  {
   "cell_type": "code",
   "execution_count": 12,
   "outputs": [
    {
     "data": {
      "text/plain": "<Figure size 432x288 with 1 Axes>",
      "image/png": "[encoded data removed]"
     },
     "metadata": {
      "needs_background": "light"
     },
     "output_type": "display_data"
    },
    {
     "data": {
      "text/plain": "<Figure size 432x288 with 1 Axes>",
      "image/png": "[encoded data removed]"
     },
     "metadata": {
      "needs_background": "light"
     },
     "output_type": "display_data"
    }
   ],
   "source": [
    "for i in range(len(a_plots)):\n",
    "    plt.plot(a_plots[i], label=\"lr: \" + str(lrs[i]) + \" opt: \"+ opts[i])\n",
    "plt.legend()\n",
    "plt.title(\"Validation accuracy\")\n",
    "plt.show()\n",
    "plt.pause(0.01)\n",
    "for i in range(len(l_plots)):\n",
    "    plt.plot(l_plots[i], label=\"lr: \" + str(lrs[i]) + \" opt: \"+ opts[i])\n",
    "plt.legend()\n",
    "plt.title(\"Validation loss\")\n",
    "plt.show()"
   ],
   "metadata": {
    "collapsed": false,
    "pycharm": {
     "name": "#%%\n"
    }
   }
  }
 ],
 "metadata": {
  "kernelspec": {
   "display_name": "Python 3",
   "language": "python",
   "name": "python3"
  },
  "language_info": {
   "codemirror_mode": {
    "name": "ipython",
    "version": 2
   },
   "file_extension": ".py",
   "mimetype": "text/x-python",
   "name": "python",
   "nbconvert_exporter": "python",
   "pygments_lexer": "ipython2",
   "version": "2.7.6"
  }
 },
 "nbformat": 4,
 "nbformat_minor": 0
}