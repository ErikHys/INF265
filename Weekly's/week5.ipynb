{
 "cells": [
  {
   "cell_type": "code",
   "execution_count": 1,
   "metadata": {
    "collapsed": true
   },
   "outputs": [],
   "source": [
    "import torch\n",
    "from torch import nn\n",
    "from torch.utils.data import DataLoader\n",
    "from torchvision import transforms, datasets\n",
    "import numpy as np\n",
    "import matplotlib.pyplot as plt"
   ]
  },
  {
   "cell_type": "code",
   "execution_count": 2,
   "outputs": [
    {
     "name": "stdout",
     "output_type": "stream",
     "text": [
      "True\n"
     ]
    }
   ],
   "source": [
    "\n",
    "print(torch.cuda.is_available())\n",
    "\n",
    "dev = torch.device(\"cuda\") if torch.cuda.is_available() else torch.device(\"cpu\")\n",
    "\n",
    "path = \"../Data/MNIST/\""
   ],
   "metadata": {
    "collapsed": false,
    "pycharm": {
     "name": "#%%\n"
    }
   }
  },
  {
   "cell_type": "code",
   "execution_count": 3,
   "outputs": [],
   "source": [
    "preprocessor = transforms.Compose([\n",
    "    transforms.Resize(32),\n",
    "    transforms.Grayscale(),\n",
    "    transforms.ToTensor(),\n",
    "    transforms.Normalize((0.5), (0.5))\n",
    "])"
   ],
   "metadata": {
    "collapsed": false,
    "pycharm": {
     "name": "#%%\n"
    }
   }
  },
  {
   "cell_type": "code",
   "execution_count": 4,
   "outputs": [],
   "source": [
    "def get_data():\n",
    "    train_set = datasets.ImageFolder(path+'train/', transform=preprocessor)\n",
    "    val_set = datasets.ImageFolder(path+'val/', transform=preprocessor)\n",
    "    test_set = datasets.ImageFolder(path+'test/', transform=preprocessor)\n",
    "    train_loader = DataLoader(dataset=train_set, batch_size=64, shuffle=True, num_workers=2, drop_last=True, pin_memory=True)\n",
    "    val_loader = DataLoader(dataset=val_set, batch_size=128, num_workers=2, drop_last=True)\n",
    "    test_loader = DataLoader(dataset=test_set, batch_size=64, num_workers=2, drop_last=True)\n",
    "    # train_loader = 0\n",
    "    return train_loader, val_loader, test_loader"
   ],
   "metadata": {
    "collapsed": false,
    "pycharm": {
     "name": "#%%\n"
    }
   }
  },
  {
   "cell_type": "code",
   "execution_count": 5,
   "outputs": [],
   "source": [
    "train, val, test = get_data()\n",
    "trainiter = iter(train)\n",
    "nex = next(trainiter)\n"
   ],
   "metadata": {
    "collapsed": false,
    "pycharm": {
     "name": "#%%\n"
    }
   }
  },
  {
   "cell_type": "code",
   "execution_count": 6,
   "outputs": [
    {
     "data": {
      "text/plain": "<matplotlib.image.AxesImage at 0x1c4d1339910>"
     },
     "execution_count": 6,
     "metadata": {},
     "output_type": "execute_result"
    },
    {
     "data": {
      "text/plain": "<Figure size 432x288 with 1 Axes>",
      "image/png": "[encoded data removed]"
     },
     "metadata": {
      "needs_background": "light"
     },
     "output_type": "display_data"
    }
   ],
   "source": [
    "\n",
    "img = nex[0][0].numpy().reshape(32, 32, 1)\n",
    "plt.title('Label: ' + str(nex[1][0].item()))\n",
    "plt.imshow(img, cmap='gray')"
   ],
   "metadata": {
    "collapsed": false,
    "pycharm": {
     "name": "#%%\n"
    }
   }
  },
  {
   "cell_type": "code",
   "execution_count": 7,
   "outputs": [],
   "source": [
    "def loss_batch(model, loss_func, xb, yb, opt=None):\n",
    "    out = model(xb)\n",
    "    loss = loss_func(out, yb)\n",
    "    preds = torch.argmax(out, dim=1)\n",
    "    if opt is not None:\n",
    "        loss.backward()\n",
    "        opt.step()\n",
    "        opt.zero_grad()\n",
    "    return loss.item(), len(xb), (preds == yb).float().mean()\n",
    "\n",
    "def fit(epochs, model, loss_func, opt, train_dl, valid_dl):\n",
    "    for epoch in range(epochs):\n",
    "        print(f\"Epoch {epoch+1}/{epochs}\")\n",
    "        print('-'*10)\n",
    "        model.train()\n",
    "        for xb, yb in train_dl:\n",
    "            xb = xb.to(dev)\n",
    "            yb = yb.to(dev)\n",
    "            loss_batch(model, loss_func, xb, yb, opt)\n",
    "\n",
    "        model.eval()\n",
    "        with torch.no_grad():\n",
    "            losses, nums, accuracy = zip(*[loss_batch(model, loss_func, xb.to(dev), yb.to(dev)) for xb, yb in valid_dl])\n",
    "\n",
    "        val_loss = np.sum(np.multiply(losses, nums)) / np.sum(nums)\n",
    "        accuracy = np.sum(accuracy)/len(accuracy)\n",
    "        print(\"Accuracy: \" + str(accuracy.item()))\n",
    "\n",
    "        print('Epoch: ' + str(epoch+1) + ' loss: ' + str(val_loss) + '\\n')\n",
    "\n",
    "def test_single_batch(epochs, model, loss_func, opt, xb, yb):\n",
    "    for epoch in range(epochs):\n",
    "        if (epoch+1) % 100 == 0:\n",
    "            print(f\"Epoch {epoch+1}/{epochs}\")\n",
    "        model.train()\n",
    "\n",
    "        xb = xb.to(dev)\n",
    "        yb = yb.to(dev)\n",
    "        loss_batch(model, loss_func, xb, yb, opt)\n",
    "\n",
    "        if (epoch+1) % 100 == 0:\n",
    "            model.eval()\n",
    "            with torch.no_grad():\n",
    "                print(loss_batch(model, loss_func, xb, yb))"
   ],
   "metadata": {
    "collapsed": false,
    "pycharm": {
     "name": "#%%\n"
    }
   }
  },
  {
   "cell_type": "code",
   "execution_count": 8,
   "outputs": [],
   "source": [
    "\n",
    "class ViewLayer(torch.nn.Module):\n",
    "    def __init__(self, func):\n",
    "        super().__init__()\n",
    "        self.func = func\n",
    "\n",
    "    def forward(self, x):\n",
    "        return self.func(x)\n",
    "\n",
    "model = torch.nn.Sequential(\n",
    "    nn.Conv2d(1, 16, kernel_size=3, stride=2, padding=1),\n",
    "    nn.ReLU(),\n",
    "    nn.Conv2d(16, 16, kernel_size=3, stride=2, padding=1),\n",
    "    nn.ReLU(),\n",
    "    nn.Dropout2d(0.2),\n",
    "    nn.Conv2d(16, 10, kernel_size=3, stride=2, padding=1),\n",
    "    nn.ReLU(),\n",
    "    nn.AvgPool2d(4),\n",
    "    ViewLayer(lambda x: x.view(x.size(0), -1)),\n",
    ")"
   ],
   "metadata": {
    "collapsed": false,
    "pycharm": {
     "name": "#%%\n"
    }
   }
  },
  {
   "cell_type": "code",
   "execution_count": 9,
   "outputs": [
    {
     "name": "stdout",
     "output_type": "stream",
     "text": [
      "Epoch 1/20\n",
      "----------\n",
      "Accuracy: 0.6456745266914368\n",
      "Epoch: 1 loss: 1.0977501760168773\n",
      "Epoch 2/20\n",
      "----------\n",
      "Accuracy: 0.7845845818519592\n",
      "Epoch: 2 loss: 0.6651253089672182\n",
      "Epoch 3/20\n",
      "----------\n",
      "Accuracy: 0.8424161076545715\n",
      "Epoch: 3 loss: 0.5056012082935833\n",
      "Epoch 4/20\n",
      "----------\n",
      "Accuracy: 0.8980563879013062\n",
      "Epoch: 4 loss: 0.34741120939938036\n",
      "Epoch 5/20\n",
      "----------\n",
      "Accuracy: 0.8986279964447021\n",
      "Epoch: 5 loss: 0.3465140980282208\n",
      "Epoch 6/20\n",
      "----------\n",
      "Accuracy: 0.9140624403953552\n",
      "Epoch: 6 loss: 0.2968954877337305\n",
      "Epoch 7/20\n",
      "----------\n",
      "Accuracy: 0.9213985800743103\n",
      "Epoch: 7 loss: 0.27113024286198906\n",
      "Epoch 8/20\n",
      "----------\n",
      "Accuracy: 0.9294016361236572\n",
      "Epoch: 8 loss: 0.25007588466311376\n",
      "Epoch 9/20\n",
      "----------\n",
      "Accuracy: 0.9297827482223511\n",
      "Epoch: 9 loss: 0.24186919329733383\n",
      "Epoch 10/20\n",
      "----------\n",
      "Accuracy: 0.9307354688644409\n",
      "Epoch: 10 loss: 0.2360647057705536\n",
      "Epoch 11/20\n",
      "----------\n",
      "Accuracy: 0.934165358543396\n",
      "Epoch: 11 loss: 0.22670792799624728\n",
      "Epoch 12/20\n",
      "----------\n",
      "Accuracy: 0.9349275827407837\n",
      "Epoch: 12 loss: 0.23093085136355423\n",
      "Epoch 13/20\n",
      "----------\n",
      "Accuracy: 0.9398818016052246\n",
      "Epoch: 13 loss: 0.2033475962263055\n",
      "Epoch 14/20\n",
      "----------\n",
      "Accuracy: 0.938357412815094\n",
      "Epoch: 14 loss: 0.21091315829444948\n",
      "Epoch 15/20\n",
      "----------\n",
      "Accuracy: 0.9426447749137878\n",
      "Epoch: 15 loss: 0.19851385593050863\n",
      "Epoch 16/20\n",
      "----------\n",
      "Accuracy: 0.9414061903953552\n",
      "Epoch: 16 loss: 0.19609170943135168\n",
      "Epoch 17/20\n",
      "----------\n",
      "Accuracy: 0.9420731067657471\n",
      "Epoch: 17 loss: 0.19531564162362638\n",
      "Epoch 18/20\n",
      "----------\n",
      "Accuracy: 0.9460746645927429\n",
      "Epoch: 18 loss: 0.1881438813331287\n",
      "Epoch 19/20\n",
      "----------\n",
      "Accuracy: 0.9447408318519592\n",
      "Epoch: 19 loss: 0.18357427845277438\n",
      "Epoch 20/20\n",
      "----------\n",
      "Accuracy: 0.9435975551605225\n",
      "Epoch: 20 loss: 0.18790408764488814\n"
     ]
    }
   ],
   "source": [
    "opt = torch.optim.SGD(model.parameters(), lr=0.01, momentum=0.9)\n",
    "loss_func = torch.nn.CrossEntropyLoss()\n",
    "model.to(dev)\n",
    "xb, yb = trainiter.next()\n",
    "# test_single_batch(10000, model, loss_func, opt, xb, yb)\n",
    "fit(20, model, loss_func, opt, train, val)"
   ],
   "metadata": {
    "collapsed": false,
    "pycharm": {
     "name": "#%%\n"
    }
   }
  }
 ],
 "metadata": {
  "kernelspec": {
   "display_name": "Python 3",
   "language": "python",
   "name": "python3"
  },
  "language_info": {
   "codemirror_mode": {
    "name": "ipython",
    "version": 2
   },
   "file_extension": ".py",
   "mimetype": "text/x-python",
   "name": "python",
   "nbconvert_exporter": "python",
   "pygments_lexer": "ipython2",
   "version": "2.7.6"
  }
 },
 "nbformat": 4,
 "nbformat_minor": 0
}