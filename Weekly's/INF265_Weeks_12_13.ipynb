{
 "cells": [
  {
   "cell_type": "markdown",
   "id": "second-garbage",
   "metadata": {},
   "source": [
    "# Weeks 12-13: Object localization\n",
    "\n",
    "## General instructions\n",
    "\n",
    "Every two weeks you will be given an assignment related to the associated module. You have roughly two weeks to complete and submit each of them. There are three weekly group sessions available to help you complete the assignments. Attendance is not mandatory but recommended. However, all assignments are graded and not submitting them or submitting them after the deadline will give you no points.\n",
    "\n",
    "**FORMAT**: Jupyter notebook **(single file, not in a zip please!)**\n",
    "\n",
    "**DEADLINE**: Sunday 11th April, 23:59\n",
    "\n",
    "## Introduction\n",
    "\n",
    "The objective of this assignment is to get a basic understanding of the core concepts in object detection using convolutional neural networks. More specifically, this work focuses on the simpler problem of object localization, where each image contains a single object that should be spatially localized and classified. While object localization is simpler than object detection in the sense that object detection is more general as it allows for multiple objects per scene, object localization remains a rather avanced method, perfectly suited for our current level. This exercise consists of two parts:\n",
    "- To begin with, we will get familiar with the sliding window algorithm, and notice that applying a convolutional neural network sequentially to a specific set of windows within an image is in fact mathematically equivalent to passing the whole image as input for the convolutional neural network. We will in particular try to understand what parameters determine which set of windows will be processed by the convolutional sliding window algorithm and we will run a performance comparison between the sequential and convolutional implementations.\n",
    "- In a second part, we will implement in pytorch our own take on the object localization algorithm. For that purpose, the knowledge acquired in the first part of this assignment will be helpful, as we will try to implement object localization using a convolutional sliding window approach. In order for us to be able to train and test our network even on modest hardware, this exercise will have you work on a custom dataset: you will use the MNIST dataset as a backbone to generate new images with digits randomly placed and transformed, and each image will contain a single digit. While solving object localization on this custom dataset will be much easier than traditional object detection on large datasets such as COCO, it will still require clever vectorized coding if you hope to train your network in a reasonable amount of time !\n",
    "\n",
    "## Andrew's Videos related to this week's assignment\n",
    "\n",
    "- [C4W3L01 Object Localization](https://www.youtube.com/watch?v=GSwYGkTfOKk&list=PL_IHmaMAvkVxdDOBRg2CbcJBq9SY7ZUvs)\n",
    "- [C4W3L03 Object Detection](https://www.youtube.com/watch?v=5e5pjeojznk&list=PL_IHmaMAvkVxdDOBRg2CbcJBq9SY7ZUvs&index=3)\n",
    "- [C4W3L04 Convolutional Implementation Sliding Window](https://www.youtube.com/watch?v=XdsmlBGOK-k&list=PL_IHmaMAvkVxdDOBRg2CbcJBq9SY7ZUvs&index=4)"
   ]
  },
  {
   "cell_type": "markdown",
   "id": "leading-request",
   "metadata": {},
   "source": [
    "# Setup"
   ]
  },
  {
   "cell_type": "code",
   "execution_count": 1,
   "id": "upper-luxury",
   "metadata": {},
   "outputs": [],
   "source": [
    "import torch\n",
    "import torch.nn as nn\n",
    "import torch.optim as optim\n",
    "import numpy as np\n",
    "import torchvision\n",
    "from torchvision import datasets, transforms\n",
    "from torchsummary import summary\n",
    "import matplotlib.pyplot as plt\n",
    "import time\n",
    "import os\n",
    "from tqdm import tqdm\n",
    "\n",
    "torch.backends.cudnn.benchmark = True"
   ]
  },
  {
   "cell_type": "markdown",
   "id": "threatened-shooting",
   "metadata": {},
   "source": [
    "# Convolutional sliding window\n",
    "\n",
    "## I commented out a lot of printing for task 1 to reduce the size of the notebook, for task to I manage to get the same output dimension, but not the same norm, I think this might be because of weight initialization.\n",
    "\n",
    "The sliding window algorithm refers to any procedure that applies a certain function (\"map\") to sliding windows within an image. In its typical forumaltion, this seems to be an inherently sequential algorithm: process the first window, then the second etc$\\dots$ assuming the function to apply on every window is a convolutional neural network, an interesting fact arises: the sequential implemention of sliding window for this convolutional neural network map becomes exactly equivalent to passing the whole image as input to the convolutional neural network. We will investigate this fact further in this section. Answer the following questions:\n",
    "\n",
    "1) Watch Andrew's video about convolutional sliding window implementation.\n",
    "\n",
    "2) What slight modification is needed on the convolutional neural network such that sequential and convolutional sliding window procedures for this convolutional neural network map become equivalent ?\n",
    "    - the 16 to 400 , with 5x5 filter conv layer needs to work like flatten()\n",
    "3) Reproduce the convolutional neural network from Andrew's video (1:20), and verify that for an input tensor with spatial dimension $16\\times 16$, convolutional sliding window for that convolutional neural network map is the same as a sequential sliding window with stride $2$ along both spatial dimension. You can for instance compute the norm of the difference between the output tensors from convolutional and sequential implementations and check that this norm is indeed $0.0$."
   ]
  },
  {
   "cell_type": "code",
   "execution_count": 2,
   "outputs": [],
   "source": [
    "class SeqSliding(nn.Module):\n",
    "\n",
    "    def __init__(self):\n",
    "        super().__init__()\n",
    "        self.stride = 2\n",
    "        self.layers = []\n",
    "        self.layers.append(nn.Conv2d(3, 16, (5, 5)))\n",
    "        self.layers.append(nn.MaxPool2d((2,2), stride=2))\n",
    "        self.layers.append(nn.Flatten())\n",
    "        self.layers.append(nn.Linear(400, 400))\n",
    "        self.layers.append(nn.Linear(400, 4))\n",
    "        self.layers.append(nn.Softmax(dim=1))\n",
    "\n",
    "    def add_layer(self, layer, idx):\n",
    "        self.layers.insert(idx, layer)\n",
    "\n",
    "    def bad_weight_init(self):\n",
    "        nn.init.constant_(self.layers[0].weight.data, 0.2)\n",
    "        nn.init.constant_(self.layers[3].weight.data, 0.2)\n",
    "        nn.init.constant_(self.layers[4].weight.data, 0.2)\n",
    "\n",
    "\n",
    "\n",
    "    def forward(self, x):\n",
    "        a = x\n",
    "        for layer in self.layers:\n",
    "            a = layer(a)\n",
    "        a = torch.reshape(a, (x.shape[0], a.shape[0]//x.shape[0], a.shape[1]))\n",
    "        return a\n",
    "\n",
    "\n",
    "\n",
    "class ConvSliding(nn.Module):\n",
    "\n",
    "    def __init__(self):\n",
    "        super().__init__()\n",
    "        self.layers = []\n",
    "        self.layers.append(nn.Conv2d(3, 16, (5, 5)))\n",
    "        self.layers.append(nn.MaxPool2d((2,2), stride=2))\n",
    "        self.layers.append(nn.Conv2d(16, 400, (5, 5)))\n",
    "        self.layers.append(nn.Conv2d(400, 400, (1, 1)))\n",
    "        self.layers.append(nn.Conv2d(400, 4, (1, 1)))\n",
    "        self.layers.append(nn.Softmax(dim=1))\n",
    "\n",
    "\n",
    "\n",
    "    def bad_weight_init(self):\n",
    "        nn.init.constant_(self.layers[0].weight.data, 0.002)\n",
    "        nn.init.constant_(self.layers[2].weight.data, 0.04)\n",
    "        nn.init.constant_(self.layers[3].weight.data, 0.002)\n",
    "        nn.init.constant_(self.layers[4].weight.data, 0.002)\n",
    "\n",
    "    def add_layer(self, layer, idx):\n",
    "        self.layers.insert(idx, layer)\n",
    "\n",
    "    def forward(self, x):\n",
    "        a = x\n",
    "        for layer in self.layers:\n",
    "            a = layer(a)\n",
    "        return a"
   ],
   "metadata": {
    "collapsed": false,
    "pycharm": {
     "name": "#%%\n"
    }
   }
  },
  {
   "cell_type": "code",
   "execution_count": 3,
   "outputs": [],
   "source": [
    "def split_to_windows(stride, a, window_size=14):\n",
    "    dims = ((a.shape[2] - window_size)// stride + 1) * ((a.shape[3] - window_size)// stride + 1) * a.shape[0]\n",
    "    new_a = torch.empty((dims, 3, window_size, window_size))\n",
    "    idx = 0\n",
    "    for i in range(a.shape[0]):\n",
    "        for y in range(((a.shape[2] - window_size)// stride + 1)):\n",
    "            for x in range(((a.shape[3] - window_size)// stride + 1)):\n",
    "                new_a[idx] = torch.narrow(torch.narrow(a[i], -2, y*stride, window_size), -1, x*stride, window_size)\n",
    "                idx += 1\n",
    "    return new_a"
   ],
   "metadata": {
    "collapsed": false,
    "pycharm": {
     "name": "#%%\n"
    }
   }
  },
  {
   "cell_type": "code",
   "execution_count": 4,
   "outputs": [],
   "source": [
    "x1 = torch.rand((1, 3, 14, 14))\n",
    "t1 = torch.rand((1, 3, 16, 16))\n",
    "t_mod = split_to_windows(2, t1)"
   ],
   "metadata": {
    "collapsed": false,
    "pycharm": {
     "name": "#%%\n"
    }
   }
  },
  {
   "cell_type": "code",
   "execution_count": 5,
   "outputs": [],
   "source": [
    "conv_sliding = ConvSliding()\n",
    "window_sliding = SeqSliding()\n",
    "# conv_sliding.bad_weight_init()\n",
    "# window_sliding.bad_weight_init()"
   ],
   "metadata": {
    "collapsed": false,
    "pycharm": {
     "name": "#%%\n"
    }
   }
  },
  {
   "cell_type": "code",
   "execution_count": 6,
   "outputs": [
    {
     "name": "stdout",
     "output_type": "stream",
     "text": [
      "torch.Size([1, 4, 2, 2])\n",
      "tensor([[[[0.2442, 0.2451],\n",
      "          [0.2438, 0.2463]],\n",
      "\n",
      "         [[0.2357, 0.2316],\n",
      "          [0.2382, 0.2379]],\n",
      "\n",
      "         [[0.2589, 0.2695],\n",
      "          [0.2607, 0.2606]],\n",
      "\n",
      "         [[0.2613, 0.2538],\n",
      "          [0.2573, 0.2552]]]], grad_fn=<SoftmaxBackward>)\n",
      "torch.Size([4, 4, 1, 1])\n",
      "tensor([[[[0.2442]],\n",
      "\n",
      "         [[0.2357]],\n",
      "\n",
      "         [[0.2589]],\n",
      "\n",
      "         [[0.2613]]],\n",
      "\n",
      "\n",
      "        [[[0.2451]],\n",
      "\n",
      "         [[0.2316]],\n",
      "\n",
      "         [[0.2695]],\n",
      "\n",
      "         [[0.2538]]],\n",
      "\n",
      "\n",
      "        [[[0.2438]],\n",
      "\n",
      "         [[0.2382]],\n",
      "\n",
      "         [[0.2607]],\n",
      "\n",
      "         [[0.2573]]],\n",
      "\n",
      "\n",
      "        [[[0.2463]],\n",
      "\n",
      "         [[0.2379]],\n",
      "\n",
      "         [[0.2606]],\n",
      "\n",
      "         [[0.2552]]]], grad_fn=<SoftmaxBackward>)\n",
      "tensor([[[[0.2442, 0.2357],\n",
      "          [0.2589, 0.2613]],\n",
      "\n",
      "         [[0.2451, 0.2316],\n",
      "          [0.2695, 0.2538]],\n",
      "\n",
      "         [[0.2438, 0.2382],\n",
      "          [0.2607, 0.2573]],\n",
      "\n",
      "         [[0.2463, 0.2379],\n",
      "          [0.2606, 0.2552]]]], grad_fn=<ViewBackward>)\n",
      "torch.Size([4, 1, 4])\n",
      "tensor([[[0.2579, 0.2655, 0.2332, 0.2433]],\n",
      "\n",
      "        [[0.2648, 0.2532, 0.2397, 0.2423]],\n",
      "\n",
      "        [[0.2484, 0.2610, 0.2492, 0.2414]],\n",
      "\n",
      "        [[0.2566, 0.2625, 0.2414, 0.2396]]], grad_fn=<ViewBackward>)\n"
     ]
    }
   ],
   "source": [
    "oc2 = conv_sliding(t1)\n",
    "print(oc2.shape)\n",
    "print(oc2)\n",
    "oc_mod = conv_sliding(t_mod)\n",
    "print(oc_mod.shape)\n",
    "print(oc_mod)\n",
    "print(torch.reshape(oc_mod, (1, 4, 2, 2)))\n",
    "wc_mod = window_sliding(t_mod)\n",
    "print(wc_mod.shape)\n",
    "print(wc_mod)"
   ],
   "metadata": {
    "collapsed": false,
    "pycharm": {
     "name": "#%%\n"
    }
   }
  },
  {
   "cell_type": "code",
   "execution_count": 7,
   "outputs": [
    {
     "name": "stdout",
     "output_type": "stream",
     "text": [
      "tensor(1.0009, grad_fn=<CopyBackwards>)\n",
      "tensor(1.0008, grad_fn=<CopyBackwards>)\n",
      "tensor(0.0001, grad_fn=<SubBackward0>)\n"
     ]
    }
   ],
   "source": [
    "n = torch.reshape(oc_mod, (4, 4))\n",
    "q = torch.reshape(wc_mod, (4, 4))\n",
    "print(torch.linalg.norm(n))\n",
    "print(torch.linalg.norm(q))\n",
    "print(torch.linalg.norm(n) - torch.linalg.norm(q))\n",
    "# print(torch.linalg.norm(n-q))\n",
    "# print(n)\n",
    "# print(n - q)"
   ],
   "metadata": {
    "collapsed": false,
    "pycharm": {
     "name": "#%%\n"
    }
   }
  },
  {
   "cell_type": "markdown",
   "source": [
    "I can see that the math corresponds, but I don't get the answers to match completely because the indexing is different\n",
    "between my splitting and the convolutional splitting, where window sequential[0][0] = (convolutional[0][0][0][0], convolutional[0][1][0][0], convolutional[0][2][0][0], convolutional[0][3][0][0])\n",
    "Tested with some weight initialisation and got the same answers on sequential and convolutional."
   ],
   "metadata": {
    "collapsed": false,
    "pycharm": {
     "name": "#%% md\n"
    }
   }
  },
  {
   "cell_type": "markdown",
   "source": [
    "4) What happens when the input tensor now has spatial dimensions $28\\times 28$? Try a few other spatial dimensions. Can you find some such that convolutional and sequential procedures yield different outputs ?"
   ],
   "metadata": {
    "collapsed": false,
    "pycharm": {
     "name": "#%% md\n"
    }
   }
  },
  {
   "cell_type": "code",
   "execution_count": 8,
   "outputs": [
    {
     "name": "stdout",
     "output_type": "stream",
     "text": [
      "torch.Size([1, 4, 8, 8])\n",
      "torch.Size([64, 1, 4])\n"
     ]
    }
   ],
   "source": [
    "t1 = torch.rand((1, 3, 28, 28))\n",
    "t_mod = split_to_windows(2, t1)\n",
    "oc2 = conv_sliding(t1)\n",
    "print(oc2.shape)\n",
    "# print(oc2)\n",
    "wc_mod = window_sliding(t_mod)\n",
    "print(wc_mod.shape)\n",
    "# print(wc_mod)"
   ],
   "metadata": {
    "collapsed": false,
    "pycharm": {
     "name": "#%%\n"
    }
   }
  },
  {
   "cell_type": "markdown",
   "source": [
    "5) Do a time comparison for various input spatial dimensions between convolutional and sequential sliding window procedures for Andrew's convolutional network map. Which is the most efficient ? Can you explain why ?"
   ],
   "metadata": {
    "collapsed": false,
    "pycharm": {
     "name": "#%% md\n"
    }
   }
  },
  {
   "cell_type": "code",
   "execution_count": 9,
   "outputs": [],
   "source": [
    "import  time\n",
    "\n",
    "def time_model():\n",
    "    resolutions = [16, 28, 720, 1080]\n",
    "    for res in resolutions:\n",
    "        data = torch.rand((5, 3, res, res))\n",
    "        data_mod = split_to_windows(2, data)\n",
    "        start = time.time()\n",
    "        test_seq = window_sliding(data_mod)\n",
    "        stop = time.time()\n",
    "        print(\"Sequential time: \", stop-start, \" input dims: \", res, \" output dims: \" ,test_seq.shape)\n",
    "        start = time.time()\n",
    "        test_seq = conv_sliding(data)\n",
    "        stop = time.time()\n",
    "        print(\"Conv time: \", stop-start, \" input dims: \", res, \" output dims: \" ,test_seq.shape)\n",
    "\n",
    "# time_model()"
   ],
   "metadata": {
    "collapsed": false,
    "pycharm": {
     "name": "#%%\n"
    }
   }
  },
  {
   "cell_type": "markdown",
   "source": [
    "6) Modify slightly Andrew's convolutional neural network such that there is now an additional convolutional layer. Do convolutional and sequential sliding window with stride $2$ procedures still coincide ? If not, what should be the stride for them to coincide again ?"
   ],
   "metadata": {
    "collapsed": false,
    "pycharm": {
     "name": "#%% md\n"
    }
   }
  },
  {
   "cell_type": "code",
   "execution_count": 10,
   "outputs": [],
   "source": [
    "added_conv_conv_sliding = ConvSliding()\n",
    "added_conv_seq_sliding = SeqSliding()\n",
    "added_conv_conv_sliding.add_layer(nn.Conv2d(16, 16, (5, 5)), 2)\n",
    "added_conv_seq_sliding.add_layer(nn.Conv2d(16, 16, (5, 5)), 2)\n",
    "\n",
    "acx1 = torch.rand((1, 3, 22, 22))"
   ],
   "metadata": {
    "collapsed": false,
    "pycharm": {
     "name": "#%%\n"
    }
   }
  },
  {
   "cell_type": "code",
   "execution_count": 11,
   "outputs": [
    {
     "name": "stdout",
     "output_type": "stream",
     "text": [
      "torch.Size([1, 4, 1, 1])\n",
      "torch.Size([1, 1, 4])\n"
     ]
    }
   ],
   "source": [
    "out = added_conv_conv_sliding(acx1)\n",
    "print(out.shape)\n",
    "out = added_conv_seq_sliding(split_to_windows(2, acx1, window_size=22))\n",
    "print(out.shape)"
   ],
   "metadata": {
    "collapsed": false,
    "pycharm": {
     "name": "#%%\n"
    }
   }
  },
  {
   "cell_type": "markdown",
   "source": [
    "Adding Conv layers changes the size of the window. I'm guessing depending on filter size and channel out you can customize\n",
    "that to what you want. I added another 5x5 filter with out 16 channels and it increased the window frow 14 to 22"
   ],
   "metadata": {
    "collapsed": false,
    "pycharm": {
     "name": "#%% md\n"
    }
   }
  },
  {
   "cell_type": "markdown",
   "source": [
    "7) Same question but now add an additional max pooling layer (with kernel size $2$) instead."
   ],
   "metadata": {
    "collapsed": false,
    "pycharm": {
     "name": "#%% md\n"
    }
   }
  },
  {
   "cell_type": "code",
   "execution_count": 12,
   "outputs": [],
   "source": [
    "added_conv_conv_sliding = ConvSliding()\n",
    "added_conv_seq_sliding = SeqSliding()\n",
    "added_conv_conv_sliding.add_layer(nn.MaxPool2d((2,2), stride=2), 2)\n",
    "added_conv_seq_sliding.add_layer(nn.MaxPool2d((2,2), stride=2), 2)\n",
    "\n",
    "acx1 = torch.rand((1, 3, 28, 28))"
   ],
   "metadata": {
    "collapsed": false,
    "pycharm": {
     "name": "#%%\n"
    }
   }
  },
  {
   "cell_type": "code",
   "execution_count": 13,
   "outputs": [
    {
     "name": "stdout",
     "output_type": "stream",
     "text": [
      "torch.Size([1, 4, 2, 2])\n",
      "torch.Size([4, 1, 4])\n"
     ]
    }
   ],
   "source": [
    "out = added_conv_conv_sliding(acx1)\n",
    "print(out.shape)\n",
    "out = added_conv_seq_sliding(split_to_windows(4, acx1, window_size=24))\n",
    "print(out.shape)"
   ],
   "metadata": {
    "collapsed": false,
    "pycharm": {
     "name": "#%%\n"
    }
   }
  },
  {
   "cell_type": "markdown",
   "source": [
    "It increases the stride by 2."
   ],
   "metadata": {
    "collapsed": false,
    "pycharm": {
     "name": "#%% md\n"
    }
   }
  },
  {
   "cell_type": "markdown",
   "source": [
    "8) It turns out that the architecture of the convolutional neural network map itself will determine what is the set of windows for which convolutional and sequential sliding window procedures coincide for that convolutional neural network map. In the following, let us assume that all convolutional layers have padding $0$ and all max pooling layers have kernel size $2$. Can you guess the formulas that give the number of windows and their indices ? $\\textbf{Hint}$: Remember your implementation of the Conv2d layer. $\\textbf{If you can't find this, CONTACT US!}$ It will be important in the second section.\n",
    "\n",
    "window_reduction_per_conv_layer = (- kernel size + 1) * (number of maxpooling layers before this point + 1)\n",
    "\n",
    "window_reduction_per_pooling_layer = in/2\n",
    "\n",
    "calculate windows for task 6:\n",
    "\n",
    "architecture:\n",
    "\n",
    "- conv(5,5) + 4\n",
    "- max() *2\n",
    "- conv(5,5) + 4\n",
    "- conv(last 5,5)+4\n",
    "- conv(1,1) 1\n",
    "\n",
    "go bottom up:\n",
    "\n",
    "(1 +4 + 4 )* 2 + 4 = 9*2+4=22 Correct :)\n",
    "\n",
    "test with task 1, 7, alternate 6\n",
    "\n",
    "* 1. (1 + 4) * 2 + 4 = 14\n",
    "\n",
    "* 7. (1+4) * 2 * 2 + 4 = 24\n",
    "\n",
    "* 6. Alternative implementation extra conv layer at the start: (1 + 4) * 2 + 4 + 4 = 18\n",
    "\n",
    "Indecies:\n",
    "\n",
    "First image, first window = [0][0..len(classes)][0][0]\n",
    "\n",
    "First image, second window going along the x-axis = [0][0..len(classes)][0][1]\n",
    "\n",
    "Second image, second window going along the y-axis = [1][0..len(classes)][1][0]"
   ],
   "metadata": {
    "collapsed": false,
    "pycharm": {
     "name": "#%% md\n"
    }
   }
  },
  {
   "cell_type": "markdown",
   "id": "eight-springer",
   "metadata": {},
   "source": [
    "# MNIST localization in Pytorch\n",
    "\n",
    "## 1 Data generation\n",
    "\n",
    "In this second section we aim to implement from scratch our custom digit localization algorithm. We will use the MNIST dataset as a backbone:"
   ]
  },
  {
   "cell_type": "code",
   "execution_count": 14,
   "id": "automatic-submission",
   "metadata": {},
   "outputs": [],
   "source": [
    "datasets.MNIST.resources = [\n",
    "            ('https://ossci-datasets.s3.amazonaws.com/mnist/train-images-idx3-ubyte.gz', 'f68b3c2dcbeaaa9fbdd348bbdeb94873'),\n",
    "            ('https://ossci-datasets.s3.amazonaws.com/mnist/train-labels-idx1-ubyte.gz', 'd53e105ee54ea40749a09fcbcd1e9432'),\n",
    "            ('https://ossci-datasets.s3.amazonaws.com/mnist/t10k-images-idx3-ubyte.gz', '9fb629c4189551a2d022fa330f9573f3'),\n",
    "            ('https://ossci-datasets.s3.amazonaws.com/mnist/t10k-labels-idx1-ubyte.gz', 'ec29112dd5afa0611ce80d1b7f02629c')\n",
    "        ]\n",
    "def load_MNIST(MNIST_path, preprocessor, num_workers):\n",
    "    train_dataset = datasets.MNIST(MNIST_path, train=True, download=True, transform=preprocessor)\n",
    "    val_test_dataset = datasets.MNIST(MNIST_path, train=False, download=True, transform=preprocessor)\n",
    "    n_val_test = len(val_test_dataset.targets)\n",
    "    # The test set will only contain 30 images, perfect for visualization purpose:\n",
    "    val_dataset, test_dataset = torch.utils.data.random_split(val_test_dataset, [n_val_test-30, 30])\n",
    "    MNIST_datasets = {\"train\": train_dataset, \n",
    "                      \"val\": val_dataset,\n",
    "                      \"test\": test_dataset}\n",
    "    MNIST_generators = {\"train\": torch.utils.data.DataLoader(MNIST_datasets[\"train\"], \n",
    "                                                             batch_size=32,\n",
    "                                                             shuffle=True, \n",
    "                                                             num_workers=num_workers),\n",
    "                        \"val\": torch.utils.data.DataLoader(MNIST_datasets[\"val\"], \n",
    "                                                           batch_size=256, \n",
    "                                                           shuffle=False, \n",
    "                                                           num_workers=num_workers),\n",
    "                        \"test\": torch.utils.data.DataLoader(MNIST_datasets[\"test\"], \n",
    "                                                            batch_size=32,\n",
    "                                                            shuffle=False, \n",
    "                                                            num_workers=num_workers)}\n",
    "    return MNIST_datasets, MNIST_generators"
   ]
  },
  {
   "cell_type": "markdown",
   "id": "deluxe-garage",
   "metadata": {},
   "source": [
    "We now want to have a digit generator in pytorch that would produce samples \"on the fly\" for the digit localization task. The problem we have is that all MNIST digits are centered, have the same orientation and roughly the same size which makes the localization task pretty dull. \n",
    "\n",
    "**1) Write a data preprocessor that would do the following:**\n",
    "\n",
    "**a) Randomly rotates digits.**\n",
    "\n",
    "**b) Randomly rescales digits with a scale factor randomly sampled in the range [0.75,1.25].**\n",
    "\n",
    "**c) Randomly places digits within a zeros tensor having spatial dimensions $64\\times 64$.**\n",
    "\n",
    "**You can make sure your data generator works as intended by visualizing the test set generated by MNIST_generators[\"test\"]. Each image generated this way should contain one and exactly one digit!**"
   ]
  },
  {
   "cell_type": "code",
   "execution_count": 15,
   "id": "intensive-turtle",
   "metadata": {},
   "outputs": [],
   "source": [
    "import random\n",
    "random.seed(12)\n",
    "\n",
    "def padRandom(image):\n",
    "    x_rand_pad = random.randrange(60 - image.size[0]) + 2\n",
    "    y_rand_pad = random.randrange(60 - image.size[1]) + 2\n",
    "    image = transforms.functional.pad(image, [x_rand_pad, y_rand_pad, 64-image.size[0]-x_rand_pad, 64-image.size[1]-y_rand_pad])\n",
    "    return image\n",
    "\n",
    "MNIST_path = '../Data/'\n",
    "preprocessor = transforms.Compose(\n",
    "                [transforms.Lambda(padRandom),\n",
    "                 transforms.RandomRotation(90),\n",
    "                 transforms.ToTensor()]\n",
    "                )\n",
    "num_workers = 0\n",
    "MNIST_datasets, MNIST_generators = load_MNIST(MNIST_path, preprocessor, num_workers)\n",
    "elem = next(iter(MNIST_generators[\"test\"]))"
   ]
  },
  {
   "cell_type": "code",
   "execution_count": 16,
   "outputs": [
    {
     "data": {
      "text/plain": "<matplotlib.image.AxesImage at 0x20d21d48610>"
     },
     "execution_count": 16,
     "metadata": {},
     "output_type": "execute_result"
    },
    {
     "data": {
      "text/plain": "<Figure size 432x288 with 1 Axes>",
      "image/png": "[encoded data removed]"
     },
     "metadata": {
      "needs_background": "light"
     },
     "output_type": "display_data"
    }
   ],
   "source": [
    "\n",
    "plt.imshow(elem[0][4].permute(1, 2, 0))"
   ],
   "metadata": {
    "collapsed": false,
    "pycharm": {
     "name": "#%%\n"
    }
   }
  },
  {
   "cell_type": "markdown",
   "id": "afraid-killing",
   "metadata": {},
   "source": [
    "## 2 Convolutional sliding window\n",
    "\n",
    "We then need to implement the convolutional neural network that will do the heavy work. In a nutshell, we want to have a CNN that is able to locate and classify digits within input images with base dimensions $(h\\_in, w\\_in)$. Then, we use this CNN as the backbone mapping in a sliding window procedure, in order to be able to locate and classify digits within larger images with dimensions $(H\\_in, W\\_in)$ such that $H\\_in > h\\_in$ and $W\\_in > w\\_in$. In the first section, you learned how to perform this efficiently by converting the sequential sliding window procedure into a convolutional one. More specifically, you learned that passing directly the whole large image to the CNN mapping gives an output tensor whose spatial dimensions $(H\\_out, W\\_out)$ correspond to the number of sliding windows in the sequential procedure such that each cell is exactly the output of the CNN applied to the corresponding window. Moreover, you also are able to find the indices of these windows. \n",
    "\n",
    "**2) Use this knowledge in order to implement the CNN you'll be using for the digit localization task. Remember that the window size $(h\\_in, w\\_in)$ should be large enough to contain digits entirely and the input size $(H\\_in, W\\_in)$ should match the dimensions of the tensors produced by you generator, namely $64\\times 64$.**\n",
    "\n",
    "Four proposed architecture:\n",
    "\n",
    "Window_size = 28\n",
    "Stride=2\n",
    "1. conv(5,5)\n",
    "1. conv(3,3)\n",
    "1. maxpool(stride=2)\n",
    "1. conv(3,3)\n",
    "1. conv(5,5)\n",
    "1. conv(5,5)\n",
    "1. conv(1,1)\n",
    "1. conv(1,1)\n",
    "\n",
    "\n",
    "Window_size = 28\n",
    "Stride=4\n",
    "1. conv(5,5)\n",
    "1. maxpool(stride=2)\n",
    "1. conv(3,3)\n",
    "1. maxpool(stride=2)\n",
    "1. conv(5,5)\n",
    "1. conv(1,1)\n",
    "1. conv(1,1)\n",
    "\n",
    "\n",
    "Window_size = 32\n",
    "Stride=2\n",
    "1. conv(5,5)\n",
    "1. conv(3,3)\n",
    "1. maxpool(stride=2)\n",
    "1. conv(5,5)\n",
    "1. conv(5,5)\n",
    "1. conv(5,5)\n",
    "1. conv(1,1)\n",
    "1. conv(1,1)\n",
    "\n",
    "\n",
    "Window_size = 32\n",
    "Stride=4\n",
    "1. conv(5,5)\n",
    "1. maxpool(stride=2)\n",
    "1. conv(5,5)\n",
    "1. maxpool(stride=2)\n",
    "1. conv(5,5)\n",
    "1. conv(1,1)\n",
    "1. conv(1,1)"
   ]
  },
  {
   "cell_type": "code",
   "execution_count": 17,
   "outputs": [],
   "source": [
    "\n",
    "class ConvMINSTStride2size28(nn.Module):\n",
    "\n",
    "    def __init__(self, nr_of_classes):\n",
    "        super().__init__()\n",
    "        self.layers = nn.ModuleList()\n",
    "        self.layers.append(nn.Conv2d(1, 16, (5, 5)))\n",
    "        self.layers.append(nn.Conv2d(16, 32, (3, 3)))\n",
    "        self.layers.append(nn.MaxPool2d((2,2), stride=2))\n",
    "        self.layers.append(nn.Conv2d(32, 16, (3, 3)))\n",
    "        self.layers.append(nn.Conv2d(16, 400, (5, 5)))\n",
    "        self.layers.append(nn.Conv2d(16, 400, (5, 5)))\n",
    "        self.layers.append(nn.Conv2d(400, 400, (1, 1)))\n",
    "        self.layers.append(nn.Conv2d(400, nr_of_classes, (1, 1)))\n",
    "\n",
    "\n",
    "    def forward(self, x):\n",
    "        a = x\n",
    "        for layer in self.layers:\n",
    "            a = layer(a)\n",
    "        return a\n",
    "\n",
    "\n",
    "class ConvMINSTStride4Size28(nn.Module):\n",
    "\n",
    "    def __init__(self, nr_of_classes):\n",
    "        super().__init__()\n",
    "        self.layers = nn.ModuleList()\n",
    "        self.layers.append(nn.Conv2d(1, 16, (5, 5)))\n",
    "        self.layers.append(nn.MaxPool2d((2,2), stride=2))\n",
    "        self.layers.append(nn.Conv2d(16, 16, (3, 3)))\n",
    "        self.layers.append(nn.MaxPool2d((2,2), stride=2))\n",
    "        self.layers.append(nn.Conv2d(16, 400, (5, 5)))\n",
    "        self.layers.append(nn.Conv2d(400, 400, (1, 1)))\n",
    "        self.layers.append(nn.Conv2d(400, nr_of_classes, (1, 1)))\n",
    "\n",
    "\n",
    "    def forward(self, x):\n",
    "        a = x\n",
    "        for layer in self.layers:\n",
    "            a = layer(a)\n",
    "        return a\n",
    "\n",
    "\n",
    "class ConvMINSTStride2size32(nn.Module):\n",
    "\n",
    "    def __init__(self, nr_of_classes):\n",
    "        super().__init__()\n",
    "        self.layers = nn.ModuleList()\n",
    "        self.layers.append(nn.Conv2d(1, 16, (5, 5)))\n",
    "        self.layers.append(nn.Conv2d(16, 32, (3, 3)))\n",
    "        self.layers.append(nn.MaxPool2d((2,2), stride=2))\n",
    "        self.layers.append(nn.Conv2d(32, 32, (5, 5)))\n",
    "        self.layers.append(nn.Conv2d(32, 16, (5, 5)))\n",
    "        self.layers.append(nn.Conv2d(16, 400, (5, 5)))\n",
    "        self.layers.append(nn.Conv2d(400, 400, (1, 1)))\n",
    "        self.layers.append(nn.Conv2d(400, nr_of_classes, (1, 1)))\n",
    "\n",
    "\n",
    "    def forward(self, x):\n",
    "        a = x\n",
    "        for layer in self.layers:\n",
    "            a = layer(a)\n",
    "        return a\n",
    "\n",
    "\n",
    "class ConvMINSTStride4Size32(nn.Module):\n",
    "\n",
    "    def __init__(self, nr_of_classes):\n",
    "        super().__init__()\n",
    "        self.layers = nn.ModuleList()\n",
    "        self.layers.append(nn.Conv2d(1, 16, (5, 5)))\n",
    "        self.layers.append(nn.MaxPool2d((2,2), stride=2))\n",
    "        self.layers.append(nn.Conv2d(16, 16, (5, 5)))\n",
    "        self.layers.append(nn.MaxPool2d((2,2), stride=2))\n",
    "        self.layers.append(nn.Conv2d(16, 400, (5, 5)))\n",
    "        self.layers.append(nn.Conv2d(400, 400, (1, 1)))\n",
    "        self.layers.append(nn.Conv2d(400, nr_of_classes, (1, 1)))\n",
    "\n",
    "    def forward(self, x):\n",
    "        a = x\n",
    "        for layer in self.layers:\n",
    "            a = layer(a)\n",
    "        return a"
   ],
   "metadata": {
    "collapsed": false,
    "pycharm": {
     "name": "#%%\n"
    }
   }
  },
  {
   "cell_type": "markdown",
   "source": [
    "## 3 Bounding box extraction, encoding\n",
    "\n",
    "At the moment, we only have access to the digit labels. This is not sufficient for the task of digit localization: we need those bounding boxes, so we will produce them ourselves ! \n",
    "\n",
    "**3-1) Implement a code that will produce sharp bounding boxes around a digit. You can for instance use torch.where(... > 0.0) to find the limits of the digit in an image.**\n",
    "\n",
    "We will encode the digit localization problem using a target vector of size $6$: $y = (y_0, y_1, y_2, y_3, y_4, y_5)$:\n",
    "- $y_0$ is binary and encodes whether or not a digit was detected.\n",
    "- $y_1$ is categorical and encodes the label of the digit (if any).\n",
    "- $y_2, y_3, y_4, y_5$ are continuous and encode the bounding box of the digit (if any).\n",
    "\n",
    "We want every window to carry information. As such, we want to produce one $y$ for every window, such that the groudtruth tensor $Y\\_true$ should have dimensions $(N,6,H\\_out,W\\_out)$. In order to do this, for each window we can check if the digit is visible in this window:\n",
    "- If that's the case, $y_0$ is $1$, $y_1$ is the label of the digit and $y_2, y_3, y_4, y_5$ are the bounding box values **converted in the referential of the window**: the top of the window $h\\_start$ is treated as $0.0$ wheras the bottom of the window $h\\_end$ is treated as $1.0$ (and similarly for the left and right of the window). \n",
    "- Otherwise, the $y$ for that window is simply a zeros vector (if that's the case, we only really care about $y_0=0$).\n"
   ],
   "metadata": {
    "collapsed": false,
    "pycharm": {
     "name": "#%% md\n"
    }
   }
  },
  {
   "cell_type": "code",
   "execution_count": 18,
   "outputs": [],
   "source": [
    "def findTopLeftBottomRight(image):\n",
    "    #Remove channel dimension\n",
    "    image = image[0]\n",
    "    ones = torch.ones(image.shape)\n",
    "\n",
    "    ones_and_zeroes = torch.where(image > 0, ones, image)\n",
    "    # Find the first element in columns and rows\n",
    "    x_min_argmax = torch.argmax(ones_and_zeroes, dim=-1)\n",
    "    y_min_argmax = torch.argmax(ones_and_zeroes, dim=-2)\n",
    "    sixtyfours = torch.ones(x_min_argmax.shape, dtype=torch.int64)*64\n",
    "    # Take the smallest of those, but not the ones that are equal to 0, because if a row or col only has zeros it will give zero\n",
    "    # so my images are padded by 2 so no digit will touch the edge\n",
    "    x_minp = torch.min(torch.where(x_min_argmax == 0, sixtyfours, x_min_argmax))\n",
    "    y_minp = torch.min(torch.where(y_min_argmax == 0, sixtyfours, y_min_argmax))\n",
    "    # flip it and do the same to get the max values\n",
    "    ones_and_zeroesud = ones_and_zeroes.flipud()\n",
    "    ones_and_zeroeslr = ones_and_zeroes.fliplr()\n",
    "    x_max_argmax = torch.argmax(ones_and_zeroeslr, dim=-1)\n",
    "    y_max_argmax = torch.argmax(ones_and_zeroesud, dim=-2)\n",
    "    x_maxp = 63 - torch.min(torch.where(x_max_argmax == 0, sixtyfours, x_max_argmax))\n",
    "    y_maxp = 63 -torch.min(torch.where(y_max_argmax == 0, sixtyfours, y_max_argmax))\n",
    "    # show_img_box(image, x_minp, y_minp, x_maxp, y_maxp)\n",
    "    return torch.tensor((x_minp, y_minp, x_maxp, y_maxp))\n",
    "\n",
    "\n",
    "def show_img_box(image, x_minp, y_minp, x_maxp, y_maxp):\n",
    "    #Visualize box\n",
    "    fig, ax = plt.subplots()\n",
    "    ax.imshow(image)\n",
    "    ax.plot([x_minp, x_maxp], [y_minp, y_minp], color='green')\n",
    "    ax.plot([x_minp, x_maxp], [y_maxp, y_maxp], color='green')\n",
    "    ax.plot([x_minp, x_minp], [y_minp, y_maxp], color='green')\n",
    "    ax.plot([x_maxp, x_maxp], [y_minp, y_maxp], color='green')\n",
    "    plt.show()\n",
    "    plt.pause(0.1)\n",
    "\n",
    "def findTopLeftBottomRight_no_torch(image):\n",
    "    image = image[0]\n",
    "    ones = torch.ones(image.shape)\n",
    "    ones_and_zeroes = torch.where(image > 0, ones, image)\n",
    "    x_min, y_min = 64, 64\n",
    "    x_max, y_max = 0, 0\n",
    "    for h in range(image.shape[0]):\n",
    "        for w in range(image.shape[1]):\n",
    "            if ones_and_zeroes[h, w] == 1:\n",
    "                x_min, y_min = min(x_min, w), min(y_min, h)\n",
    "                x_max, y_max = max(x_max, w), max(y_max, h)\n",
    "\n",
    "    fig, ax = plt.subplots()\n",
    "    ax.imshow(image)\n",
    "    ax.plot([x_min, x_max], [y_min, y_min], color='green')\n",
    "    ax.plot([x_min, x_max], [y_max, y_max], color='green')\n",
    "    ax.plot([x_min, x_min], [y_min, y_max], color='green')\n",
    "    ax.plot([x_max, x_max], [y_min, y_max], color='green')\n",
    "    plt.show()\n",
    "    plt.pause(0.1)\n",
    "    return torch.tensor((x_min, y_min, x_max, y_max))"
   ],
   "metadata": {
    "collapsed": false,
    "pycharm": {
     "name": "#%%\n"
    }
   }
  },
  {
   "cell_type": "markdown",
   "source": [
    "**3-2) Implement the encoding procedure. The code may have a similar structure as in the cell below:**\n"
   ],
   "metadata": {
    "collapsed": false,
    "pycharm": {
     "name": "#%% md\n"
    }
   }
  },
  {
   "cell_type": "code",
   "execution_count": 19,
   "outputs": [],
   "source": [
    "def label_batch(xb, yb, h_out=10, w_out=10, window_size=28, stride=4):\n",
    "    N = len(xb)\n",
    "    H_out = h_out\n",
    "    W_out = w_out\n",
    "    bounding_boxes = torch.zeros(size=(N, 4))\n",
    "    Y_true = torch.zeros(size=(N, 6, H_out, W_out))\n",
    "    for n in range(N):\n",
    "        # Bounding box extraction:\n",
    "        x, y = xb[n], yb[n]\n",
    "        bounding_boxes[n,:] = findTopLeftBottomRight(x)\n",
    "        # Bounding box coordinates:\n",
    "        left = bounding_boxes[n,0]\n",
    "        top = bounding_boxes[n,1]\n",
    "        right = bounding_boxes[n,2]\n",
    "        bottom = bounding_boxes[n,3]\n",
    "        for h in range(H_out):\n",
    "            for w in range(W_out):\n",
    "                # Coordinates of the window (h,w):\n",
    "                h_start = h*stride\n",
    "                w_start = w*stride\n",
    "                h_end = h_start+window_size\n",
    "                w_end = w_start+window_size\n",
    "                # If a digit is visible in the window (h,w) <==>\n",
    "                # rectangles (top, bottom, left, right) and (h_start, h_end, w_start, w_end) intersect:\n",
    "                y1 = 1 if left >= w_start and top >= h_start\\\n",
    "                        and right <= w_end and bottom <= h_end else 0\n",
    "                Y_true[n,:,h,w] = torch.tensor([y1, y, left, top, right, bottom])\n",
    "    yb = Y_true\n",
    "    return Y_true"
   ],
   "metadata": {
    "collapsed": false,
    "pycharm": {
     "name": "#%%\n"
    }
   }
  },
  {
   "cell_type": "code",
   "execution_count": 20,
   "outputs": [],
   "source": [
    "Y_true_train_batch = []\n",
    "pbar = tqdm(total=len(MNIST_generators['train']), desc='Generating train labels')\n",
    "for xb, yb in MNIST_generators['train']:\n",
    "    b = label_batch(xb, yb)\n",
    "    Y_true_train_batch.append(b)\n",
    "    pbar.update()\n",
    "\n",
    "pbar.close()"
   ],
   "metadata": {
    "collapsed": false,
    "pycharm": {
     "name": "#%%\n"
    }
   }
  },
  {
   "cell_type": "code",
   "execution_count": 21,
   "outputs": [],
   "source": [
    "Y_true_val_batch = []\n",
    "pbar = tqdm(total=len(MNIST_generators['val']), desc='Generating val labels')\n",
    "for xb, yb in MNIST_generators['val']:\n",
    "    Y_true_val_batch.append(label_batch(xb, yb))\n",
    "    pbar.update()\n",
    "pbar.close()"
   ],
   "metadata": {
    "collapsed": false,
    "pycharm": {
     "name": "#%%\n"
    }
   }
  },
  {
   "cell_type": "code",
   "execution_count": 25,
   "outputs": [
    {
     "name": "stderr",
     "output_type": "stream",
     "text": [
      "Generating test labels: 100%|██████████| 1/1 [00:05<00:00,  5.97s/it]\n"
     ]
    },
    {
     "data": {
      "text/plain": "<Figure size 432x288 with 1 Axes>",
      "image/png": "[encoded data removed]"
     },
     "metadata": {
      "needs_background": "light"
     },
     "output_type": "display_data"
    },
    {
     "data": {
      "text/plain": "<Figure size 432x288 with 1 Axes>",
      "image/png": "[encoded data removed]"
     },
     "metadata": {
      "needs_background": "light"
     },
     "output_type": "display_data"
    },
    {
     "data": {
      "text/plain": "<Figure size 432x288 with 1 Axes>",
      "image/png": "[encoded data removed]"
     },
     "metadata": {
      "needs_background": "light"
     },
     "output_type": "display_data"
    },
    {
     "data": {
      "text/plain": "<Figure size 432x288 with 1 Axes>",
      "image/png": "[encoded data removed]"
     },
     "metadata": {
      "needs_background": "light"
     },
     "output_type": "display_data"
    },
    {
     "data": {
      "text/plain": "<Figure size 432x288 with 1 Axes>",
      "image/png": "[encoded data removed]"
     },
     "metadata": {
      "needs_background": "light"
     },
     "output_type": "display_data"
    },
    {
     "data": {
      "text/plain": "<Figure size 432x288 with 1 Axes>",
      "image/png": "[encoded data removed]"
     },
     "metadata": {
      "needs_background": "light"
     },
     "output_type": "display_data"
    },
    {
     "data": {
      "text/plain": "<Figure size 432x288 with 1 Axes>",
      "image/png": "[encoded data removed]"
     },
     "metadata": {
      "needs_background": "light"
     },
     "output_type": "display_data"
    },
    {
     "data": {
      "text/plain": "<Figure size 432x288 with 1 Axes>",
      "image/png": "[encoded data removed]"
     },
     "metadata": {
      "needs_background": "light"
     },
     "output_type": "display_data"
    },
    {
     "data": {
      "text/plain": "<Figure size 432x288 with 1 Axes>",
      "image/png": "[encoded data removed]"
     },
     "metadata": {
      "needs_background": "light"
     },
     "output_type": "display_data"
    },
    {
     "data": {
      "text/plain": "<Figure size 432x288 with 1 Axes>",
      "image/png": "[encoded data removed]"
     },
     "metadata": {
      "needs_background": "light"
     },
     "output_type": "display_data"
    },
    {
     "data": {
      "text/plain": "<Figure size 432x288 with 1 Axes>",
      "image/png": "[encoded data removed]"
     },
     "metadata": {
      "needs_background": "light"
     },
     "output_type": "display_data"
    },
    {
     "data": {
      "text/plain": "<Figure size 432x288 with 1 Axes>",
      "image/png": "[encoded data removed]"
     },
     "metadata": {
      "needs_background": "light"
     },
     "output_type": "display_data"
    },
    {
     "data": {
      "text/plain": "<Figure size 432x288 with 1 Axes>",
      "image/png": "[encoded data removed]"
     },
     "metadata": {
      "needs_background": "light"
     },
     "output_type": "display_data"
    },
    {
     "data": {
      "text/plain": "<Figure size 432x288 with 1 Axes>",
      "image/png": "[encoded data removed]"
     },
     "metadata": {
      "needs_background": "light"
     },
     "output_type": "display_data"
    },
    {
     "data": {
      "text/plain": "<Figure size 432x288 with 1 Axes>",
      "image/png": "[encoded data removed]"
     },
     "metadata": {
      "needs_background": "light"
     },
     "output_type": "display_data"
    },
    {
     "data": {
      "text/plain": "<Figure size 432x288 with 1 Axes>",
      "image/png": "[encoded data removed]"
     },
     "metadata": {
      "needs_background": "light"
     },
     "output_type": "display_data"
    },
    {
     "data": {
      "text/plain": "<Figure size 432x288 with 1 Axes>",
      "image/png": "[encoded data removed]"
     },
     "metadata": {
      "needs_background": "light"
     },
     "output_type": "display_data"
    },
    {
     "data": {
      "text/plain": "<Figure size 432x288 with 1 Axes>",
      "image/png": "[encoded data removed]"
     },
     "metadata": {
      "needs_background": "light"
     },
     "output_type": "display_data"
    },
    {
     "data": {
      "text/plain": "<Figure size 432x288 with 1 Axes>",
      "image/png": "[encoded data removed]"
     },
     "metadata": {
      "needs_background": "light"
     },
     "output_type": "display_data"
    },
    {
     "data": {
      "text/plain": "<Figure size 432x288 with 1 Axes>",
      "image/png": "[encoded data removed]"
     },
     "metadata": {
      "needs_background": "light"
     },
     "output_type": "display_data"
    },
    {
     "data": {
      "text/plain": "<Figure size 432x288 with 1 Axes>",
      "image/png": "[encoded data removed]"
     },
     "metadata": {
      "needs_background": "light"
     },
     "output_type": "display_data"
    },
    {
     "data": {
      "text/plain": "<Figure size 432x288 with 1 Axes>",
      "image/png": "[encoded data removed]"
     },
     "metadata": {
      "needs_background": "light"
     },
     "output_type": "display_data"
    },
    {
     "data": {
      "text/plain": "<Figure size 432x288 with 1 Axes>",
      "image/png": "[encoded data removed]"
     },
     "metadata": {
      "needs_background": "light"
     },
     "output_type": "display_data"
    },
    {
     "data": {
      "text/plain": "<Figure size 432x288 with 1 Axes>",
      "image/png": "[encoded data removed]"
     },
     "metadata": {
      "needs_background": "light"
     },
     "output_type": "display_data"
    },
    {
     "data": {
      "text/plain": "<Figure size 432x288 with 1 Axes>",
      "image/png": "[encoded data removed]"
     },
     "metadata": {
      "needs_background": "light"
     },
     "output_type": "display_data"
    },
    {
     "data": {
      "text/plain": "<Figure size 432x288 with 1 Axes>",
      "image/png": "[encoded data removed]"
     },
     "metadata": {
      "needs_background": "light"
     },
     "output_type": "display_data"
    },
    {
     "data": {
      "text/plain": "<Figure size 432x288 with 1 Axes>",
      "image/png": "[encoded data removed]"
     },
     "metadata": {
      "needs_background": "light"
     },
     "output_type": "display_data"
    },
    {
     "data": {
      "text/plain": "<Figure size 432x288 with 1 Axes>",
      "image/png": "[encoded data removed]"
     },
     "metadata": {
      "needs_background": "light"
     },
     "output_type": "display_data"
    },
    {
     "data": {
      "text/plain": "<Figure size 432x288 with 1 Axes>",
      "image/png": "[encoded data removed]"
     },
     "metadata": {
      "needs_background": "light"
     },
     "output_type": "display_data"
    },
    {
     "data": {
      "text/plain": "<Figure size 432x288 with 1 Axes>",
      "image/png": "[encoded data removed]"
     },
     "metadata": {
      "needs_background": "light"
     },
     "output_type": "display_data"
    },
    {
     "name": "stdout",
     "output_type": "stream",
     "text": [
      "tensor(3)\n"
     ]
    },
    {
     "ename": "IndexError",
     "evalue": "slice() cannot be applied to a 0-dim tensor.",
     "output_type": "error",
     "traceback": [
      "\u001B[1;31m---------------------------------------------------------------------------\u001B[0m",
      "\u001B[1;31mIndexError\u001B[0m                                Traceback (most recent call last)",
      "\u001B[1;32m<ipython-input-25-4283e6309940>\u001B[0m in \u001B[0;36m<module>\u001B[1;34m\u001B[0m\n\u001B[0;32m     11\u001B[0m     \u001B[0max\u001B[0m\u001B[1;33m.\u001B[0m\u001B[0mimshow\u001B[0m\u001B[1;33m(\u001B[0m\u001B[0mx\u001B[0m\u001B[1;33m.\u001B[0m\u001B[0mpermute\u001B[0m\u001B[1;33m(\u001B[0m\u001B[1;36m1\u001B[0m\u001B[1;33m,\u001B[0m\u001B[1;36m2\u001B[0m\u001B[1;33m,\u001B[0m\u001B[1;36m0\u001B[0m\u001B[1;33m)\u001B[0m\u001B[1;33m)\u001B[0m\u001B[1;33m\u001B[0m\u001B[1;33m\u001B[0m\u001B[0m\n\u001B[0;32m     12\u001B[0m     \u001B[0mprint\u001B[0m\u001B[1;33m(\u001B[0m\u001B[0my\u001B[0m\u001B[1;33m)\u001B[0m\u001B[1;33m\u001B[0m\u001B[1;33m\u001B[0m\u001B[0m\n\u001B[1;32m---> 13\u001B[1;33m     \u001B[0mx_min\u001B[0m\u001B[1;33m,\u001B[0m \u001B[0my_min\u001B[0m\u001B[1;33m,\u001B[0m \u001B[0mx_max\u001B[0m\u001B[1;33m,\u001B[0m \u001B[0my_max\u001B[0m \u001B[1;33m=\u001B[0m \u001B[0my\u001B[0m\u001B[1;33m[\u001B[0m\u001B[1;33m-\u001B[0m\u001B[1;36m4\u001B[0m\u001B[1;33m:\u001B[0m\u001B[1;33m]\u001B[0m\u001B[1;33m\u001B[0m\u001B[1;33m\u001B[0m\u001B[0m\n\u001B[0m\u001B[0;32m     14\u001B[0m     \u001B[0max\u001B[0m\u001B[1;33m.\u001B[0m\u001B[0mplot\u001B[0m\u001B[1;33m(\u001B[0m\u001B[1;33m[\u001B[0m\u001B[0mx_min\u001B[0m\u001B[1;33m,\u001B[0m \u001B[0mx_max\u001B[0m\u001B[1;33m]\u001B[0m\u001B[1;33m,\u001B[0m \u001B[1;33m[\u001B[0m\u001B[0my_min\u001B[0m\u001B[1;33m,\u001B[0m \u001B[0my_min\u001B[0m\u001B[1;33m]\u001B[0m\u001B[1;33m,\u001B[0m \u001B[0mcolor\u001B[0m\u001B[1;33m=\u001B[0m\u001B[1;34m'green'\u001B[0m\u001B[1;33m)\u001B[0m\u001B[1;33m\u001B[0m\u001B[1;33m\u001B[0m\u001B[0m\n\u001B[0;32m     15\u001B[0m     \u001B[0max\u001B[0m\u001B[1;33m.\u001B[0m\u001B[0mplot\u001B[0m\u001B[1;33m(\u001B[0m\u001B[1;33m[\u001B[0m\u001B[0mx_min\u001B[0m\u001B[1;33m,\u001B[0m \u001B[0mx_max\u001B[0m\u001B[1;33m]\u001B[0m\u001B[1;33m,\u001B[0m \u001B[1;33m[\u001B[0m\u001B[0my_max\u001B[0m\u001B[1;33m,\u001B[0m \u001B[0my_max\u001B[0m\u001B[1;33m]\u001B[0m\u001B[1;33m,\u001B[0m \u001B[0mcolor\u001B[0m\u001B[1;33m=\u001B[0m\u001B[1;34m'green'\u001B[0m\u001B[1;33m)\u001B[0m\u001B[1;33m\u001B[0m\u001B[1;33m\u001B[0m\u001B[0m\n",
      "\u001B[1;31mIndexError\u001B[0m: slice() cannot be applied to a 0-dim tensor."
     ]
    },
    {
     "data": {
      "text/plain": "<Figure size 432x288 with 1 Axes>",
      "image/png": "[encoded data removed]"
     },
     "metadata": {
      "needs_background": "light"
     },
     "output_type": "display_data"
    }
   ],
   "source": [
    "Y_true_test_batch = []\n",
    "pbar = tqdm(total=len(MNIST_generators['test']), desc='Generating test labels')\n",
    "for xb, yb in MNIST_generators['test']:\n",
    "    Y_true_test_batch.append(label_batch(xb, yb))\n",
    "    pbar.update()\n",
    "pbar.close()\n",
    "\n",
    "test_setx, ys = next(iter(MNIST_generators['test']))\n",
    "for x, y in zip(test_setx, ys):\n",
    "    fig, ax = plt.subplots()\n",
    "    ax.imshow(x.permute(1,2,0))\n",
    "    print(y)\n",
    "    x_min, y_min, x_max, y_max = y[-4:]\n",
    "    ax.plot([x_min, x_max], [y_min, y_min], color='green')\n",
    "    ax.plot([x_min, x_max], [y_max, y_max], color='green')\n",
    "    ax.plot([x_min, x_min], [y_min, y_max], color='green')\n",
    "    ax.plot([x_max, x_max], [y_min, y_max], color='green')\n",
    "    plt.show()\n",
    "    plt.pause(0.1)"
   ],
   "metadata": {
    "collapsed": false,
    "pycharm": {
     "name": "#%%\n"
    }
   }
  },
  {
   "cell_type": "markdown",
   "id": "proud-china",
   "metadata": {},
   "source": [
    "## 4 Training loop\n",
    "\n",
    "We are now ready to train our model. The only remaining question is the loss. We want a loss of the form $\\sum_{n < N} \\sum_{h < H\\_out} \\sum_{w < W\\_out} L(Y\\_true[n,:,h,w], Y\\_out[n,:,h,w])$,\n",
    "where \n",
    "\n",
    "$L(Y\\_true[n,:,h,w], Y\\_out[n,:,h,w]) = L\\_detection + L\\_classification + L\\_regression$ such that\n",
    "\n",
    "- $L\\_detection = binary\\_cross\\_entropy(sigmoid(Y\\_out[n,0,h,w]), Y\\_true[n,0,h,w])$\n",
    "\n",
    "If $sigmoid(Y\\_out[n,0,h,w]) > 0.5$ and $Y\\_true[n,0,h,w] == 1$ (\"true positive detection of digit in window $(h,w)$\"):\n",
    "- $L\\_classification = negative\\_log\\_likelihood\\_loss(log\\_softmax(Y\\_out[n,1\\!:\\!11,h,w]), Y\\_true[n,1,h,w])$ \n",
    "- $L\\_regression = mse(Y\\_out[n,-4\\!:,h,w], Y\\_true[n,-4\\!:,h,w])$\n",
    "\n",
    "Else:\n",
    "- $L\\_classification=0.0$\n",
    "- $L\\_regression=0.0$\n",
    "\n",
    "Essentially, this loss indicates that we break down the whole task into three subproblems:\n",
    "\n",
    "a) Is there a digit in the current window ?\n",
    "\n",
    "If so,\n",
    "\n",
    "b) What is the digit in the window ?\n",
    "\n",
    "c) Where is the digit in the window ?\n",
    "\n",
    "The two last questions only make sense assuming the first question was positively answered, hence the use of a conditional loss. Notice also that we sum the loss not only over samples in a batch, but also over windows. Essentially, the set of windows forming the sliding window procedure can be seen itself as a minibatch of samples. \n",
    "\n",
    "**4) Implement the training loop, then train your model for a few epochs.**"
   ]
  },
  {
   "cell_type": "code",
   "execution_count": null,
   "outputs": [],
   "source": [
    "import datetime\n",
    "device = torch.device('cuda') if torch.cuda.is_available() else torch.device('cpu')\n",
    "print(device)\n",
    "\n",
    "bce = nn.BCELoss()\n",
    "neglog = nn.NLLLoss()\n",
    "sigmoid = nn.Sigmoid()\n",
    "mse = nn.MSELoss()\n",
    "softmax = nn.LogSoftmax(dim=1)\n",
    "\n",
    "\n",
    "def vectorized_loss(y_true, y_pred):\n",
    "    \"\"\"\n",
    "    Sem vectorized implementation. First find L_detection\n",
    "    \"\"\"\n",
    "    loss_class = bce(sigmoid(y_pred[:, 0, : , :]), y_true[:, 0, :, :])\n",
    "\n",
    "    test_x = torch.zeros(size=(y_true.shape[0]*y_true.shape[2]*y_true.shape[3], 10))\n",
    "    test_y= torch.zeros(size=(y_true.shape[0]*y_true.shape[2]*y_true.shape[3], 1))\n",
    "    test_reg_x = torch.zeros(size=(y_true.shape[0]*y_true.shape[2]*y_true.shape[3], 4))\n",
    "    test_reg_y = torch.zeros(size=(y_true.shape[0]*y_true.shape[2]*y_true.shape[3], 4))\n",
    "    idx = 0\n",
    "    # Then all cases where sigmoid > 0.5 and Y_true[:,0, h, w] == 1\n",
    "    for n in range(y_true.shape[0]):\n",
    "        for h in range(y_true.shape[2]):\n",
    "            for w in range(y_true.shape[3]):\n",
    "                if y_true[n, 0, h, w] == 1 and sigmoid(y_pred[n, 0, h, w]) > 0.5:\n",
    "                    test_x[idx, :] = y_pred[n, 1:11, h, w]\n",
    "                    test_y[idx, :] = y_true[n, 1, h, w]\n",
    "                    test_reg_x[idx, :] = y_pred[n, -4:, h, w]\n",
    "                    test_reg_y[idx, :] = y_true[n, -4:, h, w]\n",
    "                    idx += 1\n",
    "    # Remove all empty cases from tensor\n",
    "    test_x = torch.narrow(test_x, 0, 0, idx)\n",
    "    test_y = torch.squeeze(torch.narrow(test_y, 0, 0, idx)).type(torch.LongTensor) if idx > 1 else torch.narrow(test_y, 0, 0, idx).type(torch.LongTensor)\n",
    "    test_reg_x = torch.narrow(test_reg_x, 0, 0, idx)\n",
    "    test_reg_y = torch.narrow(test_reg_y, 0, 0, idx)\n",
    "    # If tensor not empty calculate mse and nll loss\n",
    "    if test_reg_x.shape[0] != 0:\n",
    "        mse_loss = mse(test_reg_x, test_reg_y)\n",
    "        neglog_loss = neglog(softmax(test_x), test_y)\n",
    "    else:\n",
    "        mse_loss = 0\n",
    "        neglog_loss = 0\n",
    "\n",
    "    return loss_class + neglog_loss + mse_loss"
   ],
   "metadata": {
    "collapsed": false,
    "pycharm": {
     "name": "#%%\n"
    }
   }
  },
  {
   "cell_type": "code",
   "execution_count": null,
   "outputs": [],
   "source": [
    "def training_loop(n_epochs, optimizer, model, loss_fn, train_loader, y_vector_labels):\n",
    "\n",
    "    model.train()\n",
    "    train_bar = tqdm(total=n_epochs, desc=\"Total progression\")\n",
    "    for epoch in range(1, n_epochs + 1):\n",
    "        loss_train = 0.0\n",
    "        for imgs_labels, vector_labels in zip(train_loader, y_vector_labels):\n",
    "            imgs, labels = imgs_labels\n",
    "            imgs = imgs.to(device=device)\n",
    "            vector_labels = vector_labels.to(device=device)\n",
    "            outputs = model(imgs)\n",
    "            loss = loss_fn(vector_labels, outputs, optimizer)\n",
    "            loss.backward()\n",
    "            optimizer.step()\n",
    "            optimizer.zero_grad()\n",
    "\n",
    "            loss_train += loss.item()\n",
    "\n",
    "        print('{}  |  Epoch {}  |  Training loss {:.3f}'.format(\n",
    "            datetime.datetime.now(), epoch,\n",
    "            loss_train / len(train_loader)))\n",
    "\n",
    "        train_bar.update()\n",
    "    train_bar.close()\n",
    "\n",
    "def validate(model, train_loader, val_loader):\n",
    "    \"\"\"\n",
    "    Plot training and validation accuracy\n",
    "    \"\"\"\n",
    "    model.eval()\n",
    "    accdict = {}\n",
    "    for name, loader in [(\"train\", train_loader), (\"val\", val_loader)]:\n",
    "        correct = 0\n",
    "        total = 0\n",
    "\n",
    "        with torch.no_grad():\n",
    "            for imgs, labels in loader:\n",
    "                imgs = imgs.to(device=device)\n",
    "                labels = labels.to(device=device)\n",
    "\n",
    "                outputs = model(imgs)\n",
    "                _, predicted = torch.max(outputs, dim=1)\n",
    "                total += labels.shape[0]\n",
    "                correct += int((predicted == labels).sum())\n",
    "\n",
    "        print(\"Accuracy {}: {:.2f}\".format(name , correct / total))\n",
    "        accdict[name] = correct / total\n",
    "    return accdict"
   ],
   "metadata": {
    "collapsed": false,
    "pycharm": {
     "name": "#%%\n"
    }
   }
  },
  {
   "cell_type": "code",
   "execution_count": null,
   "outputs": [],
   "source": [
    "model_w28_s4 = ConvMINSTStride4Size28(15)\n",
    "model_w28_s4.to(device)\n",
    "opt = torch.optim.Adam(model_w28_s4.parameters(), lr=0.001, weight_decay=0.0001)"
   ],
   "metadata": {
    "collapsed": false,
    "pycharm": {
     "name": "#%%\n"
    }
   }
  },
  {
   "cell_type": "code",
   "execution_count": null,
   "outputs": [],
   "source": [
    "# Running only to show that it runs\n",
    "training_loop(3, opt, model_w28_s4, vectorized_loss, MNIST_generators['train'], Y_true_train_batch)"
   ],
   "metadata": {
    "collapsed": false,
    "pycharm": {
     "name": "#%%\n"
    }
   }
  },
  {
   "cell_type": "code",
   "execution_count": null,
   "outputs": [],
   "source": [
    "# torch.save(model_w28_s4.state_dict(), \"../model.pkl\")\n",
    "# Previous model that ran 20 epochs\n",
    "model = ConvMINSTStride4Size28(15)\n",
    "model.load_state_dict(torch.load(\"../model.pkl\"))\n",
    "model.eval()"
   ],
   "metadata": {
    "collapsed": false,
    "pycharm": {
     "name": "#%%\n"
    }
   }
  },
  {
   "cell_type": "markdown",
   "source": [
    "Tested several architectures, but all lead to the same 0.256 loss after one epoch, I'm guessing this is\n",
    "the model not recognising that there are any numbers there, I don't know why this happens though. Maybe in the loss function."
   ],
   "metadata": {
    "collapsed": false,
    "pycharm": {
     "name": "#%% md\n"
    }
   }
  },
  {
   "cell_type": "markdown",
   "id": "comfortable-mention",
   "metadata": {},
   "source": [
    "## 5 Prediction"
   ]
  },
  {
   "cell_type": "markdown",
   "id": "destroyed-jonathan",
   "metadata": {},
   "source": [
    "Your model should now be trained, great ! But now you may wonder: \"How do I predict ?\". And indeed it is not so obvious. In our implementation, our model should output a tensor $Y\\_out$ with dimensions $(N,15,H\\_out,W\\_out)$, that is we have one prediction vector per window in the sliding window procedure. We propose the following strategy: among all the predicted vectors, keep the one associated to the window with the highest label classification score. In other word, $\\forall n<N$:\n",
    "\n",
    "a) Compute the max classification scores: $max\\_classification\\_scores = max_{i=1:11} \\{log\\_softmax(Y\\_out[n,i,:,:])\\}$.\n",
    "\n",
    "b) Extract the indices of the best window: $h\\_best,w\\_best = argmax_{h<H\\_out,w<W\\_out} \\{max\\_classification\\_scores[h,w]\\}$.\n",
    "\n",
    "c) Save the prediction associated to the best window. **You will have to convert the predicted bounding box back to the referential of the input image.** \n",
    "\n",
    "**5) Implement the predict function.**"
   ]
  },
  {
   "cell_type": "code",
   "execution_count": null,
   "outputs": [],
   "source": [
    "test_set_x, y = next(iter(MNIST_generators['test']))"
   ],
   "metadata": {
    "collapsed": false,
    "pycharm": {
     "name": "#%%\n"
    }
   }
  },
  {
   "cell_type": "code",
   "execution_count": null,
   "outputs": [],
   "source": [
    "test_set_out = model(test_set_x)"
   ],
   "metadata": {
    "collapsed": false,
    "pycharm": {
     "name": "#%%\n"
    }
   }
  },
  {
   "cell_type": "code",
   "execution_count": null,
   "outputs": [],
   "source": [
    "max_classifications = torch.zeros((len(test_set_out), 10, 10))\n",
    "for n in range(len(test_set_out)):\n",
    "    for h in range(10):\n",
    "        for w in range(10):\n",
    "            max_classifications[n, h, w] = torch.max(torch.log_softmax(test_set_out[n, 1:11, h, w], 0))\n",
    "# It predicts the same for all... :(\n",
    "h_bests = torch.zeros((len(test_set_out), 1))\n",
    "w_bests = torch.zeros((len(test_set_out), 1))\n",
    "for n in range(len(test_set_out)):\n",
    "    h_bests[n] = torch.argmax(max_classifications[n], dim=0)\n",
    "    w_bests[n] = torch.argmax(max_classifications[n], dim=1)"
   ],
   "metadata": {
    "collapsed": false,
    "pycharm": {
     "name": "#%%\n"
    }
   }
  },
  {
   "cell_type": "markdown",
   "id": "architectural-support",
   "metadata": {
    "pycharm": {
     "name": "#%% md\n"
    }
   },
   "source": [
    "## 6 Visualization\n",
    "\n",
    "Time to test your hard work by visualizing your predictions ! \n",
    "\n",
    "**6) Implement a function that will display the 30 images contained in the test set, with the true bounding boxes in green and the predicted bounding boxes in red overlayed over images. Each image will be titled with its groundtruth and predicted labels. You can use fig, axes = plt.subplots(6, 5, figsize=(20, 16)) in order to place the images conveniently.**\n",
    "\n",
    "My main problem here is that the model isn't learning, so all will just show a bounding box in the top left corner"
   ]
  },
  {
   "cell_type": "code",
   "execution_count": null,
   "outputs": [],
   "source": [
    "stride = 4\n",
    "window_size = 28\n",
    "\n",
    "for n, x in enumerate(test_set_x):\n",
    "    fig, ax = plt.subplots()\n",
    "    ax.imshow(x.permute(1,2,0))\n",
    "    h = h_bests[n]\n",
    "    w = w_bests[n]\n",
    "    print(Y_true_test_batch[0][n, -4: , 0, 0])\n",
    "    ws, hs, we, he = Y_true_test_batch[0][n, -4: , 0, 0]\n",
    "    ax.plot([w, w+28], [h, h], color='red')\n",
    "    ax.plot([w, w+28], [h+28, h+28], color='red')\n",
    "    ax.plot([w, w], [h, h+28], color='red')\n",
    "    ax.plot([w+28, w+28], [h, h+28], color='red')\n",
    "    ax.plot([ws, we], [hs, hs], color='green')\n",
    "    ax.plot([ws, we], [he, he], color='green')\n",
    "    ax.plot([ws, ws], [hs, he], color='green')\n",
    "    ax.plot([we, we], [hs, he], color='green')\n",
    "    plt.show()\n",
    "    plt.pause(0.1)"
   ],
   "metadata": {
    "collapsed": false,
    "pycharm": {
     "name": "#%%\n"
    }
   }
  },
  {
   "cell_type": "markdown",
   "source": [
    "And the problem for the model is easy to see, garbage in garbage out..."
   ],
   "metadata": {
    "collapsed": false,
    "pycharm": {
     "name": "#%% md\n"
    }
   }
  }
 ],
 "metadata": {
  "kernelspec": {
   "display_name": "Python 3",
   "language": "python",
   "name": "python3"
  },
  "language_info": {
   "codemirror_mode": {
    "name": "ipython",
    "version": 3
   },
   "file_extension": ".py",
   "mimetype": "text/x-python",
   "name": "python",
   "nbconvert_exporter": "python",
   "pygments_lexer": "ipython3",
   "version": "3.7.10"
  }
 },
 "nbformat": 4,
 "nbformat_minor": 5
}