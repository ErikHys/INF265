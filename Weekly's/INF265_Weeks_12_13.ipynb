{
 "cells": [
  {
   "cell_type": "markdown",
   "id": "second-garbage",
   "metadata": {},
   "source": [
    "# Weeks 12-13: Object localization\n",
    "\n",
    "## General instructions\n",
    "\n",
    "Every two weeks you will be given an assignment related to the associated module. You have roughly two weeks to complete and submit each of them. There are three weekly group sessions available to help you complete the assignments. Attendance is not mandatory but recommended. However, all assignments are graded and not submitting them or submitting them after the deadline will give you no points.\n",
    "\n",
    "**FORMAT**: Jupyter notebook **(single file, not in a zip please!)**\n",
    "\n",
    "**DEADLINE**: Sunday 11th April, 23:59\n",
    "\n",
    "## Introduction\n",
    "\n",
    "The objective of this assignment is to get a basic understanding of the core concepts in object detection using convolutional neural networks. More specifically, this work focuses on the simpler problem of object localization, where each image contains a single object that should be spatially localized and classified. While object localization is simpler than object detection in the sense that object detection is more general as it allows for multiple objects per scene, object localization remains a rather avanced method, perfectly suited for our current level. This exercise consists of two parts:\n",
    "- To begin with, we will get familiar with the sliding window algorithm, and notice that applying a convolutional neural network sequentially to a specific set of windows within an image is in fact mathematically equivalent to passing the whole image as input for the convolutional neural network. We will in particular try to understand what parameters determine which set of windows will be processed by the convolutional sliding window algorithm and we will run a performance comparison between the sequential and convolutional implementations.\n",
    "- In a second part, we will implement in pytorch our own take on the object localization algorithm. For that purpose, the knowledge acquired in the first part of this assignment will be helpful, as we will try to implement object localization using a convolutional sliding window approach. In order for us to be able to train and test our network even on modest hardware, this exercise will have you work on a custom dataset: you will use the MNIST dataset as a backbone to generate new images with digits randomly placed and transformed, and each image will contain a single digit. While solving object localization on this custom dataset will be much easier than traditional object detection on large datasets such as COCO, it will still require clever vectorized coding if you hope to train your network in a reasonable amount of time !\n",
    "\n",
    "## Andrew's Videos related to this week's assignment\n",
    "\n",
    "- [C4W3L01 Object Localization](https://www.youtube.com/watch?v=GSwYGkTfOKk&list=PL_IHmaMAvkVxdDOBRg2CbcJBq9SY7ZUvs)\n",
    "- [C4W3L03 Object Detection](https://www.youtube.com/watch?v=5e5pjeojznk&list=PL_IHmaMAvkVxdDOBRg2CbcJBq9SY7ZUvs&index=3)\n",
    "- [C4W3L04 Convolutional Implementation Sliding Window](https://www.youtube.com/watch?v=XdsmlBGOK-k&list=PL_IHmaMAvkVxdDOBRg2CbcJBq9SY7ZUvs&index=4)"
   ]
  },
  {
   "cell_type": "markdown",
   "id": "leading-request",
   "metadata": {},
   "source": [
    "# Setup"
   ]
  },
  {
   "cell_type": "code",
   "execution_count": 1,
   "id": "upper-luxury",
   "metadata": {},
   "outputs": [],
   "source": [
    "import torch\n",
    "import torch.nn as nn\n",
    "import torch.optim as optim\n",
    "import numpy as np\n",
    "import torchvision\n",
    "from torchvision import datasets, transforms\n",
    "from torchsummary import summary\n",
    "import matplotlib.pyplot as plt\n",
    "import time\n",
    "import os\n",
    "from tqdm import tqdm\n",
    "\n",
    "torch.backends.cudnn.benchmark = True"
   ]
  },
  {
   "cell_type": "markdown",
   "id": "threatened-shooting",
   "metadata": {},
   "source": [
    "# Convolutional sliding window\n",
    "\n",
    "The sliding window algorithm refers to any procedure that applies a certain function (\"map\") to sliding windows within an image. In its typical forumaltion, this seems to be an inherently sequential algorithm: process the first window, then the second etc$\\dots$ assuming the function to apply on every window is a convolutional neural network, an interesting fact arises: the sequential implemention of sliding window for this convolutional neural network map becomes exactly equivalent to passing the whole image as input to the convolutional neural network. We will investigate this fact further in this section. Answer the following questions:\n",
    "\n",
    "1) Watch Andrew's video about convolutional sliding window implementation.\n",
    "\n",
    "2) What slight modification is needed on the convolutional neural network such that sequential and convolutional sliding window procedures for this convolutional neural network map become equivalent ?\n",
    "    - the 16 to 400 , with 5x5 filter conv layer needs to work like flatten()\n",
    "3) Reproduce the convolutional neural network from Andrew's video (1:20), and verify that for an input tensor with spatial dimension $16\\times 16$, convolutional sliding window for that convolutional neural network map is the same as a sequential sliding window with stride $2$ along both spatial dimension. You can for instance compute the norm of the difference between the output tensors from convolutional and sequential implementations and check that this norm is indeed $0.0$."
   ]
  },
  {
   "cell_type": "code",
   "execution_count": 2,
   "outputs": [],
   "source": [
    "class SeqSliding(nn.Module):\n",
    "\n",
    "    def __init__(self):\n",
    "        super().__init__()\n",
    "        self.stride = 2\n",
    "        self.layers = []\n",
    "        self.layers.append(nn.Conv2d(3, 16, (5, 5)))\n",
    "        self.layers.append(nn.MaxPool2d((2,2), stride=2))\n",
    "        self.layers.append(nn.Flatten())\n",
    "        self.layers.append(nn.Linear(400, 400))\n",
    "        self.layers.append(nn.Linear(400, 4))\n",
    "        # self.layers.append(nn.Softmax(dim=1))\n",
    "\n",
    "    def add_layer(self, layer, idx):\n",
    "        self.layers.insert(idx, layer)\n",
    "\n",
    "    def bad_weight_init(self):\n",
    "        nn.init.constant_(self.layers[0].weight.data, 0.2)\n",
    "        nn.init.constant_(self.layers[3].weight.data, 0.2)\n",
    "        nn.init.constant_(self.layers[4].weight.data, 0.2)\n",
    "\n",
    "\n",
    "\n",
    "    def forward(self, x):\n",
    "        a = x\n",
    "        for layer in self.layers:\n",
    "            a = layer(a)\n",
    "        a = torch.reshape(a, (x.shape[0], a.shape[0]//x.shape[0], a.shape[1]))\n",
    "        return a\n",
    "\n",
    "\n",
    "\n",
    "class ConvSliding(nn.Module):\n",
    "\n",
    "    def __init__(self):\n",
    "        super().__init__()\n",
    "        self.layers = []\n",
    "        self.layers.append(nn.Conv2d(3, 16, (5, 5)))\n",
    "        self.layers.append(nn.MaxPool2d((2,2), stride=2))\n",
    "        self.layers.append(nn.Conv2d(16, 400, (5, 5)))\n",
    "        self.layers.append(nn.Conv2d(400, 400, (1, 1)))\n",
    "        self.layers.append(nn.Conv2d(400, 4, (1, 1)))\n",
    "\n",
    "\n",
    "    def bad_weight_init(self):\n",
    "        nn.init.constant_(self.layers[0].weight.data, 0.002)\n",
    "        nn.init.constant_(self.layers[2].weight.data, 0.04)\n",
    "        nn.init.constant_(self.layers[3].weight.data, 0.002)\n",
    "        nn.init.constant_(self.layers[4].weight.data, 0.002)\n",
    "\n",
    "    def add_layer(self, layer, idx):\n",
    "        self.layers.insert(idx, layer)\n",
    "\n",
    "    def forward(self, x):\n",
    "        a = x\n",
    "        for layer in self.layers:\n",
    "            a = layer(a)\n",
    "        return a"
   ],
   "metadata": {
    "collapsed": false,
    "pycharm": {
     "name": "#%%\n"
    }
   }
  },
  {
   "cell_type": "code",
   "execution_count": 3,
   "outputs": [],
   "source": [
    "def split_to_windows(stride, a, window_size=14):\n",
    "    dims = ((a.shape[2] - window_size)// stride + 1) * ((a.shape[3] - window_size)// stride + 1) * a.shape[0]\n",
    "    new_a = torch.empty((dims, 3, window_size, window_size))\n",
    "    idx = 0\n",
    "    for i in range(a.shape[0]):\n",
    "        for x in range(((a.shape[2] - window_size)// stride + 1)):\n",
    "            for y in range(((a.shape[3] - window_size)// stride + 1)):\n",
    "                new_a[idx] = torch.narrow(torch.narrow(a[i], -2, y*stride, window_size), -1, x*stride, window_size)\n",
    "                idx += 1\n",
    "    return new_a"
   ],
   "metadata": {
    "collapsed": false,
    "pycharm": {
     "name": "#%%\n"
    }
   }
  },
  {
   "cell_type": "code",
   "execution_count": 4,
   "outputs": [],
   "source": [
    "x1 = torch.rand((1, 3, 14, 14))\n",
    "t1 = torch.rand((1, 3, 16, 16))\n",
    "t_mod = split_to_windows(2, t1)"
   ],
   "metadata": {
    "collapsed": false,
    "pycharm": {
     "name": "#%%\n"
    }
   }
  },
  {
   "cell_type": "code",
   "execution_count": 5,
   "outputs": [],
   "source": [
    "conv_sliding = ConvSliding()\n",
    "window_sliding = SeqSliding()\n",
    "# conv_sliding.bad_weight_init()\n",
    "# window_sliding.bad_weight_init()"
   ],
   "metadata": {
    "collapsed": false,
    "pycharm": {
     "name": "#%%\n"
    }
   }
  },
  {
   "cell_type": "code",
   "execution_count": 6,
   "outputs": [
    {
     "name": "stdout",
     "output_type": "stream",
     "text": [
      "torch.Size([1, 4, 2, 2])\n",
      "tensor([[[[-0.0704, -0.0744],\n",
      "          [-0.0313, -0.0736]],\n",
      "\n",
      "         [[ 0.0345,  0.0218],\n",
      "          [-0.0218,  0.0199]],\n",
      "\n",
      "         [[ 0.0422,  0.0195],\n",
      "          [ 0.0102,  0.0133]],\n",
      "\n",
      "         [[-0.0255, -0.0095],\n",
      "          [-0.0334, -0.0207]]]], grad_fn=<ThnnConv2DBackward>)\n",
      "torch.Size([4, 4, 1, 1])\n",
      "tensor([[[[-0.0704]],\n",
      "\n",
      "         [[ 0.0345]],\n",
      "\n",
      "         [[ 0.0422]],\n",
      "\n",
      "         [[-0.0255]]],\n",
      "\n",
      "\n",
      "        [[[-0.0313]],\n",
      "\n",
      "         [[-0.0218]],\n",
      "\n",
      "         [[ 0.0102]],\n",
      "\n",
      "         [[-0.0334]]],\n",
      "\n",
      "\n",
      "        [[[-0.0744]],\n",
      "\n",
      "         [[ 0.0218]],\n",
      "\n",
      "         [[ 0.0195]],\n",
      "\n",
      "         [[-0.0095]]],\n",
      "\n",
      "\n",
      "        [[[-0.0736]],\n",
      "\n",
      "         [[ 0.0199]],\n",
      "\n",
      "         [[ 0.0133]],\n",
      "\n",
      "         [[-0.0207]]]], grad_fn=<ThnnConv2DBackward>)\n",
      "tensor([[[[-0.0704,  0.0345],\n",
      "          [ 0.0422, -0.0255]],\n",
      "\n",
      "         [[-0.0313, -0.0218],\n",
      "          [ 0.0102, -0.0334]],\n",
      "\n",
      "         [[-0.0744,  0.0218],\n",
      "          [ 0.0195, -0.0095]],\n",
      "\n",
      "         [[-0.0736,  0.0199],\n",
      "          [ 0.0133, -0.0207]]]], grad_fn=<ViewBackward>)\n",
      "torch.Size([4, 1, 4])\n",
      "tensor([[[-0.1398,  0.0143,  0.0966, -0.1252]],\n",
      "\n",
      "        [[-0.1240,  0.0003, -0.0168, -0.1495]],\n",
      "\n",
      "        [[-0.1645, -0.0594,  0.0753, -0.1827]],\n",
      "\n",
      "        [[-0.1163, -0.1017,  0.0026, -0.1431]]], grad_fn=<ViewBackward>)\n"
     ]
    }
   ],
   "source": [
    "oc2 = conv_sliding(t1)\n",
    "print(oc2.shape)\n",
    "print(oc2)\n",
    "oc_mod = conv_sliding(t_mod)\n",
    "print(oc_mod.shape)\n",
    "print(oc_mod)\n",
    "print(torch.reshape(oc_mod, (1, 4, 2, 2)))\n",
    "wc_mod = window_sliding(t_mod)\n",
    "print(wc_mod.shape)\n",
    "print(wc_mod)"
   ],
   "metadata": {
    "collapsed": false,
    "pycharm": {
     "name": "#%%\n"
    }
   }
  },
  {
   "cell_type": "code",
   "execution_count": 7,
   "outputs": [
    {
     "name": "stdout",
     "output_type": "stream",
     "text": [
      "tensor(0.1554, grad_fn=<CopyBackwards>)\n",
      "tensor(0.4436, grad_fn=<CopyBackwards>)\n",
      "tensor(-0.2882, grad_fn=<SubBackward0>)\n",
      "tensor(0.3478, grad_fn=<CopyBackwards>)\n",
      "tensor([[-0.0704,  0.0345,  0.0422, -0.0255],\n",
      "        [-0.0313, -0.0218,  0.0102, -0.0334],\n",
      "        [-0.0744,  0.0218,  0.0195, -0.0095],\n",
      "        [-0.0736,  0.0199,  0.0133, -0.0207]], grad_fn=<ViewBackward>)\n",
      "tensor([[ 0.0694,  0.0202, -0.0544,  0.0998],\n",
      "        [ 0.0927, -0.0221,  0.0271,  0.1161],\n",
      "        [ 0.0901,  0.0812, -0.0559,  0.1733],\n",
      "        [ 0.0427,  0.1216,  0.0108,  0.1224]], grad_fn=<SubBackward0>)\n"
     ]
    }
   ],
   "source": [
    "n = torch.reshape(oc_mod, (4, 4))\n",
    "q = torch.reshape(wc_mod, (4, 4))\n",
    "print(torch.linalg.norm(n))\n",
    "print(torch.linalg.norm(q))\n",
    "print(torch.linalg.norm(n) - torch.linalg.norm(q))\n",
    "print(torch.linalg.norm(n-q))\n",
    "print(n)\n",
    "print(n - q)"
   ],
   "metadata": {
    "collapsed": false,
    "pycharm": {
     "name": "#%%\n"
    }
   }
  },
  {
   "cell_type": "markdown",
   "source": [
    "I can see that the math corresponds, but I don't get the answers to match completely because the indexing is different\n",
    "between my splitting and the convolutional splitting, where window sequential[0][0] = (convolutional[0][0][0][0], convolutional[0][1][0][0], convolutional[0][2][0][0], convolutional[0][3][0][0])\n",
    "Tested with some weight initialisation and got the same answers on sequential and convolutional."
   ],
   "metadata": {
    "collapsed": false,
    "pycharm": {
     "name": "#%% md\n"
    }
   }
  },
  {
   "cell_type": "markdown",
   "source": [
    "4) What happens when the input tensor now has spatial dimensions $28\\times 28$? Try a few other spatial dimensions. Can you find some such that convolutional and sequential procedures yield different outputs ?"
   ],
   "metadata": {
    "collapsed": false,
    "pycharm": {
     "name": "#%% md\n"
    }
   }
  },
  {
   "cell_type": "code",
   "execution_count": 8,
   "outputs": [
    {
     "name": "stdout",
     "output_type": "stream",
     "text": [
      "torch.Size([1, 4, 8, 8])\n",
      "tensor([[[[-5.4664e-02, -1.0166e-01, -9.4308e-02, -5.9747e-02, -9.8517e-02,\n",
      "           -7.6033e-02, -8.2664e-02, -6.7239e-02],\n",
      "          [-6.0236e-02, -1.5301e-02, -8.0507e-02, -1.2878e-01, -9.9643e-02,\n",
      "           -4.3613e-02, -5.2321e-02, -5.1287e-02],\n",
      "          [-1.9566e-02, -6.1280e-02, -5.2142e-02, -3.5538e-02, -5.0018e-02,\n",
      "           -3.0992e-02, -5.3348e-02, -7.5997e-02],\n",
      "          [-1.1658e-03, -8.5529e-02, -5.7519e-02, -6.1904e-02, -8.1314e-02,\n",
      "           -1.0649e-01, -9.1982e-02, -1.0844e-01],\n",
      "          [-3.7545e-02, -7.7859e-02, -3.6902e-02, -5.6630e-02, -1.0936e-01,\n",
      "           -6.2216e-02, -6.2014e-02, -1.5837e-02],\n",
      "          [-5.1115e-02, -8.7113e-02, -8.5264e-02, -9.1337e-02, -7.6821e-02,\n",
      "           -7.8169e-02, -5.6253e-02, -7.6857e-02],\n",
      "          [-4.5759e-02, -1.1890e-01, -5.3875e-02, -5.1339e-02, -3.4246e-02,\n",
      "           -7.4479e-02, -5.8351e-02, -3.7554e-02],\n",
      "          [-6.1214e-02, -6.9898e-02, -4.5695e-02, -1.0337e-01, -7.2451e-02,\n",
      "           -3.3028e-02, -8.5586e-02, -6.0775e-02]],\n",
      "\n",
      "         [[ 4.5022e-02,  3.7132e-02,  2.3652e-02,  1.0507e-03,  3.2550e-02,\n",
      "            3.2860e-02, -3.6048e-05,  2.2944e-02],\n",
      "          [-2.7986e-03,  5.1453e-02,  2.8248e-02, -9.4276e-04,  6.8077e-02,\n",
      "            1.1696e-02,  2.6151e-03,  2.4891e-02],\n",
      "          [ 9.8394e-03,  5.9975e-03,  2.7439e-02, -5.8940e-03, -4.0798e-03,\n",
      "            1.4934e-02,  1.8119e-02, -4.3729e-03],\n",
      "          [ 2.5242e-02,  4.5140e-02,  3.1948e-02,  9.4994e-03,  1.3346e-02,\n",
      "            2.4419e-02,  3.0228e-02,  2.0086e-02],\n",
      "          [-2.0425e-02,  8.7661e-03,  5.1648e-02, -1.4407e-02,  8.1882e-03,\n",
      "            3.0363e-03,  1.6419e-02,  2.7414e-02],\n",
      "          [ 5.4682e-02,  1.6649e-02,  6.8911e-02,  4.6503e-03,  3.0201e-02,\n",
      "            2.2452e-03,  3.3299e-02,  1.0258e-02],\n",
      "          [ 2.7949e-02,  1.5802e-02,  2.9006e-02,  1.2152e-03,  2.1865e-02,\n",
      "            6.6322e-03,  1.6858e-02,  2.4075e-02],\n",
      "          [ 5.1096e-02,  1.1624e-02,  2.5157e-02,  1.4485e-02,  2.0007e-02,\n",
      "            2.6418e-02, -1.4206e-02,  2.2937e-02]],\n",
      "\n",
      "         [[ 5.5913e-02,  1.4726e-02,  8.9344e-03,  5.7631e-03, -4.0916e-03,\n",
      "            1.5112e-02,  2.5081e-02,  4.8308e-02],\n",
      "          [ 4.6321e-02,  2.8739e-02,  5.7137e-02,  1.9098e-02,  1.0261e-02,\n",
      "            5.6353e-04,  3.1912e-02,  1.4463e-02],\n",
      "          [ 5.4977e-03,  3.6250e-02,  2.7766e-02,  1.7504e-02, -1.6848e-02,\n",
      "            4.3240e-02,  4.7937e-02,  3.7790e-02],\n",
      "          [-3.7279e-03, -4.0196e-03,  2.4430e-03,  1.6060e-03,  2.6717e-03,\n",
      "           -9.0393e-03, -5.4125e-03, -2.3003e-02],\n",
      "          [ 3.0076e-02,  8.9222e-03,  1.3091e-04,  1.1454e-02,  4.1384e-02,\n",
      "            2.7930e-02,  3.7381e-02,  3.9750e-02],\n",
      "          [ 2.5290e-02, -2.6123e-03,  2.2373e-02,  5.3988e-03, -6.9507e-03,\n",
      "            7.0498e-02,  3.9224e-02,  2.2352e-02],\n",
      "          [ 9.0022e-03,  3.9410e-02,  2.0512e-02,  3.9944e-02, -8.7545e-03,\n",
      "            2.7356e-02,  1.7851e-02, -9.9236e-03],\n",
      "          [ 2.7784e-02,  3.9941e-03, -2.4656e-03, -1.6565e-02,  2.4374e-02,\n",
      "            1.0208e-02,  2.6134e-02,  2.0171e-02]],\n",
      "\n",
      "         [[-6.8310e-03, -7.5802e-02, -4.4103e-02,  2.2536e-02, -3.4225e-02,\n",
      "           -3.8751e-02, -3.1340e-02, -2.2906e-02],\n",
      "          [-1.9483e-02, -3.4453e-03, -2.6978e-02, -3.9874e-02, -4.3495e-02,\n",
      "            4.1765e-03, -1.7478e-02, -8.2108e-03],\n",
      "          [-1.3352e-02, -3.5720e-02, -2.6437e-02, -4.6517e-03, -3.1750e-02,\n",
      "           -2.3822e-02, -4.5836e-03, -4.3429e-02],\n",
      "          [-6.2021e-03, -9.3780e-03, -5.8622e-03, -2.7718e-02, -7.4217e-02,\n",
      "           -1.2530e-02, -1.3016e-02, -3.5400e-02],\n",
      "          [-2.1659e-02, -2.9585e-02, -4.6990e-02, -6.0037e-02, -1.7725e-02,\n",
      "           -1.8327e-02, -7.8165e-02, -7.3972e-02],\n",
      "          [-5.9208e-02, -4.3667e-02, -6.2630e-02, -1.5315e-02, -2.5269e-02,\n",
      "            9.2612e-03, -4.2325e-02,  3.7647e-03],\n",
      "          [ 1.2804e-03,  9.4044e-03, -5.3073e-02, -4.3838e-02, -1.1046e-02,\n",
      "           -3.6143e-02, -1.9212e-02, -2.0464e-02],\n",
      "          [ 2.7403e-02, -1.5513e-02, -8.3117e-03, -3.2838e-02, -8.9136e-03,\n",
      "           -5.3570e-02, -6.6531e-02, -2.3810e-02]]]],\n",
      "       grad_fn=<ThnnConv2DBackward>)\n",
      "torch.Size([64, 1, 4])\n",
      "tensor([[[-0.1526,  0.0289,  0.0707, -0.0900]],\n",
      "\n",
      "        [[-0.1578, -0.0486,  0.0653, -0.1388]],\n",
      "\n",
      "        [[-0.1836, -0.0119,  0.0852, -0.1352]],\n",
      "\n",
      "        [[-0.1262, -0.0425,  0.0100, -0.2011]],\n",
      "\n",
      "        [[-0.1198,  0.0108,  0.0547, -0.2016]],\n",
      "\n",
      "        [[-0.1150, -0.0420,  0.0184, -0.1422]],\n",
      "\n",
      "        [[-0.1117,  0.0406,  0.0559, -0.2018]],\n",
      "\n",
      "        [[-0.1856,  0.0427,  0.0412, -0.1798]],\n",
      "\n",
      "        [[-0.0947, -0.0814,  0.0195, -0.1484]],\n",
      "\n",
      "        [[-0.1004, -0.0919,  0.0072, -0.2267]],\n",
      "\n",
      "        [[-0.0688,  0.0135,  0.0088, -0.1912]],\n",
      "\n",
      "        [[-0.1570, -0.0973,  0.0713, -0.1674]],\n",
      "\n",
      "        [[-0.1781, -0.0467,  0.0132, -0.1448]],\n",
      "\n",
      "        [[-0.2100, -0.0728,  0.1163, -0.1453]],\n",
      "\n",
      "        [[-0.1499, -0.0294,  0.1371, -0.1373]],\n",
      "\n",
      "        [[-0.1156, -0.0222,  0.0517, -0.0782]],\n",
      "\n",
      "        [[-0.1538,  0.0025,  0.0223, -0.1377]],\n",
      "\n",
      "        [[-0.1031, -0.0247,  0.0462, -0.1415]],\n",
      "\n",
      "        [[-0.1252, -0.0453,  0.0870, -0.2265]],\n",
      "\n",
      "        [[-0.0934, -0.0665,  0.0814, -0.1541]],\n",
      "\n",
      "        [[-0.0650,  0.0269,  0.0897, -0.1461]],\n",
      "\n",
      "        [[-0.1245, -0.0394,  0.0414, -0.1351]],\n",
      "\n",
      "        [[-0.1745, -0.0518,  0.0935, -0.1777]],\n",
      "\n",
      "        [[-0.1288,  0.0542,  0.0289, -0.1518]],\n",
      "\n",
      "        [[-0.1290, -0.0199,  0.0855, -0.1866]],\n",
      "\n",
      "        [[-0.1333,  0.0097,  0.1318, -0.1730]],\n",
      "\n",
      "        [[-0.1192, -0.0185,  0.0757, -0.1089]],\n",
      "\n",
      "        [[-0.0873,  0.0073,  0.0067, -0.2046]],\n",
      "\n",
      "        [[-0.2287,  0.0369,  0.0343, -0.1688]],\n",
      "\n",
      "        [[-0.0569, -0.0485,  0.0772, -0.0924]],\n",
      "\n",
      "        [[-0.0502, -0.0211, -0.0034, -0.1891]],\n",
      "\n",
      "        [[-0.1004, -0.0359,  0.0530, -0.2210]],\n",
      "\n",
      "        [[-0.2179, -0.0527,  0.0361, -0.1176]],\n",
      "\n",
      "        [[-0.1486, -0.0405, -0.0011, -0.1653]],\n",
      "\n",
      "        [[-0.1486, -0.0609,  0.0720, -0.1605]],\n",
      "\n",
      "        [[-0.1582, -0.0598,  0.0802, -0.0953]],\n",
      "\n",
      "        [[-0.1026, -0.0162,  0.0575, -0.0894]],\n",
      "\n",
      "        [[-0.1292, -0.1028,  0.0283, -0.1147]],\n",
      "\n",
      "        [[-0.1428,  0.0046,  0.0967, -0.1626]],\n",
      "\n",
      "        [[-0.1955, -0.0348,  0.0175, -0.1799]],\n",
      "\n",
      "        [[-0.1497, -0.0392,  0.1122, -0.1830]],\n",
      "\n",
      "        [[-0.0865, -0.0333,  0.0251, -0.1501]],\n",
      "\n",
      "        [[-0.1869, -0.0242,  0.1189, -0.2631]],\n",
      "\n",
      "        [[-0.1327, -0.0036,  0.0010, -0.1861]],\n",
      "\n",
      "        [[-0.1906, -0.0228,  0.0740, -0.2079]],\n",
      "\n",
      "        [[-0.1181, -0.0417, -0.0227, -0.1437]],\n",
      "\n",
      "        [[-0.1502, -0.0193,  0.0802, -0.1861]],\n",
      "\n",
      "        [[-0.0999, -0.0501,  0.0337, -0.1654]],\n",
      "\n",
      "        [[-0.1587, -0.0429,  0.0268, -0.1275]],\n",
      "\n",
      "        [[-0.1657,  0.0444,  0.0569, -0.2297]],\n",
      "\n",
      "        [[-0.1563, -0.0291,  0.0186, -0.2028]],\n",
      "\n",
      "        [[-0.1539,  0.0165,  0.0715, -0.1490]],\n",
      "\n",
      "        [[-0.1199, -0.0322,  0.0296, -0.1156]],\n",
      "\n",
      "        [[-0.1366, -0.0235,  0.0464, -0.1779]],\n",
      "\n",
      "        [[-0.1191, -0.0174,  0.0583, -0.1844]],\n",
      "\n",
      "        [[-0.0975, -0.0463,  0.0888, -0.1835]],\n",
      "\n",
      "        [[-0.1216, -0.1111,  0.0420, -0.1143]],\n",
      "\n",
      "        [[-0.0719, -0.0141, -0.0084, -0.2516]],\n",
      "\n",
      "        [[-0.1063, -0.0382,  0.1221, -0.1542]],\n",
      "\n",
      "        [[-0.1321, -0.0359,  0.0330, -0.1452]],\n",
      "\n",
      "        [[-0.1509, -0.0214,  0.0244, -0.1453]],\n",
      "\n",
      "        [[-0.1533, -0.0027,  0.0399, -0.1532]],\n",
      "\n",
      "        [[-0.1107, -0.0650,  0.0527, -0.2015]],\n",
      "\n",
      "        [[-0.1819, -0.0474,  0.0976, -0.1862]]], grad_fn=<ViewBackward>)\n"
     ]
    }
   ],
   "source": [
    "t1 = torch.rand((1, 3, 28, 28))\n",
    "t_mod = split_to_windows(2, t1)\n",
    "oc2 = conv_sliding(t1)\n",
    "print(oc2.shape)\n",
    "print(oc2)\n",
    "wc_mod = window_sliding(t_mod)\n",
    "print(wc_mod.shape)\n",
    "print(wc_mod)"
   ],
   "metadata": {
    "collapsed": false,
    "pycharm": {
     "name": "#%%\n"
    }
   }
  },
  {
   "cell_type": "markdown",
   "source": [
    "5) Do a time comparison for various input spatial dimensions between convolutional and sequential sliding window procedures for Andrew's convolutional network map. Which is the most efficient ? Can you explain why ?"
   ],
   "metadata": {
    "collapsed": false,
    "pycharm": {
     "name": "#%% md\n"
    }
   }
  },
  {
   "cell_type": "code",
   "execution_count": 9,
   "outputs": [],
   "source": [
    "import  time\n",
    "\n",
    "def time_model():\n",
    "    resolutions = [16, 28, 720, 1080]\n",
    "    for res in resolutions:\n",
    "        data = torch.rand((5, 3, res, res))\n",
    "        data_mod = split_to_windows(2, data)\n",
    "        start = time.time()\n",
    "        test_seq = window_sliding(data_mod)\n",
    "        stop = time.time()\n",
    "        print(\"Sequential time: \", stop-start, \" input dims: \", res, \" output dims: \" ,test_seq.shape)\n",
    "        start = time.time()\n",
    "        test_seq = conv_sliding(data)\n",
    "        stop = time.time()\n",
    "        print(\"Conv time: \", stop-start, \" input dims: \", res, \" output dims: \" ,test_seq.shape)\n",
    "\n",
    "# time_model()"
   ],
   "metadata": {
    "collapsed": false,
    "pycharm": {
     "name": "#%%\n"
    }
   }
  },
  {
   "cell_type": "markdown",
   "source": [
    "6) Modify slightly Andrew's convolutional neural network such that there is now an additional convolutional layer. Do convolutional and sequential sliding window with stride $2$ procedures still coincide ? If not, what should be the stride for them to coincide again ?"
   ],
   "metadata": {
    "collapsed": false,
    "pycharm": {
     "name": "#%% md\n"
    }
   }
  },
  {
   "cell_type": "code",
   "execution_count": 38,
   "outputs": [],
   "source": [
    "added_conv_conv_sliding = ConvSliding()\n",
    "added_conv_seq_sliding = SeqSliding()\n",
    "added_conv_conv_sliding.add_layer(nn.Conv2d(16, 16, (5, 5)), 2)\n",
    "added_conv_seq_sliding.add_layer(nn.Conv2d(16, 16, (5, 5)), 2)\n",
    "\n",
    "acx1 = torch.rand((1, 3, 22, 22))"
   ],
   "metadata": {
    "collapsed": false,
    "pycharm": {
     "name": "#%%\n"
    }
   }
  },
  {
   "cell_type": "code",
   "execution_count": 39,
   "outputs": [
    {
     "name": "stdout",
     "output_type": "stream",
     "text": [
      "torch.Size([1, 4, 1, 1])\n",
      "torch.Size([1, 1, 4])\n"
     ]
    }
   ],
   "source": [
    "out = added_conv_conv_sliding(acx1)\n",
    "print(out.shape)\n",
    "out = added_conv_seq_sliding(split_to_windows(2, acx1, window_size=22))\n",
    "print(out.shape)"
   ],
   "metadata": {
    "collapsed": false,
    "pycharm": {
     "name": "#%%\n"
    }
   }
  },
  {
   "cell_type": "markdown",
   "source": [
    "Adding Conv layers changes the size of the window. I'm guessing depending on filter size and channel out you can customize\n",
    "that to what you want. I added another 5x5 filter with out 16 channels and it increased the window frow 14 to 22"
   ],
   "metadata": {
    "collapsed": false,
    "pycharm": {
     "name": "#%% md\n"
    }
   }
  },
  {
   "cell_type": "markdown",
   "source": [
    "7) Same question but now add an additional max pooling layer (with kernel size $2$) instead."
   ],
   "metadata": {
    "collapsed": false,
    "pycharm": {
     "name": "#%% md\n"
    }
   }
  },
  {
   "cell_type": "code",
   "execution_count": 25,
   "outputs": [],
   "source": [
    "added_conv_conv_sliding = ConvSliding()\n",
    "added_conv_seq_sliding = SeqSliding()\n",
    "added_conv_conv_sliding.add_layer(nn.MaxPool2d((2,2), stride=2), 2)\n",
    "added_conv_seq_sliding.add_layer(nn.MaxPool2d((2,2), stride=2), 2)\n",
    "\n",
    "acx1 = torch.rand((1, 3, 28, 28))"
   ],
   "metadata": {
    "collapsed": false,
    "pycharm": {
     "name": "#%%\n"
    }
   }
  },
  {
   "cell_type": "code",
   "execution_count": 26,
   "outputs": [
    {
     "name": "stdout",
     "output_type": "stream",
     "text": [
      "torch.Size([1, 4, 8, 8])\n",
      "torch.Size([1, 4, 2, 2])\n",
      "torch.Size([4, 1, 4])\n"
     ]
    }
   ],
   "source": [
    "out = added_conv_conv_sliding(acx1)\n",
    "print(out.shape)\n",
    "out = added_conv_seq_sliding(split_to_windows(4, acx1, window_size=24))\n",
    "print(out.shape)"
   ],
   "metadata": {
    "collapsed": false,
    "pycharm": {
     "name": "#%%\n"
    }
   }
  },
  {
   "cell_type": "markdown",
   "source": [
    "It increases the stride by 2."
   ],
   "metadata": {
    "collapsed": false,
    "pycharm": {
     "name": "#%% md\n"
    }
   }
  },
  {
   "cell_type": "markdown",
   "source": [
    "8) It turns out that the architecture of the convolutional neural network map itself will determine what is the set of windows for which convolutional and sequential sliding window procedures coincide for that convolutional neural network map. In the following, let us assume that all convolutional layers have padding $0$ and all max pooling layers have kernel size $2$. Can you guess the formulas that give the number of windows and their indices ? $\\textbf{Hint}$: Remember your implementation of the Conv2d layer. $\\textbf{If you can't find this, CONTACT US!}$ It will be important in the second section.\n",
    "\n",
    "window_reduction_per_conv_layer = (- kernel size + 1) * (number of maxpooling layers before this point + 1)\n",
    "\n",
    "window_reduction_per_pooling_layer = in/2\n",
    "\n",
    "calculate windows for task 6:\n",
    "\n",
    "architecture:\n",
    "\n",
    "- conv(5,5) + 4\n",
    "- max() *2\n",
    "- conv(5,5) + 4\n",
    "- conv(last 5,5)+4\n",
    "- conv(1,1) 1\n",
    "\n",
    "go bottom up:\n",
    "\n",
    "(1 +4 + 4 )* 2 + 4 = 9*2+4=22 Correct :)\n",
    "test with task 1 and 7\n",
    "(1 + 4) * 2 + 4 = 14\n",
    "(1+4) * 2 * 2 + 4 = 24\n",
    "\n",
    "Indecies:\n",
    "First image, first window = [0][0..len(classes)][0][0]\n",
    "Second image, second window = [1][0..len(classes)][1][0]\n",
    "Fourth image, fourth window = [3][0..len(classes)][1][1]"
   ],
   "metadata": {
    "collapsed": false,
    "pycharm": {
     "name": "#%% md\n"
    }
   }
  },
  {
   "cell_type": "markdown",
   "id": "eight-springer",
   "metadata": {},
   "source": [
    "# MNIST localization in Pytorch\n",
    "\n",
    "## 1 Data generation\n",
    "\n",
    "In this second section we aim to implement from scratch our custom digit localization algorithm. We will use the MNIST dataset as a backbone:"
   ]
  },
  {
   "cell_type": "code",
   "execution_count": null,
   "id": "automatic-submission",
   "metadata": {},
   "outputs": [],
   "source": [
    "def load_MNIST(MNIST_path, preprocessor, num_workers):\n",
    "    train_dataset = datasets.MNIST(MNIST_path, train=True, transform=preprocessor)\n",
    "    val_test_dataset = datasets.MNIST(MNIST_path, train=False, transform=preprocessor)\n",
    "    n_val_test = len(val_test_dataset.targets)\n",
    "    # The test set will only contain 30 images, perfect for visualization purpose:\n",
    "    val_dataset, test_dataset = torch.utils.data.random_split(val_test_dataset, [n_val_test-30, 30])\n",
    "    MNIST_datasets = {\"train\": train_dataset, \n",
    "                      \"val\": val_dataset,\n",
    "                      \"test\": test_dataset}\n",
    "    MNIST_generators = {\"train\": torch.utils.data.DataLoader(MNIST_datasets[\"train\"], \n",
    "                                                             batch_size=4, \n",
    "                                                             shuffle=True, \n",
    "                                                             num_workers=num_workers),\n",
    "                        \"val\": torch.utils.data.DataLoader(MNIST_datasets[\"val\"], \n",
    "                                                           batch_size=256, \n",
    "                                                           shuffle=False, \n",
    "                                                           num_workers=num_workers),\n",
    "                        \"test\": torch.utils.data.DataLoader(MNIST_datasets[\"test\"], \n",
    "                                                            batch_size=30, \n",
    "                                                            shuffle=False, \n",
    "                                                            num_workers=num_workers)}\n",
    "    return MNIST_datasets, MNIST_generators"
   ]
  },
  {
   "cell_type": "markdown",
   "id": "deluxe-garage",
   "metadata": {},
   "source": [
    "We now want to have a digit generator in pytorch that would produce samples \"on the fly\" for the digit localization task. The problem we have is that all MNIST digits are centered, have the same orientation and roughly the same size which makes the localization task pretty dull. \n",
    "\n",
    "**1) Write a data preprocessor that would do the following:**\n",
    "\n",
    "**a) Randomly rotates digits.**\n",
    "\n",
    "**b) Randomly rescales digits with a scale factor randomly sampled in the range [0.75,1.25].**\n",
    "\n",
    "**c) Randomly places digits within a zeros tensor having spatial dimensions $64\\times 64$.**\n",
    "\n",
    "**You can make sure your data generator works as intended by visualizing the test set generated by MNIST_generators[\"test\"]. Each image generated this way should contain one and exactly one digit!**"
   ]
  },
  {
   "cell_type": "code",
   "execution_count": null,
   "id": "intensive-turtle",
   "metadata": {},
   "outputs": [],
   "source": [
    "MNIST_path = '../Data/MNIST'\n",
    "preprocessor = []\n",
    "num_workers = 2\n",
    "MNIST_datasets, MNIST_generators = load_MNIST(MNIST_path, preprocessor, num_workers)"
   ]
  },
  {
   "cell_type": "markdown",
   "id": "afraid-killing",
   "metadata": {},
   "source": [
    "## 2 Convolutional sliding window\n",
    "\n",
    "We then need to implement the convolutional neural network that will do the heavy work. In a nutshell, we want to have a CNN that is able to locate and classify digits within input images with base dimensions $(h\\_in, w\\_in)$. Then, we use this CNN as the backbone mapping in a sliding window procedure, in order to be able to locate and classify digits within larger images with dimensions $(H\\_in, W\\_in)$ such that $H\\_in > h\\_in$ and $W\\_in > w\\_in$. In the first section, you learned how to perform this efficiently by converting the sequential sliding window procedure into a convolutional one. More specifically, you learned that passing directly the whole large image to the CNN mapping gives an output tensor whose spatial dimensions $(H\\_out, W\\_out)$ correspond to the number of sliding windows in the sequential procedure such that each cell is exactly the output of the CNN applied to the corresponding window. Moreover, you also are able to find the indices of these windows. \n",
    "\n",
    "**2) Use this knowledge in order to implement the CNN you'll be using for the digit localization task. Remember that the window size $(h\\_in, w\\_in)$ should be large enough to contain digits entirely and the input size $(H\\_in, W\\_in)$ should match the dimensions of the tensors produced by you generator, namely $64\\times 64$.**\n",
    "\n",
    "## 3 Bounding box extraction, encoding\n",
    "\n",
    "At the moment, we only have access to the digit labels. This is not sufficient for the task of digit localization: we need those bounding boxes, so we will produce them ourselves ! \n",
    "\n",
    "**3-1) Implement a code that will produce sharp bounding boxes around a digit. You can for instance use torch.where(... > 0.0) to find the limits of the digit in an image.**\n",
    "\n",
    "We will encode the digit localization problem using a target vector of size $6$: $y = (y_0, y_1, y_2, y_3, y_4, y_5)$:\n",
    "- $y_0$ is binary and encodes whether or not a digit was detected.\n",
    "- $y_1$ is categorical and encodes the label of the digit (if any).\n",
    "- $y_2, y_3, y_4, y_5$ are continuous and encode the bounding box of the digit (if any).\n",
    "\n",
    "We want every window to carry information. As such, we want to produce one $y$ for every window, such that the groudtruth tensor $Y\\_true$ should have dimensions $(N,6,H\\_out,W\\_out)$. In order to do this, for each window we can check if the digit is visible in this window:\n",
    "- If that's the case, $y_0$ is $1$, $y_1$ is the label of the digit and $y_2, y_3, y_4, y_5$ are the bounding box values **converted in the referential of the window**: the top of the window $h\\_start$ is treated as $0.0$ wheras the bottom of the window $h\\_end$ is treated as $1.0$ (and similarly for the left and right of the window). \n",
    "- Otherwise, the $y$ for that window is simply a zeros vector (if that's the case, we only really care about $y_0=0$).\n",
    "\n",
    "**3-2) Implement the encoding procedure. The code may have a similar structure as in the cell below:**"
   ]
  },
  {
   "cell_type": "code",
   "execution_count": null,
   "id": "impossible-farmer",
   "metadata": {},
   "outputs": [],
   "source": [
    "H_out = [TODO]\n",
    "W_out = [TODO]\n",
    "bounding_boxes = torch.zeros(size=(N, 4))\n",
    "Y_true = torch.zeros(size=(N, 6, H_out, W_out))\n",
    "for n in range(N):\n",
    "    # Bounding box extraction:\n",
    "    bounding_boxes[n,:] = [TODO]\n",
    "    # Bounding box coordinates:\n",
    "    top = bounding_boxes[n,0]\n",
    "    bottom = bounding_boxes[n,1]\n",
    "    left = bounding_boxes[n,2]\n",
    "    right = bounding_boxes[n,3]\n",
    "    for h in range(H_out):\n",
    "        for w in range(W_out):\n",
    "            # Coordinates of the window (h,w):\n",
    "            h_start = [TODO]\n",
    "            w_start = [TODO]\n",
    "            h_end = [TODO]\n",
    "            w_end = [TODO]\n",
    "            # If a digit is visible in the window (h,w) <==>\n",
    "            # rectangles (top, bottom, left, right) and (h_start, h_end, w_start, w_end) intersect:\n",
    "            if [TODO]:              \n",
    "                Y_true[n,:,h,w] = [TODO]"
   ]
  },
  {
   "cell_type": "markdown",
   "id": "proud-china",
   "metadata": {},
   "source": [
    "## 4 Training loop\n",
    "\n",
    "We are now ready to train our model. The only remaining question is the loss. We want a loss of the form $\\sum_{n < N} \\sum_{h < H\\_out} \\sum_{w < W\\_out} L(Y\\_true[n,:,h,w], Y\\_out[n,:,h,w])$,\n",
    "where \n",
    "\n",
    "$L(Y\\_true[n,:,h,w], Y\\_out[n,:,h,w]) = L\\_detection + L\\_classification + L\\_regression$ such that\n",
    "\n",
    "- $L\\_detection = binary\\_cross\\_entropy(sigmoid(Y\\_out[n,0,h,w]), Y\\_true[n,0,h,w])$\n",
    "\n",
    "If $sigmoid(Y\\_out[n,0,h,w]) > 0.5$ and $Y\\_true[n,0,h,w] == 1$ (\"true positive detection of digit in window $(h,w)$\"):\n",
    "- $L\\_classification = negative\\_log\\_likelihood\\_loss(log\\_softmax(Y\\_out[n,1\\!:\\!11,h,w]), Y\\_true[n,1,h,w])$ \n",
    "- $L\\_regression = mse(Y\\_out[n,-4\\!:,h,w], Y\\_true[n,-4\\!:,h,w])$\n",
    "\n",
    "Else:\n",
    "- $L\\_classification=0.0$\n",
    "- $L\\_regression=0.0$\n",
    "\n",
    "Essentially, this loss indicates that we break down the whole task into three subproblems:\n",
    "\n",
    "a) Is there a digit in the current window ?\n",
    "\n",
    "If so,\n",
    "\n",
    "b) What is the digit in the window ?\n",
    "\n",
    "c) Where is the digit in the window ?\n",
    "\n",
    "The two last questions only make sense assuming the first question was positively answered, hence the use of a conditional loss. Notice also that we sum the loss not only over samples in a batch, but also over windows. Essentially, the set of windows forming the sliding window procedure can be seen itself as a minibatch of samples. \n",
    "\n",
    "**4) Implement the training loop, then train your model for a few epochs.**"
   ]
  },
  {
   "cell_type": "markdown",
   "id": "comfortable-mention",
   "metadata": {},
   "source": [
    "## 5 Prediction"
   ]
  },
  {
   "cell_type": "markdown",
   "id": "destroyed-jonathan",
   "metadata": {},
   "source": [
    "Your model should now be trained, great ! But now you may wonder: \"How do I predict ?\". And indeed it is not so obvious. In our implementation, our model should output a tensor $Y\\_out$ with dimensions $(N,15,H\\_out,W\\_out)$, that is we have one prediction vector per window in the sliding window procedure. We propose the following strategy: among all the predicted vectors, keep the one associated to the window with the highest label classification score. In other word, $\\forall n<N$:\n",
    "\n",
    "a) Compute the max classification scores: $max\\_classification\\_scores = max_{i=1:11} \\{log\\_softmax(Y\\_out[n,i,:,:])\\}$.\n",
    "\n",
    "b) Extract the indices of the best window: $h\\_best,w\\_best = argmax_{h<H\\_out,w<W\\_out} \\{max\\_classification\\_scores[h,w]\\}$.\n",
    "\n",
    "c) Save the prediction associated to the best window. **You will have to convert the predicted bounding box back to the referential of the input image.** \n",
    "\n",
    "**5) Implement the predict function.**"
   ]
  },
  {
   "cell_type": "markdown",
   "id": "architectural-support",
   "metadata": {},
   "source": [
    "## 6 Visualization\n",
    "\n",
    "Time to test your hard work by visualizing your predictions ! \n",
    "\n",
    "**6) Implement a function that will display the 30 images contained in the test set, with the true bounding boxes in green and the predicted bounding boxes in red overlayed over images. Each image will be titled with its groundtruth and predicted labels. You can use fig, axes = plt.subplots(6, 5, figsize=(20, 16)) in order to place the images conveniently.**"
   ]
  }
 ],
 "metadata": {
  "kernelspec": {
   "display_name": "Python 3",
   "language": "python",
   "name": "python3"
  },
  "language_info": {
   "codemirror_mode": {
    "name": "ipython",
    "version": 3
   },
   "file_extension": ".py",
   "mimetype": "text/x-python",
   "name": "python",
   "nbconvert_exporter": "python",
   "pygments_lexer": "ipython3",
   "version": "3.7.10"
  }
 },
 "nbformat": 4,
 "nbformat_minor": 5
}