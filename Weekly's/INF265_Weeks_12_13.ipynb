{
 "cells": [
  {
   "cell_type": "markdown",
   "id": "second-garbage",
   "metadata": {},
   "source": [
    "# Weeks 12-13: Object localization\n",
    "\n",
    "## General instructions\n",
    "\n",
    "Every two weeks you will be given an assignment related to the associated module. You have roughly two weeks to complete and submit each of them. There are three weekly group sessions available to help you complete the assignments. Attendance is not mandatory but recommended. However, all assignments are graded and not submitting them or submitting them after the deadline will give you no points.\n",
    "\n",
    "**FORMAT**: Jupyter notebook **(single file, not in a zip please!)**\n",
    "\n",
    "**DEADLINE**: Sunday 11th April, 23:59\n",
    "\n",
    "## Introduction\n",
    "\n",
    "The objective of this assignment is to get a basic understanding of the core concepts in object detection using convolutional neural networks. More specifically, this work focuses on the simpler problem of object localization, where each image contains a single object that should be spatially localized and classified. While object localization is simpler than object detection in the sense that object detection is more general as it allows for multiple objects per scene, object localization remains a rather avanced method, perfectly suited for our current level. This exercise consists of two parts:\n",
    "- To begin with, we will get familiar with the sliding window algorithm, and notice that applying a convolutional neural network sequentially to a specific set of windows within an image is in fact mathematically equivalent to passing the whole image as input for the convolutional neural network. We will in particular try to understand what parameters determine which set of windows will be processed by the convolutional sliding window algorithm and we will run a performance comparison between the sequential and convolutional implementations.\n",
    "- In a second part, we will implement in pytorch our own take on the object localization algorithm. For that purpose, the knowledge acquired in the first part of this assignment will be helpful, as we will try to implement object localization using a convolutional sliding window approach. In order for us to be able to train and test our network even on modest hardware, this exercise will have you work on a custom dataset: you will use the MNIST dataset as a backbone to generate new images with digits randomly placed and transformed, and each image will contain a single digit. While solving object localization on this custom dataset will be much easier than traditional object detection on large datasets such as COCO, it will still require clever vectorized coding if you hope to train your network in a reasonable amount of time !\n",
    "\n",
    "## Andrew's Videos related to this week's assignment\n",
    "\n",
    "- [C4W3L01 Object Localization](https://www.youtube.com/watch?v=GSwYGkTfOKk&list=PL_IHmaMAvkVxdDOBRg2CbcJBq9SY7ZUvs)\n",
    "- [C4W3L03 Object Detection](https://www.youtube.com/watch?v=5e5pjeojznk&list=PL_IHmaMAvkVxdDOBRg2CbcJBq9SY7ZUvs&index=3)\n",
    "- [C4W3L04 Convolutional Implementation Sliding Window](https://www.youtube.com/watch?v=XdsmlBGOK-k&list=PL_IHmaMAvkVxdDOBRg2CbcJBq9SY7ZUvs&index=4)"
   ]
  },
  {
   "cell_type": "markdown",
   "id": "leading-request",
   "metadata": {},
   "source": [
    "# Setup"
   ]
  },
  {
   "cell_type": "code",
   "execution_count": 38,
   "id": "upper-luxury",
   "metadata": {},
   "outputs": [],
   "source": [
    "import torch\n",
    "import torch.nn as nn\n",
    "import torch.optim as optim\n",
    "import numpy as np\n",
    "import torchvision\n",
    "from torchvision import datasets, transforms\n",
    "from torchsummary import summary\n",
    "import matplotlib.pyplot as plt\n",
    "import time\n",
    "import os\n",
    "from tqdm import tqdm\n",
    "\n",
    "torch.backends.cudnn.benchmark = True"
   ]
  },
  {
   "cell_type": "markdown",
   "id": "threatened-shooting",
   "metadata": {},
   "source": [
    "# Convolutional sliding window\n",
    "\n",
    "The sliding window algorithm refers to any procedure that applies a certain function (\"map\") to sliding windows within an image. In its typical forumaltion, this seems to be an inherently sequential algorithm: process the first window, then the second etc$\\dots$ assuming the function to apply on every window is a convolutional neural network, an interesting fact arises: the sequential implemention of sliding window for this convolutional neural network map becomes exactly equivalent to passing the whole image as input to the convolutional neural network. We will investigate this fact further in this section. Answer the following questions:\n",
    "\n",
    "1) Watch Andrew's video about convolutional sliding window implementation.\n",
    "\n",
    "2) What slight modification is needed on the convolutional neural network such that sequential and convolutional sliding window procedures for this convolutional neural network map become equivalent ?\n",
    "    - the 16 to 400 , with 5x5 filter conv layer needs to work like flatten()\n",
    "3) Reproduce the convolutional neural network from Andrew's video (1:20), and verify that for an input tensor with spatial dimension $16\\times 16$, convolutional sliding window for that convolutional neural network map is the same as a sequential sliding window with stride $2$ along both spatial dimension. You can for instance compute the norm of the difference between the output tensors from convolutional and sequential implementations and check that this norm is indeed $0.0$."
   ]
  },
  {
   "cell_type": "code",
   "execution_count": 39,
   "outputs": [],
   "source": [
    "class SeqSliding(nn.Module):\n",
    "\n",
    "    def __init__(self):\n",
    "        super().__init__()\n",
    "        self.stride = 2\n",
    "        self.layers = []\n",
    "        self.layers.append(nn.Conv2d(3, 16, (5, 5)))\n",
    "        self.layers.append(nn.MaxPool2d((2,2), stride=2))\n",
    "        self.layers.append(nn.Flatten())\n",
    "        self.layers.append(nn.Linear(400, 400))\n",
    "        self.layers.append(nn.Linear(400, 4))\n",
    "        # self.layers.append(nn.Softmax(dim=1))\n",
    "\n",
    "    def bad_weight_init(self):\n",
    "        nn.init.constant_(self.layers[0].weight.data, 0.2)\n",
    "        nn.init.constant_(self.layers[3].weight.data, 0.2)\n",
    "        nn.init.constant_(self.layers[4].weight.data, 0.2)\n",
    "\n",
    "\n",
    "\n",
    "    def forward(self, x):\n",
    "        a = x\n",
    "        for layer in self.layers:\n",
    "            a = layer(a)\n",
    "        a = torch.reshape(a, (x.shape[0], a.shape[0]//x.shape[0], a.shape[1]))\n",
    "        return a\n",
    "\n",
    "\n",
    "\n",
    "class ConvSliding(nn.Module):\n",
    "\n",
    "    def __init__(self):\n",
    "        super().__init__()\n",
    "        self.layers = []\n",
    "        self.layers.append(nn.Conv2d(3, 16, (5, 5)))\n",
    "        self.layers.append(nn.MaxPool2d((2,2), stride=2))\n",
    "        self.layers.append(nn.Conv2d(16, 400, (5, 5)))\n",
    "        self.layers.append(nn.Conv2d(400, 400, (1, 1)))\n",
    "        self.layers.append(nn.Conv2d(400, 4, (1, 1)))\n",
    "\n",
    "\n",
    "    def bad_weight_init(self):\n",
    "        nn.init.constant_(self.layers[0].weight.data, 0.002)\n",
    "        nn.init.constant_(self.layers[2].weight.data, 0.04)\n",
    "        nn.init.constant_(self.layers[3].weight.data, 0.002)\n",
    "        nn.init.constant_(self.layers[4].weight.data, 0.002)\n",
    "\n",
    "    def forward(self, x):\n",
    "        a = x\n",
    "        for layer in self.layers:\n",
    "            a = layer(a)\n",
    "        return a"
   ],
   "metadata": {
    "collapsed": false,
    "pycharm": {
     "name": "#%%\n"
    }
   }
  },
  {
   "cell_type": "code",
   "execution_count": 40,
   "outputs": [],
   "source": [
    "def split_to_windows(stride, a):\n",
    "    dims = ((a.shape[2] - 14)// stride + 1) * ((a.shape[3] - 14)// stride + 1) * a.shape[0]\n",
    "    new_a = torch.empty((dims, 3, 14, 14))\n",
    "    idx = 0\n",
    "    for i in range(a.shape[0]):\n",
    "        for x in range(((a.shape[2] - 14)// stride + 1)):\n",
    "            for y in range(((a.shape[3] - 14)// stride + 1)):\n",
    "                new_a[idx] = torch.narrow(torch.narrow(a[i], -2, y*stride, 14), -1, x*stride, 14)\n",
    "                idx += 1\n",
    "    return new_a"
   ],
   "metadata": {
    "collapsed": false,
    "pycharm": {
     "name": "#%%\n"
    }
   }
  },
  {
   "cell_type": "code",
   "execution_count": 41,
   "outputs": [],
   "source": [
    "x1 = torch.rand((1, 3, 14, 14))\n",
    "t1 = torch.rand((1, 3, 16, 16))\n",
    "t_mod = split_to_windows(2, t1)"
   ],
   "metadata": {
    "collapsed": false,
    "pycharm": {
     "name": "#%%\n"
    }
   }
  },
  {
   "cell_type": "code",
   "execution_count": 42,
   "outputs": [],
   "source": [
    "conv_sliding = ConvSliding()\n",
    "window_sliding = SeqSliding()\n",
    "# conv_sliding.bad_weight_init()\n",
    "# window_sliding.bad_weight_init()"
   ],
   "metadata": {
    "collapsed": false,
    "pycharm": {
     "name": "#%%\n"
    }
   }
  },
  {
   "cell_type": "code",
   "execution_count": 43,
   "outputs": [
    {
     "name": "stdout",
     "output_type": "stream",
     "text": [
      "torch.Size([1, 4, 2, 2])\n",
      "tensor([[[[-0.1315, -0.0607],\n",
      "          [-0.0635, -0.1429]],\n",
      "\n",
      "         [[-0.0477, -0.0236],\n",
      "          [-0.0661, -0.0298]],\n",
      "\n",
      "         [[ 0.0034,  0.0173],\n",
      "          [ 0.0221, -0.0145]],\n",
      "\n",
      "         [[-0.0864, -0.0511],\n",
      "          [-0.0230, -0.0590]]]], grad_fn=<ThnnConv2DBackward>)\n",
      "torch.Size([4, 4, 1, 1])\n",
      "tensor([[[[-0.1315]],\n",
      "\n",
      "         [[-0.0477]],\n",
      "\n",
      "         [[ 0.0034]],\n",
      "\n",
      "         [[-0.0864]]],\n",
      "\n",
      "\n",
      "        [[[-0.0635]],\n",
      "\n",
      "         [[-0.0661]],\n",
      "\n",
      "         [[ 0.0221]],\n",
      "\n",
      "         [[-0.0230]]],\n",
      "\n",
      "\n",
      "        [[[-0.0607]],\n",
      "\n",
      "         [[-0.0236]],\n",
      "\n",
      "         [[ 0.0173]],\n",
      "\n",
      "         [[-0.0511]]],\n",
      "\n",
      "\n",
      "        [[[-0.1429]],\n",
      "\n",
      "         [[-0.0298]],\n",
      "\n",
      "         [[-0.0145]],\n",
      "\n",
      "         [[-0.0590]]]], grad_fn=<ThnnConv2DBackward>)\n",
      "tensor([[[[-0.1315, -0.0477],\n",
      "          [ 0.0034, -0.0864]],\n",
      "\n",
      "         [[-0.0635, -0.0661],\n",
      "          [ 0.0221, -0.0230]],\n",
      "\n",
      "         [[-0.0607, -0.0236],\n",
      "          [ 0.0173, -0.0511]],\n",
      "\n",
      "         [[-0.1429, -0.0298],\n",
      "          [-0.0145, -0.0590]]]], grad_fn=<ViewBackward>)\n",
      "torch.Size([4, 1, 4])\n",
      "tensor([[[-0.1054, -0.0969, -0.1314, -0.0127]],\n",
      "\n",
      "        [[-0.1306, -0.0772, -0.1964, -0.0178]],\n",
      "\n",
      "        [[-0.0891, -0.0929, -0.1347, -0.0815]],\n",
      "\n",
      "        [[-0.1347, -0.0846, -0.1261, -0.0161]]], grad_fn=<ViewBackward>)\n"
     ]
    }
   ],
   "source": [
    "oc2 = conv_sliding(t1)\n",
    "print(oc2.shape)\n",
    "print(oc2)\n",
    "oc_mod = conv_sliding(t_mod)\n",
    "print(oc_mod.shape)\n",
    "print(oc_mod)\n",
    "print(torch.reshape(oc_mod, (1, 4, 2, 2)))\n",
    "wc_mod = window_sliding(t_mod)\n",
    "print(wc_mod.shape)\n",
    "print(wc_mod)"
   ],
   "metadata": {
    "collapsed": false,
    "pycharm": {
     "name": "#%%\n"
    }
   }
  },
  {
   "cell_type": "code",
   "execution_count": 47,
   "outputs": [
    {
     "name": "stdout",
     "output_type": "stream",
     "text": [
      "tensor(0.2620, grad_fn=<CopyBackwards>)\n",
      "tensor(0.4273, grad_fn=<CopyBackwards>)\n",
      "tensor(-0.1654, grad_fn=<SubBackward0>)\n",
      "tensor(0.3551, grad_fn=<CopyBackwards>)\n",
      "tensor([[-0.1315, -0.0477,  0.0034, -0.0864],\n",
      "        [-0.0635, -0.0661,  0.0221, -0.0230],\n",
      "        [-0.0607, -0.0236,  0.0173, -0.0511],\n",
      "        [-0.1429, -0.0298, -0.0145, -0.0590]], grad_fn=<ViewBackward>)\n",
      "tensor([[-0.0262,  0.0492,  0.1348, -0.0736],\n",
      "        [ 0.0671,  0.0111,  0.2184, -0.0053],\n",
      "        [ 0.0284,  0.0693,  0.1521,  0.0304],\n",
      "        [-0.0082,  0.0548,  0.1116, -0.0428]], grad_fn=<SubBackward0>)\n"
     ]
    }
   ],
   "source": [
    "n = torch.reshape(oc_mod, (4, 4))\n",
    "q = torch.reshape(wc_mod, (4, 4))\n",
    "print(torch.linalg.norm(n))\n",
    "print(torch.linalg.norm(q))\n",
    "print(torch.linalg.norm(n) - torch.linalg.norm(q))\n",
    "print(torch.linalg.norm(n-q))\n",
    "print(n)\n",
    "print(n - q)"
   ],
   "metadata": {
    "collapsed": false,
    "pycharm": {
     "name": "#%%\n"
    }
   }
  },
  {
   "cell_type": "markdown",
   "source": [
    "I can see that the math corresponds, but I don't get the answers to match completely because the indexing is different\n",
    "between my splitting and the convolutional splitting, where window sequential[0][0] = (convolutional[0][0][0][0], convolutional[0][1][0][0], convolutional[0][2][0][0], convolutional[0][3][0][0])"
   ],
   "metadata": {
    "collapsed": false,
    "pycharm": {
     "name": "#%% md\n"
    }
   }
  },
  {
   "cell_type": "markdown",
   "source": [
    "4) What happens when the input tensor now has spatial dimensions $28\\times 28$? Try a few other spatial dimensions. Can you find some such that convolutional and sequential procedures yield different outputs ?"
   ],
   "metadata": {
    "collapsed": false,
    "pycharm": {
     "name": "#%% md\n"
    }
   }
  },
  {
   "cell_type": "code",
   "execution_count": 48,
   "outputs": [
    {
     "name": "stdout",
     "output_type": "stream",
     "text": [
      "torch.Size([1, 4, 8, 8])\n",
      "tensor([[[[-0.1211, -0.0823, -0.0937, -0.0725, -0.1174, -0.1469, -0.0429,\n",
      "           -0.0533],\n",
      "          [-0.0584, -0.1123, -0.0722, -0.0981, -0.1213, -0.1005, -0.1089,\n",
      "           -0.0747],\n",
      "          [-0.0886, -0.1292, -0.1037, -0.1162, -0.1025, -0.0956, -0.1541,\n",
      "           -0.0927],\n",
      "          [-0.1270, -0.1218, -0.1140, -0.0928, -0.1286, -0.1016, -0.1005,\n",
      "           -0.1078],\n",
      "          [-0.0742, -0.0960, -0.1079, -0.1051, -0.0942, -0.0781, -0.1197,\n",
      "           -0.1139],\n",
      "          [-0.0987, -0.1464, -0.1015, -0.1010, -0.1278, -0.0895, -0.1130,\n",
      "           -0.0937],\n",
      "          [-0.1081, -0.1146, -0.0974, -0.0905, -0.0793, -0.1026, -0.1249,\n",
      "           -0.0959],\n",
      "          [-0.1192, -0.1257, -0.1255, -0.0793, -0.0895, -0.0732, -0.1353,\n",
      "           -0.1175]],\n",
      "\n",
      "         [[-0.0144, -0.0476, -0.0295, -0.0693, -0.0324, -0.0114,  0.0057,\n",
      "           -0.0122],\n",
      "          [-0.0412, -0.0191, -0.0309, -0.0319, -0.0661, -0.0107, -0.0133,\n",
      "           -0.0665],\n",
      "          [-0.0739, -0.0309, -0.0517, -0.0002, -0.0088, -0.0261, -0.0378,\n",
      "           -0.0300],\n",
      "          [-0.0495, -0.0525, -0.0686, -0.0081, -0.0292, -0.0136, -0.0395,\n",
      "           -0.0394],\n",
      "          [-0.0679, -0.0503, -0.0562, -0.0247, -0.0253, -0.0367, -0.0340,\n",
      "           -0.0357],\n",
      "          [-0.0382, -0.0191, -0.0367, -0.0310, -0.0480, -0.0577, -0.0407,\n",
      "           -0.0633],\n",
      "          [-0.0334, -0.0624, -0.0203, -0.0409, -0.0576, -0.0349, -0.0027,\n",
      "           -0.0414],\n",
      "          [-0.0351, -0.0440, -0.0371, -0.0636, -0.0596, -0.0181, -0.0392,\n",
      "           -0.0643]],\n",
      "\n",
      "         [[-0.0217, -0.0044,  0.0021,  0.0100,  0.0190, -0.0114, -0.0182,\n",
      "            0.0544],\n",
      "          [ 0.0032, -0.0202, -0.0213,  0.0019,  0.0115, -0.0281, -0.0112,\n",
      "           -0.0188],\n",
      "          [ 0.0145, -0.0115, -0.0190,  0.0043,  0.0186, -0.0070, -0.0202,\n",
      "           -0.0190],\n",
      "          [-0.0122, -0.0009, -0.0074,  0.0270, -0.0040,  0.0038,  0.0359,\n",
      "           -0.0075],\n",
      "          [-0.0370,  0.0093, -0.0261, -0.0076,  0.0169,  0.0282, -0.0053,\n",
      "            0.0191],\n",
      "          [ 0.0003,  0.0171,  0.0166,  0.0009,  0.0008,  0.0345,  0.0256,\n",
      "           -0.0190],\n",
      "          [ 0.0234, -0.0091,  0.0341,  0.0094,  0.0096,  0.0272,  0.0084,\n",
      "            0.0044],\n",
      "          [ 0.0231, -0.0031, -0.0043,  0.0425, -0.0018,  0.0288,  0.0472,\n",
      "           -0.0389]],\n",
      "\n",
      "         [[-0.0506, -0.0647, -0.0221, -0.0715, -0.0508, -0.0631, -0.0738,\n",
      "           -0.0724],\n",
      "          [-0.0581, -0.0727, -0.0465, -0.0386, -0.0308, -0.0801, -0.0491,\n",
      "           -0.0290],\n",
      "          [-0.0482, -0.0494, -0.0365, -0.0445, -0.0474, -0.0562, -0.0918,\n",
      "           -0.0311],\n",
      "          [-0.0447, -0.0267, -0.0127, -0.0843, -0.0638, -0.0741, -0.0651,\n",
      "           -0.0648],\n",
      "          [-0.0453, -0.0740, -0.0356, -0.0945, -0.0331, -0.0521, -0.0539,\n",
      "           -0.0197],\n",
      "          [-0.0938, -0.0887, -0.0953, -0.0570, -0.0839, -0.0634, -0.0326,\n",
      "           -0.0737],\n",
      "          [-0.0754, -0.0789, -0.0662, -0.0772, -0.0259, -0.0397, -0.0623,\n",
      "           -0.0513],\n",
      "          [-0.0721, -0.0553, -0.0435, -0.0502, -0.0686, -0.0155, -0.0976,\n",
      "           -0.0532]]]], grad_fn=<ThnnConv2DBackward>)\n",
      "torch.Size([64, 1, 4])\n",
      "tensor([[[-0.0877, -0.0682, -0.1775, -0.0470]],\n",
      "\n",
      "        [[-0.0297, -0.0915, -0.1059, -0.0753]],\n",
      "\n",
      "        [[-0.1124, -0.0325, -0.1057, -0.0895]],\n",
      "\n",
      "        [[-0.1378, -0.0127, -0.1776, -0.0654]],\n",
      "\n",
      "        [[-0.1329, -0.0849, -0.1115,  0.0015]],\n",
      "\n",
      "        [[-0.0926, -0.1212, -0.1561, -0.1265]],\n",
      "\n",
      "        [[-0.0611, -0.1158, -0.1547, -0.0459]],\n",
      "\n",
      "        [[-0.1011, -0.0813, -0.1490, -0.0521]],\n",
      "\n",
      "        [[-0.1040, -0.0408, -0.1850, -0.0767]],\n",
      "\n",
      "        [[-0.1591, -0.0786, -0.1733, -0.0439]],\n",
      "\n",
      "        [[-0.1688, -0.1266, -0.0845,  0.0329]],\n",
      "\n",
      "        [[-0.1286, -0.0892, -0.1352, -0.0939]],\n",
      "\n",
      "        [[-0.1804, -0.0340, -0.0969, -0.0678]],\n",
      "\n",
      "        [[-0.2004,  0.0022, -0.1352, -0.0343]],\n",
      "\n",
      "        [[-0.1266, -0.0381, -0.1318, -0.0486]],\n",
      "\n",
      "        [[-0.1031, -0.0954, -0.1645, -0.0455]],\n",
      "\n",
      "        [[-0.0605, -0.0944, -0.0995, -0.0595]],\n",
      "\n",
      "        [[-0.1201, -0.0469, -0.1309, -0.0648]],\n",
      "\n",
      "        [[-0.0919, -0.0571, -0.1322, -0.0584]],\n",
      "\n",
      "        [[-0.1096, -0.0801, -0.1483, -0.0339]],\n",
      "\n",
      "        [[-0.0874, -0.1038, -0.1862, -0.0198]],\n",
      "\n",
      "        [[-0.1005, -0.0565, -0.0799, -0.0775]],\n",
      "\n",
      "        [[-0.0968, -0.0576, -0.1494, -0.0697]],\n",
      "\n",
      "        [[-0.0430, -0.0476, -0.1939, -0.0421]],\n",
      "\n",
      "        [[-0.2019, -0.0842, -0.1337, -0.0178]],\n",
      "\n",
      "        [[-0.1326, -0.0947, -0.0861, -0.0114]],\n",
      "\n",
      "        [[-0.1249, -0.0671, -0.0921, -0.0197]],\n",
      "\n",
      "        [[-0.1280, -0.0872, -0.1612, -0.1448]],\n",
      "\n",
      "        [[-0.1195, -0.0209, -0.1563, -0.0334]],\n",
      "\n",
      "        [[-0.1779, -0.0408, -0.1733, -0.0302]],\n",
      "\n",
      "        [[-0.1248, -0.0997, -0.1875, -0.0573]],\n",
      "\n",
      "        [[-0.1140, -0.0786, -0.1668,  0.0289]],\n",
      "\n",
      "        [[-0.1369, -0.0039, -0.1717, -0.0620]],\n",
      "\n",
      "        [[-0.1212, -0.0167, -0.1893, -0.0494]],\n",
      "\n",
      "        [[-0.1099, -0.0920, -0.2051, -0.0757]],\n",
      "\n",
      "        [[-0.0898, -0.1354, -0.1230, -0.0004]],\n",
      "\n",
      "        [[-0.1198, -0.0834, -0.1697, -0.1280]],\n",
      "\n",
      "        [[-0.0953, -0.1199, -0.1188, -0.0544]],\n",
      "\n",
      "        [[-0.0729, -0.1278, -0.1142, -0.0435]],\n",
      "\n",
      "        [[-0.0851, -0.0699, -0.2603,  0.0123]],\n",
      "\n",
      "        [[-0.1267, -0.0564, -0.0462, -0.0717]],\n",
      "\n",
      "        [[-0.1419,  0.0162, -0.1233, -0.0025]],\n",
      "\n",
      "        [[-0.1431, -0.0626, -0.1263, -0.0807]],\n",
      "\n",
      "        [[-0.1455, -0.0172, -0.1445, -0.0125]],\n",
      "\n",
      "        [[-0.1300, -0.0098, -0.1212,  0.0062]],\n",
      "\n",
      "        [[-0.0943, -0.0893, -0.1412, -0.0342]],\n",
      "\n",
      "        [[-0.1044, -0.0467, -0.1233, -0.0918]],\n",
      "\n",
      "        [[-0.1089, -0.0471, -0.2277, -0.0736]],\n",
      "\n",
      "        [[-0.1409, -0.0800, -0.1375, -0.1010]],\n",
      "\n",
      "        [[-0.0945, -0.1169, -0.1278, -0.0516]],\n",
      "\n",
      "        [[-0.1301,  0.0018, -0.1213, -0.0734]],\n",
      "\n",
      "        [[-0.1603, -0.0330, -0.1552, -0.0639]],\n",
      "\n",
      "        [[-0.1623, -0.1039, -0.1240, -0.0660]],\n",
      "\n",
      "        [[-0.1302, -0.0081, -0.1808, -0.0445]],\n",
      "\n",
      "        [[-0.1259, -0.1048, -0.1508, -0.0123]],\n",
      "\n",
      "        [[-0.1085, -0.0645, -0.1115,  0.0169]],\n",
      "\n",
      "        [[-0.1498, -0.0507, -0.0857, -0.0172]],\n",
      "\n",
      "        [[-0.1508, -0.0564, -0.1460, -0.0637]],\n",
      "\n",
      "        [[-0.1626, -0.0599, -0.1526,  0.0355]],\n",
      "\n",
      "        [[-0.1067, -0.0495, -0.1763, -0.0563]],\n",
      "\n",
      "        [[-0.0738, -0.1111, -0.0827, -0.0676]],\n",
      "\n",
      "        [[-0.0962, -0.0586, -0.1590, -0.1348]],\n",
      "\n",
      "        [[-0.0512, -0.0608, -0.1760, -0.1023]],\n",
      "\n",
      "        [[-0.0669, -0.0614, -0.1062, -0.0502]]], grad_fn=<ViewBackward>)\n"
     ]
    }
   ],
   "source": [
    "t1 = torch.rand((1, 3, 28, 28))\n",
    "t_mod = split_to_windows(2, t1)\n",
    "oc2 = conv_sliding(t1)\n",
    "print(oc2.shape)\n",
    "print(oc2)\n",
    "wc_mod = window_sliding(t_mod)\n",
    "print(wc_mod.shape)\n",
    "print(wc_mod)"
   ],
   "metadata": {
    "collapsed": false,
    "pycharm": {
     "name": "#%%\n"
    }
   }
  },
  {
   "cell_type": "markdown",
   "source": [
    "5) Do a time comparison for various input spatial dimensions between convolutional and sequential sliding window procedures for Andrew's convolutional network map. Which is the most efficient ? Can you explain why ?\n",
    "\n",
    "6) Modify slightly Andrew's convolutional neural network such that there is now an additional convolutional layer. Do convolutional and sequential sliding window with stride $2$ procedures still coincide ? If not, what should be the stride for them to coincide again ?\n",
    "\n",
    "7) Same question but now add an additional max pooling layer (with kernel size $2$) instead.\n",
    "\n",
    "8) It turns out that the architecture of the convolutional neural network map itself will determine what is the set of windows for which convolutional and sequential sliding window procedures coincide for that convolutional neural network map. In the following, let us assume that all convolutional layers have padding $0$ and all max pooling layers have kernel size $2$. Can you guess the formulas that give the number of windows and their indices ? $\\textbf{Hint}$: Remember your implementation of the Conv2d layer. $\\textbf{If you can't find this, CONTACT US!}$ It will be important in the second section."
   ],
   "metadata": {
    "collapsed": false,
    "pycharm": {
     "name": "#%% md\n"
    }
   }
  },
  {
   "cell_type": "markdown",
   "id": "eight-springer",
   "metadata": {},
   "source": [
    "# MNIST localization in Pytorch\n",
    "\n",
    "## 1 Data generation\n",
    "\n",
    "In this second section we aim to implement from scratch our custom digit localization algorithm. We will use the MNIST dataset as a backbone:"
   ]
  },
  {
   "cell_type": "code",
   "execution_count": 45,
   "id": "automatic-submission",
   "metadata": {},
   "outputs": [],
   "source": [
    "def load_MNIST(MNIST_path, preprocessor, num_workers):\n",
    "    train_dataset = datasets.MNIST(MNIST_path, train=True, transform=preprocessor)\n",
    "    val_test_dataset = datasets.MNIST(MNIST_path, train=False, transform=preprocessor)\n",
    "    n_val_test = len(val_test_dataset.targets)\n",
    "    # The test set will only contain 30 images, perfect for visualization purpose:\n",
    "    val_dataset, test_dataset = torch.utils.data.random_split(val_test_dataset, [n_val_test-30, 30])\n",
    "    MNIST_datasets = {\"train\": train_dataset, \n",
    "                      \"val\": val_dataset,\n",
    "                      \"test\": test_dataset}\n",
    "    MNIST_generators = {\"train\": torch.utils.data.DataLoader(MNIST_datasets[\"train\"], \n",
    "                                                             batch_size=4, \n",
    "                                                             shuffle=True, \n",
    "                                                             num_workers=num_workers),\n",
    "                        \"val\": torch.utils.data.DataLoader(MNIST_datasets[\"val\"], \n",
    "                                                           batch_size=256, \n",
    "                                                           shuffle=False, \n",
    "                                                           num_workers=num_workers),\n",
    "                        \"test\": torch.utils.data.DataLoader(MNIST_datasets[\"test\"], \n",
    "                                                            batch_size=30, \n",
    "                                                            shuffle=False, \n",
    "                                                            num_workers=num_workers)}\n",
    "    return MNIST_datasets, MNIST_generators"
   ]
  },
  {
   "cell_type": "markdown",
   "id": "deluxe-garage",
   "metadata": {},
   "source": [
    "We now want to have a digit generator in pytorch that would produce samples \"on the fly\" for the digit localization task. The problem we have is that all MNIST digits are centered, have the same orientation and roughly the same size which makes the localization task pretty dull. \n",
    "\n",
    "**1) Write a data preprocessor that would do the following:**\n",
    "\n",
    "**a) Randomly rotates digits.**\n",
    "\n",
    "**b) Randomly rescales digits with a scale factor randomly sampled in the range [0.75,1.25].**\n",
    "\n",
    "**c) Randomly places digits within a zeros tensor having spatial dimensions $64\\times 64$.**\n",
    "\n",
    "**You can make sure your data generator works as intended by visualizing the test set generated by MNIST_generators[\"test\"]. Each image generated this way should contain one and exactly one digit!**"
   ]
  },
  {
   "cell_type": "code",
   "execution_count": 46,
   "id": "intensive-turtle",
   "metadata": {},
   "outputs": [
    {
     "ename": "NameError",
     "evalue": "name 'TODO' is not defined",
     "output_type": "error",
     "traceback": [
      "\u001B[1;31m---------------------------------------------------------------------------\u001B[0m",
      "\u001B[1;31mNameError\u001B[0m                                 Traceback (most recent call last)",
      "\u001B[1;32m<ipython-input-46-0f9703f12c86>\u001B[0m in \u001B[0;36m<module>\u001B[1;34m\u001B[0m\n\u001B[0;32m      1\u001B[0m \u001B[0mMNIST_path\u001B[0m \u001B[1;33m=\u001B[0m \u001B[1;34m'../Data/MNIST'\u001B[0m\u001B[1;33m\u001B[0m\u001B[1;33m\u001B[0m\u001B[0m\n\u001B[1;32m----> 2\u001B[1;33m \u001B[0mpreprocessor\u001B[0m \u001B[1;33m=\u001B[0m \u001B[1;33m[\u001B[0m\u001B[0mTODO\u001B[0m\u001B[1;33m]\u001B[0m\u001B[1;33m\u001B[0m\u001B[1;33m\u001B[0m\u001B[0m\n\u001B[0m\u001B[0;32m      3\u001B[0m \u001B[0mnum_workers\u001B[0m \u001B[1;33m=\u001B[0m \u001B[1;36m2\u001B[0m\u001B[1;33m\u001B[0m\u001B[1;33m\u001B[0m\u001B[0m\n\u001B[0;32m      4\u001B[0m \u001B[0mMNIST_datasets\u001B[0m\u001B[1;33m,\u001B[0m \u001B[0mMNIST_generators\u001B[0m \u001B[1;33m=\u001B[0m \u001B[0mload_MNIST\u001B[0m\u001B[1;33m(\u001B[0m\u001B[0mMNIST_path\u001B[0m\u001B[1;33m,\u001B[0m \u001B[0mpreprocessor\u001B[0m\u001B[1;33m,\u001B[0m \u001B[0mnum_workers\u001B[0m\u001B[1;33m)\u001B[0m\u001B[1;33m\u001B[0m\u001B[1;33m\u001B[0m\u001B[0m\n\u001B[0;32m      5\u001B[0m \u001B[1;33m\u001B[0m\u001B[0m\n",
      "\u001B[1;31mNameError\u001B[0m: name 'TODO' is not defined"
     ]
    }
   ],
   "source": [
    "MNIST_path = '../Data/MNIST'\n",
    "preprocessor = [TODO]\n",
    "num_workers = 2\n",
    "MNIST_datasets, MNIST_generators = load_MNIST(MNIST_path, preprocessor, num_workers)"
   ]
  },
  {
   "cell_type": "markdown",
   "id": "afraid-killing",
   "metadata": {},
   "source": [
    "## 2 Convolutional sliding window\n",
    "\n",
    "We then need to implement the convolutional neural network that will do the heavy work. In a nutshell, we want to have a CNN that is able to locate and classify digits within input images with base dimensions $(h\\_in, w\\_in)$. Then, we use this CNN as the backbone mapping in a sliding window procedure, in order to be able to locate and classify digits within larger images with dimensions $(H\\_in, W\\_in)$ such that $H\\_in > h\\_in$ and $W\\_in > w\\_in$. In the first section, you learned how to perform this efficiently by converting the sequential sliding window procedure into a convolutional one. More specifically, you learned that passing directly the whole large image to the CNN mapping gives an output tensor whose spatial dimensions $(H\\_out, W\\_out)$ correspond to the number of sliding windows in the sequential procedure such that each cell is exactly the output of the CNN applied to the corresponding window. Moreover, you also are able to find the indices of these windows. \n",
    "\n",
    "**2) Use this knowledge in order to implement the CNN you'll be using for the digit localization task. Remember that the window size $(h\\_in, w\\_in)$ should be large enough to contain digits entirely and the input size $(H\\_in, W\\_in)$ should match the dimensions of the tensors produced by you generator, namely $64\\times 64$.**\n",
    "\n",
    "## 3 Bounding box extraction, encoding\n",
    "\n",
    "At the moment, we only have access to the digit labels. This is not sufficient for the task of digit localization: we need those bounding boxes, so we will produce them ourselves ! \n",
    "\n",
    "**3-1) Implement a code that will produce sharp bounding boxes around a digit. You can for instance use torch.where(... > 0.0) to find the limits of the digit in an image.**\n",
    "\n",
    "We will encode the digit localization problem using a target vector of size $6$: $y = (y_0, y_1, y_2, y_3, y_4, y_5)$:\n",
    "- $y_0$ is binary and encodes whether or not a digit was detected.\n",
    "- $y_1$ is categorical and encodes the label of the digit (if any).\n",
    "- $y_2, y_3, y_4, y_5$ are continuous and encode the bounding box of the digit (if any).\n",
    "\n",
    "We want every window to carry information. As such, we want to produce one $y$ for every window, such that the groudtruth tensor $Y\\_true$ should have dimensions $(N,6,H\\_out,W\\_out)$. In order to do this, for each window we can check if the digit is visible in this window:\n",
    "- If that's the case, $y_0$ is $1$, $y_1$ is the label of the digit and $y_2, y_3, y_4, y_5$ are the bounding box values **converted in the referential of the window**: the top of the window $h\\_start$ is treated as $0.0$ wheras the bottom of the window $h\\_end$ is treated as $1.0$ (and similarly for the left and right of the window). \n",
    "- Otherwise, the $y$ for that window is simply a zeros vector (if that's the case, we only really care about $y_0=0$).\n",
    "\n",
    "**3-2) Implement the encoding procedure. The code may have a similar structure as in the cell below:**"
   ]
  },
  {
   "cell_type": "code",
   "execution_count": null,
   "id": "impossible-farmer",
   "metadata": {},
   "outputs": [],
   "source": [
    "H_out = [TODO]\n",
    "W_out = [TODO]\n",
    "bounding_boxes = torch.zeros(size=(N, 4))\n",
    "Y_true = torch.zeros(size=(N, 6, H_out, W_out))\n",
    "for n in range(N):\n",
    "    # Bounding box extraction:\n",
    "    bounding_boxes[n,:] = [TODO]\n",
    "    # Bounding box coordinates:\n",
    "    top = bounding_boxes[n,0]\n",
    "    bottom = bounding_boxes[n,1]\n",
    "    left = bounding_boxes[n,2]\n",
    "    right = bounding_boxes[n,3]\n",
    "    for h in range(H_out):\n",
    "        for w in range(W_out):\n",
    "            # Coordinates of the window (h,w):\n",
    "            h_start = [TODO]\n",
    "            w_start = [TODO]\n",
    "            h_end = [TODO]\n",
    "            w_end = [TODO]\n",
    "            # If a digit is visible in the window (h,w) <==>\n",
    "            # rectangles (top, bottom, left, right) and (h_start, h_end, w_start, w_end) intersect:\n",
    "            if [TODO]:              \n",
    "                Y_true[n,:,h,w] = [TODO]"
   ]
  },
  {
   "cell_type": "markdown",
   "id": "proud-china",
   "metadata": {},
   "source": [
    "## 4 Training loop\n",
    "\n",
    "We are now ready to train our model. The only remaining question is the loss. We want a loss of the form $\\sum_{n < N} \\sum_{h < H\\_out} \\sum_{w < W\\_out} L(Y\\_true[n,:,h,w], Y\\_out[n,:,h,w])$,\n",
    "where \n",
    "\n",
    "$L(Y\\_true[n,:,h,w], Y\\_out[n,:,h,w]) = L\\_detection + L\\_classification + L\\_regression$ such that\n",
    "\n",
    "- $L\\_detection = binary\\_cross\\_entropy(sigmoid(Y\\_out[n,0,h,w]), Y\\_true[n,0,h,w])$\n",
    "\n",
    "If $sigmoid(Y\\_out[n,0,h,w]) > 0.5$ and $Y\\_true[n,0,h,w] == 1$ (\"true positive detection of digit in window $(h,w)$\"):\n",
    "- $L\\_classification = negative\\_log\\_likelihood\\_loss(log\\_softmax(Y\\_out[n,1\\!:\\!11,h,w]), Y\\_true[n,1,h,w])$ \n",
    "- $L\\_regression = mse(Y\\_out[n,-4\\!:,h,w], Y\\_true[n,-4\\!:,h,w])$\n",
    "\n",
    "Else:\n",
    "- $L\\_classification=0.0$\n",
    "- $L\\_regression=0.0$\n",
    "\n",
    "Essentially, this loss indicates that we break down the whole task into three subproblems:\n",
    "\n",
    "a) Is there a digit in the current window ?\n",
    "\n",
    "If so,\n",
    "\n",
    "b) What is the digit in the window ?\n",
    "\n",
    "c) Where is the digit in the window ?\n",
    "\n",
    "The two last questions only make sense assuming the first question was positively answered, hence the use of a conditional loss. Notice also that we sum the loss not only over samples in a batch, but also over windows. Essentially, the set of windows forming the sliding window procedure can be seen itself as a minibatch of samples. \n",
    "\n",
    "**4) Implement the training loop, then train your model for a few epochs.**"
   ]
  },
  {
   "cell_type": "markdown",
   "id": "comfortable-mention",
   "metadata": {},
   "source": [
    "## 5 Prediction"
   ]
  },
  {
   "cell_type": "markdown",
   "id": "destroyed-jonathan",
   "metadata": {},
   "source": [
    "Your model should now be trained, great ! But now you may wonder: \"How do I predict ?\". And indeed it is not so obvious. In our implementation, our model should output a tensor $Y\\_out$ with dimensions $(N,15,H\\_out,W\\_out)$, that is we have one prediction vector per window in the sliding window procedure. We propose the following strategy: among all the predicted vectors, keep the one associated to the window with the highest label classification score. In other word, $\\forall n<N$:\n",
    "\n",
    "a) Compute the max classification scores: $max\\_classification\\_scores = max_{i=1:11} \\{log\\_softmax(Y\\_out[n,i,:,:])\\}$.\n",
    "\n",
    "b) Extract the indices of the best window: $h\\_best,w\\_best = argmax_{h<H\\_out,w<W\\_out} \\{max\\_classification\\_scores[h,w]\\}$.\n",
    "\n",
    "c) Save the prediction associated to the best window. **You will have to convert the predicted bounding box back to the referential of the input image.** \n",
    "\n",
    "**5) Implement the predict function.**"
   ]
  },
  {
   "cell_type": "markdown",
   "id": "architectural-support",
   "metadata": {},
   "source": [
    "## 6 Visualization\n",
    "\n",
    "Time to test your hard work by visualizing your predictions ! \n",
    "\n",
    "**6) Implement a function that will display the 30 images contained in the test set, with the true bounding boxes in green and the predicted bounding boxes in red overlayed over images. Each image will be titled with its groundtruth and predicted labels. You can use fig, axes = plt.subplots(6, 5, figsize=(20, 16)) in order to place the images conveniently.**"
   ]
  }
 ],
 "metadata": {
  "kernelspec": {
   "display_name": "Python 3",
   "language": "python",
   "name": "python3"
  },
  "language_info": {
   "codemirror_mode": {
    "name": "ipython",
    "version": 3
   },
   "file_extension": ".py",
   "mimetype": "text/x-python",
   "name": "python",
   "nbconvert_exporter": "python",
   "pygments_lexer": "ipython3",
   "version": "3.7.10"
  }
 },
 "nbformat": 4,
 "nbformat_minor": 5
}