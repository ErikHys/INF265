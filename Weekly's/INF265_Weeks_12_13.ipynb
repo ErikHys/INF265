{
 "cells": [
  {
   "cell_type": "markdown",
   "id": "second-garbage",
   "metadata": {},
   "source": [
    "# Weeks 12-13: Object localization\n",
    "\n",
    "## General instructions\n",
    "\n",
    "Every two weeks you will be given an assignment related to the associated module. You have roughly two weeks to complete and submit each of them. There are three weekly group sessions available to help you complete the assignments. Attendance is not mandatory but recommended. However, all assignments are graded and not submitting them or submitting them after the deadline will give you no points.\n",
    "\n",
    "**FORMAT**: Jupyter notebook **(single file, not in a zip please!)**\n",
    "\n",
    "**DEADLINE**: Sunday 11th April, 23:59\n",
    "\n",
    "## Introduction\n",
    "\n",
    "The objective of this assignment is to get a basic understanding of the core concepts in object detection using convolutional neural networks. More specifically, this work focuses on the simpler problem of object localization, where each image contains a single object that should be spatially localized and classified. While object localization is simpler than object detection in the sense that object detection is more general as it allows for multiple objects per scene, object localization remains a rather avanced method, perfectly suited for our current level. This exercise consists of two parts:\n",
    "- To begin with, we will get familiar with the sliding window algorithm, and notice that applying a convolutional neural network sequentially to a specific set of windows within an image is in fact mathematically equivalent to passing the whole image as input for the convolutional neural network. We will in particular try to understand what parameters determine which set of windows will be processed by the convolutional sliding window algorithm and we will run a performance comparison between the sequential and convolutional implementations.\n",
    "- In a second part, we will implement in pytorch our own take on the object localization algorithm. For that purpose, the knowledge acquired in the first part of this assignment will be helpful, as we will try to implement object localization using a convolutional sliding window approach. In order for us to be able to train and test our network even on modest hardware, this exercise will have you work on a custom dataset: you will use the MNIST dataset as a backbone to generate new images with digits randomly placed and transformed, and each image will contain a single digit. While solving object localization on this custom dataset will be much easier than traditional object detection on large datasets such as COCO, it will still require clever vectorized coding if you hope to train your network in a reasonable amount of time !\n",
    "\n",
    "## Andrew's Videos related to this week's assignment\n",
    "\n",
    "- [C4W3L01 Object Localization](https://www.youtube.com/watch?v=GSwYGkTfOKk&list=PL_IHmaMAvkVxdDOBRg2CbcJBq9SY7ZUvs)\n",
    "- [C4W3L03 Object Detection](https://www.youtube.com/watch?v=5e5pjeojznk&list=PL_IHmaMAvkVxdDOBRg2CbcJBq9SY7ZUvs&index=3)\n",
    "- [C4W3L04 Convolutional Implementation Sliding Window](https://www.youtube.com/watch?v=XdsmlBGOK-k&list=PL_IHmaMAvkVxdDOBRg2CbcJBq9SY7ZUvs&index=4)"
   ]
  },
  {
   "cell_type": "markdown",
   "id": "leading-request",
   "metadata": {},
   "source": [
    "# Setup"
   ]
  },
  {
   "cell_type": "code",
   "execution_count": 1,
   "id": "upper-luxury",
   "metadata": {},
   "outputs": [],
   "source": [
    "import torch\n",
    "import torch.nn as nn\n",
    "import torch.optim as optim\n",
    "import numpy as np\n",
    "import torchvision\n",
    "from torchvision import datasets, transforms\n",
    "from torchsummary import summary\n",
    "import matplotlib.pyplot as plt\n",
    "import time\n",
    "import os\n",
    "from tqdm import tqdm\n",
    "\n",
    "torch.backends.cudnn.benchmark = True"
   ]
  },
  {
   "cell_type": "markdown",
   "id": "threatened-shooting",
   "metadata": {},
   "source": [
    "# Convolutional sliding window\n",
    "\n",
    "The sliding window algorithm refers to any procedure that applies a certain function (\"map\") to sliding windows within an image. In its typical forumaltion, this seems to be an inherently sequential algorithm: process the first window, then the second etc$\\dots$ assuming the function to apply on every window is a convolutional neural network, an interesting fact arises: the sequential implemention of sliding window for this convolutional neural network map becomes exactly equivalent to passing the whole image as input to the convolutional neural network. We will investigate this fact further in this section. Answer the following questions:\n",
    "\n",
    "1) Watch Andrew's video about convolutional sliding window implementation.\n",
    "\n",
    "2) What slight modification is needed on the convolutional neural network such that sequential and convolutional sliding window procedures for this convolutional neural network map become equivalent ?\n",
    "    - the 16 to 400 , with 5x5 filter conv layer needs to work like flatten()\n",
    "3) Reproduce the convolutional neural network from Andrew's video (1:20), and verify that for an input tensor with spatial dimension $16\\times 16$, convolutional sliding window for that convolutional neural network map is the same as a sequential sliding window with stride $2$ along both spatial dimension. You can for instance compute the norm of the difference between the output tensors from convolutional and sequential implementations and check that this norm is indeed $0.0$."
   ]
  },
  {
   "cell_type": "code",
   "execution_count": 2,
   "outputs": [],
   "source": [
    "class SeqSliding(nn.Module):\n",
    "\n",
    "    def __init__(self):\n",
    "        super().__init__()\n",
    "        self.stride = 2\n",
    "        self.layers = []\n",
    "        self.layers.append(nn.Conv2d(3, 16, (5, 5)))\n",
    "        self.layers.append(nn.MaxPool2d((2,2), stride=2))\n",
    "        self.layers.append(nn.Flatten())\n",
    "        self.layers.append(nn.Linear(400, 400))\n",
    "        self.layers.append(nn.Linear(400, 4))\n",
    "        # self.layers.append(nn.Softmax(dim=1))\n",
    "\n",
    "    def bad_weight_init(self):\n",
    "        nn.init.constant_(self.layers[0].weight.data, 0.2)\n",
    "        nn.init.constant_(self.layers[3].weight.data, 0.2)\n",
    "        nn.init.constant_(self.layers[4].weight.data, 0.2)\n",
    "\n",
    "\n",
    "\n",
    "    def forward(self, x):\n",
    "        a = x\n",
    "        for layer in self.layers:\n",
    "            a = layer(a)\n",
    "        a = torch.reshape(a, (x.shape[0], a.shape[0]//x.shape[0], a.shape[1]))\n",
    "        return a\n",
    "\n",
    "\n",
    "\n",
    "class ConvSliding(nn.Module):\n",
    "\n",
    "    def __init__(self):\n",
    "        super().__init__()\n",
    "        self.layers = []\n",
    "        self.layers.append(nn.Conv2d(3, 16, (5, 5)))\n",
    "        self.layers.append(nn.MaxPool2d((2,2), stride=2))\n",
    "        self.layers.append(nn.Conv2d(16, 400, (5, 5)))\n",
    "        self.layers.append(nn.Conv2d(400, 400, (1, 1)))\n",
    "        self.layers.append(nn.Conv2d(400, 4, (1, 1)))\n",
    "\n",
    "\n",
    "    def bad_weight_init(self):\n",
    "        nn.init.constant_(self.layers[0].weight.data, 0.002)\n",
    "        nn.init.constant_(self.layers[2].weight.data, 0.04)\n",
    "        nn.init.constant_(self.layers[3].weight.data, 0.002)\n",
    "        nn.init.constant_(self.layers[4].weight.data, 0.002)\n",
    "\n",
    "    def forward(self, x):\n",
    "        a = x\n",
    "        for layer in self.layers:\n",
    "            a = layer(a)\n",
    "        return a"
   ],
   "metadata": {
    "collapsed": false,
    "pycharm": {
     "name": "#%%\n"
    }
   }
  },
  {
   "cell_type": "code",
   "execution_count": 3,
   "outputs": [],
   "source": [
    "def split_to_windows(stride, a):\n",
    "    dims = ((a.shape[2] - 14)// stride + 1) * ((a.shape[3] - 14)// stride + 1) * a.shape[0]\n",
    "    new_a = torch.empty((dims, 3, 14, 14))\n",
    "    idx = 0\n",
    "    for i in range(a.shape[0]):\n",
    "        for x in range(((a.shape[2] - 14)// stride + 1)):\n",
    "            for y in range(((a.shape[3] - 14)// stride + 1)):\n",
    "                new_a[idx] = torch.narrow(torch.narrow(a[i], -2, y*stride, 14), -1, x*stride, 14)\n",
    "                idx += 1\n",
    "    return new_a"
   ],
   "metadata": {
    "collapsed": false,
    "pycharm": {
     "name": "#%%\n"
    }
   }
  },
  {
   "cell_type": "code",
   "execution_count": 4,
   "outputs": [],
   "source": [
    "x1 = torch.rand((1, 3, 14, 14))\n",
    "t1 = torch.rand((1, 3, 16, 16))\n",
    "t_mod = split_to_windows(2, t1)"
   ],
   "metadata": {
    "collapsed": false,
    "pycharm": {
     "name": "#%%\n"
    }
   }
  },
  {
   "cell_type": "code",
   "execution_count": 5,
   "outputs": [],
   "source": [
    "conv_sliding = ConvSliding()\n",
    "window_sliding = SeqSliding()\n",
    "# conv_sliding.bad_weight_init()\n",
    "# window_sliding.bad_weight_init()"
   ],
   "metadata": {
    "collapsed": false,
    "pycharm": {
     "name": "#%%\n"
    }
   }
  },
  {
   "cell_type": "code",
   "execution_count": 6,
   "outputs": [
    {
     "name": "stdout",
     "output_type": "stream",
     "text": [
      "torch.Size([1, 4, 2, 2])\n",
      "tensor([[[[-0.0532, -0.0466],\n",
      "          [-0.0481, -0.0572]],\n",
      "\n",
      "         [[-0.1080, -0.1427],\n",
      "          [-0.1107, -0.0797]],\n",
      "\n",
      "         [[-0.1754, -0.1102],\n",
      "          [-0.1039, -0.0911]],\n",
      "\n",
      "         [[ 0.0029,  0.0153],\n",
      "          [-0.0238, -0.0358]]]], grad_fn=<ThnnConv2DBackward>)\n",
      "torch.Size([4, 4, 1, 1])\n",
      "tensor([[[[-0.0532]],\n",
      "\n",
      "         [[-0.1080]],\n",
      "\n",
      "         [[-0.1754]],\n",
      "\n",
      "         [[ 0.0029]]],\n",
      "\n",
      "\n",
      "        [[[-0.0481]],\n",
      "\n",
      "         [[-0.1107]],\n",
      "\n",
      "         [[-0.1039]],\n",
      "\n",
      "         [[-0.0238]]],\n",
      "\n",
      "\n",
      "        [[[-0.0466]],\n",
      "\n",
      "         [[-0.1427]],\n",
      "\n",
      "         [[-0.1102]],\n",
      "\n",
      "         [[ 0.0153]]],\n",
      "\n",
      "\n",
      "        [[[-0.0572]],\n",
      "\n",
      "         [[-0.0797]],\n",
      "\n",
      "         [[-0.0911]],\n",
      "\n",
      "         [[-0.0358]]]], grad_fn=<ThnnConv2DBackward>)\n",
      "tensor([[[[-0.0532, -0.1080],\n",
      "          [-0.1754,  0.0029]],\n",
      "\n",
      "         [[-0.0481, -0.1107],\n",
      "          [-0.1039, -0.0238]],\n",
      "\n",
      "         [[-0.0466, -0.1427],\n",
      "          [-0.1102,  0.0153]],\n",
      "\n",
      "         [[-0.0572, -0.0797],\n",
      "          [-0.0911, -0.0358]]]], grad_fn=<ViewBackward>)\n",
      "torch.Size([4, 1, 4])\n",
      "tensor([[[ 0.0482,  0.0700,  0.2699,  0.1110]],\n",
      "\n",
      "        [[ 0.1045,  0.0780,  0.2032,  0.1586]],\n",
      "\n",
      "        [[ 0.1121,  0.0324,  0.2390,  0.1730]],\n",
      "\n",
      "        [[ 0.1265, -0.0008,  0.1509,  0.1107]]], grad_fn=<ViewBackward>)\n"
     ]
    }
   ],
   "source": [
    "oc2 = conv_sliding(t1)\n",
    "print(oc2.shape)\n",
    "print(oc2)\n",
    "oc_mod = conv_sliding(t_mod)\n",
    "print(oc_mod.shape)\n",
    "print(oc_mod)\n",
    "print(torch.reshape(oc_mod, (1, 4, 2, 2)))\n",
    "wc_mod = window_sliding(t_mod)\n",
    "print(wc_mod.shape)\n",
    "print(wc_mod)"
   ],
   "metadata": {
    "collapsed": false,
    "pycharm": {
     "name": "#%%\n"
    }
   }
  },
  {
   "cell_type": "code",
   "execution_count": 7,
   "outputs": [
    {
     "name": "stdout",
     "output_type": "stream",
     "text": [
      "tensor(0.3540, grad_fn=<CopyBackwards>)\n",
      "tensor(0.5723, grad_fn=<CopyBackwards>)\n",
      "tensor(-0.2183, grad_fn=<SubBackward0>)\n",
      "tensor(0.8724, grad_fn=<CopyBackwards>)\n",
      "tensor([[-0.0532, -0.1080, -0.1754,  0.0029],\n",
      "        [-0.0481, -0.1107, -0.1039, -0.0238],\n",
      "        [-0.0466, -0.1427, -0.1102,  0.0153],\n",
      "        [-0.0572, -0.0797, -0.0911, -0.0358]], grad_fn=<ViewBackward>)\n",
      "tensor([[-0.1014, -0.1780, -0.4453, -0.1081],\n",
      "        [-0.1527, -0.1888, -0.3071, -0.1824],\n",
      "        [-0.1586, -0.1751, -0.3492, -0.1577],\n",
      "        [-0.1837, -0.0789, -0.2420, -0.1466]], grad_fn=<SubBackward0>)\n"
     ]
    }
   ],
   "source": [
    "n = torch.reshape(oc_mod, (4, 4))\n",
    "q = torch.reshape(wc_mod, (4, 4))\n",
    "print(torch.linalg.norm(n))\n",
    "print(torch.linalg.norm(q))\n",
    "print(torch.linalg.norm(n) - torch.linalg.norm(q))\n",
    "print(torch.linalg.norm(n-q))\n",
    "print(n)\n",
    "print(n - q)"
   ],
   "metadata": {
    "collapsed": false,
    "pycharm": {
     "name": "#%%\n"
    }
   }
  },
  {
   "cell_type": "markdown",
   "source": [
    "I can see that the math corresponds, but I don't get the answers to match completely because the indexing is different\n",
    "between my splitting and the convolutional splitting, where window sequential[0][0] = (convolutional[0][0][0][0], convolutional[0][1][0][0], convolutional[0][2][0][0], convolutional[0][3][0][0])\n",
    "Tested with some weight initialisation and got the same answers on sequential and convolutional."
   ],
   "metadata": {
    "collapsed": false,
    "pycharm": {
     "name": "#%% md\n"
    }
   }
  },
  {
   "cell_type": "markdown",
   "source": [
    "4) What happens when the input tensor now has spatial dimensions $28\\times 28$? Try a few other spatial dimensions. Can you find some such that convolutional and sequential procedures yield different outputs ?"
   ],
   "metadata": {
    "collapsed": false,
    "pycharm": {
     "name": "#%% md\n"
    }
   }
  },
  {
   "cell_type": "code",
   "execution_count": 8,
   "outputs": [
    {
     "name": "stdout",
     "output_type": "stream",
     "text": [
      "torch.Size([1, 4, 8, 8])\n",
      "tensor([[[[-5.1578e-02, -6.6698e-02, -6.7048e-02, -1.8502e-02, -1.3461e-02,\n",
      "           -4.3326e-02, -2.6949e-02, -2.1154e-02],\n",
      "          [-3.8190e-02, -5.2104e-02, -1.8724e-02, -2.6411e-02, -2.2159e-02,\n",
      "           -5.9830e-02, -5.8283e-02, -8.3685e-02],\n",
      "          [-4.2498e-02, -2.2066e-02, -3.2584e-02, -3.4441e-02, -6.6902e-02,\n",
      "           -9.4101e-02, -1.9275e-02, -6.2697e-02],\n",
      "          [-1.4118e-02, -1.8178e-02, -2.1009e-02, -5.3823e-02, -3.8523e-02,\n",
      "           -4.4345e-02, -5.2789e-02, -3.7641e-02],\n",
      "          [ 6.1809e-03, -1.8801e-02, -5.8426e-02, -4.7228e-02, -4.0974e-02,\n",
      "           -9.4056e-02, -2.3922e-02, -2.8708e-02],\n",
      "          [-4.5180e-02, -7.3769e-02, -1.8283e-02, -2.5845e-02, -7.7739e-02,\n",
      "           -5.1046e-02, -4.5122e-03, -7.1788e-02],\n",
      "          [-1.1328e-02, -8.2312e-02, -9.8912e-02, -2.2092e-02, -2.3510e-02,\n",
      "           -2.1295e-02, -8.6361e-02, -3.2436e-03],\n",
      "          [-3.8231e-02, -6.4549e-02, -4.3410e-02, -4.4061e-02, -2.9801e-02,\n",
      "           -1.7376e-02, -6.3592e-02, -3.8958e-02]],\n",
      "\n",
      "         [[-1.0568e-01, -8.8685e-02, -7.0963e-02, -9.2547e-02, -7.6963e-02,\n",
      "           -1.4576e-01, -1.1006e-01, -1.0568e-01],\n",
      "          [-1.3806e-01, -1.2765e-01, -1.1953e-01, -9.8804e-02, -1.1281e-01,\n",
      "           -8.3777e-02, -9.1819e-02, -1.0551e-01],\n",
      "          [-8.1461e-02, -9.7145e-02, -1.0244e-01, -5.8006e-02, -1.1750e-01,\n",
      "           -9.1173e-02, -1.1553e-01, -8.8181e-02],\n",
      "          [-5.8152e-02, -8.9031e-02, -8.9790e-02, -1.3998e-01, -1.0426e-01,\n",
      "           -1.1866e-01, -1.4308e-01, -7.3423e-02],\n",
      "          [-1.1825e-01, -1.1548e-01, -1.1098e-01, -1.0068e-01, -1.0476e-01,\n",
      "           -1.0030e-01, -1.0845e-01, -1.0254e-01],\n",
      "          [-7.2878e-02, -1.2512e-01, -1.2124e-01, -8.7714e-02, -9.9490e-02,\n",
      "           -7.2469e-02, -9.6289e-02, -1.3469e-01],\n",
      "          [-9.4670e-02, -1.1163e-01, -7.1716e-02, -6.0400e-02, -1.1363e-01,\n",
      "           -7.8382e-02, -1.4404e-01, -1.3820e-01],\n",
      "          [-1.1469e-01, -1.0790e-01, -8.6442e-02, -1.4202e-01, -1.1830e-01,\n",
      "           -3.6164e-02, -1.3305e-01, -1.1454e-01]],\n",
      "\n",
      "         [[-1.0518e-01, -1.2222e-01, -1.2023e-01, -1.1389e-01, -9.2418e-02,\n",
      "           -1.0267e-01, -9.1047e-02, -1.1512e-01],\n",
      "          [-1.4676e-01, -1.1389e-01, -1.5988e-01, -8.8748e-02, -1.5510e-01,\n",
      "           -1.5288e-01, -1.2513e-01, -1.6298e-01],\n",
      "          [-1.0220e-01, -1.4973e-01, -6.9972e-02, -1.1694e-01, -1.3373e-01,\n",
      "           -1.2233e-01, -1.1481e-01, -1.2972e-01],\n",
      "          [-1.2162e-01, -1.1535e-01, -8.9756e-02, -1.4817e-01, -1.1922e-01,\n",
      "           -1.1644e-01, -1.3630e-01, -1.4576e-01],\n",
      "          [-8.8254e-02, -1.1662e-01, -1.3864e-01, -1.6539e-01, -1.1539e-01,\n",
      "           -1.2940e-01, -1.0920e-01, -1.2275e-01],\n",
      "          [-9.9412e-02, -1.6516e-01, -1.1527e-01, -1.2615e-01, -9.6165e-02,\n",
      "           -1.3139e-01, -1.3611e-01, -8.3737e-02],\n",
      "          [-1.4574e-01, -1.1648e-01, -1.1990e-01, -1.3468e-01, -1.7851e-01,\n",
      "           -7.9313e-02, -1.1519e-01, -1.4513e-01],\n",
      "          [-1.2479e-01, -1.6419e-01, -1.0273e-01, -1.3852e-01, -8.8526e-02,\n",
      "           -1.2579e-01, -1.0903e-01, -1.1794e-01]],\n",
      "\n",
      "         [[-7.9103e-02,  1.7539e-02, -4.2108e-02, -4.3332e-02, -3.1195e-02,\n",
      "           -2.1225e-02, -7.0581e-03, -1.4037e-02],\n",
      "          [-2.0630e-02, -4.3742e-02, -8.8324e-03,  9.1296e-03,  1.9869e-02,\n",
      "           -3.0478e-02,  1.9888e-02,  9.9670e-03],\n",
      "          [-5.3658e-03, -1.8953e-02, -3.5668e-02, -5.4405e-02, -5.3762e-04,\n",
      "           -1.6899e-03, -2.5022e-02,  1.7337e-03],\n",
      "          [ 8.8166e-03, -2.0425e-02, -2.7268e-03, -4.1103e-02, -1.0059e-02,\n",
      "           -8.0267e-03,  3.5831e-03,  1.3102e-02],\n",
      "          [-3.3664e-02, -2.9108e-02, -6.7284e-03,  2.1448e-02,  1.0074e-02,\n",
      "           -2.2298e-02,  1.7875e-02,  8.8926e-03],\n",
      "          [ 1.0318e-02, -2.7626e-02, -2.6610e-02, -1.3806e-02, -1.2624e-02,\n",
      "           -6.8871e-03, -4.4196e-03,  6.0578e-05],\n",
      "          [-8.1815e-03, -7.7862e-03, -1.9863e-02, -7.2324e-03, -2.9749e-02,\n",
      "            1.0923e-02, -2.5068e-02, -1.2594e-02],\n",
      "          [ 2.1693e-02, -1.3295e-02,  3.7323e-03, -2.1015e-02, -1.4436e-03,\n",
      "           -2.9316e-03,  2.7914e-02, -4.8309e-02]]]],\n",
      "       grad_fn=<ThnnConv2DBackward>)\n",
      "torch.Size([64, 1, 4])\n",
      "tensor([[[ 0.1468,  0.0161,  0.2539,  0.1344]],\n",
      "\n",
      "        [[ 0.1494,  0.0488,  0.2535,  0.1624]],\n",
      "\n",
      "        [[ 0.0090,  0.0852,  0.1863,  0.1499]],\n",
      "\n",
      "        [[ 0.1536,  0.0275,  0.2328,  0.1221]],\n",
      "\n",
      "        [[ 0.1074, -0.0240,  0.2063,  0.1689]],\n",
      "\n",
      "        [[ 0.0893,  0.0571,  0.2441,  0.1101]],\n",
      "\n",
      "        [[ 0.1024,  0.1042,  0.2912,  0.1648]],\n",
      "\n",
      "        [[ 0.0786,  0.0214,  0.2155,  0.0801]],\n",
      "\n",
      "        [[ 0.0707, -0.0069,  0.1635,  0.2099]],\n",
      "\n",
      "        [[ 0.1368,  0.1173,  0.2214,  0.1412]],\n",
      "\n",
      "        [[ 0.1565,  0.0364,  0.1514,  0.1218]],\n",
      "\n",
      "        [[ 0.1625,  0.0159,  0.2381,  0.1429]],\n",
      "\n",
      "        [[ 0.1804,  0.0379,  0.1941,  0.1501]],\n",
      "\n",
      "        [[ 0.0890,  0.0935,  0.2091,  0.0687]],\n",
      "\n",
      "        [[ 0.0359, -0.0266,  0.2001,  0.1688]],\n",
      "\n",
      "        [[ 0.2052,  0.0053,  0.2667,  0.1976]],\n",
      "\n",
      "        [[ 0.1440,  0.0833,  0.2276,  0.1495]],\n",
      "\n",
      "        [[ 0.2111,  0.0061,  0.2263,  0.1320]],\n",
      "\n",
      "        [[ 0.1708,  0.0671,  0.2458,  0.1563]],\n",
      "\n",
      "        [[ 0.1411,  0.0711,  0.2333,  0.0941]],\n",
      "\n",
      "        [[ 0.0602,  0.0700,  0.3162,  0.0934]],\n",
      "\n",
      "        [[ 0.1345, -0.0203,  0.2018,  0.1973]],\n",
      "\n",
      "        [[ 0.0907,  0.0330,  0.2742,  0.0987]],\n",
      "\n",
      "        [[ 0.0987,  0.0571,  0.1804,  0.1721]],\n",
      "\n",
      "        [[ 0.0730,  0.0900,  0.1662,  0.1157]],\n",
      "\n",
      "        [[ 0.0093,  0.0094,  0.2019,  0.0491]],\n",
      "\n",
      "        [[ 0.1698,  0.0173,  0.2534,  0.1397]],\n",
      "\n",
      "        [[ 0.0551,  0.0253,  0.2597,  0.1468]],\n",
      "\n",
      "        [[ 0.0978,  0.0460,  0.2409,  0.1949]],\n",
      "\n",
      "        [[ 0.0588, -0.0081,  0.1525,  0.0966]],\n",
      "\n",
      "        [[ 0.1310,  0.0547,  0.1864,  0.1321]],\n",
      "\n",
      "        [[ 0.0786,  0.1008,  0.2676,  0.1578]],\n",
      "\n",
      "        [[ 0.1302,  0.0494,  0.2296,  0.1294]],\n",
      "\n",
      "        [[ 0.1031,  0.0981,  0.1552,  0.1545]],\n",
      "\n",
      "        [[ 0.1110,  0.0927,  0.2396,  0.1711]],\n",
      "\n",
      "        [[ 0.1083,  0.0926,  0.1995,  0.1348]],\n",
      "\n",
      "        [[ 0.1297,  0.0704,  0.1935,  0.1710]],\n",
      "\n",
      "        [[ 0.1038, -0.0140,  0.2076,  0.0991]],\n",
      "\n",
      "        [[ 0.0853,  0.0811,  0.2089,  0.1289]],\n",
      "\n",
      "        [[ 0.1590,  0.0154,  0.2222,  0.1302]],\n",
      "\n",
      "        [[ 0.0436, -0.0525,  0.2942,  0.1883]],\n",
      "\n",
      "        [[ 0.1281,  0.0545,  0.2463,  0.1023]],\n",
      "\n",
      "        [[ 0.0847, -0.0196,  0.1921,  0.1099]],\n",
      "\n",
      "        [[ 0.1483,  0.0115,  0.1534,  0.0892]],\n",
      "\n",
      "        [[ 0.0816,  0.0738,  0.2236,  0.1539]],\n",
      "\n",
      "        [[ 0.1587,  0.0440,  0.1784,  0.1760]],\n",
      "\n",
      "        [[ 0.0882,  0.0441,  0.1730,  0.1207]],\n",
      "\n",
      "        [[ 0.0899,  0.1175,  0.2018,  0.0354]],\n",
      "\n",
      "        [[ 0.0659,  0.1059,  0.2483,  0.1053]],\n",
      "\n",
      "        [[ 0.1201,  0.0154,  0.1561,  0.1087]],\n",
      "\n",
      "        [[ 0.0591,  0.0409,  0.1537,  0.2346]],\n",
      "\n",
      "        [[ 0.0445,  0.0355,  0.2269,  0.1358]],\n",
      "\n",
      "        [[ 0.0540,  0.0167,  0.2151,  0.1555]],\n",
      "\n",
      "        [[ 0.1538,  0.0076,  0.2106,  0.0966]],\n",
      "\n",
      "        [[ 0.0982,  0.0579,  0.2508,  0.1104]],\n",
      "\n",
      "        [[ 0.1362,  0.0398,  0.2025,  0.1616]],\n",
      "\n",
      "        [[-0.0008,  0.1056,  0.2179,  0.0835]],\n",
      "\n",
      "        [[ 0.1397,  0.0309,  0.2872,  0.1578]],\n",
      "\n",
      "        [[ 0.1771,  0.0112,  0.2355,  0.1291]],\n",
      "\n",
      "        [[ 0.1024,  0.0796,  0.1536,  0.1562]],\n",
      "\n",
      "        [[ 0.1954,  0.0841,  0.1345,  0.0842]],\n",
      "\n",
      "        [[ 0.1613,  0.0720,  0.1941,  0.1426]],\n",
      "\n",
      "        [[ 0.0699,  0.0549,  0.2644,  0.1549]],\n",
      "\n",
      "        [[ 0.1129, -0.0100,  0.2359,  0.1785]]], grad_fn=<ViewBackward>)\n"
     ]
    }
   ],
   "source": [
    "t1 = torch.rand((1, 3, 28, 28))\n",
    "t_mod = split_to_windows(2, t1)\n",
    "oc2 = conv_sliding(t1)\n",
    "print(oc2.shape)\n",
    "print(oc2)\n",
    "wc_mod = window_sliding(t_mod)\n",
    "print(wc_mod.shape)\n",
    "print(wc_mod)"
   ],
   "metadata": {
    "collapsed": false,
    "pycharm": {
     "name": "#%%\n"
    }
   }
  },
  {
   "cell_type": "markdown",
   "source": [
    "5) Do a time comparison for various input spatial dimensions between convolutional and sequential sliding window procedures for Andrew's convolutional network map. Which is the most efficient ? Can you explain why ?"
   ],
   "metadata": {
    "collapsed": false,
    "pycharm": {
     "name": "#%% md\n"
    }
   }
  },
  {
   "cell_type": "code",
   "execution_count": 9,
   "outputs": [
    {
     "name": "stdout",
     "output_type": "stream",
     "text": [
      "Sequential time:  0.0010008811950683594  input dims:  16  output dims:  torch.Size([20, 1, 4])\n",
      "Conv time:  0.0010006427764892578  input dims:  16  output dims:  torch.Size([5, 4, 2, 2])\n",
      "Sequential time:  0.0030031204223632812  input dims:  28  output dims:  torch.Size([320, 1, 4])\n",
      "Conv time:  0.0030028820037841797  input dims:  28  output dims:  torch.Size([5, 4, 8, 8])\n",
      "Sequential time:  3.7474067211151123  input dims:  720  output dims:  torch.Size([626580, 1, 4])\n",
      "Conv time:  2.829571485519409  input dims:  720  output dims:  torch.Size([5, 4, 354, 354])\n",
      "Sequential time:  44.49731802940369  input dims:  1080  output dims:  torch.Size([1425780, 1, 4])\n",
      "Conv time:  15.50837254524231  input dims:  1080  output dims:  torch.Size([5, 4, 534, 534])\n"
     ]
    }
   ],
   "source": [
    "import  time\n",
    "\n",
    "def time_model():\n",
    "    resolutions = [16, 28, 720, 1080]\n",
    "    for res in resolutions:\n",
    "        data = torch.rand((5, 3, res, res))\n",
    "        data_mod = split_to_windows(2, data)\n",
    "        start = time.time()\n",
    "        test_seq = window_sliding(data_mod)\n",
    "        stop = time.time()\n",
    "        print(\"Sequential time: \", stop-start, \" input dims: \", res, \" output dims: \" ,test_seq.shape)\n",
    "        start = time.time()\n",
    "        test_seq = conv_sliding(data)\n",
    "        stop = time.time()\n",
    "        print(\"Conv time: \", stop-start, \" input dims: \", res, \" output dims: \" ,test_seq.shape)\n",
    "\n",
    "time_model()"
   ],
   "metadata": {
    "collapsed": false,
    "pycharm": {
     "name": "#%%\n"
    }
   }
  },
  {
   "cell_type": "markdown",
   "source": [
    "6) Modify slightly Andrew's convolutional neural network such that there is now an additional convolutional layer. Do convolutional and sequential sliding window with stride $2$ procedures still coincide ? If not, what should be the stride for them to coincide again ?\n",
    "\n",
    "7) Same question but now add an additional max pooling layer (with kernel size $2$) instead.\n",
    "\n",
    "8) It turns out that the architecture of the convolutional neural network map itself will determine what is the set of windows for which convolutional and sequential sliding window procedures coincide for that convolutional neural network map. In the following, let us assume that all convolutional layers have padding $0$ and all max pooling layers have kernel size $2$. Can you guess the formulas that give the number of windows and their indices ? $\\textbf{Hint}$: Remember your implementation of the Conv2d layer. $\\textbf{If you can't find this, CONTACT US!}$ It will be important in the second section."
   ],
   "metadata": {
    "collapsed": false,
    "pycharm": {
     "name": "#%% md\n"
    }
   }
  },
  {
   "cell_type": "markdown",
   "id": "eight-springer",
   "metadata": {},
   "source": [
    "# MNIST localization in Pytorch\n",
    "\n",
    "## 1 Data generation\n",
    "\n",
    "In this second section we aim to implement from scratch our custom digit localization algorithm. We will use the MNIST dataset as a backbone:"
   ]
  },
  {
   "cell_type": "code",
   "execution_count": 10,
   "id": "automatic-submission",
   "metadata": {},
   "outputs": [],
   "source": [
    "def load_MNIST(MNIST_path, preprocessor, num_workers):\n",
    "    train_dataset = datasets.MNIST(MNIST_path, train=True, transform=preprocessor)\n",
    "    val_test_dataset = datasets.MNIST(MNIST_path, train=False, transform=preprocessor)\n",
    "    n_val_test = len(val_test_dataset.targets)\n",
    "    # The test set will only contain 30 images, perfect for visualization purpose:\n",
    "    val_dataset, test_dataset = torch.utils.data.random_split(val_test_dataset, [n_val_test-30, 30])\n",
    "    MNIST_datasets = {\"train\": train_dataset, \n",
    "                      \"val\": val_dataset,\n",
    "                      \"test\": test_dataset}\n",
    "    MNIST_generators = {\"train\": torch.utils.data.DataLoader(MNIST_datasets[\"train\"], \n",
    "                                                             batch_size=4, \n",
    "                                                             shuffle=True, \n",
    "                                                             num_workers=num_workers),\n",
    "                        \"val\": torch.utils.data.DataLoader(MNIST_datasets[\"val\"], \n",
    "                                                           batch_size=256, \n",
    "                                                           shuffle=False, \n",
    "                                                           num_workers=num_workers),\n",
    "                        \"test\": torch.utils.data.DataLoader(MNIST_datasets[\"test\"], \n",
    "                                                            batch_size=30, \n",
    "                                                            shuffle=False, \n",
    "                                                            num_workers=num_workers)}\n",
    "    return MNIST_datasets, MNIST_generators"
   ]
  },
  {
   "cell_type": "markdown",
   "id": "deluxe-garage",
   "metadata": {},
   "source": [
    "We now want to have a digit generator in pytorch that would produce samples \"on the fly\" for the digit localization task. The problem we have is that all MNIST digits are centered, have the same orientation and roughly the same size which makes the localization task pretty dull. \n",
    "\n",
    "**1) Write a data preprocessor that would do the following:**\n",
    "\n",
    "**a) Randomly rotates digits.**\n",
    "\n",
    "**b) Randomly rescales digits with a scale factor randomly sampled in the range [0.75,1.25].**\n",
    "\n",
    "**c) Randomly places digits within a zeros tensor having spatial dimensions $64\\times 64$.**\n",
    "\n",
    "**You can make sure your data generator works as intended by visualizing the test set generated by MNIST_generators[\"test\"]. Each image generated this way should contain one and exactly one digit!**"
   ]
  },
  {
   "cell_type": "code",
   "execution_count": 11,
   "id": "intensive-turtle",
   "metadata": {},
   "outputs": [
    {
     "ename": "NameError",
     "evalue": "name 'TODO' is not defined",
     "output_type": "error",
     "traceback": [
      "\u001B[1;31m---------------------------------------------------------------------------\u001B[0m",
      "\u001B[1;31mNameError\u001B[0m                                 Traceback (most recent call last)",
      "\u001B[1;32m<ipython-input-11-0f9703f12c86>\u001B[0m in \u001B[0;36m<module>\u001B[1;34m\u001B[0m\n\u001B[0;32m      1\u001B[0m \u001B[0mMNIST_path\u001B[0m \u001B[1;33m=\u001B[0m \u001B[1;34m'../Data/MNIST'\u001B[0m\u001B[1;33m\u001B[0m\u001B[1;33m\u001B[0m\u001B[0m\n\u001B[1;32m----> 2\u001B[1;33m \u001B[0mpreprocessor\u001B[0m \u001B[1;33m=\u001B[0m \u001B[1;33m[\u001B[0m\u001B[0mTODO\u001B[0m\u001B[1;33m]\u001B[0m\u001B[1;33m\u001B[0m\u001B[1;33m\u001B[0m\u001B[0m\n\u001B[0m\u001B[0;32m      3\u001B[0m \u001B[0mnum_workers\u001B[0m \u001B[1;33m=\u001B[0m \u001B[1;36m2\u001B[0m\u001B[1;33m\u001B[0m\u001B[1;33m\u001B[0m\u001B[0m\n\u001B[0;32m      4\u001B[0m \u001B[0mMNIST_datasets\u001B[0m\u001B[1;33m,\u001B[0m \u001B[0mMNIST_generators\u001B[0m \u001B[1;33m=\u001B[0m \u001B[0mload_MNIST\u001B[0m\u001B[1;33m(\u001B[0m\u001B[0mMNIST_path\u001B[0m\u001B[1;33m,\u001B[0m \u001B[0mpreprocessor\u001B[0m\u001B[1;33m,\u001B[0m \u001B[0mnum_workers\u001B[0m\u001B[1;33m)\u001B[0m\u001B[1;33m\u001B[0m\u001B[1;33m\u001B[0m\u001B[0m\n\u001B[0;32m      5\u001B[0m \u001B[1;33m\u001B[0m\u001B[0m\n",
      "\u001B[1;31mNameError\u001B[0m: name 'TODO' is not defined"
     ]
    }
   ],
   "source": [
    "MNIST_path = '../Data/MNIST'\n",
    "preprocessor = [TODO]\n",
    "num_workers = 2\n",
    "MNIST_datasets, MNIST_generators = load_MNIST(MNIST_path, preprocessor, num_workers)"
   ]
  },
  {
   "cell_type": "markdown",
   "id": "afraid-killing",
   "metadata": {},
   "source": [
    "## 2 Convolutional sliding window\n",
    "\n",
    "We then need to implement the convolutional neural network that will do the heavy work. In a nutshell, we want to have a CNN that is able to locate and classify digits within input images with base dimensions $(h\\_in, w\\_in)$. Then, we use this CNN as the backbone mapping in a sliding window procedure, in order to be able to locate and classify digits within larger images with dimensions $(H\\_in, W\\_in)$ such that $H\\_in > h\\_in$ and $W\\_in > w\\_in$. In the first section, you learned how to perform this efficiently by converting the sequential sliding window procedure into a convolutional one. More specifically, you learned that passing directly the whole large image to the CNN mapping gives an output tensor whose spatial dimensions $(H\\_out, W\\_out)$ correspond to the number of sliding windows in the sequential procedure such that each cell is exactly the output of the CNN applied to the corresponding window. Moreover, you also are able to find the indices of these windows. \n",
    "\n",
    "**2) Use this knowledge in order to implement the CNN you'll be using for the digit localization task. Remember that the window size $(h\\_in, w\\_in)$ should be large enough to contain digits entirely and the input size $(H\\_in, W\\_in)$ should match the dimensions of the tensors produced by you generator, namely $64\\times 64$.**\n",
    "\n",
    "## 3 Bounding box extraction, encoding\n",
    "\n",
    "At the moment, we only have access to the digit labels. This is not sufficient for the task of digit localization: we need those bounding boxes, so we will produce them ourselves ! \n",
    "\n",
    "**3-1) Implement a code that will produce sharp bounding boxes around a digit. You can for instance use torch.where(... > 0.0) to find the limits of the digit in an image.**\n",
    "\n",
    "We will encode the digit localization problem using a target vector of size $6$: $y = (y_0, y_1, y_2, y_3, y_4, y_5)$:\n",
    "- $y_0$ is binary and encodes whether or not a digit was detected.\n",
    "- $y_1$ is categorical and encodes the label of the digit (if any).\n",
    "- $y_2, y_3, y_4, y_5$ are continuous and encode the bounding box of the digit (if any).\n",
    "\n",
    "We want every window to carry information. As such, we want to produce one $y$ for every window, such that the groudtruth tensor $Y\\_true$ should have dimensions $(N,6,H\\_out,W\\_out)$. In order to do this, for each window we can check if the digit is visible in this window:\n",
    "- If that's the case, $y_0$ is $1$, $y_1$ is the label of the digit and $y_2, y_3, y_4, y_5$ are the bounding box values **converted in the referential of the window**: the top of the window $h\\_start$ is treated as $0.0$ wheras the bottom of the window $h\\_end$ is treated as $1.0$ (and similarly for the left and right of the window). \n",
    "- Otherwise, the $y$ for that window is simply a zeros vector (if that's the case, we only really care about $y_0=0$).\n",
    "\n",
    "**3-2) Implement the encoding procedure. The code may have a similar structure as in the cell below:**"
   ]
  },
  {
   "cell_type": "code",
   "execution_count": null,
   "id": "impossible-farmer",
   "metadata": {},
   "outputs": [],
   "source": [
    "H_out = [TODO]\n",
    "W_out = [TODO]\n",
    "bounding_boxes = torch.zeros(size=(N, 4))\n",
    "Y_true = torch.zeros(size=(N, 6, H_out, W_out))\n",
    "for n in range(N):\n",
    "    # Bounding box extraction:\n",
    "    bounding_boxes[n,:] = [TODO]\n",
    "    # Bounding box coordinates:\n",
    "    top = bounding_boxes[n,0]\n",
    "    bottom = bounding_boxes[n,1]\n",
    "    left = bounding_boxes[n,2]\n",
    "    right = bounding_boxes[n,3]\n",
    "    for h in range(H_out):\n",
    "        for w in range(W_out):\n",
    "            # Coordinates of the window (h,w):\n",
    "            h_start = [TODO]\n",
    "            w_start = [TODO]\n",
    "            h_end = [TODO]\n",
    "            w_end = [TODO]\n",
    "            # If a digit is visible in the window (h,w) <==>\n",
    "            # rectangles (top, bottom, left, right) and (h_start, h_end, w_start, w_end) intersect:\n",
    "            if [TODO]:              \n",
    "                Y_true[n,:,h,w] = [TODO]"
   ]
  },
  {
   "cell_type": "markdown",
   "id": "proud-china",
   "metadata": {},
   "source": [
    "## 4 Training loop\n",
    "\n",
    "We are now ready to train our model. The only remaining question is the loss. We want a loss of the form $\\sum_{n < N} \\sum_{h < H\\_out} \\sum_{w < W\\_out} L(Y\\_true[n,:,h,w], Y\\_out[n,:,h,w])$,\n",
    "where \n",
    "\n",
    "$L(Y\\_true[n,:,h,w], Y\\_out[n,:,h,w]) = L\\_detection + L\\_classification + L\\_regression$ such that\n",
    "\n",
    "- $L\\_detection = binary\\_cross\\_entropy(sigmoid(Y\\_out[n,0,h,w]), Y\\_true[n,0,h,w])$\n",
    "\n",
    "If $sigmoid(Y\\_out[n,0,h,w]) > 0.5$ and $Y\\_true[n,0,h,w] == 1$ (\"true positive detection of digit in window $(h,w)$\"):\n",
    "- $L\\_classification = negative\\_log\\_likelihood\\_loss(log\\_softmax(Y\\_out[n,1\\!:\\!11,h,w]), Y\\_true[n,1,h,w])$ \n",
    "- $L\\_regression = mse(Y\\_out[n,-4\\!:,h,w], Y\\_true[n,-4\\!:,h,w])$\n",
    "\n",
    "Else:\n",
    "- $L\\_classification=0.0$\n",
    "- $L\\_regression=0.0$\n",
    "\n",
    "Essentially, this loss indicates that we break down the whole task into three subproblems:\n",
    "\n",
    "a) Is there a digit in the current window ?\n",
    "\n",
    "If so,\n",
    "\n",
    "b) What is the digit in the window ?\n",
    "\n",
    "c) Where is the digit in the window ?\n",
    "\n",
    "The two last questions only make sense assuming the first question was positively answered, hence the use of a conditional loss. Notice also that we sum the loss not only over samples in a batch, but also over windows. Essentially, the set of windows forming the sliding window procedure can be seen itself as a minibatch of samples. \n",
    "\n",
    "**4) Implement the training loop, then train your model for a few epochs.**"
   ]
  },
  {
   "cell_type": "markdown",
   "id": "comfortable-mention",
   "metadata": {},
   "source": [
    "## 5 Prediction"
   ]
  },
  {
   "cell_type": "markdown",
   "id": "destroyed-jonathan",
   "metadata": {},
   "source": [
    "Your model should now be trained, great ! But now you may wonder: \"How do I predict ?\". And indeed it is not so obvious. In our implementation, our model should output a tensor $Y\\_out$ with dimensions $(N,15,H\\_out,W\\_out)$, that is we have one prediction vector per window in the sliding window procedure. We propose the following strategy: among all the predicted vectors, keep the one associated to the window with the highest label classification score. In other word, $\\forall n<N$:\n",
    "\n",
    "a) Compute the max classification scores: $max\\_classification\\_scores = max_{i=1:11} \\{log\\_softmax(Y\\_out[n,i,:,:])\\}$.\n",
    "\n",
    "b) Extract the indices of the best window: $h\\_best,w\\_best = argmax_{h<H\\_out,w<W\\_out} \\{max\\_classification\\_scores[h,w]\\}$.\n",
    "\n",
    "c) Save the prediction associated to the best window. **You will have to convert the predicted bounding box back to the referential of the input image.** \n",
    "\n",
    "**5) Implement the predict function.**"
   ]
  },
  {
   "cell_type": "markdown",
   "id": "architectural-support",
   "metadata": {},
   "source": [
    "## 6 Visualization\n",
    "\n",
    "Time to test your hard work by visualizing your predictions ! \n",
    "\n",
    "**6) Implement a function that will display the 30 images contained in the test set, with the true bounding boxes in green and the predicted bounding boxes in red overlayed over images. Each image will be titled with its groundtruth and predicted labels. You can use fig, axes = plt.subplots(6, 5, figsize=(20, 16)) in order to place the images conveniently.**"
   ]
  }
 ],
 "metadata": {
  "kernelspec": {
   "display_name": "Python 3",
   "language": "python",
   "name": "python3"
  },
  "language_info": {
   "codemirror_mode": {
    "name": "ipython",
    "version": 3
   },
   "file_extension": ".py",
   "mimetype": "text/x-python",
   "name": "python",
   "nbconvert_exporter": "python",
   "pygments_lexer": "ipython3",
   "version": "3.7.10"
  }
 },
 "nbformat": 4,
 "nbformat_minor": 5
}