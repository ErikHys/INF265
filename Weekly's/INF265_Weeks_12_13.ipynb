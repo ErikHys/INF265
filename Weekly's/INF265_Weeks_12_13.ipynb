{
 "cells": [
  {
   "cell_type": "markdown",
   "id": "second-garbage",
   "metadata": {},
   "source": [
    "# Weeks 12-13: Object localization\n",
    "\n",
    "## General instructions\n",
    "\n",
    "Every two weeks you will be given an assignment related to the associated module. You have roughly two weeks to complete and submit each of them. There are three weekly group sessions available to help you complete the assignments. Attendance is not mandatory but recommended. However, all assignments are graded and not submitting them or submitting them after the deadline will give you no points.\n",
    "\n",
    "**FORMAT**: Jupyter notebook **(single file, not in a zip please!)**\n",
    "\n",
    "**DEADLINE**: Sunday 11th April, 23:59\n",
    "\n",
    "## Introduction\n",
    "\n",
    "The objective of this assignment is to get a basic understanding of the core concepts in object detection using convolutional neural networks. More specifically, this work focuses on the simpler problem of object localization, where each image contains a single object that should be spatially localized and classified. While object localization is simpler than object detection in the sense that object detection is more general as it allows for multiple objects per scene, object localization remains a rather avanced method, perfectly suited for our current level. This exercise consists of two parts:\n",
    "- To begin with, we will get familiar with the sliding window algorithm, and notice that applying a convolutional neural network sequentially to a specific set of windows within an image is in fact mathematically equivalent to passing the whole image as input for the convolutional neural network. We will in particular try to understand what parameters determine which set of windows will be processed by the convolutional sliding window algorithm and we will run a performance comparison between the sequential and convolutional implementations.\n",
    "- In a second part, we will implement in pytorch our own take on the object localization algorithm. For that purpose, the knowledge acquired in the first part of this assignment will be helpful, as we will try to implement object localization using a convolutional sliding window approach. In order for us to be able to train and test our network even on modest hardware, this exercise will have you work on a custom dataset: you will use the MNIST dataset as a backbone to generate new images with digits randomly placed and transformed, and each image will contain a single digit. While solving object localization on this custom dataset will be much easier than traditional object detection on large datasets such as COCO, it will still require clever vectorized coding if you hope to train your network in a reasonable amount of time !\n",
    "\n",
    "## Andrew's Videos related to this week's assignment\n",
    "\n",
    "- [C4W3L01 Object Localization](https://www.youtube.com/watch?v=GSwYGkTfOKk&list=PL_IHmaMAvkVxdDOBRg2CbcJBq9SY7ZUvs)\n",
    "- [C4W3L03 Object Detection](https://www.youtube.com/watch?v=5e5pjeojznk&list=PL_IHmaMAvkVxdDOBRg2CbcJBq9SY7ZUvs&index=3)\n",
    "- [C4W3L04 Convolutional Implementation Sliding Window](https://www.youtube.com/watch?v=XdsmlBGOK-k&list=PL_IHmaMAvkVxdDOBRg2CbcJBq9SY7ZUvs&index=4)"
   ]
  },
  {
   "cell_type": "markdown",
   "id": "leading-request",
   "metadata": {},
   "source": [
    "# Setup"
   ]
  },
  {
   "cell_type": "code",
   "execution_count": 1,
   "id": "upper-luxury",
   "metadata": {},
   "outputs": [],
   "source": [
    "import torch\n",
    "import torch.nn as nn\n",
    "import torch.optim as optim\n",
    "import numpy as np\n",
    "import torchvision\n",
    "from torchvision import datasets, transforms\n",
    "from torchsummary import summary\n",
    "import matplotlib.pyplot as plt\n",
    "import time\n",
    "import os\n",
    "from tqdm import tqdm\n",
    "\n",
    "torch.backends.cudnn.benchmark = True"
   ]
  },
  {
   "cell_type": "markdown",
   "id": "threatened-shooting",
   "metadata": {},
   "source": [
    "# Convolutional sliding window\n",
    "\n",
    "## I commented out a lot of printing for task 1 to reduce the size of the notebook, for task to I manage to get the same output dimension, but not the same norm, I think this might be because of weight initialization.\n",
    "\n",
    "The sliding window algorithm refers to any procedure that applies a certain function (\"map\") to sliding windows within an image. In its typical forumaltion, this seems to be an inherently sequential algorithm: process the first window, then the second etc$\\dots$ assuming the function to apply on every window is a convolutional neural network, an interesting fact arises: the sequential implemention of sliding window for this convolutional neural network map becomes exactly equivalent to passing the whole image as input to the convolutional neural network. We will investigate this fact further in this section. Answer the following questions:\n",
    "\n",
    "1) Watch Andrew's video about convolutional sliding window implementation.\n",
    "\n",
    "2) What slight modification is needed on the convolutional neural network such that sequential and convolutional sliding window procedures for this convolutional neural network map become equivalent ?\n",
    "    - the 16 to 400 , with 5x5 filter conv layer needs to work like flatten()\n",
    "3) Reproduce the convolutional neural network from Andrew's video (1:20), and verify that for an input tensor with spatial dimension $16\\times 16$, convolutional sliding window for that convolutional neural network map is the same as a sequential sliding window with stride $2$ along both spatial dimension. You can for instance compute the norm of the difference between the output tensors from convolutional and sequential implementations and check that this norm is indeed $0.0$."
   ]
  },
  {
   "cell_type": "code",
   "execution_count": 2,
   "outputs": [],
   "source": [
    "class SeqSliding(nn.Module):\n",
    "\n",
    "    def __init__(self):\n",
    "        super().__init__()\n",
    "        self.stride = 2\n",
    "        self.layers = []\n",
    "        self.layers.append(nn.Conv2d(3, 16, (5, 5)))\n",
    "        self.layers.append(nn.MaxPool2d((2,2), stride=2))\n",
    "        self.layers.append(nn.Flatten())\n",
    "        self.layers.append(nn.Linear(400, 400))\n",
    "        self.layers.append(nn.Linear(400, 4))\n",
    "        self.layers.append(nn.Softmax(dim=1))\n",
    "\n",
    "    def add_layer(self, layer, idx):\n",
    "        self.layers.insert(idx, layer)\n",
    "\n",
    "    def bad_weight_init(self):\n",
    "        nn.init.constant_(self.layers[0].weight.data, 0.2)\n",
    "        nn.init.constant_(self.layers[3].weight.data, 0.2)\n",
    "        nn.init.constant_(self.layers[4].weight.data, 0.2)\n",
    "\n",
    "\n",
    "\n",
    "    def forward(self, x):\n",
    "        a = x\n",
    "        for layer in self.layers:\n",
    "            a = layer(a)\n",
    "        a = torch.reshape(a, (x.shape[0], a.shape[0]//x.shape[0], a.shape[1]))\n",
    "        return a\n",
    "\n",
    "\n",
    "\n",
    "class ConvSliding(nn.Module):\n",
    "\n",
    "    def __init__(self):\n",
    "        super().__init__()\n",
    "        self.layers = []\n",
    "        self.layers.append(nn.Conv2d(3, 16, (5, 5)))\n",
    "        self.layers.append(nn.MaxPool2d((2,2), stride=2))\n",
    "        self.layers.append(nn.Conv2d(16, 400, (5, 5)))\n",
    "        self.layers.append(nn.Conv2d(400, 400, (1, 1)))\n",
    "        self.layers.append(nn.Conv2d(400, 4, (1, 1)))\n",
    "        self.layers.append(nn.Softmax(dim=1))\n",
    "\n",
    "\n",
    "\n",
    "    def bad_weight_init(self):\n",
    "        nn.init.constant_(self.layers[0].weight.data, 0.002)\n",
    "        nn.init.constant_(self.layers[2].weight.data, 0.04)\n",
    "        nn.init.constant_(self.layers[3].weight.data, 0.002)\n",
    "        nn.init.constant_(self.layers[4].weight.data, 0.002)\n",
    "\n",
    "    def add_layer(self, layer, idx):\n",
    "        self.layers.insert(idx, layer)\n",
    "\n",
    "    def forward(self, x):\n",
    "        a = x\n",
    "        for layer in self.layers:\n",
    "            a = layer(a)\n",
    "        return a"
   ],
   "metadata": {
    "collapsed": false,
    "pycharm": {
     "name": "#%%\n"
    }
   }
  },
  {
   "cell_type": "code",
   "execution_count": 3,
   "outputs": [],
   "source": [
    "def split_to_windows(stride, a, window_size=14):\n",
    "    dims = ((a.shape[2] - window_size)// stride + 1) * ((a.shape[3] - window_size)// stride + 1) * a.shape[0]\n",
    "    new_a = torch.empty((dims, 3, window_size, window_size))\n",
    "    idx = 0\n",
    "    for i in range(a.shape[0]):\n",
    "        for y in range(((a.shape[2] - window_size)// stride + 1)):\n",
    "            for x in range(((a.shape[3] - window_size)// stride + 1)):\n",
    "                new_a[idx] = torch.narrow(torch.narrow(a[i], -2, y*stride, window_size), -1, x*stride, window_size)\n",
    "                idx += 1\n",
    "    return new_a"
   ],
   "metadata": {
    "collapsed": false,
    "pycharm": {
     "name": "#%%\n"
    }
   }
  },
  {
   "cell_type": "code",
   "execution_count": 4,
   "outputs": [],
   "source": [
    "x1 = torch.rand((1, 3, 14, 14))\n",
    "t1 = torch.rand((1, 3, 16, 16))\n",
    "t_mod = split_to_windows(2, t1)"
   ],
   "metadata": {
    "collapsed": false,
    "pycharm": {
     "name": "#%%\n"
    }
   }
  },
  {
   "cell_type": "code",
   "execution_count": 5,
   "outputs": [],
   "source": [
    "conv_sliding = ConvSliding()\n",
    "window_sliding = SeqSliding()\n"
   ],
   "metadata": {
    "collapsed": false,
    "pycharm": {
     "name": "#%%\n"
    }
   }
  },
  {
   "cell_type": "code",
   "execution_count": 6,
   "outputs": [
    {
     "name": "stdout",
     "output_type": "stream",
     "text": [
      "torch.Size([1, 4, 2, 2])\n",
      "tensor([[[[0.2492, 0.2581],\n",
      "          [0.2567, 0.2594]],\n",
      "\n",
      "         [[0.2495, 0.2434],\n",
      "          [0.2345, 0.2371]],\n",
      "\n",
      "         [[0.2509, 0.2421],\n",
      "          [0.2491, 0.2480]],\n",
      "\n",
      "         [[0.2504, 0.2563],\n",
      "          [0.2596, 0.2555]]]], grad_fn=<SoftmaxBackward>)\n",
      "torch.Size([4, 4, 1, 1])\n",
      "tensor([[[[0.2492]],\n",
      "\n",
      "         [[0.2495]],\n",
      "\n",
      "         [[0.2509]],\n",
      "\n",
      "         [[0.2504]]],\n",
      "\n",
      "\n",
      "        [[[0.2581]],\n",
      "\n",
      "         [[0.2434]],\n",
      "\n",
      "         [[0.2421]],\n",
      "\n",
      "         [[0.2563]]],\n",
      "\n",
      "\n",
      "        [[[0.2567]],\n",
      "\n",
      "         [[0.2345]],\n",
      "\n",
      "         [[0.2491]],\n",
      "\n",
      "         [[0.2596]]],\n",
      "\n",
      "\n",
      "        [[[0.2594]],\n",
      "\n",
      "         [[0.2371]],\n",
      "\n",
      "         [[0.2480]],\n",
      "\n",
      "         [[0.2555]]]], grad_fn=<SoftmaxBackward>)\n",
      "tensor([[[[0.2492, 0.2495],\n",
      "          [0.2509, 0.2504]],\n",
      "\n",
      "         [[0.2581, 0.2434],\n",
      "          [0.2421, 0.2563]],\n",
      "\n",
      "         [[0.2567, 0.2345],\n",
      "          [0.2491, 0.2596]],\n",
      "\n",
      "         [[0.2594, 0.2371],\n",
      "          [0.2480, 0.2555]]]], grad_fn=<ViewBackward>)\n",
      "torch.Size([4, 1, 4])\n",
      "tensor([[[0.2458, 0.2395, 0.2569, 0.2578]],\n",
      "\n",
      "        [[0.2652, 0.2465, 0.2303, 0.2581]],\n",
      "\n",
      "        [[0.2528, 0.2424, 0.2283, 0.2765]],\n",
      "\n",
      "        [[0.2711, 0.2334, 0.2232, 0.2723]]], grad_fn=<ViewBackward>)\n"
     ]
    }
   ],
   "source": [
    "oc2 = conv_sliding(t1)\n",
    "print(oc2.shape)\n",
    "print(oc2)\n",
    "oc_mod = conv_sliding(t_mod)\n",
    "print(oc_mod.shape)\n",
    "print(oc_mod)\n",
    "print(torch.reshape(oc_mod, (1, 4, 2, 2)))\n",
    "wc_mod = window_sliding(t_mod)\n",
    "print(wc_mod.shape)\n",
    "print(wc_mod)"
   ],
   "metadata": {
    "collapsed": false,
    "pycharm": {
     "name": "#%%\n"
    }
   }
  },
  {
   "cell_type": "code",
   "execution_count": 7,
   "outputs": [
    {
     "name": "stdout",
     "output_type": "stream",
     "text": [
      "tensor(1.0004, grad_fn=<CopyBackwards>)\n",
      "tensor(1.0021, grad_fn=<CopyBackwards>)\n",
      "tensor(-0.0016, grad_fn=<SubBackward0>)\n"
     ]
    }
   ],
   "source": [
    "n = torch.reshape(oc_mod, (4, 4))\n",
    "q = torch.reshape(wc_mod, (4, 4))\n",
    "print(torch.linalg.norm(n))\n",
    "print(torch.linalg.norm(q))\n",
    "print(torch.linalg.norm(n) - torch.linalg.norm(q))\n"
   ],
   "metadata": {
    "collapsed": false,
    "pycharm": {
     "name": "#%%\n"
    }
   }
  },
  {
   "cell_type": "markdown",
   "source": [
    "I can see that the math corresponds, but I don't get the answers to match completely because the indexing is different\n",
    "between my splitting and the convolutional splitting, where window sequential[0][0] = (convolutional[0][0][0][0], convolutional[0][1][0][0], convolutional[0][2][0][0], convolutional[0][3][0][0])\n",
    "Tested with some weight initialisation and got the same answers on sequential and convolutional."
   ],
   "metadata": {
    "collapsed": false,
    "pycharm": {
     "name": "#%% md\n"
    }
   }
  },
  {
   "cell_type": "markdown",
   "source": [
    "4) What happens when the input tensor now has spatial dimensions $28\\times 28$? Try a few other spatial dimensions. Can you find some such that convolutional and sequential procedures yield different outputs ?"
   ],
   "metadata": {
    "collapsed": false,
    "pycharm": {
     "name": "#%% md\n"
    }
   }
  },
  {
   "cell_type": "code",
   "execution_count": 8,
   "outputs": [
    {
     "name": "stdout",
     "output_type": "stream",
     "text": [
      "torch.Size([1, 4, 8, 8])\n",
      "torch.Size([64, 1, 4])\n"
     ]
    }
   ],
   "source": [
    "t1 = torch.rand((1, 3, 28, 28))\n",
    "t_mod = split_to_windows(2, t1)\n",
    "oc2 = conv_sliding(t1)\n",
    "print(oc2.shape)\n",
    "# print(oc2)\n",
    "wc_mod = window_sliding(t_mod)\n",
    "print(wc_mod.shape)\n",
    "# print(wc_mod)"
   ],
   "metadata": {
    "collapsed": false,
    "pycharm": {
     "name": "#%%\n"
    }
   }
  },
  {
   "cell_type": "markdown",
   "source": [
    "5) Do a time comparison for various input spatial dimensions between convolutional and sequential sliding window procedures for Andrew's convolutional network map. Which is the most efficient ? Can you explain why ?"
   ],
   "metadata": {
    "collapsed": false,
    "pycharm": {
     "name": "#%% md\n"
    }
   }
  },
  {
   "cell_type": "code",
   "execution_count": 9,
   "outputs": [],
   "source": [
    "import  time\n",
    "\n",
    "def time_model():\n",
    "    resolutions = [16, 28, 720, 1080]\n",
    "    for res in resolutions:\n",
    "        data = torch.rand((5, 3, res, res))\n",
    "        data_mod = split_to_windows(2, data)\n",
    "        start = time.time()\n",
    "        test_seq = window_sliding(data_mod)\n",
    "        stop = time.time()\n",
    "        print(\"Sequential time: \", stop-start, \" input dims: \", res, \" output dims: \" ,test_seq.shape)\n",
    "        start = time.time()\n",
    "        test_seq = conv_sliding(data)\n",
    "        stop = time.time()\n",
    "        print(\"Conv time: \", stop-start, \" input dims: \", res, \" output dims: \" ,test_seq.shape)\n",
    "\n",
    "# time_model()"
   ],
   "metadata": {
    "collapsed": false,
    "pycharm": {
     "name": "#%%\n"
    }
   }
  },
  {
   "cell_type": "markdown",
   "source": [
    "6) Modify slightly Andrew's convolutional neural network such that there is now an additional convolutional layer. Do convolutional and sequential sliding window with stride $2$ procedures still coincide ? If not, what should be the stride for them to coincide again ?"
   ],
   "metadata": {
    "collapsed": false,
    "pycharm": {
     "name": "#%% md\n"
    }
   }
  },
  {
   "cell_type": "code",
   "execution_count": 10,
   "outputs": [],
   "source": [
    "added_conv_conv_sliding = ConvSliding()\n",
    "added_conv_seq_sliding = SeqSliding()\n",
    "added_conv_conv_sliding.add_layer(nn.Conv2d(16, 16, (5, 5)), 2)\n",
    "added_conv_seq_sliding.add_layer(nn.Conv2d(16, 16, (5, 5)), 2)\n",
    "\n",
    "acx1 = torch.rand((1, 3, 22, 22))"
   ],
   "metadata": {
    "collapsed": false,
    "pycharm": {
     "name": "#%%\n"
    }
   }
  },
  {
   "cell_type": "code",
   "execution_count": 11,
   "outputs": [
    {
     "name": "stdout",
     "output_type": "stream",
     "text": [
      "torch.Size([1, 4, 1, 1])\n",
      "torch.Size([1, 1, 4])\n"
     ]
    }
   ],
   "source": [
    "out = added_conv_conv_sliding(acx1)\n",
    "print(out.shape)\n",
    "out = added_conv_seq_sliding(split_to_windows(2, acx1, window_size=22))\n",
    "print(out.shape)"
   ],
   "metadata": {
    "collapsed": false,
    "pycharm": {
     "name": "#%%\n"
    }
   }
  },
  {
   "cell_type": "markdown",
   "source": [
    "Adding Conv layers changes the size of the window. I'm guessing depending on filter size and channel out you can customize\n",
    "that to what you want. I added another 5x5 filter with out 16 channels and it increased the window frow 14 to 22"
   ],
   "metadata": {
    "collapsed": false,
    "pycharm": {
     "name": "#%% md\n"
    }
   }
  },
  {
   "cell_type": "markdown",
   "source": [
    "7) Same question but now add an additional max pooling layer (with kernel size $2$) instead."
   ],
   "metadata": {
    "collapsed": false,
    "pycharm": {
     "name": "#%% md\n"
    }
   }
  },
  {
   "cell_type": "code",
   "execution_count": 12,
   "outputs": [],
   "source": [
    "added_conv_conv_sliding = ConvSliding()\n",
    "added_conv_seq_sliding = SeqSliding()\n",
    "added_conv_conv_sliding.add_layer(nn.MaxPool2d((2,2), stride=2), 2)\n",
    "added_conv_seq_sliding.add_layer(nn.MaxPool2d((2,2), stride=2), 2)\n",
    "\n",
    "acx1 = torch.rand((1, 3, 28, 28))"
   ],
   "metadata": {
    "collapsed": false,
    "pycharm": {
     "name": "#%%\n"
    }
   }
  },
  {
   "cell_type": "code",
   "execution_count": 13,
   "outputs": [
    {
     "name": "stdout",
     "output_type": "stream",
     "text": [
      "torch.Size([1, 4, 2, 2])\n",
      "torch.Size([4, 1, 4])\n"
     ]
    }
   ],
   "source": [
    "out = added_conv_conv_sliding(acx1)\n",
    "print(out.shape)\n",
    "out = added_conv_seq_sliding(split_to_windows(4, acx1, window_size=24))\n",
    "print(out.shape)"
   ],
   "metadata": {
    "collapsed": false,
    "pycharm": {
     "name": "#%%\n"
    }
   }
  },
  {
   "cell_type": "markdown",
   "source": [
    "It increases the stride by 2."
   ],
   "metadata": {
    "collapsed": false,
    "pycharm": {
     "name": "#%% md\n"
    }
   }
  },
  {
   "cell_type": "markdown",
   "source": [
    "8) It turns out that the architecture of the convolutional neural network map itself will determine what is the set of windows for which convolutional and sequential sliding window procedures coincide for that convolutional neural network map. In the following, let us assume that all convolutional layers have padding $0$ and all max pooling layers have kernel size $2$. Can you guess the formulas that give the number of windows and their indices ? $\\textbf{Hint}$: Remember your implementation of the Conv2d layer. $\\textbf{If you can't find this, CONTACT US!}$ It will be important in the second section.\n",
    "\n",
    "window_reduction_per_conv_layer = (- kernel size + 1) * (number of maxpooling layers before this point + 1)\n",
    "\n",
    "window_reduction_per_pooling_layer = in/2\n",
    "\n",
    "calculate windows for task 6:\n",
    "\n",
    "architecture:\n",
    "\n",
    "- conv(5,5) + 4\n",
    "- max() *2\n",
    "- conv(5,5) + 4\n",
    "- conv(last 5,5)+4\n",
    "- conv(1,1) 1\n",
    "\n",
    "go bottom up:\n",
    "\n",
    "(1 +4 + 4 )* 2 + 4 = 9*2+4=22 Correct :)\n",
    "\n",
    "test with task 1, 7, alternate 6\n",
    "\n",
    "* 1. (1 + 4) * 2 + 4 = 14\n",
    "\n",
    "* 7. (1+4) * 2 * 2 + 4 = 24\n",
    "\n",
    "* 6. Alternative implementation extra conv layer at the start: (1 + 4) * 2 + 4 + 4 = 18\n",
    "\n",
    "Indecies:\n",
    "\n",
    "First image, first window = [0][0..len(classes)][0][0]\n",
    "\n",
    "First image, second window going along the x-axis = [0][0..len(classes)][0][1]\n",
    "\n",
    "Second image, second window going along the y-axis = [1][0..len(classes)][1][0]"
   ],
   "metadata": {
    "collapsed": false,
    "pycharm": {
     "name": "#%% md\n"
    }
   }
  },
  {
   "cell_type": "markdown",
   "id": "eight-springer",
   "metadata": {},
   "source": [
    "# MNIST localization in Pytorch\n",
    "\n",
    "## 1 Data generation\n",
    "\n",
    "In this second section we aim to implement from scratch our custom digit localization algorithm. We will use the MNIST dataset as a backbone:"
   ]
  },
  {
   "cell_type": "code",
   "execution_count": 14,
   "id": "automatic-submission",
   "metadata": {},
   "outputs": [],
   "source": [
    "datasets.MNIST.resources = [\n",
    "            ('https://ossci-datasets.s3.amazonaws.com/mnist/train-images-idx3-ubyte.gz', 'f68b3c2dcbeaaa9fbdd348bbdeb94873'),\n",
    "            ('https://ossci-datasets.s3.amazonaws.com/mnist/train-labels-idx1-ubyte.gz', 'd53e105ee54ea40749a09fcbcd1e9432'),\n",
    "            ('https://ossci-datasets.s3.amazonaws.com/mnist/t10k-images-idx3-ubyte.gz', '9fb629c4189551a2d022fa330f9573f3'),\n",
    "            ('https://ossci-datasets.s3.amazonaws.com/mnist/t10k-labels-idx1-ubyte.gz', 'ec29112dd5afa0611ce80d1b7f02629c')\n",
    "        ]\n",
    "def load_MNIST(MNIST_path, preprocessor, num_workers):\n",
    "    train_dataset = datasets.MNIST(MNIST_path, train=True, download=True, transform=preprocessor)\n",
    "    val_test_dataset = datasets.MNIST(MNIST_path, train=False, download=True, transform=preprocessor)\n",
    "    n_val_test = len(val_test_dataset.targets)\n",
    "    # The test set will only contain 30 images, perfect for visualization purpose:\n",
    "    val_dataset, test_dataset = torch.utils.data.random_split(val_test_dataset, [n_val_test-30, 30])\n",
    "    MNIST_datasets = {\"train\": train_dataset, \n",
    "                      \"val\": val_dataset,\n",
    "                      \"test\": test_dataset}\n",
    "    MNIST_generators = {\"train\": torch.utils.data.DataLoader(MNIST_datasets[\"train\"], \n",
    "                                                             batch_size=32,\n",
    "                                                             shuffle=True, \n",
    "                                                             num_workers=num_workers),\n",
    "                        \"val\": torch.utils.data.DataLoader(MNIST_datasets[\"val\"], \n",
    "                                                           batch_size=256, \n",
    "                                                           shuffle=False, \n",
    "                                                           num_workers=num_workers),\n",
    "                        \"test\": torch.utils.data.DataLoader(MNIST_datasets[\"test\"], \n",
    "                                                            batch_size=32,\n",
    "                                                            shuffle=False, \n",
    "                                                            num_workers=num_workers)}\n",
    "    return MNIST_datasets, MNIST_generators"
   ]
  },
  {
   "cell_type": "markdown",
   "id": "deluxe-garage",
   "metadata": {},
   "source": [
    "We now want to have a digit generator in pytorch that would produce samples \"on the fly\" for the digit localization task. The problem we have is that all MNIST digits are centered, have the same orientation and roughly the same size which makes the localization task pretty dull. \n",
    "\n",
    "**1) Write a data preprocessor that would do the following:**\n",
    "\n",
    "**a) Randomly rotates digits.**\n",
    "\n",
    "**b) Randomly rescales digits with a scale factor randomly sampled in the range [0.75,1.25].**\n",
    "\n",
    "**c) Randomly places digits within a zeros tensor having spatial dimensions $64\\times 64$.**\n",
    "\n",
    "**You can make sure your data generator works as intended by visualizing the test set generated by MNIST_generators[\"test\"]. Each image generated this way should contain one and exactly one digit!**"
   ]
  },
  {
   "cell_type": "code",
   "execution_count": 15,
   "id": "intensive-turtle",
   "metadata": {},
   "outputs": [],
   "source": [
    "import random\n",
    "random.seed(12)\n",
    "\n",
    "def padRandom(image):\n",
    "    x_rand_pad = random.randrange(60 - image.size[0]) + 2\n",
    "    y_rand_pad = random.randrange(60 - image.size[1]) + 2\n",
    "    image = transforms.functional.pad(image, [x_rand_pad, y_rand_pad, 64-image.size[0]-x_rand_pad, 64-image.size[1]-y_rand_pad])\n",
    "    return image\n",
    "\n",
    "MNIST_path = '../Data/'\n",
    "preprocessor = transforms.Compose(\n",
    "                [transforms.Lambda(padRandom),\n",
    "                 transforms.RandomRotation(90),\n",
    "                 transforms.ToTensor()]\n",
    "                )\n",
    "num_workers = 0\n",
    "MNIST_datasets, MNIST_generators = load_MNIST(MNIST_path, preprocessor, num_workers)\n",
    "elem = next(iter(MNIST_generators[\"test\"]))"
   ]
  },
  {
   "cell_type": "code",
   "execution_count": 16,
   "outputs": [
    {
     "data": {
      "text/plain": "<matplotlib.image.AxesImage at 0x209162a6700>"
     },
     "execution_count": 16,
     "metadata": {},
     "output_type": "execute_result"
    },
    {
     "data": {
      "text/plain": "<Figure size 432x288 with 1 Axes>",
      "image/png": "[encoded data removed]"
     },
     "metadata": {
      "needs_background": "light"
     },
     "output_type": "display_data"
    }
   ],
   "source": [
    "\n",
    "plt.imshow(elem[0][4].permute(1, 2, 0))"
   ],
   "metadata": {
    "collapsed": false,
    "pycharm": {
     "name": "#%%\n"
    }
   }
  },
  {
   "cell_type": "markdown",
   "id": "afraid-killing",
   "metadata": {},
   "source": [
    "## 2 Convolutional sliding window\n",
    "\n",
    "We then need to implement the convolutional neural network that will do the heavy work. In a nutshell, we want to have a CNN that is able to locate and classify digits within input images with base dimensions $(h\\_in, w\\_in)$. Then, we use this CNN as the backbone mapping in a sliding window procedure, in order to be able to locate and classify digits within larger images with dimensions $(H\\_in, W\\_in)$ such that $H\\_in > h\\_in$ and $W\\_in > w\\_in$. In the first section, you learned how to perform this efficiently by converting the sequential sliding window procedure into a convolutional one. More specifically, you learned that passing directly the whole large image to the CNN mapping gives an output tensor whose spatial dimensions $(H\\_out, W\\_out)$ correspond to the number of sliding windows in the sequential procedure such that each cell is exactly the output of the CNN applied to the corresponding window. Moreover, you also are able to find the indices of these windows. \n",
    "\n",
    "**2) Use this knowledge in order to implement the CNN you'll be using for the digit localization task. Remember that the window size $(h\\_in, w\\_in)$ should be large enough to contain digits entirely and the input size $(H\\_in, W\\_in)$ should match the dimensions of the tensors produced by you generator, namely $64\\times 64$.**\n",
    "\n",
    "Four proposed architecture:\n",
    "\n",
    "Window_size = 28\n",
    "Stride=2\n",
    "1. conv(5,5)\n",
    "1. conv(3,3)\n",
    "1. maxpool(stride=2)\n",
    "1. conv(3,3)\n",
    "1. conv(5,5)\n",
    "1. conv(5,5)\n",
    "1. conv(1,1)\n",
    "1. conv(1,1)\n",
    "\n",
    "\n",
    "Window_size = 28\n",
    "Stride=4\n",
    "1. conv(5,5)\n",
    "1. maxpool(stride=2)\n",
    "1. conv(3,3)\n",
    "1. maxpool(stride=2)\n",
    "1. conv(5,5)\n",
    "1. conv(1,1)\n",
    "1. conv(1,1)\n",
    "\n",
    "\n",
    "Window_size = 32\n",
    "Stride=2\n",
    "1. conv(5,5)\n",
    "1. conv(3,3)\n",
    "1. maxpool(stride=2)\n",
    "1. conv(5,5)\n",
    "1. conv(5,5)\n",
    "1. conv(5,5)\n",
    "1. conv(1,1)\n",
    "1. conv(1,1)\n",
    "\n",
    "\n",
    "Window_size = 32\n",
    "Stride=4\n",
    "1. conv(5,5)\n",
    "1. maxpool(stride=2)\n",
    "1. conv(5,5)\n",
    "1. maxpool(stride=2)\n",
    "1. conv(5,5)\n",
    "1. conv(1,1)\n",
    "1. conv(1,1)"
   ]
  },
  {
   "cell_type": "code",
   "execution_count": 17,
   "outputs": [],
   "source": [
    "\n",
    "class ConvMINSTStride2size28(nn.Module):\n",
    "\n",
    "    def __init__(self, nr_of_classes):\n",
    "        super().__init__()\n",
    "        self.layers = nn.ModuleList()\n",
    "        self.layers.append(nn.Conv2d(1, 16, (5, 5)))\n",
    "        self.layers.append(nn.Conv2d(16, 32, (3, 3)))\n",
    "        self.layers.append(nn.MaxPool2d((2,2), stride=2))\n",
    "        self.layers.append(nn.Conv2d(32, 16, (3, 3)))\n",
    "        self.layers.append(nn.Conv2d(16, 400, (5, 5)))\n",
    "        self.layers.append(nn.Conv2d(16, 400, (5, 5)))\n",
    "        self.layers.append(nn.Conv2d(400, 400, (1, 1)))\n",
    "        self.layers.append(nn.Conv2d(400, nr_of_classes, (1, 1)))\n",
    "\n",
    "\n",
    "    def forward(self, x):\n",
    "        a = x\n",
    "        for layer in self.layers:\n",
    "            a = layer(a)\n",
    "        return a\n",
    "\n",
    "\n",
    "class ConvMINSTStride4Size28(nn.Module):\n",
    "\n",
    "    def __init__(self, nr_of_classes):\n",
    "        super().__init__()\n",
    "        self.layers = nn.ModuleList()\n",
    "        self.layers.append(nn.Conv2d(1, 16, (5, 5)))\n",
    "        self.layers.append(nn.MaxPool2d((2,2), stride=2))\n",
    "        self.layers.append(nn.Conv2d(16, 16, (3, 3)))\n",
    "        self.layers.append(nn.MaxPool2d((2,2), stride=2))\n",
    "        self.layers.append(nn.Conv2d(16, 400, (5, 5)))\n",
    "        self.layers.append(nn.Conv2d(400, 400, (1, 1)))\n",
    "        self.layers.append(nn.Conv2d(400, nr_of_classes, (1, 1)))\n",
    "\n",
    "\n",
    "    def forward(self, x):\n",
    "        a = x\n",
    "        for layer in self.layers:\n",
    "            a = layer(a)\n",
    "        return a\n",
    "\n",
    "\n",
    "class ConvMINSTStride2size32(nn.Module):\n",
    "\n",
    "    def __init__(self, nr_of_classes):\n",
    "        super().__init__()\n",
    "        self.layers = nn.ModuleList()\n",
    "        self.layers.append(nn.Conv2d(1, 16, (5, 5)))\n",
    "        self.layers.append(nn.Conv2d(16, 32, (3, 3)))\n",
    "        self.layers.append(nn.MaxPool2d((2,2), stride=2))\n",
    "        self.layers.append(nn.Conv2d(32, 32, (5, 5)))\n",
    "        self.layers.append(nn.Conv2d(32, 16, (5, 5)))\n",
    "        self.layers.append(nn.Conv2d(16, 400, (5, 5)))\n",
    "        self.layers.append(nn.Conv2d(400, 400, (1, 1)))\n",
    "        self.layers.append(nn.Conv2d(400, nr_of_classes, (1, 1)))\n",
    "\n",
    "\n",
    "    def forward(self, x):\n",
    "        a = x\n",
    "        for layer in self.layers:\n",
    "            a = layer(a)\n",
    "        return a\n",
    "\n",
    "\n",
    "class ConvMINSTStride4Size32(nn.Module):\n",
    "\n",
    "    def __init__(self, nr_of_classes):\n",
    "        super().__init__()\n",
    "        self.layers = nn.ModuleList()\n",
    "        self.layers.append(nn.Conv2d(1, 16, (5, 5)))\n",
    "        self.layers.append(nn.MaxPool2d((2,2), stride=2))\n",
    "        self.layers.append(nn.Conv2d(16, 16, (5, 5)))\n",
    "        self.layers.append(nn.MaxPool2d((2,2), stride=2))\n",
    "        self.layers.append(nn.Conv2d(16, 400, (5, 5)))\n",
    "        self.layers.append(nn.Conv2d(400, 400, (1, 1)))\n",
    "        self.layers.append(nn.Conv2d(400, nr_of_classes, (1, 1)))\n",
    "\n",
    "    def forward(self, x):\n",
    "        a = x\n",
    "        for layer in self.layers:\n",
    "            a = layer(a)\n",
    "        return a"
   ],
   "metadata": {
    "collapsed": false,
    "pycharm": {
     "name": "#%%\n"
    }
   }
  },
  {
   "cell_type": "markdown",
   "source": [
    "## 3 Bounding box extraction, encoding\n",
    "\n",
    "At the moment, we only have access to the digit labels. This is not sufficient for the task of digit localization: we need those bounding boxes, so we will produce them ourselves ! \n",
    "\n",
    "**3-1) Implement a code that will produce sharp bounding boxes around a digit. You can for instance use torch.where(... > 0.0) to find the limits of the digit in an image.**\n",
    "\n",
    "We will encode the digit localization problem using a target vector of size $6$: $y = (y_0, y_1, y_2, y_3, y_4, y_5)$:\n",
    "- $y_0$ is binary and encodes whether or not a digit was detected.\n",
    "- $y_1$ is categorical and encodes the label of the digit (if any).\n",
    "- $y_2, y_3, y_4, y_5$ are continuous and encode the bounding box of the digit (if any).\n",
    "\n",
    "We want every window to carry information. As such, we want to produce one $y$ for every window, such that the groudtruth tensor $Y\\_true$ should have dimensions $(N,6,H\\_out,W\\_out)$. In order to do this, for each window we can check if the digit is visible in this window:\n",
    "- If that's the case, $y_0$ is $1$, $y_1$ is the label of the digit and $y_2, y_3, y_4, y_5$ are the bounding box values **converted in the referential of the window**: the top of the window $h\\_start$ is treated as $0.0$ wheras the bottom of the window $h\\_end$ is treated as $1.0$ (and similarly for the left and right of the window). \n",
    "- Otherwise, the $y$ for that window is simply a zeros vector (if that's the case, we only really care about $y_0=0$).\n"
   ],
   "metadata": {
    "collapsed": false,
    "pycharm": {
     "name": "#%% md\n"
    }
   }
  },
  {
   "cell_type": "code",
   "execution_count": 18,
   "outputs": [],
   "source": [
    "def findTopLeftBottomRight(image):\n",
    "    #Remove channel dimension\n",
    "    image = image[0]\n",
    "    ones = torch.ones(image.shape)\n",
    "\n",
    "    ones_and_zeroes = torch.where(image > 0, ones, image)\n",
    "    # Find the first element in columns and rows\n",
    "    x_min_argmax = torch.argmax(ones_and_zeroes, dim=-1)\n",
    "    y_min_argmax = torch.argmax(ones_and_zeroes, dim=-2)\n",
    "    sixtyfours = torch.ones(x_min_argmax.shape, dtype=torch.int64)*64\n",
    "    # Take the smallest of those, but not the ones that are equal to 0, because if a row or col only has zeros it will give zero\n",
    "    # so my images are padded by 2 so no digit will touch the edge\n",
    "    x_minp = torch.min(torch.where(x_min_argmax == 0, sixtyfours, x_min_argmax))\n",
    "    y_minp = torch.min(torch.where(y_min_argmax == 0, sixtyfours, y_min_argmax))\n",
    "    # flip it and do the same to get the max values\n",
    "    ones_and_zeroesud = ones_and_zeroes.flipud()\n",
    "    ones_and_zeroeslr = ones_and_zeroes.fliplr()\n",
    "    x_max_argmax = torch.argmax(ones_and_zeroeslr, dim=-1)\n",
    "    y_max_argmax = torch.argmax(ones_and_zeroesud, dim=-2)\n",
    "    x_maxp = 63 - torch.min(torch.where(x_max_argmax == 0, sixtyfours, x_max_argmax))\n",
    "    y_maxp = 63 -torch.min(torch.where(y_max_argmax == 0, sixtyfours, y_max_argmax))\n",
    "    # show_img_box(image, x_minp, y_minp, x_maxp, y_maxp)\n",
    "    return torch.tensor((x_minp, y_minp, x_maxp, y_maxp))\n",
    "\n",
    "\n",
    "def show_img_box(image, x_minp, y_minp, x_maxp, y_maxp):\n",
    "    #Visualize box\n",
    "    fig, ax = plt.subplots()\n",
    "    ax.imshow(image)\n",
    "    ax.plot([x_minp, x_maxp], [y_minp, y_minp], color='green')\n",
    "    ax.plot([x_minp, x_maxp], [y_maxp, y_maxp], color='green')\n",
    "    ax.plot([x_minp, x_minp], [y_minp, y_maxp], color='green')\n",
    "    ax.plot([x_maxp, x_maxp], [y_minp, y_maxp], color='green')\n",
    "    plt.show()\n",
    "    plt.pause(0.1)\n",
    "\n",
    "\n",
    "def findTopLeftBottomRight_no_torch(image):\n",
    "    image = image[0]\n",
    "    ones = torch.ones(image.shape)\n",
    "    ones_and_zeroes = torch.where(image > 0, ones, image)\n",
    "    x_min, y_min = 64, 64\n",
    "    x_max, y_max = 0, 0\n",
    "    for h in range(image.shape[0]):\n",
    "        for w in range(image.shape[1]):\n",
    "            if ones_and_zeroes[h, w] == 1:\n",
    "                x_min, y_min = min(x_min, w), min(y_min, h)\n",
    "                x_max, y_max = max(x_max, w), max(y_max, h)\n",
    "\n",
    "    fig, ax = plt.subplots()\n",
    "    ax.imshow(image)\n",
    "    ax.plot([x_min, x_max], [y_min, y_min], color='green')\n",
    "    ax.plot([x_min, x_max], [y_max, y_max], color='green')\n",
    "    ax.plot([x_min, x_min], [y_min, y_max], color='green')\n",
    "    ax.plot([x_max, x_max], [y_min, y_max], color='green')\n",
    "    plt.show()\n",
    "    plt.pause(0.1)\n",
    "    return torch.tensor((x_min, y_min, x_max, y_max))"
   ],
   "metadata": {
    "collapsed": false,
    "pycharm": {
     "name": "#%%\n"
    }
   }
  },
  {
   "cell_type": "markdown",
   "source": [
    "**3-2) Implement the encoding procedure. The code may have a similar structure as in the cell below:**\n"
   ],
   "metadata": {
    "collapsed": false,
    "pycharm": {
     "name": "#%% md\n"
    }
   }
  },
  {
   "cell_type": "code",
   "execution_count": 19,
   "outputs": [],
   "source": [
    "def label_dataset(dataset, h_out=10, w_out=10, window_size=28, stride=4):\n",
    "    N = len(dataset)\n",
    "    pbar = tqdm(total=N, desc='Generating Labels')\n",
    "    H_out = h_out\n",
    "    W_out = w_out\n",
    "    bounding_boxes = torch.zeros(size=(N, 4))\n",
    "    Y_true = torch.zeros(size=(N, 6, H_out, W_out))\n",
    "    Xs = torch.empty(size=(N, dataset[0][0].shape[0], dataset[0][0].shape[1], dataset[0][0].shape[2]))\n",
    "    for n in range(N):\n",
    "        # Bounding box extraction:\n",
    "        x, y = dataset[n][0], dataset[n][1]\n",
    "        Xs[n] = x\n",
    "        bounding_boxes[n,:] = findTopLeftBottomRight(x)\n",
    "        # Bounding box coordinates:\n",
    "        left = bounding_boxes[n,0]\n",
    "        top = bounding_boxes[n,1]\n",
    "        right = bounding_boxes[n,2]\n",
    "        bottom = bounding_boxes[n,3]\n",
    "        for h in range(H_out):\n",
    "            for w in range(W_out):\n",
    "                # Coordinates of the window (h,w):\n",
    "                h_start = h*stride\n",
    "                w_start = w*stride\n",
    "                h_end = h_start+window_size\n",
    "                w_end = w_start+window_size\n",
    "                # If a digit is visible in the window (h,w) <==>\n",
    "                # rectangles (top, bottom, left, right) and (h_start, h_end, w_start, w_end) intersect:\n",
    "                y1 = 1 if left >= w_start and top >= h_start\\\n",
    "                        and right <= w_end and bottom <= h_end else 0\n",
    "                Y_true[n,:,h,w] = torch.tensor([y1, y, left, top, right, bottom])\n",
    "        pbar.update()\n",
    "    pbar.close()\n",
    "    return custom_dataset(Xs, Y_true)"
   ],
   "metadata": {
    "collapsed": false,
    "pycharm": {
     "name": "#%%\n"
    }
   }
  },
  {
   "cell_type": "code",
   "execution_count": 20,
   "outputs": [],
   "source": [
    "from torch.utils.data import Dataset\n",
    "\n",
    "class custom_dataset(Dataset):\n",
    "\n",
    "    def __init__(self, dataset, labels):\n",
    "        self.dataset = dataset\n",
    "        self.labels = labels\n",
    "\n",
    "    def __getitem__(self, idx):\n",
    "        image = self.dataset[idx]\n",
    "        target = self.labels[idx]\n",
    "        return (image, target)\n",
    "\n",
    "    def __len__(self):\n",
    "        return len(self.labels)"
   ],
   "metadata": {
    "collapsed": false,
    "pycharm": {
     "name": "#%%\n"
    }
   }
  },
  {
   "cell_type": "code",
   "execution_count": 21,
   "outputs": [
    {
     "name": "stderr",
     "output_type": "stream",
     "text": [
      "Generating Labels: 100%|██████████| 60000/60000 [02:33<00:00, 390.20it/s]\n"
     ]
    }
   ],
   "source": [
    "new_train_set = label_dataset(MNIST_datasets['train'])"
   ],
   "metadata": {
    "collapsed": false,
    "pycharm": {
     "name": "#%%\n"
    }
   }
  },
  {
   "cell_type": "code",
   "execution_count": 22,
   "outputs": [
    {
     "name": "stderr",
     "output_type": "stream",
     "text": [
      "Generating Labels: 100%|██████████| 9970/9970 [00:25<00:00, 392.88it/s]\n"
     ]
    }
   ],
   "source": [
    "new_val_set = label_dataset(MNIST_datasets['val'])"
   ],
   "metadata": {
    "collapsed": false,
    "pycharm": {
     "name": "#%%\n"
    }
   }
  },
  {
   "cell_type": "code",
   "execution_count": 23,
   "outputs": [
    {
     "name": "stderr",
     "output_type": "stream",
     "text": [
      "Generating Labels: 100%|██████████| 30/30 [00:00<00:00, 352.62it/s]\n"
     ]
    },
    {
     "data": {
      "text/plain": "<Figure size 432x288 with 1 Axes>",
      "image/png": "[encoded data removed]"
     },
     "metadata": {
      "needs_background": "light"
     },
     "output_type": "display_data"
    },
    {
     "data": {
      "text/plain": "<Figure size 432x288 with 1 Axes>",
      "image/png": "[encoded data removed]"
     },
     "metadata": {
      "needs_background": "light"
     },
     "output_type": "display_data"
    },
    {
     "data": {
      "text/plain": "<Figure size 432x288 with 1 Axes>",
      "image/png": "[encoded data removed]"
     },
     "metadata": {
      "needs_background": "light"
     },
     "output_type": "display_data"
    },
    {
     "data": {
      "text/plain": "<Figure size 432x288 with 1 Axes>",
      "image/png": "[encoded data removed]"
     },
     "metadata": {
      "needs_background": "light"
     },
     "output_type": "display_data"
    },
    {
     "data": {
      "text/plain": "<Figure size 432x288 with 1 Axes>",
      "image/png": "[encoded data removed]"
     },
     "metadata": {
      "needs_background": "light"
     },
     "output_type": "display_data"
    },
    {
     "data": {
      "text/plain": "<Figure size 432x288 with 1 Axes>",
      "image/png": "[encoded data removed]"
     },
     "metadata": {
      "needs_background": "light"
     },
     "output_type": "display_data"
    },
    {
     "data": {
      "text/plain": "<Figure size 432x288 with 1 Axes>",
      "image/png": "[encoded data removed]"
     },
     "metadata": {
      "needs_background": "light"
     },
     "output_type": "display_data"
    },
    {
     "data": {
      "text/plain": "<Figure size 432x288 with 1 Axes>",
      "image/png": "[encoded data removed]"
     },
     "metadata": {
      "needs_background": "light"
     },
     "output_type": "display_data"
    },
    {
     "data": {
      "text/plain": "<Figure size 432x288 with 1 Axes>",
      "image/png": "[encoded data removed]"
     },
     "metadata": {
      "needs_background": "light"
     },
     "output_type": "display_data"
    },
    {
     "data": {
      "text/plain": "<Figure size 432x288 with 1 Axes>",
      "image/png": "[encoded data removed]"
     },
     "metadata": {
      "needs_background": "light"
     },
     "output_type": "display_data"
    },
    {
     "data": {
      "text/plain": "<Figure size 432x288 with 1 Axes>",
      "image/png": "[encoded data removed]"
     },
     "metadata": {
      "needs_background": "light"
     },
     "output_type": "display_data"
    },
    {
     "data": {
      "text/plain": "<Figure size 432x288 with 1 Axes>",
      "image/png": "[encoded data removed]"
     },
     "metadata": {
      "needs_background": "light"
     },
     "output_type": "display_data"
    },
    {
     "data": {
      "text/plain": "<Figure size 432x288 with 1 Axes>",
      "image/png": "[encoded data removed]"
     },
     "metadata": {
      "needs_background": "light"
     },
     "output_type": "display_data"
    },
    {
     "data": {
      "text/plain": "<Figure size 432x288 with 1 Axes>",
      "image/png": "[encoded data removed]"
     },
     "metadata": {
      "needs_background": "light"
     },
     "output_type": "display_data"
    },
    {
     "data": {
      "text/plain": "<Figure size 432x288 with 1 Axes>",
      "image/png": "[encoded data removed]"
     },
     "metadata": {
      "needs_background": "light"
     },
     "output_type": "display_data"
    },
    {
     "data": {
      "text/plain": "<Figure size 432x288 with 1 Axes>",
      "image/png": "[encoded data removed]"
     },
     "metadata": {
      "needs_background": "light"
     },
     "output_type": "display_data"
    },
    {
     "data": {
      "text/plain": "<Figure size 432x288 with 1 Axes>",
      "image/png": "[encoded data removed]"
     },
     "metadata": {
      "needs_background": "light"
     },
     "output_type": "display_data"
    },
    {
     "data": {
      "text/plain": "<Figure size 432x288 with 1 Axes>",
      "image/png": "[encoded data removed]"
     },
     "metadata": {
      "needs_background": "light"
     },
     "output_type": "display_data"
    },
    {
     "data": {
      "text/plain": "<Figure size 432x288 with 1 Axes>",
      "image/png": "[encoded data removed]"
     },
     "metadata": {
      "needs_background": "light"
     },
     "output_type": "display_data"
    },
    {
     "data": {
      "text/plain": "<Figure size 432x288 with 1 Axes>",
      "image/png": "[encoded data removed]"
     },
     "metadata": {
      "needs_background": "light"
     },
     "output_type": "display_data"
    },
    {
     "data": {
      "text/plain": "<Figure size 432x288 with 1 Axes>",
      "image/png": "[encoded data removed]"
     },
     "metadata": {
      "needs_background": "light"
     },
     "output_type": "display_data"
    },
    {
     "data": {
      "text/plain": "<Figure size 432x288 with 1 Axes>",
      "image/png": "[encoded data removed]"
     },
     "metadata": {
      "needs_background": "light"
     },
     "output_type": "display_data"
    },
    {
     "data": {
      "text/plain": "<Figure size 432x288 with 1 Axes>",
      "image/png": "[encoded data removed]"
     },
     "metadata": {
      "needs_background": "light"
     },
     "output_type": "display_data"
    },
    {
     "data": {
      "text/plain": "<Figure size 432x288 with 1 Axes>",
      "image/png": "[encoded data removed]"
     },
     "metadata": {
      "needs_background": "light"
     },
     "output_type": "display_data"
    },
    {
     "data": {
      "text/plain": "<Figure size 432x288 with 1 Axes>",
      "image/png": "[encoded data removed]"
     },
     "metadata": {
      "needs_background": "light"
     },
     "output_type": "display_data"
    },
    {
     "data": {
      "text/plain": "<Figure size 432x288 with 1 Axes>",
      "image/png": "[encoded data removed]"
     },
     "metadata": {
      "needs_background": "light"
     },
     "output_type": "display_data"
    },
    {
     "data": {
      "text/plain": "<Figure size 432x288 with 1 Axes>",
      "image/png": "[encoded data removed]"
     },
     "metadata": {
      "needs_background": "light"
     },
     "output_type": "display_data"
    },
    {
     "data": {
      "text/plain": "<Figure size 432x288 with 1 Axes>",
      "image/png": "[encoded data removed]"
     },
     "metadata": {
      "needs_background": "light"
     },
     "output_type": "display_data"
    },
    {
     "data": {
      "text/plain": "<Figure size 432x288 with 1 Axes>",
      "image/png": "[encoded data removed]"
     },
     "metadata": {
      "needs_background": "light"
     },
     "output_type": "display_data"
    },
    {
     "data": {
      "text/plain": "<Figure size 432x288 with 1 Axes>",
      "image/png": "[encoded data removed]"
     },
     "metadata": {
      "needs_background": "light"
     },
     "output_type": "display_data"
    }
   ],
   "source": [
    "new_test_set = label_dataset(MNIST_datasets['test'])\n",
    "#Confirm that it is working\n",
    "for x, y in new_test_set:\n",
    "    fig, ax = plt.subplots()\n",
    "    ax.imshow(x.permute(1,2,0))\n",
    "    x_min, y_min, x_max, y_max = y[-4:, 0, 0]\n",
    "    ax.plot([x_min, x_max], [y_min, y_min], color='green')\n",
    "    ax.plot([x_min, x_max], [y_max, y_max], color='green')\n",
    "    ax.plot([x_min, x_min], [y_min, y_max], color='green')\n",
    "    ax.plot([x_max, x_max], [y_min, y_max], color='green')\n",
    "    plt.show()\n",
    "    plt.pause(0.1)\n"
   ],
   "metadata": {
    "collapsed": false,
    "pycharm": {
     "name": "#%%\n"
    }
   }
  },
  {
   "cell_type": "code",
   "execution_count": 24,
   "outputs": [],
   "source": [
    "MNIST_generators = {\"train\": torch.utils.data.DataLoader(new_train_set,\n",
    "                                                         batch_size=32,\n",
    "                                                         shuffle=True,\n",
    "                                                         num_workers=num_workers),\n",
    "                    \"val\": torch.utils.data.DataLoader(new_val_set,\n",
    "                                                       batch_size=256,\n",
    "                                                       shuffle=False,\n",
    "                                                       num_workers=num_workers),\n",
    "                    \"test\": torch.utils.data.DataLoader(new_test_set,\n",
    "                                                        batch_size=32,\n",
    "                                                        shuffle=False,\n",
    "                                                        num_workers=num_workers)}"
   ],
   "metadata": {
    "collapsed": false,
    "pycharm": {
     "name": "#%%\n"
    }
   }
  },
  {
   "cell_type": "markdown",
   "id": "proud-china",
   "metadata": {},
   "source": [
    "## 4 Training loop\n",
    "\n",
    "We are now ready to train our model. The only remaining question is the loss. We want a loss of the form $\\sum_{n < N} \\sum_{h < H\\_out} \\sum_{w < W\\_out} L(Y\\_true[n,:,h,w], Y\\_out[n,:,h,w])$,\n",
    "where \n",
    "\n",
    "$L(Y\\_true[n,:,h,w], Y\\_out[n,:,h,w]) = L\\_detection + L\\_classification + L\\_regression$ such that\n",
    "\n",
    "- $L\\_detection = binary\\_cross\\_entropy(sigmoid(Y\\_out[n,0,h,w]), Y\\_true[n,0,h,w])$\n",
    "\n",
    "If $sigmoid(Y\\_out[n,0,h,w]) > 0.5$ and $Y\\_true[n,0,h,w] == 1$ (\"true positive detection of digit in window $(h,w)$\"):\n",
    "- $L\\_classification = negative\\_log\\_likelihood\\_loss(log\\_softmax(Y\\_out[n,1\\!:\\!11,h,w]), Y\\_true[n,1,h,w])$ \n",
    "- $L\\_regression = mse(Y\\_out[n,-4\\!:,h,w], Y\\_true[n,-4\\!:,h,w])$\n",
    "\n",
    "Else:\n",
    "- $L\\_classification=0.0$\n",
    "- $L\\_regression=0.0$\n",
    "\n",
    "Essentially, this loss indicates that we break down the whole task into three subproblems:\n",
    "\n",
    "a) Is there a digit in the current window ?\n",
    "\n",
    "If so,\n",
    "\n",
    "b) What is the digit in the window ?\n",
    "\n",
    "c) Where is the digit in the window ?\n",
    "\n",
    "The two last questions only make sense assuming the first question was positively answered, hence the use of a conditional loss. Notice also that we sum the loss not only over samples in a batch, but also over windows. Essentially, the set of windows forming the sliding window procedure can be seen itself as a minibatch of samples. \n",
    "\n",
    "**4) Implement the training loop, then train your model for a few epochs.**"
   ]
  },
  {
   "cell_type": "code",
   "execution_count": 25,
   "outputs": [
    {
     "name": "stdout",
     "output_type": "stream",
     "text": [
      "cuda\n"
     ]
    }
   ],
   "source": [
    "import datetime\n",
    "device = torch.device('cuda') if torch.cuda.is_available() else torch.device('cpu')\n",
    "print(device)\n",
    "\n",
    "bce = nn.BCELoss()\n",
    "neglog = nn.NLLLoss()\n",
    "sigmoid = nn.Sigmoid()\n",
    "mse = nn.MSELoss()\n",
    "softmax = nn.LogSoftmax(dim=1)\n",
    "\n",
    "\n",
    "def vectorized_loss(y_true, y_pred):\n",
    "    \"\"\"\n",
    "    Sem vectorized implementation. First find L_detection\n",
    "    \"\"\"\n",
    "    loss_class = bce(sigmoid(y_pred[:, 0, : , :]), y_true[:, 0, :, :])\n",
    "\n",
    "    test_x = torch.zeros(size=(y_true.shape[0]*y_true.shape[2]*y_true.shape[3], 10))\n",
    "    test_y= torch.zeros(size=(y_true.shape[0]*y_true.shape[2]*y_true.shape[3], 1))\n",
    "    test_reg_x = torch.zeros(size=(y_true.shape[0]*y_true.shape[2]*y_true.shape[3], 4))\n",
    "    test_reg_y = torch.zeros(size=(y_true.shape[0]*y_true.shape[2]*y_true.shape[3], 4))\n",
    "    idx = 0\n",
    "    # Then all cases where sigmoid > 0.5 and Y_true[:,0, h, w] == 1\n",
    "    for n in range(y_true.shape[0]):\n",
    "        for h in range(y_true.shape[2]):\n",
    "            for w in range(y_true.shape[3]):\n",
    "                if y_true[n, 0, h, w] == 1 and sigmoid(y_pred[n, 0, h, w]) > 0.5:\n",
    "                    test_x[idx, :] = y_pred[n, 1:11, h, w]\n",
    "                    test_y[idx, :] = y_true[n, 1, h, w]\n",
    "                    test_reg_x[idx, :] = y_pred[n, -4:, h, w]\n",
    "                    test_reg_y[idx, :] = y_true[n, -4:, h, w]\n",
    "                    idx += 1\n",
    "    # Remove all empty cases from tensor\n",
    "    test_x = torch.narrow(test_x, 0, 0, idx)\n",
    "    test_y = torch.squeeze(torch.narrow(test_y, 0, 0, idx)).type(torch.LongTensor) if idx > 1 else torch.narrow(test_y, 0, 0, idx).type(torch.LongTensor)\n",
    "    test_reg_x = torch.narrow(test_reg_x, 0, 0, idx)\n",
    "    test_reg_y = torch.narrow(test_reg_y, 0, 0, idx)\n",
    "    # If tensor not empty calculate mse and nll loss\n",
    "    if test_reg_x.shape[0] != 0:\n",
    "        mse_loss = mse(test_reg_x, test_reg_y)\n",
    "        try:\n",
    "            neglog_loss = neglog(softmax(test_x), test_y)\n",
    "        except RuntimeError:\n",
    "            neglog_loss = neglog(softmax(test_x), torch.squeeze(test_y, dim=1))\n",
    "    else:\n",
    "        mse_loss = 0\n",
    "        neglog_loss = 0\n",
    "\n",
    "    return loss_class + neglog_loss + mse_loss"
   ],
   "metadata": {
    "collapsed": false,
    "pycharm": {
     "name": "#%%\n"
    }
   }
  },
  {
   "cell_type": "code",
   "execution_count": 26,
   "outputs": [],
   "source": [
    "def training_loop(n_epochs, optimizer, model, loss_fn, train_loader):\n",
    "\n",
    "    model.train()\n",
    "    train_bar = tqdm(total=n_epochs, desc=\"Total progression\")\n",
    "    for epoch in range(1, n_epochs + 1):\n",
    "        loss_train = 0.0\n",
    "        for imgs, vector_labels in train_loader:\n",
    "            imgs = imgs.to(device=device)\n",
    "            vector_labels = vector_labels.to(device=device)\n",
    "            outputs = model(imgs)\n",
    "            loss = loss_fn(vector_labels, outputs)\n",
    "            loss.backward()\n",
    "            optimizer.step()\n",
    "            optimizer.zero_grad()\n",
    "\n",
    "            loss_train += loss.item()\n",
    "        print('{}  |  Epoch {}  |  Training loss {:.3f}'.format(\n",
    "            datetime.datetime.now(), epoch,\n",
    "            loss_train / len(train_loader)))\n",
    "\n",
    "        train_bar.update()\n",
    "    train_bar.close()\n",
    "\n",
    "def validate(model, train_loader, val_loader):\n",
    "    \"\"\"\n",
    "    Plot training and validation accuracy\n",
    "    \"\"\"\n",
    "    model.eval()\n",
    "    accdict = {}\n",
    "    for name, loader in [(\"train\", train_loader), (\"val\", val_loader)]:\n",
    "        correct = 0\n",
    "        total = 0\n",
    "\n",
    "        with torch.no_grad():\n",
    "            for imgs, labels in loader:\n",
    "                imgs = imgs.to(device=device)\n",
    "                labels = labels.to(device=device)\n",
    "\n",
    "                outputs = model(imgs)\n",
    "                _, predicted = torch.max(outputs, dim=1)\n",
    "                total += labels.shape[0]\n",
    "                correct += int((predicted == labels).sum())\n",
    "\n",
    "        print(\"Accuracy {}: {:.2f}\".format(name , correct / total))\n",
    "        accdict[name] = correct / total\n",
    "    return accdict"
   ],
   "metadata": {
    "collapsed": false,
    "pycharm": {
     "name": "#%%\n"
    }
   }
  },
  {
   "cell_type": "code",
   "execution_count": 72,
   "outputs": [],
   "source": [
    "model_w28_s4 = ConvMINSTStride4Size28(15)\n",
    "model_w28_s4.to(device)\n",
    "opt = torch.optim.Adam(model_w28_s4.parameters(), lr=0.001, weight_decay=0.0001)"
   ],
   "metadata": {
    "collapsed": false,
    "pycharm": {
     "name": "#%%\n"
    }
   }
  },
  {
   "cell_type": "code",
   "execution_count": 73,
   "outputs": [
    {
     "name": "stderr",
     "output_type": "stream",
     "text": [
      "\n",
      "\n",
      "Total progression:   0%|          | 0/110 [00:00<?, ?it/s]\u001B[A\u001B[A\n",
      "\n",
      "Total progression:   1%|          | 1/110 [03:04<5:35:40, 184.77s/it]\u001B[A\u001B[A\n",
      "\n",
      "Total progression:   2%|▏         | 2/110 [06:09<5:32:05, 184.49s/it]\u001B[A\u001B[A\n",
      "\n",
      "Total progression:   3%|▎         | 3/110 [09:14<5:29:37, 184.84s/it]\u001B[A\u001B[A\n",
      "\n",
      "Total progression:   4%|▎         | 4/110 [12:23<5:29:15, 186.37s/it]\u001B[A\u001B[A\n",
      "\n",
      "Total progression:   5%|▍         | 5/110 [15:32<5:27:59, 187.42s/it]\u001B[A\u001B[A\n",
      "\n",
      "Total progression:   5%|▌         | 6/110 [18:43<5:26:52, 188.58s/it]\u001B[A\u001B[A\n",
      "\n",
      "Total progression:   6%|▋         | 7/110 [22:02<5:29:45, 192.09s/it]\u001B[A\u001B[A\n",
      "\n",
      "Total progression:   7%|▋         | 8/110 [25:13<5:26:02, 191.79s/it]\u001B[A\u001B[A\n",
      "\n",
      "Total progression:   8%|▊         | 9/110 [28:24<5:22:27, 191.56s/it]\u001B[A\u001B[A\n",
      "\n",
      "Total progression:   9%|▉         | 10/110 [31:37<5:19:41, 191.81s/it]\u001B[A\u001B[A\n",
      "\n",
      "Total progression:  10%|█         | 11/110 [34:47<5:15:53, 191.45s/it]\u001B[A\u001B[A\n",
      "\n",
      "Total progression:  11%|█         | 12/110 [38:00<5:13:23, 191.88s/it]\u001B[A\u001B[A\n",
      "\n",
      "Total progression:  12%|█▏        | 13/110 [41:13<5:10:48, 192.25s/it]\u001B[A\u001B[A\n",
      "\n",
      "Total progression:  13%|█▎        | 14/110 [44:27<5:08:13, 192.64s/it]\u001B[A\u001B[A\n",
      "\n",
      "Total progression:  14%|█▎        | 15/110 [47:40<5:05:13, 192.77s/it]\u001B[A\u001B[A\n",
      "\n",
      "Total progression:  15%|█▍        | 16/110 [50:53<5:02:01, 192.78s/it]\u001B[A\u001B[A\n",
      "\n",
      "Total progression:  15%|█▌        | 17/110 [54:06<4:58:52, 192.83s/it]\u001B[A\u001B[A\n",
      "\n",
      "Total progression:  16%|█▋        | 18/110 [57:19<4:55:57, 193.01s/it]\u001B[A\u001B[A\n",
      "\n",
      "Total progression:  17%|█▋        | 19/110 [1:00:32<4:52:45, 193.02s/it]\u001B[A\u001B[A\n",
      "\n",
      "Total progression:  18%|█▊        | 20/110 [1:03:44<4:49:00, 192.67s/it]\u001B[A\u001B[A\n",
      "\n",
      "Total progression:  19%|█▉        | 21/110 [1:06:56<4:45:46, 192.65s/it]\u001B[A\u001B[A\n",
      "\n",
      "Total progression:  20%|██        | 22/110 [1:10:10<4:43:10, 193.07s/it]\u001B[A\u001B[A\n",
      "\n",
      "Total progression:  21%|██        | 23/110 [1:13:25<4:40:29, 193.44s/it]\u001B[A\u001B[A\n",
      "\n",
      "Total progression:  22%|██▏       | 24/110 [1:16:38<4:37:01, 193.27s/it]\u001B[A\u001B[A\n",
      "\n",
      "Total progression:  23%|██▎       | 25/110 [1:19:50<4:33:16, 192.90s/it]\u001B[A\u001B[A\n",
      "\n",
      "Total progression:  24%|██▎       | 26/110 [1:23:02<4:29:45, 192.69s/it]\u001B[A\u001B[A\n",
      "\n",
      "Total progression:  25%|██▍       | 27/110 [1:26:15<4:26:52, 192.93s/it]\u001B[A\u001B[A\n",
      "\n",
      "Total progression:  25%|██▌       | 28/110 [1:29:29<4:23:45, 193.00s/it]\u001B[A\u001B[A\n",
      "\n",
      "Total progression:  26%|██▋       | 29/110 [1:32:41<4:20:29, 192.96s/it]\u001B[A\u001B[A\n",
      "\n",
      "Total progression:  27%|██▋       | 30/110 [1:35:54<4:17:00, 192.75s/it]\u001B[A\u001B[A\n",
      "\n",
      "Total progression:  28%|██▊       | 31/110 [1:39:06<4:13:30, 192.54s/it]\u001B[A\u001B[A\n",
      "\n",
      "Total progression:  29%|██▉       | 32/110 [1:42:19<4:10:41, 192.84s/it]\u001B[A\u001B[A\n",
      "\n",
      "Total progression:  30%|███       | 33/110 [1:45:31<4:07:09, 192.59s/it]\u001B[A\u001B[A\n",
      "\n",
      "Total progression:  31%|███       | 34/110 [1:48:43<4:03:48, 192.48s/it]\u001B[A\u001B[A\n",
      "\n",
      "Total progression:  32%|███▏      | 35/110 [1:51:56<4:00:28, 192.38s/it]\u001B[A\u001B[A\n",
      "\n",
      "Total progression:  33%|███▎      | 36/110 [1:55:08<3:57:04, 192.22s/it]\u001B[A\u001B[A\n",
      "\n",
      "Total progression:  34%|███▎      | 37/110 [1:58:20<3:53:54, 192.25s/it]\u001B[A\u001B[A\n",
      "\n",
      "Total progression:  35%|███▍      | 38/110 [2:01:32<3:50:45, 192.30s/it]\u001B[A\u001B[A\n",
      "\n",
      "Total progression:  35%|███▌      | 39/110 [2:04:45<3:47:37, 192.35s/it]\u001B[A\u001B[A\n",
      "\n",
      "Total progression:  36%|███▋      | 40/110 [2:07:57<3:44:21, 192.30s/it]\u001B[A\u001B[A\n",
      "\n",
      "Total progression:  37%|███▋      | 41/110 [2:11:10<3:41:29, 192.59s/it]\u001B[A\u001B[A\n",
      "\n",
      "Total progression:  38%|███▊      | 42/110 [2:14:24<3:38:41, 192.96s/it]\u001B[A\u001B[A\n",
      "\n",
      "Total progression:  39%|███▉      | 43/110 [2:17:36<3:35:06, 192.63s/it]\u001B[A\u001B[A\n",
      "\n",
      "Total progression:  40%|████      | 44/110 [2:20:48<3:31:45, 192.50s/it]\u001B[A\u001B[A\n",
      "\n",
      "Total progression:  41%|████      | 45/110 [2:24:00<3:28:20, 192.31s/it]\u001B[A\u001B[A\n",
      "\n",
      "Total progression:  42%|████▏     | 46/110 [2:27:13<3:25:28, 192.63s/it]\u001B[A\u001B[A\n",
      "\n",
      "Total progression:  43%|████▎     | 47/110 [2:30:27<3:22:28, 192.84s/it]\u001B[A\u001B[A\n",
      "\n",
      "Total progression:  44%|████▎     | 48/110 [2:33:39<3:19:15, 192.83s/it]\u001B[A\u001B[A\n",
      "\n",
      "Total progression:  45%|████▍     | 49/110 [2:36:52<3:15:52, 192.67s/it]\u001B[A\u001B[A\n",
      "\n",
      "Total progression:  45%|████▌     | 50/110 [2:40:04<3:12:40, 192.68s/it]\u001B[A\u001B[A\n",
      "\n",
      "Total progression:  46%|████▋     | 51/110 [2:43:18<3:09:48, 193.02s/it]\u001B[A\u001B[A\n",
      "\n",
      "Total progression:  47%|████▋     | 52/110 [2:46:31<3:06:30, 192.94s/it]\u001B[A\u001B[A\n",
      "\n",
      "Total progression:  48%|████▊     | 53/110 [2:49:44<3:03:11, 192.83s/it]\u001B[A\u001B[A\n",
      "\n",
      "Total progression:  49%|████▉     | 54/110 [2:52:55<2:59:39, 192.49s/it]\u001B[A\u001B[A\n",
      "\n",
      "Total progression:  50%|█████     | 55/110 [2:56:08<2:56:30, 192.56s/it]\u001B[A\u001B[A\n",
      "\n",
      "Total progression:  51%|█████     | 56/110 [2:59:22<2:53:38, 192.94s/it]\u001B[A\u001B[A\n",
      "\n",
      "Total progression:  52%|█████▏    | 57/110 [3:02:34<2:50:15, 192.75s/it]\u001B[A\u001B[A\n",
      "\n",
      "Total progression:  53%|█████▎    | 58/110 [3:05:47<2:46:58, 192.66s/it]\u001B[A\u001B[A\n",
      "\n",
      "Total progression:  54%|█████▎    | 59/110 [3:08:59<2:43:38, 192.52s/it]\u001B[A\u001B[A\n",
      "\n",
      "Total progression:  55%|█████▍    | 60/110 [3:12:13<2:40:56, 193.13s/it]\u001B[A\u001B[A\n",
      "\n",
      "Total progression:  55%|█████▌    | 61/110 [3:15:25<2:37:27, 192.81s/it]\u001B[A\u001B[A\n",
      "\n",
      "Total progression:  56%|█████▋    | 62/110 [3:18:36<2:33:44, 192.19s/it]\u001B[A\u001B[A\n",
      "\n",
      "Total progression:  57%|█████▋    | 63/110 [3:21:46<2:30:06, 191.63s/it]\u001B[A\u001B[A\n",
      "\n",
      "Total progression:  58%|█████▊    | 64/110 [3:24:57<2:26:37, 191.26s/it]\u001B[A\u001B[A\n",
      "\n",
      "Total progression:  59%|█████▉    | 65/110 [3:28:09<2:23:40, 191.56s/it]\u001B[A\u001B[A\n",
      "\n",
      "Total progression:  60%|██████    | 66/110 [3:31:19<2:20:08, 191.11s/it]\u001B[A\u001B[A\n",
      "\n",
      "Total progression:  61%|██████    | 67/110 [3:34:29<2:16:37, 190.64s/it]\u001B[A\u001B[A\n",
      "\n",
      "Total progression:  62%|██████▏   | 68/110 [3:37:39<2:13:19, 190.46s/it]\u001B[A\u001B[A\n",
      "\n",
      "Total progression:  63%|██████▎   | 69/110 [3:40:49<2:10:08, 190.45s/it]\u001B[A\u001B[A\n",
      "\n",
      "Total progression:  64%|██████▎   | 70/110 [3:44:00<2:07:06, 190.67s/it]\u001B[A\u001B[A\n",
      "\n",
      "Total progression:  65%|██████▍   | 71/110 [3:47:11<2:03:51, 190.56s/it]\u001B[A\u001B[A\n",
      "\n",
      "Total progression:  65%|██████▌   | 72/110 [3:50:21<2:00:42, 190.58s/it]\u001B[A\u001B[A\n",
      "\n",
      "Total progression:  66%|██████▋   | 73/110 [3:53:31<1:57:24, 190.39s/it]\u001B[A\u001B[A\n",
      "\n",
      "Total progression:  67%|██████▋   | 74/110 [3:56:43<1:54:32, 190.90s/it]\u001B[A\u001B[A\n",
      "\n",
      "Total progression:  68%|██████▊   | 75/110 [3:59:54<1:51:17, 190.79s/it]\u001B[A\u001B[A\n",
      "\n",
      "Total progression:  69%|██████▉   | 76/110 [4:03:04<1:48:00, 190.59s/it]\u001B[A\u001B[A\n",
      "\n",
      "Total progression:  70%|███████   | 77/110 [4:06:14<1:44:42, 190.37s/it]\u001B[A\u001B[A\n",
      "\n",
      "Total progression:  71%|███████   | 78/110 [4:09:24<1:41:28, 190.26s/it]\u001B[A\u001B[A\n",
      "\n",
      "Total progression:  72%|███████▏  | 79/110 [4:12:35<1:38:26, 190.53s/it]\u001B[A\u001B[A\n",
      "\n",
      "Total progression:  73%|███████▎  | 80/110 [4:15:45<1:35:10, 190.35s/it]\u001B[A\u001B[A\n",
      "\n",
      "Total progression:  74%|███████▎  | 81/110 [4:18:57<1:32:12, 190.78s/it]\u001B[A\u001B[A\n",
      "\n",
      "Total progression:  75%|███████▍  | 82/110 [4:22:08<1:29:05, 190.91s/it]\u001B[A\u001B[A\n",
      "\n",
      "Total progression:  75%|███████▌  | 83/110 [4:25:18<1:25:49, 190.72s/it]\u001B[A\u001B[A\n",
      "\n",
      "Total progression:  76%|███████▋  | 84/110 [4:28:30<1:22:44, 190.95s/it]\u001B[A\u001B[A\n",
      "\n",
      "Total progression:  77%|███████▋  | 85/110 [4:31:40<1:19:27, 190.70s/it]\u001B[A\u001B[A\n",
      "\n",
      "Total progression:  78%|███████▊  | 86/110 [4:34:50<1:16:10, 190.45s/it]\u001B[A\u001B[A\n",
      "\n",
      "Total progression:  79%|███████▉  | 87/110 [4:37:59<1:12:52, 190.12s/it]\u001B[A\u001B[A\n",
      "\n",
      "Total progression:  80%|████████  | 88/110 [4:41:09<1:09:43, 190.16s/it]\u001B[A\u001B[A\n",
      "\n",
      "Total progression:  81%|████████  | 89/110 [4:44:20<1:06:39, 190.44s/it]\u001B[A\u001B[A\n",
      "\n",
      "Total progression:  82%|████████▏ | 90/110 [4:47:30<1:03:26, 190.33s/it]\u001B[A\u001B[A\n",
      "\n",
      "Total progression:  83%|████████▎ | 91/110 [4:50:41<1:00:18, 190.44s/it]\u001B[A\u001B[A\n",
      "\n",
      "Total progression:  84%|████████▎ | 92/110 [4:53:52<57:07, 190.42s/it]  \u001B[A\u001B[A\n",
      "\n",
      "Total progression:  85%|████████▍ | 93/110 [4:57:03<54:05, 190.89s/it]\u001B[A\u001B[A\n",
      "\n",
      "Total progression:  85%|████████▌ | 94/110 [5:00:14<50:50, 190.65s/it]\u001B[A\u001B[A\n",
      "\n",
      "Total progression:  86%|████████▋ | 95/110 [5:03:23<47:35, 190.34s/it]\u001B[A\u001B[A\n",
      "\n",
      "Total progression:  87%|████████▋ | 96/110 [5:06:33<44:20, 190.05s/it]\u001B[A\u001B[A\n",
      "\n",
      "Total progression:  88%|████████▊ | 97/110 [5:09:42<41:06, 189.74s/it]\u001B[A\u001B[A\n",
      "\n",
      "Total progression:  89%|████████▉ | 98/110 [5:12:51<37:57, 189.78s/it]\u001B[A\u001B[A\n",
      "\n",
      "Total progression:  90%|█████████ | 99/110 [5:16:01<34:46, 189.71s/it]\u001B[A\u001B[A\n",
      "\n",
      "Total progression:  91%|█████████ | 100/110 [5:19:10<31:36, 189.62s/it]\u001B[A\u001B[A\n",
      "\n",
      "Total progression:  92%|█████████▏| 101/110 [5:22:19<28:24, 189.40s/it]\u001B[A\u001B[A\n",
      "\n",
      "Total progression:  93%|█████████▎| 102/110 [5:25:30<25:17, 189.69s/it]\u001B[A\u001B[A\n",
      "\n",
      "Total progression:  94%|█████████▎| 103/110 [5:28:40<22:10, 190.03s/it]\u001B[A\u001B[A\n",
      "\n",
      "Total progression:  95%|█████████▍| 104/110 [5:31:50<18:59, 189.96s/it]\u001B[A\u001B[A\n",
      "\n",
      "Total progression:  95%|█████████▌| 105/110 [5:34:58<15:46, 189.32s/it]\u001B[A\u001B[A\n",
      "\n",
      "Total progression:  96%|█████████▋| 106/110 [5:38:06<12:35, 188.80s/it]\u001B[A\u001B[A\n",
      "\n",
      "Total progression:  97%|█████████▋| 107/110 [5:41:14<09:26, 188.68s/it]\u001B[A\u001B[A\n",
      "\n",
      "Total progression:  98%|█████████▊| 108/110 [5:44:24<06:18, 189.06s/it]\u001B[A\u001B[A\n",
      "\n",
      "Total progression:  99%|█████████▉| 109/110 [5:47:41<03:11, 191.49s/it]\u001B[A\u001B[A\n",
      "\n",
      "Total progression: 100%|██████████| 110/110 [5:50:57<00:00, 191.43s/it]\u001B[A\u001B[A\n"
     ]
    },
    {
     "name": "stdout",
     "output_type": "stream",
     "text": [
      "2021-04-13 00:40:31.073025  |  Epoch 1  |  Training loss 91.285\n",
      "2021-04-13 00:43:35.369555  |  Epoch 2  |  Training loss 89.276\n",
      "2021-04-13 00:46:40.625082  |  Epoch 3  |  Training loss 89.175\n",
      "2021-04-13 00:49:49.346407  |  Epoch 4  |  Training loss 87.663\n",
      "2021-04-13 00:52:58.630243  |  Epoch 5  |  Training loss 87.349\n",
      "2021-04-13 00:56:09.458693  |  Epoch 6  |  Training loss 87.052\n",
      "2021-04-13 00:59:28.775944  |  Epoch 7  |  Training loss 86.943\n",
      "2021-04-13 01:02:39.934842  |  Epoch 8  |  Training loss 86.689\n",
      "2021-04-13 01:05:50.968618  |  Epoch 9  |  Training loss 86.403\n",
      "2021-04-13 01:09:03.350128  |  Epoch 10  |  Training loss 86.256\n",
      "2021-04-13 01:12:13.979013  |  Epoch 11  |  Training loss 86.146\n",
      "2021-04-13 01:15:26.833955  |  Epoch 12  |  Training loss 86.209\n",
      "2021-04-13 01:18:39.955143  |  Epoch 13  |  Training loss 85.970\n",
      "2021-04-13 01:21:53.494698  |  Epoch 14  |  Training loss 85.810\n",
      "2021-04-13 01:25:06.571851  |  Epoch 15  |  Training loss 85.919\n",
      "2021-04-13 01:28:19.370729  |  Epoch 16  |  Training loss 85.759\n",
      "2021-04-13 01:31:32.302003  |  Epoch 17  |  Training loss 85.864\n",
      "2021-04-13 01:34:45.754978  |  Epoch 18  |  Training loss 85.675\n",
      "2021-04-13 01:37:58.796574  |  Epoch 19  |  Training loss 85.659\n",
      "2021-04-13 01:41:10.633570  |  Epoch 20  |  Training loss 85.584\n",
      "2021-04-13 01:44:23.256282  |  Epoch 21  |  Training loss 85.508\n",
      "2021-04-13 01:47:37.297781  |  Epoch 22  |  Training loss 85.650\n",
      "2021-04-13 01:50:51.598525  |  Epoch 23  |  Training loss 85.414\n",
      "2021-04-13 01:54:04.470941  |  Epoch 24  |  Training loss 85.482\n",
      "2021-04-13 01:57:16.514137  |  Epoch 25  |  Training loss 85.362\n",
      "2021-04-13 02:00:28.710980  |  Epoch 26  |  Training loss 85.367\n",
      "2021-04-13 02:03:42.185934  |  Epoch 27  |  Training loss 85.361\n",
      "2021-04-13 02:06:55.347124  |  Epoch 28  |  Training loss 85.317\n",
      "2021-04-13 02:10:08.212530  |  Epoch 29  |  Training loss 85.317\n",
      "2021-04-13 02:13:20.480431  |  Epoch 30  |  Training loss 85.274\n",
      "2021-04-13 02:16:32.519617  |  Epoch 31  |  Training loss 85.305\n",
      "2021-04-13 02:19:46.080203  |  Epoch 32  |  Training loss 85.127\n",
      "2021-04-13 02:22:58.087845  |  Epoch 33  |  Training loss 85.251\n",
      "2021-04-13 02:26:10.291170  |  Epoch 34  |  Training loss 85.249\n",
      "2021-04-13 02:29:22.461507  |  Epoch 35  |  Training loss 85.113\n",
      "2021-04-13 02:32:34.304546  |  Epoch 36  |  Training loss 85.104\n",
      "2021-04-13 02:35:46.609963  |  Epoch 37  |  Training loss 85.146\n",
      "2021-04-13 02:38:59.049507  |  Epoch 38  |  Training loss 85.095\n",
      "2021-04-13 02:42:11.521582  |  Epoch 39  |  Training loss 84.999\n",
      "2021-04-13 02:45:23.704390  |  Epoch 40  |  Training loss 84.929\n",
      "2021-04-13 02:48:36.980214  |  Epoch 41  |  Training loss 84.986\n",
      "2021-04-13 02:51:50.808308  |  Epoch 42  |  Training loss 85.001\n",
      "2021-04-13 02:55:02.660852  |  Epoch 43  |  Training loss 84.860\n",
      "2021-04-13 02:58:14.863712  |  Epoch 44  |  Training loss 84.854\n",
      "2021-04-13 03:01:26.717741  |  Epoch 45  |  Training loss 84.961\n",
      "2021-04-13 03:04:40.113635  |  Epoch 46  |  Training loss 84.751\n",
      "2021-04-13 03:07:53.434035  |  Epoch 47  |  Training loss 84.959\n",
      "2021-04-13 03:11:06.244909  |  Epoch 48  |  Training loss 84.732\n",
      "2021-04-13 03:14:18.523803  |  Epoch 49  |  Training loss 84.817\n",
      "2021-04-13 03:17:31.233640  |  Epoch 50  |  Training loss 84.793\n",
      "2021-04-13 03:20:45.043439  |  Epoch 51  |  Training loss 84.817\n",
      "2021-04-13 03:23:57.795279  |  Epoch 52  |  Training loss 84.728\n",
      "2021-04-13 03:27:10.380494  |  Epoch 53  |  Training loss 84.760\n",
      "2021-04-13 03:30:22.068885  |  Epoch 54  |  Training loss 84.700\n",
      "2021-04-13 03:33:34.792198  |  Epoch 55  |  Training loss 84.627\n",
      "2021-04-13 03:36:48.606405  |  Epoch 56  |  Training loss 84.760\n",
      "2021-04-13 03:40:00.927335  |  Epoch 57  |  Training loss 84.685\n",
      "2021-04-13 03:43:13.366891  |  Epoch 58  |  Training loss 84.737\n",
      "2021-04-13 03:46:25.572210  |  Epoch 59  |  Training loss 84.666\n",
      "2021-04-13 03:49:40.131180  |  Epoch 60  |  Training loss 84.675\n",
      "2021-04-13 03:52:52.175643  |  Epoch 61  |  Training loss 84.517\n",
      "2021-04-13 03:56:02.916146  |  Epoch 62  |  Training loss 84.693\n",
      "2021-04-13 03:59:13.250272  |  Epoch 63  |  Training loss 84.615\n",
      "2021-04-13 04:02:23.631943  |  Epoch 64  |  Training loss 84.486\n",
      "2021-04-13 04:05:35.886826  |  Epoch 65  |  Training loss 84.591\n",
      "2021-04-13 04:08:45.960217  |  Epoch 66  |  Training loss 84.464\n",
      "2021-04-13 04:11:55.499103  |  Epoch 67  |  Training loss 84.579\n",
      "2021-04-13 04:15:05.536978  |  Epoch 68  |  Training loss 84.588\n",
      "2021-04-13 04:18:15.963213  |  Epoch 69  |  Training loss 84.497\n",
      "2021-04-13 04:21:27.155615  |  Epoch 70  |  Training loss 84.515\n",
      "2021-04-13 04:24:37.462219  |  Epoch 71  |  Training loss 84.319\n",
      "2021-04-13 04:27:48.095119  |  Epoch 72  |  Training loss 84.481\n",
      "2021-04-13 04:30:58.040399  |  Epoch 73  |  Training loss 84.601\n",
      "2021-04-13 04:34:10.117160  |  Epoch 74  |  Training loss 84.423\n",
      "2021-04-13 04:37:20.647957  |  Epoch 75  |  Training loss 84.407\n",
      "2021-04-13 04:40:30.775398  |  Epoch 76  |  Training loss 84.431\n",
      "2021-04-13 04:43:40.637607  |  Epoch 77  |  Training loss 84.492\n",
      "2021-04-13 04:46:50.629415  |  Epoch 78  |  Training loss 84.387\n",
      "2021-04-13 04:50:01.783807  |  Epoch 79  |  Training loss 84.366\n",
      "2021-04-13 04:53:11.717083  |  Epoch 80  |  Training loss 84.368\n",
      "2021-04-13 04:56:23.512033  |  Epoch 81  |  Training loss 84.385\n",
      "2021-04-13 04:59:34.718451  |  Epoch 82  |  Training loss 84.301\n",
      "2021-04-13 05:02:44.996532  |  Epoch 83  |  Training loss 84.349\n",
      "2021-04-13 05:05:56.499243  |  Epoch 84  |  Training loss 84.356\n",
      "2021-04-13 05:09:06.593132  |  Epoch 85  |  Training loss 84.336\n",
      "2021-04-13 05:12:16.480376  |  Epoch 86  |  Training loss 84.342\n",
      "2021-04-13 05:15:25.817105  |  Epoch 87  |  Training loss 84.422\n",
      "2021-04-13 05:18:36.077704  |  Epoch 88  |  Training loss 84.342\n",
      "2021-04-13 05:21:47.171556  |  Epoch 89  |  Training loss 84.213\n",
      "2021-04-13 05:24:57.239136  |  Epoch 90  |  Training loss 84.243\n",
      "2021-04-13 05:28:07.931092  |  Epoch 91  |  Training loss 84.186\n",
      "2021-04-13 05:31:18.320270  |  Epoch 92  |  Training loss 84.305\n",
      "2021-04-13 05:34:30.293913  |  Epoch 93  |  Training loss 84.190\n",
      "2021-04-13 05:37:40.393330  |  Epoch 94  |  Training loss 84.213\n",
      "2021-04-13 05:40:49.998759  |  Epoch 95  |  Training loss 84.223\n",
      "2021-04-13 05:43:59.378506  |  Epoch 96  |  Training loss 84.203\n",
      "2021-04-13 05:47:08.381945  |  Epoch 97  |  Training loss 84.182\n",
      "2021-04-13 05:50:18.267201  |  Epoch 98  |  Training loss 84.166\n",
      "2021-04-13 05:53:27.809084  |  Epoch 99  |  Training loss 84.201\n",
      "2021-04-13 05:56:37.205875  |  Epoch 100  |  Training loss 84.195\n",
      "2021-04-13 05:59:46.099185  |  Epoch 101  |  Training loss 84.194\n",
      "2021-04-13 06:02:56.453846  |  Epoch 102  |  Training loss 84.069\n",
      "2021-04-13 06:06:07.286539  |  Epoch 103  |  Training loss 84.142\n",
      "2021-04-13 06:09:17.091695  |  Epoch 104  |  Training loss 84.077\n",
      "2021-04-13 06:12:24.922074  |  Epoch 105  |  Training loss 84.195\n",
      "2021-04-13 06:15:32.512215  |  Epoch 106  |  Training loss 84.113\n",
      "2021-04-13 06:18:40.913116  |  Epoch 107  |  Training loss 84.078\n",
      "2021-04-13 06:21:50.854390  |  Epoch 108  |  Training loss 84.152\n",
      "2021-04-13 06:25:08.000259  |  Epoch 109  |  Training loss 84.159\n",
      "2021-04-13 06:28:23.498892  |  Epoch 110  |  Training loss 84.286\n"
     ]
    }
   ],
   "source": [
    "training_loop(110, opt, model_w28_s4, vectorized_loss, MNIST_generators['train'])"
   ],
   "metadata": {
    "collapsed": false,
    "pycharm": {
     "name": "#%%\n"
    }
   }
  },
  {
   "cell_type": "code",
   "execution_count": 79,
   "outputs": [],
   "source": [
    "torch.save(model_w28_s4, \"../model120.pkl\")\n",
    "# Previous model that ran 12 epochs\n",
    "model = model_w28_s4\n",
    "# model.load_state_dict(torch.load(\"../model.pkl\"))\n",
    "# model.eval()"
   ],
   "metadata": {
    "collapsed": false,
    "pycharm": {
     "name": "#%%\n"
    }
   }
  },
  {
   "cell_type": "markdown",
   "source": [
    "It's not smart tough, but it is improving, maybe a higher learning rate, but there is no more time..."
   ],
   "metadata": {
    "collapsed": false,
    "pycharm": {
     "name": "#%% md\n"
    }
   }
  },
  {
   "cell_type": "markdown",
   "id": "comfortable-mention",
   "metadata": {},
   "source": [
    "## 5 Prediction"
   ]
  },
  {
   "cell_type": "markdown",
   "id": "destroyed-jonathan",
   "metadata": {},
   "source": [
    "Your model should now be trained, great ! But now you may wonder: \"How do I predict ?\". And indeed it is not so obvious. In our implementation, our model should output a tensor $Y\\_out$ with dimensions $(N,15,H\\_out,W\\_out)$, that is we have one prediction vector per window in the sliding window procedure. We propose the following strategy: among all the predicted vectors, keep the one associated to the window with the highest label classification score. In other word, $\\forall n<N$:\n",
    "\n",
    "a) Compute the max classification scores: $max\\_classification\\_scores = max_{i=1:11} \\{log\\_softmax(Y\\_out[n,i,:,:])\\}$.\n",
    "\n",
    "b) Extract the indices of the best window: $h\\_best,w\\_best = argmax_{h<H\\_out,w<W\\_out} \\{max\\_classification\\_scores[h,w]\\}$.\n",
    "\n",
    "c) Save the prediction associated to the best window. **You will have to convert the predicted bounding box back to the referential of the input image.** \n",
    "\n",
    "**5) Implement the predict function.**"
   ]
  },
  {
   "cell_type": "code",
   "execution_count": 75,
   "outputs": [],
   "source": [
    "test_set_x, y = next(iter(MNIST_generators['test']))"
   ],
   "metadata": {
    "collapsed": false,
    "pycharm": {
     "name": "#%%\n"
    }
   }
  },
  {
   "cell_type": "code",
   "execution_count": 76,
   "outputs": [
    {
     "name": "stdout",
     "output_type": "stream",
     "text": [
      "cpu\n",
      "cpu\n"
     ]
    }
   ],
   "source": [
    "device = torch.device('cpu')\n",
    "print(device)\n",
    "model.to(device=device)\n",
    "print(test_set_x.device)\n",
    "test_set_out = model(test_set_x)"
   ],
   "metadata": {
    "collapsed": false,
    "pycharm": {
     "name": "#%%\n"
    }
   }
  },
  {
   "cell_type": "code",
   "execution_count": 77,
   "outputs": [],
   "source": [
    "max_classifications = torch.zeros((len(test_set_out), 10, 10))\n",
    "for n in range(len(test_set_out)):\n",
    "    for h in range(10):\n",
    "        for w in range(10):\n",
    "            max_classifications[n, h, w] = torch.max(torch.log_softmax(test_set_out[n, 1:11, h, w], 0))\n",
    "\n",
    "\n",
    "h_bests = torch.zeros((len(test_set_out), 1))\n",
    "w_bests = torch.zeros((len(test_set_out), 1))\n",
    "hs_pred_bests = torch.zeros((len(test_set_out), 1))\n",
    "ws_pred_bests = torch.zeros((len(test_set_out), 1))\n",
    "he_pred_bests = torch.zeros((len(test_set_out), 1))\n",
    "we_pred_bests = torch.zeros((len(test_set_out), 1))\n",
    "pred_labels = torch.zeros((len(test_set_out), 1))\n",
    "for n in range(len(test_set_out)):\n",
    "    max_idx = torch.argmax(max_classifications[n])\n",
    "    h = max_idx // 10\n",
    "    w = max_idx - (10*h)\n",
    "    h_bests[n] = h\n",
    "    w_bests[n] = w\n",
    "    hs_pred_bests[n] = test_set_out[n, 12, h, w]\n",
    "    ws_pred_bests[n] = test_set_out[n, 11, h, w]\n",
    "    he_pred_bests[n] = test_set_out[n, 14, h, w]\n",
    "    we_pred_bests[n] = test_set_out[n, 13, h, w]\n",
    "    pred_labels[n] = torch.argmax(test_set_out[n, 1:11, h, w])"
   ],
   "metadata": {
    "collapsed": false,
    "pycharm": {
     "name": "#%%\n"
    }
   }
  },
  {
   "cell_type": "markdown",
   "id": "architectural-support",
   "metadata": {
    "pycharm": {
     "name": "#%% md\n"
    }
   },
   "source": [
    "## 6 Visualization\n",
    "\n",
    "Time to test your hard work by visualizing your predictions ! \n",
    "\n",
    "**6) Implement a function that will display the 30 images contained in the test set, with the true bounding boxes in green and the predicted bounding boxes in red overlayed over images. Each image will be titled with its groundtruth and predicted labels. You can use fig, axes = plt.subplots(6, 5, figsize=(20, 16)) in order to place the images conveniently.**\n",
    "\n",
    "My main problem here is that the model isn't learning, so all will just show a bounding box in the top left corner.\n",
    "Turns out the datasets and dataloaders don't give batches/items in the same order every time so had to rewrite.\n",
    "\n",
    "Red is window, green is labeled box, and orange is predicted box"
   ]
  },
  {
   "cell_type": "code",
   "execution_count": 78,
   "outputs": [
    {
     "data": {
      "text/plain": "<Figure size 432x288 with 1 Axes>",
      "image/png": "[encoded data removed]"
     },
     "metadata": {
      "needs_background": "light"
     },
     "output_type": "display_data"
    },
    {
     "data": {
      "text/plain": "<Figure size 432x288 with 1 Axes>",
      "image/png": "[encoded data removed]"
     },
     "metadata": {
      "needs_background": "light"
     },
     "output_type": "display_data"
    },
    {
     "data": {
      "text/plain": "<Figure size 432x288 with 1 Axes>",
      "image/png": "[encoded data removed]"
     },
     "metadata": {
      "needs_background": "light"
     },
     "output_type": "display_data"
    },
    {
     "data": {
      "text/plain": "<Figure size 432x288 with 1 Axes>",
      "image/png": "[encoded data removed]"
     },
     "metadata": {
      "needs_background": "light"
     },
     "output_type": "display_data"
    },
    {
     "data": {
      "text/plain": "<Figure size 432x288 with 1 Axes>",
      "image/png": "[encoded data removed]"
     },
     "metadata": {
      "needs_background": "light"
     },
     "output_type": "display_data"
    },
    {
     "data": {
      "text/plain": "<Figure size 432x288 with 1 Axes>",
      "image/png": "[encoded data removed]"
     },
     "metadata": {
      "needs_background": "light"
     },
     "output_type": "display_data"
    },
    {
     "data": {
      "text/plain": "<Figure size 432x288 with 1 Axes>",
      "image/png": "[encoded data removed]"
     },
     "metadata": {
      "needs_background": "light"
     },
     "output_type": "display_data"
    },
    {
     "data": {
      "text/plain": "<Figure size 432x288 with 1 Axes>",
      "image/png": "[encoded data removed]"
     },
     "metadata": {
      "needs_background": "light"
     },
     "output_type": "display_data"
    },
    {
     "data": {
      "text/plain": "<Figure size 432x288 with 1 Axes>",
      "image/png": "[encoded data removed]"
     },
     "metadata": {
      "needs_background": "light"
     },
     "output_type": "display_data"
    },
    {
     "data": {
      "text/plain": "<Figure size 432x288 with 1 Axes>",
      "image/png": "[encoded data removed]"
     },
     "metadata": {
      "needs_background": "light"
     },
     "output_type": "display_data"
    },
    {
     "data": {
      "text/plain": "<Figure size 432x288 with 1 Axes>",
      "image/png": "[encoded data removed]"
     },
     "metadata": {
      "needs_background": "light"
     },
     "output_type": "display_data"
    },
    {
     "data": {
      "text/plain": "<Figure size 432x288 with 1 Axes>",
      "image/png": "[encoded data removed]"
     },
     "metadata": {
      "needs_background": "light"
     },
     "output_type": "display_data"
    },
    {
     "data": {
      "text/plain": "<Figure size 432x288 with 1 Axes>",
      "image/png": "[encoded data removed]"
     },
     "metadata": {
      "needs_background": "light"
     },
     "output_type": "display_data"
    },
    {
     "data": {
      "text/plain": "<Figure size 432x288 with 1 Axes>",
      "image/png": "[encoded data removed]"
     },
     "metadata": {
      "needs_background": "light"
     },
     "output_type": "display_data"
    },
    {
     "data": {
      "text/plain": "<Figure size 432x288 with 1 Axes>",
      "image/png": "[encoded data removed]"
     },
     "metadata": {
      "needs_background": "light"
     },
     "output_type": "display_data"
    },
    {
     "data": {
      "text/plain": "<Figure size 432x288 with 1 Axes>",
      "image/png": "[encoded data removed]"
     },
     "metadata": {
      "needs_background": "light"
     },
     "output_type": "display_data"
    },
    {
     "data": {
      "text/plain": "<Figure size 432x288 with 1 Axes>",
      "image/png": "[encoded data removed]"
     },
     "metadata": {
      "needs_background": "light"
     },
     "output_type": "display_data"
    },
    {
     "data": {
      "text/plain": "<Figure size 432x288 with 1 Axes>",
      "image/png": "[encoded data removed]"
     },
     "metadata": {
      "needs_background": "light"
     },
     "output_type": "display_data"
    },
    {
     "name": "stderr",
     "output_type": "stream",
     "text": [
      "Total progression:   0%|          | 0/120 [6:07:10<?, ?it/s]\n"
     ]
    },
    {
     "data": {
      "text/plain": "<Figure size 432x288 with 1 Axes>",
      "image/png": "[encoded data removed]"
     },
     "metadata": {
      "needs_background": "light"
     },
     "output_type": "display_data"
    },
    {
     "data": {
      "text/plain": "<Figure size 432x288 with 1 Axes>",
      "image/png": "[encoded data removed]"
     },
     "metadata": {
      "needs_background": "light"
     },
     "output_type": "display_data"
    },
    {
     "data": {
      "text/plain": "<Figure size 432x288 with 1 Axes>",
      "image/png": "[encoded data removed]"
     },
     "metadata": {
      "needs_background": "light"
     },
     "output_type": "display_data"
    },
    {
     "data": {
      "text/plain": "<Figure size 432x288 with 1 Axes>",
      "image/png": "[encoded data removed]"
     },
     "metadata": {
      "needs_background": "light"
     },
     "output_type": "display_data"
    },
    {
     "data": {
      "text/plain": "<Figure size 432x288 with 1 Axes>",
      "image/png": "[encoded data removed]"
     },
     "metadata": {
      "needs_background": "light"
     },
     "output_type": "display_data"
    },
    {
     "data": {
      "text/plain": "<Figure size 432x288 with 1 Axes>",
      "image/png": "[encoded data removed]"
     },
     "metadata": {
      "needs_background": "light"
     },
     "output_type": "display_data"
    },
    {
     "data": {
      "text/plain": "<Figure size 432x288 with 1 Axes>",
      "image/png": "[encoded data removed]"
     },
     "metadata": {
      "needs_background": "light"
     },
     "output_type": "display_data"
    },
    {
     "data": {
      "text/plain": "<Figure size 432x288 with 1 Axes>",
      "image/png": "[encoded data removed]"
     },
     "metadata": {
      "needs_background": "light"
     },
     "output_type": "display_data"
    },
    {
     "data": {
      "text/plain": "<Figure size 432x288 with 1 Axes>",
      "image/png": "[encoded data removed]"
     },
     "metadata": {
      "needs_background": "light"
     },
     "output_type": "display_data"
    },
    {
     "data": {
      "text/plain": "<Figure size 432x288 with 1 Axes>",
      "image/png": "[encoded data removed]"
     },
     "metadata": {
      "needs_background": "light"
     },
     "output_type": "display_data"
    },
    {
     "data": {
      "text/plain": "<Figure size 432x288 with 1 Axes>",
      "image/png": "[encoded data removed]"
     },
     "metadata": {
      "needs_background": "light"
     },
     "output_type": "display_data"
    },
    {
     "data": {
      "text/plain": "<Figure size 432x288 with 1 Axes>",
      "image/png": "[encoded data removed]"
     },
     "metadata": {
      "needs_background": "light"
     },
     "output_type": "display_data"
    }
   ],
   "source": [
    "stride = 4\n",
    "window_size = 28\n",
    "\n",
    "for n, x in enumerate(test_set_x):\n",
    "    fig, ax = plt.subplots()\n",
    "    plt.title(pred_labels[n].detach().item())\n",
    "    ax.imshow(x.permute(1,2,0))\n",
    "    h = h_bests[n]\n",
    "    w = w_bests[n]\n",
    "    ws, hs, we, he = y[n, -4: , 0, 0]\n",
    "    ax.plot([w, w+28], [h, h], color='red')\n",
    "    ax.plot([w, w+28], [h+28, h+28], color='red')\n",
    "    ax.plot([w, w], [h, h+28], color='red')\n",
    "    ax.plot([w+28, w+28], [h, h+28], color='red')\n",
    "    ax.plot([ws, we], [hs, hs], color='green')\n",
    "    ax.plot([ws, we], [he, he], color='green')\n",
    "    ax.plot([ws, ws], [hs, he], color='green')\n",
    "    ax.plot([we, we], [hs, he], color='green')\n",
    "    # ax.plot([ws_pred_bests[n].detach(), we_pred_bests[n].detach()], [hs_pred_bests[n].detach(), hs_pred_bests[n].detach()], color='orange')\n",
    "    # ax.plot([ws_pred_bests[n].detach(), we_pred_bests[n].detach()], [he_pred_bests[n].detach(), he_pred_bests[n].detach()], color='orange')\n",
    "    # ax.plot([ws_pred_bests[n].detach(), ws_pred_bests[n].detach()], [hs_pred_bests[n].detach(), he_pred_bests[n].detach()], color='orange')\n",
    "    # ax.plot([we_pred_bests[n].detach(), we_pred_bests[n].detach()], [hs_pred_bests[n].detach(), he_pred_bests[n].detach()], color='orange')\n",
    "    plt.show()\n",
    "    plt.pause(0.1)"
   ],
   "metadata": {
    "collapsed": false,
    "pycharm": {
     "name": "#%%\n"
    }
   }
  },
  {
   "cell_type": "markdown",
   "source": [
    "Not that smart..."
   ],
   "metadata": {
    "collapsed": false,
    "pycharm": {
     "name": "#%% md\n"
    }
   }
  }
 ],
 "metadata": {
  "kernelspec": {
   "display_name": "Python 3",
   "language": "python",
   "name": "python3"
  },
  "language_info": {
   "codemirror_mode": {
    "name": "ipython",
    "version": 3
   },
   "file_extension": ".py",
   "mimetype": "text/x-python",
   "name": "python",
   "nbconvert_exporter": "python",
   "pygments_lexer": "ipython3",
   "version": "3.7.10"
  }
 },
 "nbformat": 4,
 "nbformat_minor": 5
}