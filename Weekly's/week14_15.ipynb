{
 "cells": [
  {
   "cell_type": "code",
   "execution_count": 1,
   "metadata": {
    "collapsed": true
   },
   "outputs": [],
   "source": [
    "import torch\n",
    "import numpy as np\n",
    "from  tqdm import tqdm\n"
   ]
  },
  {
   "cell_type": "code",
   "execution_count": 2,
   "outputs": [],
   "source": [
    "with open(\"../Data/mobydick.txt\",\"r\",encoding='utf-8') as file:\n",
    "    raw_txt = file.read()"
   ],
   "metadata": {
    "collapsed": false,
    "pycharm": {
     "name": "#%%\n"
    }
   }
  },
  {
   "cell_type": "code",
   "execution_count": 3,
   "outputs": [],
   "source": [
    "# Not beautiful\n",
    "stripped_txt = raw_txt.replace('\\n\\n', ' ').replace('\\t', ' ').replace('\\r', ' ')\\\n",
    "    .replace(';', '').replace(':', '').replace('  ', ' ')"
   ],
   "metadata": {
    "collapsed": false,
    "pycharm": {
     "name": "#%%\n"
    }
   }
  },
  {
   "cell_type": "code",
   "execution_count": 4,
   "outputs": [],
   "source": [
    "vocab = list(set(stripped_txt))\n",
    "vocab.sort()\n",
    "vocab_dict = {}\n",
    "for i, character in enumerate(vocab):\n",
    "    identity_vector = torch.zeros(len(vocab))\n",
    "    identity_vector[i] = 1\n",
    "    vocab_dict[character] = identity_vector"
   ],
   "metadata": {
    "collapsed": false,
    "pycharm": {
     "name": "#%%\n"
    }
   }
  },
  {
   "cell_type": "code",
   "execution_count": 5,
   "outputs": [],
   "source": [
    "# L\n",
    "L = 15\n",
    "dataX = torch.zeros((len(stripped_txt) - L, L, len(vocab_dict)))\n",
    "dataY = torch.zeros(len(stripped_txt) - L)\n",
    "for i in range(len(stripped_txt) - L):\n",
    "    x = torch.zeros((L, len(vocab_dict)))\n",
    "    for j in range(L):\n",
    "        x[j] = vocab_dict[stripped_txt[i+j]]\n",
    "    dataX[i] = x\n",
    "    dataY[i] = torch.argmax(vocab_dict[stripped_txt[i+L]])"
   ],
   "metadata": {
    "collapsed": false,
    "pycharm": {
     "name": "#%%\n"
    }
   }
  },
  {
   "cell_type": "code",
   "execution_count": 6,
   "outputs": [
    {
     "name": "stdout",
     "output_type": "stream",
     "text": [
      "﻿\n",
      "tensor([0., 0., 0., 0., 0., 0., 0., 0., 0., 0., 0., 0., 0., 0., 0., 0., 0., 0.,\n",
      "        0., 0., 0., 0., 0., 0., 0., 0., 0., 0., 0., 0., 0., 0., 0., 0., 0., 0.,\n",
      "        0., 0., 0., 0., 0., 0., 0., 0., 0., 0., 0., 0., 0., 0., 0., 0., 0., 0.,\n",
      "        0., 0., 0., 0., 0., 0., 0., 0., 0., 0., 0., 0., 0., 0., 0., 0., 0., 0.,\n",
      "        0., 0., 0., 0., 0., 0., 0., 0., 0., 0., 0., 0., 0., 0., 0., 0., 1.])\n",
      "C\n",
      "tensor([0., 0., 0., 0., 0., 0., 0., 0., 0., 0., 0., 0., 0., 0., 0., 0., 0., 0.,\n",
      "        0., 0., 0., 0., 0., 0., 1., 0., 0., 0., 0., 0., 0., 0., 0., 0., 0., 0.,\n",
      "        0., 0., 0., 0., 0., 0., 0., 0., 0., 0., 0., 0., 0., 0., 0., 0., 0., 0.,\n",
      "        0., 0., 0., 0., 0., 0., 0., 0., 0., 0., 0., 0., 0., 0., 0., 0., 0., 0.,\n",
      "        0., 0., 0., 0., 0., 0., 0., 0., 0., 0., 0., 0., 0., 0., 0., 0., 0.])\n",
      "H\n",
      "tensor([0., 0., 0., 0., 0., 0., 0., 0., 0., 0., 0., 0., 0., 0., 0., 0., 0., 0.,\n",
      "        0., 0., 0., 0., 0., 0., 0., 0., 0., 0., 0., 1., 0., 0., 0., 0., 0., 0.,\n",
      "        0., 0., 0., 0., 0., 0., 0., 0., 0., 0., 0., 0., 0., 0., 0., 0., 0., 0.,\n",
      "        0., 0., 0., 0., 0., 0., 0., 0., 0., 0., 0., 0., 0., 0., 0., 0., 0., 0.,\n",
      "        0., 0., 0., 0., 0., 0., 0., 0., 0., 0., 0., 0., 0., 0., 0., 0., 0.])\n",
      "A\n",
      "tensor([0., 0., 0., 0., 0., 0., 0., 0., 0., 0., 0., 0., 0., 0., 0., 0., 0., 0.,\n",
      "        0., 0., 0., 0., 1., 0., 0., 0., 0., 0., 0., 0., 0., 0., 0., 0., 0., 0.,\n",
      "        0., 0., 0., 0., 0., 0., 0., 0., 0., 0., 0., 0., 0., 0., 0., 0., 0., 0.,\n",
      "        0., 0., 0., 0., 0., 0., 0., 0., 0., 0., 0., 0., 0., 0., 0., 0., 0., 0.,\n",
      "        0., 0., 0., 0., 0., 0., 0., 0., 0., 0., 0., 0., 0., 0., 0., 0., 0.])\n",
      "P\n",
      "tensor([0., 0., 0., 0., 0., 0., 0., 0., 0., 0., 0., 0., 0., 0., 0., 0., 0., 0.,\n",
      "        0., 0., 0., 0., 0., 0., 0., 0., 0., 0., 0., 0., 0., 0., 0., 0., 0., 0.,\n",
      "        0., 1., 0., 0., 0., 0., 0., 0., 0., 0., 0., 0., 0., 0., 0., 0., 0., 0.,\n",
      "        0., 0., 0., 0., 0., 0., 0., 0., 0., 0., 0., 0., 0., 0., 0., 0., 0., 0.,\n",
      "        0., 0., 0., 0., 0., 0., 0., 0., 0., 0., 0., 0., 0., 0., 0., 0., 0.])\n",
      "T\n",
      "tensor([0., 0., 0., 0., 0., 0., 0., 0., 0., 0., 0., 0., 0., 0., 0., 0., 0., 0.,\n",
      "        0., 0., 0., 0., 0., 0., 0., 0., 0., 0., 0., 0., 0., 0., 0., 0., 0., 0.,\n",
      "        0., 0., 0., 0., 0., 1., 0., 0., 0., 0., 0., 0., 0., 0., 0., 0., 0., 0.,\n",
      "        0., 0., 0., 0., 0., 0., 0., 0., 0., 0., 0., 0., 0., 0., 0., 0., 0., 0.,\n",
      "        0., 0., 0., 0., 0., 0., 0., 0., 0., 0., 0., 0., 0., 0., 0., 0., 0.])\n",
      "E\n",
      "tensor([0., 0., 0., 0., 0., 0., 0., 0., 0., 0., 0., 0., 0., 0., 0., 0., 0., 0.,\n",
      "        0., 0., 0., 0., 0., 0., 0., 0., 1., 0., 0., 0., 0., 0., 0., 0., 0., 0.,\n",
      "        0., 0., 0., 0., 0., 0., 0., 0., 0., 0., 0., 0., 0., 0., 0., 0., 0., 0.,\n",
      "        0., 0., 0., 0., 0., 0., 0., 0., 0., 0., 0., 0., 0., 0., 0., 0., 0., 0.,\n",
      "        0., 0., 0., 0., 0., 0., 0., 0., 0., 0., 0., 0., 0., 0., 0., 0., 0.])\n",
      "R\n",
      "tensor([0., 0., 0., 0., 0., 0., 0., 0., 0., 0., 0., 0., 0., 0., 0., 0., 0., 0.,\n",
      "        0., 0., 0., 0., 0., 0., 0., 0., 0., 0., 0., 0., 0., 0., 0., 0., 0., 0.,\n",
      "        0., 0., 0., 1., 0., 0., 0., 0., 0., 0., 0., 0., 0., 0., 0., 0., 0., 0.,\n",
      "        0., 0., 0., 0., 0., 0., 0., 0., 0., 0., 0., 0., 0., 0., 0., 0., 0., 0.,\n",
      "        0., 0., 0., 0., 0., 0., 0., 0., 0., 0., 0., 0., 0., 0., 0., 0., 0.])\n",
      " \n",
      "tensor([0., 1., 0., 0., 0., 0., 0., 0., 0., 0., 0., 0., 0., 0., 0., 0., 0., 0.,\n",
      "        0., 0., 0., 0., 0., 0., 0., 0., 0., 0., 0., 0., 0., 0., 0., 0., 0., 0.,\n",
      "        0., 0., 0., 0., 0., 0., 0., 0., 0., 0., 0., 0., 0., 0., 0., 0., 0., 0.,\n",
      "        0., 0., 0., 0., 0., 0., 0., 0., 0., 0., 0., 0., 0., 0., 0., 0., 0., 0.,\n",
      "        0., 0., 0., 0., 0., 0., 0., 0., 0., 0., 0., 0., 0., 0., 0., 0., 0.])\n",
      "1\n",
      "tensor([0., 0., 0., 0., 0., 0., 0., 0., 0., 0., 0., 0., 1., 0., 0., 0., 0., 0.,\n",
      "        0., 0., 0., 0., 0., 0., 0., 0., 0., 0., 0., 0., 0., 0., 0., 0., 0., 0.,\n",
      "        0., 0., 0., 0., 0., 0., 0., 0., 0., 0., 0., 0., 0., 0., 0., 0., 0., 0.,\n",
      "        0., 0., 0., 0., 0., 0., 0., 0., 0., 0., 0., 0., 0., 0., 0., 0., 0., 0.,\n",
      "        0., 0., 0., 0., 0., 0., 0., 0., 0., 0., 0., 0., 0., 0., 0., 0., 0.])\n",
      ".\n",
      "tensor([0., 0., 0., 0., 0., 0., 0., 0., 0., 0., 1., 0., 0., 0., 0., 0., 0., 0.,\n",
      "        0., 0., 0., 0., 0., 0., 0., 0., 0., 0., 0., 0., 0., 0., 0., 0., 0., 0.,\n",
      "        0., 0., 0., 0., 0., 0., 0., 0., 0., 0., 0., 0., 0., 0., 0., 0., 0., 0.,\n",
      "        0., 0., 0., 0., 0., 0., 0., 0., 0., 0., 0., 0., 0., 0., 0., 0., 0., 0.,\n",
      "        0., 0., 0., 0., 0., 0., 0., 0., 0., 0., 0., 0., 0., 0., 0., 0., 0.])\n",
      " \n",
      "tensor([0., 1., 0., 0., 0., 0., 0., 0., 0., 0., 0., 0., 0., 0., 0., 0., 0., 0.,\n",
      "        0., 0., 0., 0., 0., 0., 0., 0., 0., 0., 0., 0., 0., 0., 0., 0., 0., 0.,\n",
      "        0., 0., 0., 0., 0., 0., 0., 0., 0., 0., 0., 0., 0., 0., 0., 0., 0., 0.,\n",
      "        0., 0., 0., 0., 0., 0., 0., 0., 0., 0., 0., 0., 0., 0., 0., 0., 0., 0.,\n",
      "        0., 0., 0., 0., 0., 0., 0., 0., 0., 0., 0., 0., 0., 0., 0., 0., 0.])\n",
      "L\n",
      "tensor([0., 0., 0., 0., 0., 0., 0., 0., 0., 0., 0., 0., 0., 0., 0., 0., 0., 0.,\n",
      "        0., 0., 0., 0., 0., 0., 0., 0., 0., 0., 0., 0., 0., 0., 0., 1., 0., 0.,\n",
      "        0., 0., 0., 0., 0., 0., 0., 0., 0., 0., 0., 0., 0., 0., 0., 0., 0., 0.,\n",
      "        0., 0., 0., 0., 0., 0., 0., 0., 0., 0., 0., 0., 0., 0., 0., 0., 0., 0.,\n",
      "        0., 0., 0., 0., 0., 0., 0., 0., 0., 0., 0., 0., 0., 0., 0., 0., 0.])\n",
      "o\n",
      "tensor([0., 0., 0., 0., 0., 0., 0., 0., 0., 0., 0., 0., 0., 0., 0., 0., 0., 0.,\n",
      "        0., 0., 0., 0., 0., 0., 0., 0., 0., 0., 0., 0., 0., 0., 0., 0., 0., 0.,\n",
      "        0., 0., 0., 0., 0., 0., 0., 0., 0., 0., 0., 0., 0., 0., 0., 0., 0., 0.,\n",
      "        0., 0., 0., 0., 0., 0., 0., 0., 0., 0., 0., 1., 0., 0., 0., 0., 0., 0.,\n",
      "        0., 0., 0., 0., 0., 0., 0., 0., 0., 0., 0., 0., 0., 0., 0., 0., 0.])\n",
      "o\n",
      "tensor([0., 0., 0., 0., 0., 0., 0., 0., 0., 0., 0., 0., 0., 0., 0., 0., 0., 0.,\n",
      "        0., 0., 0., 0., 0., 0., 0., 0., 0., 0., 0., 0., 0., 0., 0., 0., 0., 0.,\n",
      "        0., 0., 0., 0., 0., 0., 0., 0., 0., 0., 0., 0., 0., 0., 0., 0., 0., 0.,\n",
      "        0., 0., 0., 0., 0., 0., 0., 0., 0., 0., 0., 1., 0., 0., 0., 0., 0., 0.,\n",
      "        0., 0., 0., 0., 0., 0., 0., 0., 0., 0., 0., 0., 0., 0., 0., 0., 0.])\n",
      "m\n",
      "tensor(63.)\n"
     ]
    }
   ],
   "source": [
    "reversed_dict = {}\n",
    "for key in vocab_dict:\n",
    "    reversed_dict[torch.argmax(vocab_dict[key]).item()] = key\n",
    "for x in dataX[0]:\n",
    "    print(reversed_dict[torch.argmax(x).item()])\n",
    "    print(x)\n",
    "print(reversed_dict[dataY[0].item()])\n",
    "print(dataY[0])"
   ],
   "metadata": {
    "collapsed": false,
    "pycharm": {
     "name": "#%%\n"
    }
   }
  },
  {
   "cell_type": "code",
   "execution_count": 7,
   "outputs": [],
   "source": [
    "from torch.utils.data import Dataset\n",
    "\n",
    "\n",
    "class MobyDickDataset(Dataset):\n",
    "\n",
    "    def __init__(self, x, y):\n",
    "        self.X = x\n",
    "        self.Y = y\n",
    "\n",
    "    def __getitem__(self, idx):\n",
    "        x = self.X[idx]\n",
    "        y = self.Y[idx]\n",
    "        return (x, y)\n",
    "\n",
    "    def __len__(self):\n",
    "        return self.X.shape[0]"
   ],
   "metadata": {
    "collapsed": false,
    "pycharm": {
     "name": "#%%\n"
    }
   }
  },
  {
   "cell_type": "code",
   "execution_count": 9,
   "outputs": [
    {
     "name": "stdout",
     "output_type": "stream",
     "text": [
      "1184818\n"
     ]
    }
   ],
   "source": [
    "dataset = MobyDickDataset(dataX, dataY)\n",
    "print(len(dataset))\n",
    "train_set, val_set = torch.utils.data.random_split(dataset, [1170000, 14818])"
   ],
   "metadata": {
    "collapsed": false,
    "pycharm": {
     "name": "#%%\n"
    }
   }
  },
  {
   "cell_type": "code",
   "execution_count": 10,
   "outputs": [],
   "source": [
    "train_loader = torch.utils.data.DataLoader(train_set, batch_size=128, shuffle=True, num_workers=0)\n",
    "val_loader = torch.utils.data.DataLoader(val_set, batch_size=256, shuffle=True, num_workers=0)"
   ],
   "metadata": {
    "collapsed": false,
    "pycharm": {
     "name": "#%%\n"
    }
   }
  },
  {
   "cell_type": "code",
   "execution_count": 11,
   "outputs": [],
   "source": [
    "class MyLSTM(torch.nn.Module):\n",
    "\n",
    "\n",
    "    def __init__(self, feature_size, hidden_size, nr_of_stacks, output_dim):\n",
    "        super().__init__()\n",
    "        self.LSTM = torch.nn.LSTM(feature_size, hidden_size, nr_of_stacks, batch_first=True)\n",
    "        self.linear = torch.nn.Linear(hidden_size, output_dim)\n",
    "        self.hidden_size = hidden_size\n",
    "\n",
    "    def forward(self, x):\n",
    "        out, (h, c) = self.LSTM(x)\n",
    "        out = self.linear(h)\n",
    "        out = out[0]\n",
    "        return out"
   ],
   "metadata": {
    "collapsed": false,
    "pycharm": {
     "name": "#%%\n"
    }
   }
  },
  {
   "cell_type": "code",
   "source": [
    "import datetime\n",
    "\n",
    "device = torch.device('cuda') if torch.cuda.is_available() else torch.device('cpu')\n",
    "print(f\"Device {device}.\")\n",
    "\n",
    "def train(model, optimizer, loss_f, epochs, train_loader):\n",
    "    model.train()\n",
    "    for epoch in range(epochs):\n",
    "        loss_train = 0.0\n",
    "        train_bar = tqdm(total=len(train_loader), desc=\"Epoch progression\")\n",
    "\n",
    "        for xb, yb in train_loader:\n",
    "            xb = xb.to(device=device)\n",
    "            yb = yb.to(device=device)\n",
    "            yb = yb.long()\n",
    "            with torch.cuda.amp.autocast(enabled=True):\n",
    "                out = model(xb)\n",
    "                loss = loss_f(out, yb)\n",
    "                loss.backward()\n",
    "                optimizer.step()\n",
    "                optimizer.zero_grad()\n",
    "                loss_train += loss.item()\n",
    "                train_bar.update()\n",
    "\n",
    "        print('{}  |  Epoch {}  |  Training loss {:.3f}'.format(\n",
    "            datetime.datetime.now(), epoch,\n",
    "            loss_train / len(train_loader)))\n",
    "        train_bar.close()"
   ],
   "metadata": {
    "collapsed": false,
    "pycharm": {
     "name": "#%%\n"
    }
   },
   "execution_count": 12,
   "outputs": [
    {
     "name": "stdout",
     "output_type": "stream",
     "text": [
      "Device cuda.\n"
     ]
    }
   ]
  },
  {
   "cell_type": "code",
   "execution_count": 13,
   "outputs": [
    {
     "name": "stderr",
     "output_type": "stream",
     "text": [
      "Epoch progression: 100%|██████████| 9141/9141 [00:24<00:00, 370.73it/s]\n",
      "Epoch progression:   1%|          | 66/9141 [00:00<00:26, 337.50it/s]"
     ]
    },
    {
     "name": "stdout",
     "output_type": "stream",
     "text": [
      "2021-04-28 20:35:24.566174  |  Epoch 0  |  Training loss 2.180\n"
     ]
    },
    {
     "name": "stderr",
     "output_type": "stream",
     "text": [
      "Epoch progression: 100%|██████████| 9141/9141 [00:22<00:00, 399.63it/s]\n",
      "Epoch progression:   1%|          | 66/9141 [00:00<00:26, 336.91it/s]"
     ]
    },
    {
     "name": "stdout",
     "output_type": "stream",
     "text": [
      "2021-04-28 20:35:47.440746  |  Epoch 1  |  Training loss 1.838\n"
     ]
    },
    {
     "name": "stderr",
     "output_type": "stream",
     "text": [
      "Epoch progression: 100%|██████████| 9141/9141 [00:23<00:00, 396.69it/s]\n",
      "Epoch progression:   1%|          | 68/9141 [00:00<00:26, 347.41it/s]"
     ]
    },
    {
     "name": "stdout",
     "output_type": "stream",
     "text": [
      "2021-04-28 20:36:10.485160  |  Epoch 2  |  Training loss 1.737\n"
     ]
    },
    {
     "name": "stderr",
     "output_type": "stream",
     "text": [
      "Epoch progression: 100%|██████████| 9141/9141 [00:22<00:00, 404.94it/s]\n",
      "Epoch progression:   1%|          | 68/9141 [00:00<00:26, 347.41it/s]"
     ]
    },
    {
     "name": "stdout",
     "output_type": "stream",
     "text": [
      "2021-04-28 20:36:33.060115  |  Epoch 3  |  Training loss 1.680\n"
     ]
    },
    {
     "name": "stderr",
     "output_type": "stream",
     "text": [
      "Epoch progression: 100%|██████████| 9141/9141 [00:22<00:00, 399.27it/s]\n",
      "Epoch progression:   0%|          | 28/9141 [00:00<00:32, 276.98it/s]"
     ]
    },
    {
     "name": "stdout",
     "output_type": "stream",
     "text": [
      "2021-04-28 20:36:55.955412  |  Epoch 4  |  Training loss 1.643\n"
     ]
    },
    {
     "name": "stderr",
     "output_type": "stream",
     "text": [
      "Epoch progression: 100%|██████████| 9141/9141 [00:23<00:00, 394.96it/s]\n",
      "Epoch progression:   0%|          | 28/9141 [00:00<00:32, 279.75it/s]"
     ]
    },
    {
     "name": "stdout",
     "output_type": "stream",
     "text": [
      "2021-04-28 20:37:19.100336  |  Epoch 5  |  Training loss 1.615\n"
     ]
    },
    {
     "name": "stderr",
     "output_type": "stream",
     "text": [
      "Epoch progression: 100%|██████████| 9141/9141 [00:22<00:00, 403.74it/s]\n",
      "Epoch progression:   0%|          | 28/9141 [00:00<00:33, 274.26it/s]"
     ]
    },
    {
     "name": "stdout",
     "output_type": "stream",
     "text": [
      "2021-04-28 20:37:41.742185  |  Epoch 6  |  Training loss 1.594\n"
     ]
    },
    {
     "name": "stderr",
     "output_type": "stream",
     "text": [
      "Epoch progression: 100%|██████████| 9141/9141 [00:22<00:00, 398.76it/s]\n",
      "Epoch progression:   1%|          | 65/9141 [00:00<00:27, 331.49it/s]"
     ]
    },
    {
     "name": "stdout",
     "output_type": "stream",
     "text": [
      "2021-04-28 20:38:04.666509  |  Epoch 7  |  Training loss 1.577\n"
     ]
    },
    {
     "name": "stderr",
     "output_type": "stream",
     "text": [
      "Epoch progression: 100%|██████████| 9141/9141 [00:23<00:00, 394.89it/s]\n",
      "Epoch progression:   1%|          | 63/9141 [00:00<00:27, 324.27it/s]"
     ]
    },
    {
     "name": "stdout",
     "output_type": "stream",
     "text": [
      "2021-04-28 20:38:27.815531  |  Epoch 8  |  Training loss 1.564\n"
     ]
    },
    {
     "name": "stderr",
     "output_type": "stream",
     "text": [
      "Epoch progression: 100%|██████████| 9141/9141 [00:22<00:00, 403.78it/s]\n",
      "Epoch progression:   1%|          | 67/9141 [00:00<00:26, 340.98it/s]"
     ]
    },
    {
     "name": "stdout",
     "output_type": "stream",
     "text": [
      "2021-04-28 20:38:50.454096  |  Epoch 9  |  Training loss 1.552\n"
     ]
    },
    {
     "name": "stderr",
     "output_type": "stream",
     "text": [
      "Epoch progression: 100%|██████████| 9141/9141 [00:22<00:00, 398.21it/s]\n",
      "Epoch progression:   1%|          | 66/9141 [00:00<00:27, 335.54it/s]"
     ]
    },
    {
     "name": "stdout",
     "output_type": "stream",
     "text": [
      "2021-04-28 20:39:13.409448  |  Epoch 10  |  Training loss 1.542\n"
     ]
    },
    {
     "name": "stderr",
     "output_type": "stream",
     "text": [
      "Epoch progression: 100%|██████████| 9141/9141 [00:23<00:00, 394.67it/s]\n",
      "Epoch progression:   1%|          | 67/9141 [00:00<00:26, 343.33it/s]"
     ]
    },
    {
     "name": "stdout",
     "output_type": "stream",
     "text": [
      "2021-04-28 20:39:36.570482  |  Epoch 11  |  Training loss 1.533\n"
     ]
    },
    {
     "name": "stderr",
     "output_type": "stream",
     "text": [
      "Epoch progression: 100%|██████████| 9141/9141 [00:22<00:00, 404.14it/s]\n",
      "Epoch progression:   1%|          | 62/9141 [00:00<00:28, 320.18it/s]"
     ]
    },
    {
     "name": "stdout",
     "output_type": "stream",
     "text": [
      "2021-04-28 20:39:59.190026  |  Epoch 12  |  Training loss 1.526\n"
     ]
    },
    {
     "name": "stderr",
     "output_type": "stream",
     "text": [
      "Epoch progression: 100%|██████████| 9141/9141 [00:22<00:00, 398.41it/s]\n",
      "Epoch progression:   0%|          | 26/9141 [00:00<00:35, 257.19it/s]"
     ]
    },
    {
     "name": "stdout",
     "output_type": "stream",
     "text": [
      "2021-04-28 20:40:22.134869  |  Epoch 13  |  Training loss 1.519\n"
     ]
    },
    {
     "name": "stderr",
     "output_type": "stream",
     "text": [
      "Epoch progression: 100%|██████████| 9141/9141 [00:23<00:00, 395.53it/s]\n",
      "Epoch progression:   1%|          | 67/9141 [00:00<00:26, 346.16it/s]"
     ]
    },
    {
     "name": "stdout",
     "output_type": "stream",
     "text": [
      "2021-04-28 20:40:45.245858  |  Epoch 14  |  Training loss 1.513\n"
     ]
    },
    {
     "name": "stderr",
     "output_type": "stream",
     "text": [
      "Epoch progression: 100%|██████████| 9141/9141 [00:22<00:00, 404.74it/s]\n",
      "Epoch progression:   1%|          | 66/9141 [00:00<00:27, 335.54it/s]"
     ]
    },
    {
     "name": "stdout",
     "output_type": "stream",
     "text": [
      "2021-04-28 20:41:07.830873  |  Epoch 15  |  Training loss 1.508\n"
     ]
    },
    {
     "name": "stderr",
     "output_type": "stream",
     "text": [
      "Epoch progression: 100%|██████████| 9141/9141 [00:22<00:00, 398.98it/s]\n",
      "Epoch progression:   0%|          | 27/9141 [00:00<00:33, 269.76it/s]"
     ]
    },
    {
     "name": "stdout",
     "output_type": "stream",
     "text": [
      "2021-04-28 20:41:30.742681  |  Epoch 16  |  Training loss 1.502\n"
     ]
    },
    {
     "name": "stderr",
     "output_type": "stream",
     "text": [
      "Epoch progression: 100%|██████████| 9141/9141 [00:23<00:00, 394.91it/s]\n",
      "Epoch progression:   0%|          | 27/9141 [00:00<00:33, 269.76it/s]"
     ]
    },
    {
     "name": "stdout",
     "output_type": "stream",
     "text": [
      "2021-04-28 20:41:53.890703  |  Epoch 17  |  Training loss 1.498\n"
     ]
    },
    {
     "name": "stderr",
     "output_type": "stream",
     "text": [
      "Epoch progression: 100%|██████████| 9141/9141 [00:22<00:00, 403.79it/s]\n",
      "Epoch progression:   1%|          | 67/9141 [00:00<00:26, 341.58it/s]"
     ]
    },
    {
     "name": "stdout",
     "output_type": "stream",
     "text": [
      "2021-04-28 20:42:16.529760  |  Epoch 18  |  Training loss 1.494\n"
     ]
    },
    {
     "name": "stderr",
     "output_type": "stream",
     "text": [
      "Epoch progression: 100%|██████████| 9141/9141 [00:22<00:00, 398.98it/s]\n",
      "Epoch progression:   1%|          | 64/9141 [00:00<00:28, 324.09it/s]"
     ]
    },
    {
     "name": "stdout",
     "output_type": "stream",
     "text": [
      "2021-04-28 20:42:39.441681  |  Epoch 19  |  Training loss 1.490\n"
     ]
    },
    {
     "name": "stderr",
     "output_type": "stream",
     "text": [
      "Epoch progression: 100%|██████████| 9141/9141 [00:23<00:00, 395.25it/s]\n",
      "Epoch progression:   0%|          | 27/9141 [00:00<00:34, 267.09it/s]"
     ]
    },
    {
     "name": "stdout",
     "output_type": "stream",
     "text": [
      "2021-04-28 20:43:02.569960  |  Epoch 20  |  Training loss 1.487\n"
     ]
    },
    {
     "name": "stderr",
     "output_type": "stream",
     "text": [
      "Epoch progression: 100%|██████████| 9141/9141 [00:22<00:00, 404.93it/s]\n",
      "Epoch progression:   0%|          | 26/9141 [00:00<00:35, 259.77it/s]"
     ]
    },
    {
     "name": "stdout",
     "output_type": "stream",
     "text": [
      "2021-04-28 20:43:25.143964  |  Epoch 21  |  Training loss 1.484\n"
     ]
    },
    {
     "name": "stderr",
     "output_type": "stream",
     "text": [
      "Epoch progression: 100%|██████████| 9141/9141 [00:22<00:00, 399.29it/s]\n",
      "Epoch progression:   0%|          | 27/9141 [00:00<00:34, 267.09it/s]"
     ]
    },
    {
     "name": "stdout",
     "output_type": "stream",
     "text": [
      "2021-04-28 20:43:48.038266  |  Epoch 22  |  Training loss 1.481\n"
     ]
    },
    {
     "name": "stderr",
     "output_type": "stream",
     "text": [
      "Epoch progression: 100%|██████████| 9141/9141 [00:23<00:00, 395.72it/s]\n",
      "Epoch progression:   0%|          | 25/9141 [00:00<00:37, 244.88it/s]"
     ]
    },
    {
     "name": "stdout",
     "output_type": "stream",
     "text": [
      "2021-04-28 20:44:11.138742  |  Epoch 23  |  Training loss 1.478\n"
     ]
    },
    {
     "name": "stderr",
     "output_type": "stream",
     "text": [
      "Epoch progression: 100%|██████████| 9141/9141 [00:22<00:00, 403.23it/s]\n",
      "Epoch progression:   1%|          | 63/9141 [00:00<00:27, 324.69it/s]"
     ]
    },
    {
     "name": "stdout",
     "output_type": "stream",
     "text": [
      "2021-04-28 20:44:33.809331  |  Epoch 24  |  Training loss 1.475\n"
     ]
    },
    {
     "name": "stderr",
     "output_type": "stream",
     "text": [
      "Epoch progression: 100%|██████████| 9141/9141 [00:22<00:00, 398.73it/s]\n",
      "Epoch progression:   1%|          | 65/9141 [00:00<00:27, 334.40it/s]"
     ]
    },
    {
     "name": "stdout",
     "output_type": "stream",
     "text": [
      "2021-04-28 20:44:56.735654  |  Epoch 25  |  Training loss 1.473\n"
     ]
    },
    {
     "name": "stderr",
     "output_type": "stream",
     "text": [
      "Epoch progression: 100%|██████████| 9141/9141 [00:23<00:00, 395.73it/s]\n",
      "Epoch progression:   0%|          | 27/9141 [00:00<00:33, 269.76it/s]"
     ]
    },
    {
     "name": "stdout",
     "output_type": "stream",
     "text": [
      "2021-04-28 20:45:19.835902  |  Epoch 26  |  Training loss 1.471\n"
     ]
    },
    {
     "name": "stderr",
     "output_type": "stream",
     "text": [
      "Epoch progression: 100%|██████████| 9141/9141 [00:22<00:00, 404.49it/s]\n",
      "Epoch progression:   1%|          | 66/9141 [00:00<00:26, 340.04it/s]"
     ]
    },
    {
     "name": "stdout",
     "output_type": "stream",
     "text": [
      "2021-04-28 20:45:42.435725  |  Epoch 27  |  Training loss 1.469\n"
     ]
    },
    {
     "name": "stderr",
     "output_type": "stream",
     "text": [
      "Epoch progression: 100%|██████████| 9141/9141 [00:22<00:00, 399.51it/s]\n",
      "Epoch progression:   1%|          | 65/9141 [00:00<00:27, 329.57it/s]"
     ]
    },
    {
     "name": "stdout",
     "output_type": "stream",
     "text": [
      "2021-04-28 20:46:05.317011  |  Epoch 28  |  Training loss 1.467\n"
     ]
    },
    {
     "name": "stderr",
     "output_type": "stream",
     "text": [
      "Epoch progression: 100%|██████████| 9141/9141 [00:23<00:00, 396.23it/s]\n",
      "Epoch progression:   1%|          | 67/9141 [00:00<00:26, 342.73it/s]"
     ]
    },
    {
     "name": "stdout",
     "output_type": "stream",
     "text": [
      "2021-04-28 20:46:28.387962  |  Epoch 29  |  Training loss 1.465\n"
     ]
    },
    {
     "name": "stderr",
     "output_type": "stream",
     "text": [
      "Epoch progression: 100%|██████████| 9141/9141 [00:22<00:00, 404.47it/s]\n",
      "Epoch progression:   0%|          | 28/9141 [00:00<00:32, 276.98it/s]"
     ]
    },
    {
     "name": "stdout",
     "output_type": "stream",
     "text": [
      "2021-04-28 20:46:50.988991  |  Epoch 30  |  Training loss 1.463\n"
     ]
    },
    {
     "name": "stderr",
     "output_type": "stream",
     "text": [
      "Epoch progression: 100%|██████████| 9141/9141 [00:22<00:00, 399.31it/s]\n",
      "Epoch progression:   1%|          | 68/9141 [00:00<00:26, 343.40it/s]"
     ]
    },
    {
     "name": "stdout",
     "output_type": "stream",
     "text": [
      "2021-04-28 20:47:13.881776  |  Epoch 31  |  Training loss 1.462\n"
     ]
    },
    {
     "name": "stderr",
     "output_type": "stream",
     "text": [
      "Epoch progression: 100%|██████████| 9141/9141 [00:23<00:00, 395.92it/s]\n",
      "Epoch progression:   0%|          | 27/9141 [00:00<00:33, 269.76it/s]"
     ]
    },
    {
     "name": "stdout",
     "output_type": "stream",
     "text": [
      "2021-04-28 20:47:36.970757  |  Epoch 32  |  Training loss 1.460\n"
     ]
    },
    {
     "name": "stderr",
     "output_type": "stream",
     "text": [
      "Epoch progression: 100%|██████████| 9141/9141 [00:22<00:00, 404.54it/s]\n",
      "Epoch progression:   0%|          | 27/9141 [00:00<00:33, 269.76it/s]"
     ]
    },
    {
     "name": "stdout",
     "output_type": "stream",
     "text": [
      "2021-04-28 20:47:59.567782  |  Epoch 33  |  Training loss 1.459\n"
     ]
    },
    {
     "name": "stderr",
     "output_type": "stream",
     "text": [
      "Epoch progression: 100%|██████████| 9141/9141 [00:22<00:00, 399.08it/s]\n",
      "Epoch progression:   0%|          | 27/9141 [00:00<00:33, 269.76it/s]"
     ]
    },
    {
     "name": "stdout",
     "output_type": "stream",
     "text": [
      "2021-04-28 20:48:22.474081  |  Epoch 34  |  Training loss 1.457\n"
     ]
    },
    {
     "name": "stderr",
     "output_type": "stream",
     "text": [
      "Epoch progression: 100%|██████████| 9141/9141 [00:23<00:00, 396.38it/s]\n",
      "Epoch progression:   0%|          | 28/9141 [00:00<00:33, 274.26it/s]"
     ]
    },
    {
     "name": "stdout",
     "output_type": "stream",
     "text": [
      "2021-04-28 20:48:45.536032  |  Epoch 35  |  Training loss 1.456\n"
     ]
    },
    {
     "name": "stderr",
     "output_type": "stream",
     "text": [
      "Epoch progression: 100%|██████████| 9141/9141 [00:22<00:00, 404.64it/s]\n",
      "Epoch progression:   1%|          | 68/9141 [00:00<00:26, 343.40it/s]"
     ]
    },
    {
     "name": "stdout",
     "output_type": "stream",
     "text": [
      "2021-04-28 20:49:08.127565  |  Epoch 36  |  Training loss 1.455\n"
     ]
    },
    {
     "name": "stderr",
     "output_type": "stream",
     "text": [
      "Epoch progression: 100%|██████████| 9141/9141 [00:22<00:00, 399.07it/s]\n",
      "Epoch progression:   1%|          | 67/9141 [00:00<00:26, 344.74it/s]"
     ]
    },
    {
     "name": "stdout",
     "output_type": "stream",
     "text": [
      "2021-04-28 20:49:31.034367  |  Epoch 37  |  Training loss 1.454\n"
     ]
    },
    {
     "name": "stderr",
     "output_type": "stream",
     "text": [
      "Epoch progression: 100%|██████████| 9141/9141 [00:23<00:00, 396.21it/s]\n",
      "Epoch progression:   0%|          | 26/9141 [00:00<00:35, 257.19it/s]"
     ]
    },
    {
     "name": "stdout",
     "output_type": "stream",
     "text": [
      "2021-04-28 20:49:54.106328  |  Epoch 38  |  Training loss 1.452\n"
     ]
    },
    {
     "name": "stderr",
     "output_type": "stream",
     "text": [
      "Epoch progression: 100%|██████████| 9141/9141 [00:22<00:00, 404.35it/s]\n",
      "Epoch progression:   0%|          | 26/9141 [00:00<00:35, 257.19it/s]"
     ]
    },
    {
     "name": "stdout",
     "output_type": "stream",
     "text": [
      "2021-04-28 20:50:16.713862  |  Epoch 39  |  Training loss 1.451\n"
     ]
    },
    {
     "name": "stderr",
     "output_type": "stream",
     "text": [
      "Epoch progression: 100%|██████████| 9141/9141 [00:22<00:00, 400.03it/s]\n",
      "Epoch progression:   1%|          | 62/9141 [00:00<00:28, 321.80it/s]"
     ]
    },
    {
     "name": "stdout",
     "output_type": "stream",
     "text": [
      "2021-04-28 20:50:39.565621  |  Epoch 40  |  Training loss 1.450\n"
     ]
    },
    {
     "name": "stderr",
     "output_type": "stream",
     "text": [
      "Epoch progression: 100%|██████████| 9141/9141 [00:23<00:00, 396.30it/s]\n",
      "Epoch progression:   0%|          | 26/9141 [00:00<00:35, 253.43it/s]"
     ]
    },
    {
     "name": "stdout",
     "output_type": "stream",
     "text": [
      "2021-04-28 20:51:02.632569  |  Epoch 41  |  Training loss 1.449\n"
     ]
    },
    {
     "name": "stderr",
     "output_type": "stream",
     "text": [
      "Epoch progression: 100%|██████████| 9141/9141 [00:22<00:00, 404.74it/s]\n",
      "Epoch progression:   0%|          | 26/9141 [00:00<00:35, 259.77it/s]"
     ]
    },
    {
     "name": "stdout",
     "output_type": "stream",
     "text": [
      "2021-04-28 20:51:25.218590  |  Epoch 42  |  Training loss 1.448\n"
     ]
    },
    {
     "name": "stderr",
     "output_type": "stream",
     "text": [
      "Epoch progression: 100%|██████████| 9141/9141 [00:22<00:00, 399.54it/s]\n",
      "Epoch progression:   0%|          | 26/9141 [00:00<00:35, 259.76it/s]"
     ]
    },
    {
     "name": "stdout",
     "output_type": "stream",
     "text": [
      "2021-04-28 20:51:48.098352  |  Epoch 43  |  Training loss 1.447\n"
     ]
    },
    {
     "name": "stderr",
     "output_type": "stream",
     "text": [
      "Epoch progression: 100%|██████████| 9141/9141 [00:23<00:00, 396.45it/s]\n",
      "Epoch progression:   0%|          | 27/9141 [00:00<00:34, 263.17it/s]"
     ]
    },
    {
     "name": "stdout",
     "output_type": "stream",
     "text": [
      "2021-04-28 20:52:11.156287  |  Epoch 44  |  Training loss 1.446\n"
     ]
    },
    {
     "name": "stderr",
     "output_type": "stream",
     "text": [
      "Epoch progression: 100%|██████████| 9141/9141 [00:22<00:00, 404.08it/s]\n",
      "Epoch progression:   1%|          | 57/9141 [00:00<00:30, 301.48it/s]"
     ]
    },
    {
     "name": "stdout",
     "output_type": "stream",
     "text": [
      "2021-04-28 20:52:33.778832  |  Epoch 45  |  Training loss 1.445\n"
     ]
    },
    {
     "name": "stderr",
     "output_type": "stream",
     "text": [
      "Epoch progression: 100%|██████████| 9141/9141 [00:22<00:00, 398.95it/s]\n",
      "Epoch progression:   1%|          | 67/9141 [00:00<00:26, 346.16it/s]"
     ]
    },
    {
     "name": "stdout",
     "output_type": "stream",
     "text": [
      "2021-04-28 20:52:56.692650  |  Epoch 46  |  Training loss 1.444\n"
     ]
    },
    {
     "name": "stderr",
     "output_type": "stream",
     "text": [
      "Epoch progression: 100%|██████████| 9141/9141 [00:23<00:00, 396.54it/s]\n",
      "Epoch progression:   0%|          | 24/9141 [00:00<00:38, 235.08it/s]"
     ]
    },
    {
     "name": "stdout",
     "output_type": "stream",
     "text": [
      "2021-04-28 20:53:19.745599  |  Epoch 47  |  Training loss 1.444\n"
     ]
    },
    {
     "name": "stderr",
     "output_type": "stream",
     "text": [
      "Epoch progression: 100%|██████████| 9141/9141 [00:22<00:00, 404.07it/s]\n",
      "Epoch progression:   1%|          | 65/9141 [00:00<00:27, 329.57it/s]"
     ]
    },
    {
     "name": "stdout",
     "output_type": "stream",
     "text": [
      "2021-04-28 20:53:42.369151  |  Epoch 48  |  Training loss 1.443\n"
     ]
    },
    {
     "name": "stderr",
     "output_type": "stream",
     "text": [
      "Epoch progression: 100%|██████████| 9141/9141 [00:22<00:00, 399.08it/s]\n",
      "Epoch progression:   0%|          | 27/9141 [00:00<00:33, 269.76it/s]"
     ]
    },
    {
     "name": "stdout",
     "output_type": "stream",
     "text": [
      "2021-04-28 20:54:05.274280  |  Epoch 49  |  Training loss 1.442\n"
     ]
    },
    {
     "name": "stderr",
     "output_type": "stream",
     "text": [
      "Epoch progression: 100%|██████████| 9141/9141 [00:22<00:00, 397.48it/s]\n",
      "Epoch progression:   0%|          | 26/9141 [00:00<00:35, 259.77it/s]"
     ]
    },
    {
     "name": "stdout",
     "output_type": "stream",
     "text": [
      "2021-04-28 20:54:28.272663  |  Epoch 50  |  Training loss 1.441\n"
     ]
    },
    {
     "name": "stderr",
     "output_type": "stream",
     "text": [
      "Epoch progression: 100%|██████████| 9141/9141 [00:22<00:00, 403.51it/s]\n",
      "Epoch progression:   1%|          | 64/9141 [00:00<00:27, 329.93it/s]"
     ]
    },
    {
     "name": "stdout",
     "output_type": "stream",
     "text": [
      "2021-04-28 20:54:50.927243  |  Epoch 51  |  Training loss 1.441\n"
     ]
    },
    {
     "name": "stderr",
     "output_type": "stream",
     "text": [
      "Epoch progression: 100%|██████████| 9141/9141 [00:22<00:00, 399.52it/s]\n",
      "Epoch progression:   0%|          | 27/9141 [00:00<00:34, 267.09it/s]"
     ]
    },
    {
     "name": "stdout",
     "output_type": "stream",
     "text": [
      "2021-04-28 20:55:13.808017  |  Epoch 52  |  Training loss 1.440\n"
     ]
    },
    {
     "name": "stderr",
     "output_type": "stream",
     "text": [
      "Epoch progression: 100%|██████████| 9141/9141 [00:23<00:00, 397.21it/s]\n",
      "Epoch progression:   0%|          | 27/9141 [00:00<00:33, 269.76it/s]"
     ]
    },
    {
     "name": "stdout",
     "output_type": "stream",
     "text": [
      "2021-04-28 20:55:36.821924  |  Epoch 53  |  Training loss 1.440\n"
     ]
    },
    {
     "name": "stderr",
     "output_type": "stream",
     "text": [
      "Epoch progression: 100%|██████████| 9141/9141 [00:22<00:00, 404.16it/s]"
     ]
    },
    {
     "name": "stdout",
     "output_type": "stream",
     "text": [
      "2021-04-28 20:55:59.439472  |  Epoch 54  |  Training loss 1.439\n"
     ]
    },
    {
     "name": "stderr",
     "output_type": "stream",
     "text": [
      "\n"
     ]
    }
   ],
   "source": [
    "model = MyLSTM(len(vocab_dict), len(vocab_dict), 1, len(vocab_dict))\n",
    "opt = torch.optim.Adam(model.parameters())\n",
    "loss = torch.nn.CrossEntropyLoss()\n",
    "model.to(device=device)\n",
    "loss.to(device=device)\n",
    "train(model, opt, loss, 55, train_loader)"
   ],
   "metadata": {
    "collapsed": false,
    "pycharm": {
     "name": "#%%\n"
    }
   }
  },
  {
   "cell_type": "code",
   "execution_count": 14,
   "outputs": [],
   "source": [
    "def validate(model, val_loader, train_loader):\n",
    "    \"\"\"\n",
    "    Plot training and validation accuracy\n",
    "    \"\"\"\n",
    "    model.eval()\n",
    "    accdict = {}\n",
    "    for name, loader in [(\"train\", train_loader), (\"val\", val_loader)]:\n",
    "        correct = 0\n",
    "        total = 0\n",
    "\n",
    "        with torch.no_grad():\n",
    "            for imgs, labels in loader:\n",
    "                imgs = imgs.to(device=device)\n",
    "                labels = labels.to(device=device)\n",
    "\n",
    "                outputs = model(imgs)\n",
    "                _, predicted = torch.max(outputs, dim=1)\n",
    "                total += labels.shape[0]\n",
    "                correct += int((predicted == labels).sum())\n",
    "\n",
    "        print(\"Accuracy {}: {:.2f}\".format(name , correct / total))\n",
    "        accdict[name] = correct / total\n",
    "    return accdict"
   ],
   "metadata": {
    "collapsed": false,
    "pycharm": {
     "name": "#%%\n"
    }
   }
  },
  {
   "cell_type": "code",
   "execution_count": 15,
   "outputs": [
    {
     "name": "stdout",
     "output_type": "stream",
     "text": [
      "Accuracy train: 0.57\n",
      "Accuracy val: 0.54\n"
     ]
    },
    {
     "data": {
      "text/plain": "{'train': 0.5667504273504274, 'val': 0.544270481846403}"
     },
     "execution_count": 15,
     "metadata": {},
     "output_type": "execute_result"
    }
   ],
   "source": [
    "validate(model, val_loader, train_loader)"
   ],
   "metadata": {
    "collapsed": false,
    "pycharm": {
     "name": "#%%\n"
    }
   }
  },
  {
   "cell_type": "code",
   "execution_count": 16,
   "outputs": [
    {
     "name": "stdout",
     "output_type": "stream",
     "text": [
      "There now is yo"
     ]
    }
   ],
   "source": [
    "def generate_text(model, seed):\n",
    "    seed = seed.to(device)\n",
    "    for i, t in enumerate(seq_seed_tensor[0]):\n",
    "        print(reversed_dict[torch.argmax(t).item()], end='')\n",
    "\n",
    "    for _ in range(500):\n",
    "        next_c = model(seed)[0]\n",
    "        next_c = torch.softmax(next_c, -1, next_c.dtype)\n",
    "        seed[0,:-1] = seed[0,1:].clone()\n",
    "        seed[0, -1] = vocab_dict[reversed_dict[torch.argmax(next_c).item()]]\n",
    "        print(reversed_dict[torch.argmax(next_c).item()], end='')\n",
    "\n",
    "seq_seed = \"There now is yo\"\n",
    "\n",
    "seq_seed_tensor = torch.zeros((1, L, len(vocab_dict)))\n",
    "for i, c in enumerate(seq_seed):\n",
    "    seq_seed_tensor[0, i] = vocab_dict[c]\n",
    "\n",
    "\n",
    "for i, t in enumerate(seq_seed_tensor[0]):\n",
    "    print(reversed_dict[torch.argmax(t).item()], end='')"
   ],
   "metadata": {
    "collapsed": false,
    "pycharm": {
     "name": "#%%\n"
    }
   }
  },
  {
   "cell_type": "code",
   "execution_count": 17,
   "outputs": [
    {
     "name": "stdout",
     "output_type": "stream",
     "text": [
      "There now is you would have been the ship was the ship was the ship was the ship was the ship was the ship was the ship was the ship was the ship was the ship was the ship was the ship was the ship was the ship was the ship was the ship was the ship was the ship was the ship was the ship was the ship was the ship was the ship was the ship was the ship was the ship was the ship was the ship was the ship was the ship was the ship was the ship was the ship was the ship was the ship was the ship was the ship was t"
     ]
    }
   ],
   "source": [
    "generate_text(model, seq_seed_tensor)"
   ],
   "metadata": {
    "collapsed": false,
    "pycharm": {
     "name": "#%%\n"
    }
   }
  },
  {
   "cell_type": "markdown",
   "source": [
    "It repeats!"
   ],
   "metadata": {
    "collapsed": false
   }
  },
  {
   "cell_type": "code",
   "execution_count": 18,
   "outputs": [],
   "source": [
    "def generate_text_with_sampling(model, seed):\n",
    "    seed = seed.to(device)\n",
    "    for i, t in enumerate(seq_seed_tensor[0]):\n",
    "        print(reversed_dict[torch.argmax(t).item()], end='')\n",
    "\n",
    "    for _ in range(1000):\n",
    "        next_c = model(seed)[0]\n",
    "        next_c = torch.softmax(next_c, -1, next_c.dtype)\n",
    "        seed[0,:-1] = seed[0,1:].clone()\n",
    "        test_c = np.random.choice(len(vocab_dict), 1, p=next_c.cpu().detach().numpy())\n",
    "        seed[0, -1] = vocab_dict[reversed_dict[test_c[0]]]\n",
    "        print(reversed_dict[test_c[0]], end='')"
   ],
   "metadata": {
    "collapsed": false,
    "pycharm": {
     "name": "#%%\n"
    }
   }
  },
  {
   "cell_type": "code",
   "execution_count": 19,
   "outputs": [
    {
     "name": "stdout",
     "output_type": "stream",
     "text": [
      "There now is you will be in some boat to for a boy,\n",
      "he bigst into something but hands at the found and therefore at that crencureless from old. Those\n",
      "mates and sun in—an a\n",
      "beaches, so that the God\n",
      "enchore emespiant\n",
      "crosch, who no bread,\n",
      "maked, Sea, rises her unsure cubshement\n",
      "about, shele, and\n",
      "Whale more formed the whale, my underturate heard think,\n",
      "assume it here and spap, to jolly assumed it like that rolled prehigets that the ship flowys, so dark in seemed to, and the imoced and corress. The far hunl he, beneath themote anoneefian\n",
      "again business something has intense after the Tagesticen! Oh. “D’s see a chaps, like an old\n",
      "seddells. “ How in self a few rolls, is a breastnish in\n",
      "strived linet—what was no me will wake, a bitness. What Boltallousest practiousings but from a may provinted, his wonder that the\n",
      "joke. Parrieful water, was wherean, and they by as three far Port Elijan circumpious round? *. Olard fience of those mark for the assurates, he alm, with sign of iron aye, Stubb will. And still, t"
     ]
    }
   ],
   "source": [
    "generate_text_with_sampling(model, seq_seed_tensor)"
   ],
   "metadata": {
    "collapsed": false,
    "pycharm": {
     "name": "#%%\n"
    }
   }
  },
  {
   "cell_type": "code",
   "execution_count": 20,
   "outputs": [
    {
     "name": "stderr",
     "output_type": "stream",
     "text": [
      "Epoch progression: 100%|██████████| 9141/9141 [00:22<00:00, 397.87it/s]\n",
      "Epoch progression:   0%|          | 27/9141 [00:00<00:34, 267.09it/s]"
     ]
    },
    {
     "name": "stdout",
     "output_type": "stream",
     "text": [
      "2021-04-28 20:56:34.259047  |  Epoch 0  |  Training loss 1.438\n"
     ]
    },
    {
     "name": "stderr",
     "output_type": "stream",
     "text": [
      "Epoch progression: 100%|██████████| 9141/9141 [00:22<00:00, 399.23it/s]\n",
      "Epoch progression:   0%|          | 27/9141 [00:00<00:33, 269.76it/s]"
     ]
    },
    {
     "name": "stdout",
     "output_type": "stream",
     "text": [
      "2021-04-28 20:56:57.155343  |  Epoch 1  |  Training loss 1.438\n"
     ]
    },
    {
     "name": "stderr",
     "output_type": "stream",
     "text": [
      "Epoch progression: 100%|██████████| 9141/9141 [00:23<00:00, 385.84it/s]\n",
      "Epoch progression:   0%|          | 25/9141 [00:00<00:37, 244.88it/s]"
     ]
    },
    {
     "name": "stdout",
     "output_type": "stream",
     "text": [
      "2021-04-28 20:57:20.846337  |  Epoch 2  |  Training loss 1.437\n"
     ]
    },
    {
     "name": "stderr",
     "output_type": "stream",
     "text": [
      "Epoch progression: 100%|██████████| 9141/9141 [00:23<00:00, 384.49it/s]\n",
      "Epoch progression:   1%|          | 63/9141 [00:00<00:28, 321.76it/s]"
     ]
    },
    {
     "name": "stdout",
     "output_type": "stream",
     "text": [
      "2021-04-28 20:57:44.621915  |  Epoch 3  |  Training loss 1.437\n"
     ]
    },
    {
     "name": "stderr",
     "output_type": "stream",
     "text": [
      "Epoch progression: 100%|██████████| 9141/9141 [00:23<00:00, 385.83it/s]\n",
      "Epoch progression:   1%|          | 58/9141 [00:00<00:29, 304.85it/s]"
     ]
    },
    {
     "name": "stdout",
     "output_type": "stream",
     "text": [
      "2021-04-28 20:58:08.313803  |  Epoch 4  |  Training loss 1.436\n"
     ]
    },
    {
     "name": "stderr",
     "output_type": "stream",
     "text": [
      "Epoch progression: 100%|██████████| 9141/9141 [00:23<00:00, 386.11it/s]\n",
      "Epoch progression:   0%|          | 26/9141 [00:00<00:35, 259.77it/s]"
     ]
    },
    {
     "name": "stdout",
     "output_type": "stream",
     "text": [
      "2021-04-28 20:58:31.988288  |  Epoch 5  |  Training loss 1.436\n"
     ]
    },
    {
     "name": "stderr",
     "output_type": "stream",
     "text": [
      "Epoch progression: 100%|██████████| 9141/9141 [00:23<00:00, 383.73it/s]\n",
      "Epoch progression:   1%|          | 61/9141 [00:00<00:29, 312.51it/s]"
     ]
    },
    {
     "name": "stdout",
     "output_type": "stream",
     "text": [
      "2021-04-28 20:58:55.809435  |  Epoch 6  |  Training loss 1.435\n"
     ]
    },
    {
     "name": "stderr",
     "output_type": "stream",
     "text": [
      "Epoch progression: 100%|██████████| 9141/9141 [00:23<00:00, 387.36it/s]\n",
      "Epoch progression:   1%|          | 64/9141 [00:00<00:27, 330.69it/s]"
     ]
    },
    {
     "name": "stdout",
     "output_type": "stream",
     "text": [
      "2021-04-28 20:59:19.408366  |  Epoch 7  |  Training loss 1.435\n"
     ]
    },
    {
     "name": "stderr",
     "output_type": "stream",
     "text": [
      "Epoch progression: 100%|██████████| 9141/9141 [00:23<00:00, 386.42it/s]\n",
      "Epoch progression:   0%|          | 25/9141 [00:00<00:37, 244.88it/s]"
     ]
    },
    {
     "name": "stdout",
     "output_type": "stream",
     "text": [
      "2021-04-28 20:59:43.064106  |  Epoch 8  |  Training loss 1.434\n"
     ]
    },
    {
     "name": "stderr",
     "output_type": "stream",
     "text": [
      "Epoch progression: 100%|██████████| 9141/9141 [00:23<00:00, 381.94it/s]\n",
      "Epoch progression:   1%|          | 64/9141 [00:00<00:27, 328.36it/s]"
     ]
    },
    {
     "name": "stdout",
     "output_type": "stream",
     "text": [
      "2021-04-28 21:00:06.997921  |  Epoch 9  |  Training loss 1.434\n"
     ]
    },
    {
     "name": "stderr",
     "output_type": "stream",
     "text": [
      "Epoch progression: 100%|██████████| 9141/9141 [00:23<00:00, 390.17it/s]\n",
      "Epoch progression:   1%|          | 61/9141 [00:00<00:29, 311.31it/s]"
     ]
    },
    {
     "name": "stdout",
     "output_type": "stream",
     "text": [
      "2021-04-28 21:00:30.427002  |  Epoch 10  |  Training loss 1.433\n"
     ]
    },
    {
     "name": "stderr",
     "output_type": "stream",
     "text": [
      "Epoch progression: 100%|██████████| 9141/9141 [00:23<00:00, 385.84it/s]\n",
      "Epoch progression:   0%|          | 25/9141 [00:00<00:36, 247.30it/s]"
     ]
    },
    {
     "name": "stdout",
     "output_type": "stream",
     "text": [
      "2021-04-28 21:00:54.118082  |  Epoch 11  |  Training loss 1.433\n"
     ]
    },
    {
     "name": "stderr",
     "output_type": "stream",
     "text": [
      "Epoch progression: 100%|██████████| 9141/9141 [00:23<00:00, 382.65it/s]\n",
      "Epoch progression:   0%|          | 26/9141 [00:00<00:35, 259.77it/s]"
     ]
    },
    {
     "name": "stdout",
     "output_type": "stream",
     "text": [
      "2021-04-28 21:01:18.008966  |  Epoch 12  |  Training loss 1.432\n"
     ]
    },
    {
     "name": "stderr",
     "output_type": "stream",
     "text": [
      "Epoch progression: 100%|██████████| 9141/9141 [00:23<00:00, 389.60it/s]\n",
      "Epoch progression:   0%|          | 27/9141 [00:00<00:34, 264.47it/s]"
     ]
    },
    {
     "name": "stdout",
     "output_type": "stream",
     "text": [
      "2021-04-28 21:01:41.472353  |  Epoch 13  |  Training loss 1.432\n"
     ]
    },
    {
     "name": "stderr",
     "output_type": "stream",
     "text": [
      "Epoch progression: 100%|██████████| 9141/9141 [00:23<00:00, 385.01it/s]\n",
      "Epoch progression:   1%|          | 65/9141 [00:00<00:27, 333.03it/s]"
     ]
    },
    {
     "name": "stdout",
     "output_type": "stream",
     "text": [
      "2021-04-28 21:02:05.214298  |  Epoch 14  |  Training loss 1.431\n"
     ]
    },
    {
     "name": "stderr",
     "output_type": "stream",
     "text": [
      "Epoch progression: 100%|██████████| 9141/9141 [00:23<00:00, 382.60it/s]\n",
      "Epoch progression:   1%|          | 63/9141 [00:00<00:27, 324.27it/s]"
     ]
    },
    {
     "name": "stdout",
     "output_type": "stream",
     "text": [
      "2021-04-28 21:02:29.105893  |  Epoch 15  |  Training loss 1.431\n"
     ]
    },
    {
     "name": "stderr",
     "output_type": "stream",
     "text": [
      "Epoch progression: 100%|██████████| 9141/9141 [00:23<00:00, 389.81it/s]\n",
      "Epoch progression:   0%|          | 23/9141 [00:00<00:39, 229.79it/s]"
     ]
    },
    {
     "name": "stdout",
     "output_type": "stream",
     "text": [
      "2021-04-28 21:02:52.555693  |  Epoch 16  |  Training loss 1.431\n"
     ]
    },
    {
     "name": "stderr",
     "output_type": "stream",
     "text": [
      "Epoch progression: 100%|██████████| 9141/9141 [00:23<00:00, 386.15it/s]\n",
      "Epoch progression:   0%|          | 24/9141 [00:00<00:38, 237.41it/s]"
     ]
    },
    {
     "name": "stdout",
     "output_type": "stream",
     "text": [
      "2021-04-28 21:03:16.228560  |  Epoch 17  |  Training loss 1.430\n"
     ]
    },
    {
     "name": "stderr",
     "output_type": "stream",
     "text": [
      "Epoch progression: 100%|██████████| 9141/9141 [00:23<00:00, 382.96it/s]\n",
      "Epoch progression:   1%|          | 62/9141 [00:00<00:28, 318.87it/s]"
     ]
    },
    {
     "name": "stdout",
     "output_type": "stream",
     "text": [
      "2021-04-28 21:03:40.098686  |  Epoch 18  |  Training loss 1.430\n"
     ]
    },
    {
     "name": "stderr",
     "output_type": "stream",
     "text": [
      "Epoch progression: 100%|██████████| 9141/9141 [00:23<00:00, 389.15it/s]\n",
      "Epoch progression:   1%|          | 63/9141 [00:00<00:28, 321.63it/s]"
     ]
    },
    {
     "name": "stdout",
     "output_type": "stream",
     "text": [
      "2021-04-28 21:04:03.589500  |  Epoch 19  |  Training loss 1.430\n"
     ]
    },
    {
     "name": "stderr",
     "output_type": "stream",
     "text": [
      "Epoch progression: 100%|██████████| 9141/9141 [00:23<00:00, 385.52it/s]\n",
      "Epoch progression:   0%|          | 25/9141 [00:00<00:37, 244.88it/s]"
     ]
    },
    {
     "name": "stdout",
     "output_type": "stream",
     "text": [
      "2021-04-28 21:04:27.301199  |  Epoch 20  |  Training loss 1.429\n"
     ]
    },
    {
     "name": "stderr",
     "output_type": "stream",
     "text": [
      "Epoch progression: 100%|██████████| 9141/9141 [00:23<00:00, 383.80it/s]\n",
      "Epoch progression:   0%|          | 27/9141 [00:00<00:33, 269.76it/s]"
     ]
    },
    {
     "name": "stdout",
     "output_type": "stream",
     "text": [
      "2021-04-28 21:04:51.119094  |  Epoch 21  |  Training loss 1.429\n"
     ]
    },
    {
     "name": "stderr",
     "output_type": "stream",
     "text": [
      "Epoch progression: 100%|██████████| 9141/9141 [00:23<00:00, 387.43it/s]\n",
      "Epoch progression:   1%|          | 64/9141 [00:00<00:27, 328.93it/s]"
     ]
    },
    {
     "name": "stdout",
     "output_type": "stream",
     "text": [
      "2021-04-28 21:05:14.713899  |  Epoch 22  |  Training loss 1.428\n"
     ]
    },
    {
     "name": "stderr",
     "output_type": "stream",
     "text": [
      "Epoch progression: 100%|██████████| 9141/9141 [00:23<00:00, 385.33it/s]\n",
      "Epoch progression:   1%|          | 65/9141 [00:00<00:27, 334.20it/s]"
     ]
    },
    {
     "name": "stdout",
     "output_type": "stream",
     "text": [
      "2021-04-28 21:05:38.437222  |  Epoch 23  |  Training loss 1.428\n"
     ]
    },
    {
     "name": "stderr",
     "output_type": "stream",
     "text": [
      "Epoch progression: 100%|██████████| 9141/9141 [00:23<00:00, 385.49it/s]"
     ]
    },
    {
     "name": "stdout",
     "output_type": "stream",
     "text": [
      "2021-04-28 21:06:02.150744  |  Epoch 24  |  Training loss 1.428\n"
     ]
    },
    {
     "name": "stderr",
     "output_type": "stream",
     "text": [
      "\n"
     ]
    }
   ],
   "source": [
    "train(model, opt, loss, 25, train_loader)"
   ],
   "metadata": {
    "collapsed": false,
    "pycharm": {
     "name": "#%%\n"
    }
   }
  },
  {
   "cell_type": "code",
   "execution_count": 21,
   "outputs": [
    {
     "name": "stdout",
     "output_type": "stream",
     "text": [
      "Call me Ishmael! The arm, are say to intwered and sailed Pacifish bear those straits of and thundened to a\n",
      "Sporoge whalemen’t the head of De\n",
      "Watch, Can’t seeking blows of the\n",
      "supernations in his jet pump. Like largest undievoly view\n",
      "jeventable firm, of all the obseacated it by the captain’s own of that gave.” In a lowerish\n",
      "would stay itself present and lannerest wife arigaling of perchp to the circumstance of the sign of than?—The matisfifiter, is all the deck. Surgeable light a brarks these fishery that indeed, especially ene fairy, he killy transpeated to me now is I looking over\n",
      "eyes\n",
      "were being swift all. “Where ars to\n",
      "him, he crys. So sim.” I see yet were there of other stopping power woe! Captain Ahab still nighing\n",
      "volumes was lightring or very procied back to his own. Maste to them that\n",
      "ever in stornch of very injusingly born’s and the other sun-look for the scotchly befulled on angular secrible. The mouth that starboard, and becand Captain and has, yet not blackmes of _lie’s fight exist white-"
     ]
    }
   ],
   "source": [
    "seq_seed = \"Call me Ishmael\"\n",
    "\n",
    "seq_seed_tensor = torch.zeros((1, L, len(vocab_dict)))\n",
    "for i, c in enumerate(seq_seed):\n",
    "    seq_seed_tensor[0, i] = vocab_dict[c]\n",
    "\n",
    "generate_text_with_sampling(model, seq_seed_tensor)"
   ],
   "metadata": {
    "collapsed": false,
    "pycharm": {
     "name": "#%%\n"
    }
   }
  },
  {
   "cell_type": "code",
   "execution_count": 22,
   "outputs": [
    {
     "name": "stdout",
     "output_type": "stream",
     "text": [
      "Accuracy train: 0.57\n",
      "Accuracy val: 0.55\n"
     ]
    },
    {
     "data": {
      "text/plain": "{'train': 0.5697068376068376, 'val': 0.5455527061681739}"
     },
     "execution_count": 22,
     "metadata": {},
     "output_type": "execute_result"
    }
   ],
   "source": [
    "validate(model, val_loader, train_loader)\n",
    "\n"
   ],
   "metadata": {
    "collapsed": false,
    "pycharm": {
     "name": "#%%\n"
    }
   }
  }
 ],
 "metadata": {
  "kernelspec": {
   "display_name": "Python 3",
   "language": "python",
   "name": "python3"
  },
  "language_info": {
   "codemirror_mode": {
    "name": "ipython",
    "version": 2
   },
   "file_extension": ".py",
   "mimetype": "text/x-python",
   "name": "python",
   "nbconvert_exporter": "python",
   "pygments_lexer": "ipython2",
   "version": "2.7.6"
  }
 },
 "nbformat": 4,
 "nbformat_minor": 0
}