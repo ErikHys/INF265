{
 "cells": [
  {
   "cell_type": "code",
   "execution_count": 50,
   "metadata": {
    "collapsed": true
   },
   "outputs": [],
   "source": [
    "import torch\n",
    "import numpy as np\n",
    "from  tqdm import tqdm\n"
   ]
  },
  {
   "cell_type": "code",
   "execution_count": 51,
   "outputs": [],
   "source": [
    "with open(\"../Data/mobydick.txt\",\"r\",encoding='utf-8') as file:\n",
    "    raw_txt = file.read()"
   ],
   "metadata": {
    "collapsed": false,
    "pycharm": {
     "name": "#%%\n"
    }
   }
  },
  {
   "cell_type": "code",
   "execution_count": 52,
   "outputs": [],
   "source": [
    "# Not beautiful\n",
    "stripped_txt = raw_txt.replace('\\n\\n', ' ').replace('\\t', ' ').replace('\\r', ' ').replace('\\n', ' ')\\\n",
    "    .replace(';', '').replace(':', '').replace('  ', ' ')"
   ],
   "metadata": {
    "collapsed": false,
    "pycharm": {
     "name": "#%%\n"
    }
   }
  },
  {
   "cell_type": "code",
   "execution_count": 53,
   "outputs": [],
   "source": [
    "vocab = list(set(stripped_txt))\n",
    "vocab.sort()\n",
    "vocab_dict = {}\n",
    "for i, character in enumerate(vocab):\n",
    "    identity_vector = torch.zeros(len(vocab))\n",
    "    identity_vector[i] = 1\n",
    "    vocab_dict[character] = identity_vector"
   ],
   "metadata": {
    "collapsed": false,
    "pycharm": {
     "name": "#%%\n"
    }
   }
  },
  {
   "cell_type": "code",
   "execution_count": 54,
   "outputs": [],
   "source": [
    "# L\n",
    "L = 15\n",
    "dataX = torch.zeros((len(stripped_txt) - L, L, len(vocab_dict)))\n",
    "dataY = torch.zeros(len(stripped_txt) - L)\n",
    "for i in range(len(stripped_txt) - L):\n",
    "    x = torch.zeros((L, len(vocab_dict)))\n",
    "    for j in range(L):\n",
    "        x[j] = vocab_dict[stripped_txt[i+j]]\n",
    "    dataX[i] = x\n",
    "    dataY[i] = torch.argmax(vocab_dict[stripped_txt[i+L]])"
   ],
   "metadata": {
    "collapsed": false,
    "pycharm": {
     "name": "#%%\n"
    }
   }
  },
  {
   "cell_type": "code",
   "execution_count": 55,
   "outputs": [
    {
     "name": "stdout",
     "output_type": "stream",
     "text": [
      "﻿\n",
      "tensor([0., 0., 0., 0., 0., 0., 0., 0., 0., 0., 0., 0., 0., 0., 0., 0., 0., 0.,\n",
      "        0., 0., 0., 0., 0., 0., 0., 0., 0., 0., 0., 0., 0., 0., 0., 0., 0., 0.,\n",
      "        0., 0., 0., 0., 0., 0., 0., 0., 0., 0., 0., 0., 0., 0., 0., 0., 0., 0.,\n",
      "        0., 0., 0., 0., 0., 0., 0., 0., 0., 0., 0., 0., 0., 0., 0., 0., 0., 0.,\n",
      "        0., 0., 0., 0., 0., 0., 0., 0., 0., 0., 0., 0., 0., 0., 0., 0., 0., 0.,\n",
      "        0., 1.])\n",
      "C\n",
      "tensor([0., 0., 0., 0., 0., 0., 0., 0., 0., 0., 0., 0., 0., 0., 0., 0., 0., 0.,\n",
      "        0., 0., 0., 0., 0., 0., 0., 0., 0., 1., 0., 0., 0., 0., 0., 0., 0., 0.,\n",
      "        0., 0., 0., 0., 0., 0., 0., 0., 0., 0., 0., 0., 0., 0., 0., 0., 0., 0.,\n",
      "        0., 0., 0., 0., 0., 0., 0., 0., 0., 0., 0., 0., 0., 0., 0., 0., 0., 0.,\n",
      "        0., 0., 0., 0., 0., 0., 0., 0., 0., 0., 0., 0., 0., 0., 0., 0., 0., 0.,\n",
      "        0., 0.])\n",
      "H\n",
      "tensor([0., 0., 0., 0., 0., 0., 0., 0., 0., 0., 0., 0., 0., 0., 0., 0., 0., 0.,\n",
      "        0., 0., 0., 0., 0., 0., 0., 0., 0., 0., 0., 0., 0., 0., 1., 0., 0., 0.,\n",
      "        0., 0., 0., 0., 0., 0., 0., 0., 0., 0., 0., 0., 0., 0., 0., 0., 0., 0.,\n",
      "        0., 0., 0., 0., 0., 0., 0., 0., 0., 0., 0., 0., 0., 0., 0., 0., 0., 0.,\n",
      "        0., 0., 0., 0., 0., 0., 0., 0., 0., 0., 0., 0., 0., 0., 0., 0., 0., 0.,\n",
      "        0., 0.])\n",
      "A\n",
      "tensor([0., 0., 0., 0., 0., 0., 0., 0., 0., 0., 0., 0., 0., 0., 0., 0., 0., 0.,\n",
      "        0., 0., 0., 0., 0., 0., 0., 1., 0., 0., 0., 0., 0., 0., 0., 0., 0., 0.,\n",
      "        0., 0., 0., 0., 0., 0., 0., 0., 0., 0., 0., 0., 0., 0., 0., 0., 0., 0.,\n",
      "        0., 0., 0., 0., 0., 0., 0., 0., 0., 0., 0., 0., 0., 0., 0., 0., 0., 0.,\n",
      "        0., 0., 0., 0., 0., 0., 0., 0., 0., 0., 0., 0., 0., 0., 0., 0., 0., 0.,\n",
      "        0., 0.])\n",
      "P\n",
      "tensor([0., 0., 0., 0., 0., 0., 0., 0., 0., 0., 0., 0., 0., 0., 0., 0., 0., 0.,\n",
      "        0., 0., 0., 0., 0., 0., 0., 0., 0., 0., 0., 0., 0., 0., 0., 0., 0., 0.,\n",
      "        0., 0., 0., 0., 1., 0., 0., 0., 0., 0., 0., 0., 0., 0., 0., 0., 0., 0.,\n",
      "        0., 0., 0., 0., 0., 0., 0., 0., 0., 0., 0., 0., 0., 0., 0., 0., 0., 0.,\n",
      "        0., 0., 0., 0., 0., 0., 0., 0., 0., 0., 0., 0., 0., 0., 0., 0., 0., 0.,\n",
      "        0., 0.])\n",
      "T\n",
      "tensor([0., 0., 0., 0., 0., 0., 0., 0., 0., 0., 0., 0., 0., 0., 0., 0., 0., 0.,\n",
      "        0., 0., 0., 0., 0., 0., 0., 0., 0., 0., 0., 0., 0., 0., 0., 0., 0., 0.,\n",
      "        0., 0., 0., 0., 0., 0., 0., 0., 1., 0., 0., 0., 0., 0., 0., 0., 0., 0.,\n",
      "        0., 0., 0., 0., 0., 0., 0., 0., 0., 0., 0., 0., 0., 0., 0., 0., 0., 0.,\n",
      "        0., 0., 0., 0., 0., 0., 0., 0., 0., 0., 0., 0., 0., 0., 0., 0., 0., 0.,\n",
      "        0., 0.])\n",
      "E\n",
      "tensor([0., 0., 0., 0., 0., 0., 0., 0., 0., 0., 0., 0., 0., 0., 0., 0., 0., 0.,\n",
      "        0., 0., 0., 0., 0., 0., 0., 0., 0., 0., 0., 1., 0., 0., 0., 0., 0., 0.,\n",
      "        0., 0., 0., 0., 0., 0., 0., 0., 0., 0., 0., 0., 0., 0., 0., 0., 0., 0.,\n",
      "        0., 0., 0., 0., 0., 0., 0., 0., 0., 0., 0., 0., 0., 0., 0., 0., 0., 0.,\n",
      "        0., 0., 0., 0., 0., 0., 0., 0., 0., 0., 0., 0., 0., 0., 0., 0., 0., 0.,\n",
      "        0., 0.])\n",
      "R\n",
      "tensor([0., 0., 0., 0., 0., 0., 0., 0., 0., 0., 0., 0., 0., 0., 0., 0., 0., 0.,\n",
      "        0., 0., 0., 0., 0., 0., 0., 0., 0., 0., 0., 0., 0., 0., 0., 0., 0., 0.,\n",
      "        0., 0., 0., 0., 0., 0., 1., 0., 0., 0., 0., 0., 0., 0., 0., 0., 0., 0.,\n",
      "        0., 0., 0., 0., 0., 0., 0., 0., 0., 0., 0., 0., 0., 0., 0., 0., 0., 0.,\n",
      "        0., 0., 0., 0., 0., 0., 0., 0., 0., 0., 0., 0., 0., 0., 0., 0., 0., 0.,\n",
      "        0., 0.])\n",
      " \n",
      "tensor([1., 0., 0., 0., 0., 0., 0., 0., 0., 0., 0., 0., 0., 0., 0., 0., 0., 0.,\n",
      "        0., 0., 0., 0., 0., 0., 0., 0., 0., 0., 0., 0., 0., 0., 0., 0., 0., 0.,\n",
      "        0., 0., 0., 0., 0., 0., 0., 0., 0., 0., 0., 0., 0., 0., 0., 0., 0., 0.,\n",
      "        0., 0., 0., 0., 0., 0., 0., 0., 0., 0., 0., 0., 0., 0., 0., 0., 0., 0.,\n",
      "        0., 0., 0., 0., 0., 0., 0., 0., 0., 0., 0., 0., 0., 0., 0., 0., 0., 0.,\n",
      "        0., 0.])\n",
      "1\n",
      "tensor([0., 0., 0., 0., 0., 0., 0., 0., 0., 0., 0., 0., 0., 0., 0., 1., 0., 0.,\n",
      "        0., 0., 0., 0., 0., 0., 0., 0., 0., 0., 0., 0., 0., 0., 0., 0., 0., 0.,\n",
      "        0., 0., 0., 0., 0., 0., 0., 0., 0., 0., 0., 0., 0., 0., 0., 0., 0., 0.,\n",
      "        0., 0., 0., 0., 0., 0., 0., 0., 0., 0., 0., 0., 0., 0., 0., 0., 0., 0.,\n",
      "        0., 0., 0., 0., 0., 0., 0., 0., 0., 0., 0., 0., 0., 0., 0., 0., 0., 0.,\n",
      "        0., 0.])\n",
      ".\n",
      "tensor([0., 0., 0., 0., 0., 0., 0., 0., 0., 0., 0., 0., 1., 0., 0., 0., 0., 0.,\n",
      "        0., 0., 0., 0., 0., 0., 0., 0., 0., 0., 0., 0., 0., 0., 0., 0., 0., 0.,\n",
      "        0., 0., 0., 0., 0., 0., 0., 0., 0., 0., 0., 0., 0., 0., 0., 0., 0., 0.,\n",
      "        0., 0., 0., 0., 0., 0., 0., 0., 0., 0., 0., 0., 0., 0., 0., 0., 0., 0.,\n",
      "        0., 0., 0., 0., 0., 0., 0., 0., 0., 0., 0., 0., 0., 0., 0., 0., 0., 0.,\n",
      "        0., 0.])\n",
      " \n",
      "tensor([1., 0., 0., 0., 0., 0., 0., 0., 0., 0., 0., 0., 0., 0., 0., 0., 0., 0.,\n",
      "        0., 0., 0., 0., 0., 0., 0., 0., 0., 0., 0., 0., 0., 0., 0., 0., 0., 0.,\n",
      "        0., 0., 0., 0., 0., 0., 0., 0., 0., 0., 0., 0., 0., 0., 0., 0., 0., 0.,\n",
      "        0., 0., 0., 0., 0., 0., 0., 0., 0., 0., 0., 0., 0., 0., 0., 0., 0., 0.,\n",
      "        0., 0., 0., 0., 0., 0., 0., 0., 0., 0., 0., 0., 0., 0., 0., 0., 0., 0.,\n",
      "        0., 0.])\n",
      "L\n",
      "tensor([0., 0., 0., 0., 0., 0., 0., 0., 0., 0., 0., 0., 0., 0., 0., 0., 0., 0.,\n",
      "        0., 0., 0., 0., 0., 0., 0., 0., 0., 0., 0., 0., 0., 0., 0., 0., 0., 0.,\n",
      "        1., 0., 0., 0., 0., 0., 0., 0., 0., 0., 0., 0., 0., 0., 0., 0., 0., 0.,\n",
      "        0., 0., 0., 0., 0., 0., 0., 0., 0., 0., 0., 0., 0., 0., 0., 0., 0., 0.,\n",
      "        0., 0., 0., 0., 0., 0., 0., 0., 0., 0., 0., 0., 0., 0., 0., 0., 0., 0.,\n",
      "        0., 0.])\n",
      "o\n",
      "tensor([0., 0., 0., 0., 0., 0., 0., 0., 0., 0., 0., 0., 0., 0., 0., 0., 0., 0.,\n",
      "        0., 0., 0., 0., 0., 0., 0., 0., 0., 0., 0., 0., 0., 0., 0., 0., 0., 0.,\n",
      "        0., 0., 0., 0., 0., 0., 0., 0., 0., 0., 0., 0., 0., 0., 0., 0., 0., 0.,\n",
      "        0., 0., 0., 0., 0., 0., 0., 0., 0., 0., 0., 0., 0., 0., 1., 0., 0., 0.,\n",
      "        0., 0., 0., 0., 0., 0., 0., 0., 0., 0., 0., 0., 0., 0., 0., 0., 0., 0.,\n",
      "        0., 0.])\n",
      "o\n",
      "tensor([0., 0., 0., 0., 0., 0., 0., 0., 0., 0., 0., 0., 0., 0., 0., 0., 0., 0.,\n",
      "        0., 0., 0., 0., 0., 0., 0., 0., 0., 0., 0., 0., 0., 0., 0., 0., 0., 0.,\n",
      "        0., 0., 0., 0., 0., 0., 0., 0., 0., 0., 0., 0., 0., 0., 0., 0., 0., 0.,\n",
      "        0., 0., 0., 0., 0., 0., 0., 0., 0., 0., 0., 0., 0., 0., 1., 0., 0., 0.,\n",
      "        0., 0., 0., 0., 0., 0., 0., 0., 0., 0., 0., 0., 0., 0., 0., 0., 0., 0.,\n",
      "        0., 0.])\n",
      "m\n",
      "tensor(66.)\n"
     ]
    }
   ],
   "source": [
    "reversed_dict = {}\n",
    "for key in vocab_dict:\n",
    "    reversed_dict[torch.argmax(vocab_dict[key]).item()] = key\n",
    "for x in dataX[0]:\n",
    "    print(reversed_dict[torch.argmax(x).item()])\n",
    "    print(x)\n",
    "print(reversed_dict[dataY[0].item()])\n",
    "print(dataY[0])"
   ],
   "metadata": {
    "collapsed": false,
    "pycharm": {
     "name": "#%%\n"
    }
   }
  },
  {
   "cell_type": "code",
   "execution_count": 56,
   "outputs": [],
   "source": [
    "from torch.utils.data import Dataset\n",
    "\n",
    "\n",
    "class MobyDickDataset(Dataset):\n",
    "\n",
    "    def __init__(self, x, y):\n",
    "        self.X = x\n",
    "        self.Y = y\n",
    "\n",
    "    def __getitem__(self, idx):\n",
    "        x = self.X[idx]\n",
    "        y = self.Y[idx]\n",
    "        return (x, y)\n",
    "\n",
    "    def __len__(self):\n",
    "        return self.X.shape[0]"
   ],
   "metadata": {
    "collapsed": false,
    "pycharm": {
     "name": "#%%\n"
    }
   }
  },
  {
   "cell_type": "code",
   "execution_count": 58,
   "outputs": [
    {
     "name": "stdout",
     "output_type": "stream",
     "text": [
      "1203171\n"
     ]
    }
   ],
   "source": [
    "dataset = MobyDickDataset(dataX, dataY)\n",
    "print(len(dataset))\n",
    "train_set, val_set = torch.utils.data.random_split(dataset, [1190000, 13171])"
   ],
   "metadata": {
    "collapsed": false,
    "pycharm": {
     "name": "#%%\n"
    }
   }
  },
  {
   "cell_type": "code",
   "execution_count": 59,
   "outputs": [],
   "source": [
    "train_loader = torch.utils.data.DataLoader(train_set, batch_size=128, shuffle=True, num_workers=0)\n",
    "val_loader = torch.utils.data.DataLoader(val_set, batch_size=256, shuffle=True, num_workers=0)"
   ],
   "metadata": {
    "collapsed": false,
    "pycharm": {
     "name": "#%%\n"
    }
   }
  },
  {
   "cell_type": "code",
   "execution_count": 60,
   "outputs": [],
   "source": [
    "class MyLSTM(torch.nn.Module):\n",
    "\n",
    "\n",
    "    def __init__(self, feature_size, hidden_size, nr_of_stacks, output_dim):\n",
    "        super().__init__()\n",
    "        self.LSTM = torch.nn.LSTM(feature_size, hidden_size, nr_of_stacks, batch_first=True)\n",
    "        self.linear = torch.nn.Linear(hidden_size, output_dim)\n",
    "        self.hidden_size = hidden_size\n",
    "\n",
    "    def forward(self, x):\n",
    "        out, (h, c) = self.LSTM(x)\n",
    "        out = self.linear(h)\n",
    "        out = out[0]\n",
    "        return out"
   ],
   "metadata": {
    "collapsed": false,
    "pycharm": {
     "name": "#%%\n"
    }
   }
  },
  {
   "cell_type": "code",
   "source": [
    "import datetime\n",
    "\n",
    "device = torch.device('cuda') if torch.cuda.is_available() else torch.device('cpu')\n",
    "print(f\"Device {device}.\")\n",
    "\n",
    "def train(model, optimizer, loss_f, epochs, train_loader):\n",
    "    model.train()\n",
    "    for epoch in range(epochs):\n",
    "        loss_train = 0.0\n",
    "        train_bar = tqdm(total=len(train_loader), desc=\"Epoch progression\")\n",
    "\n",
    "        for xb, yb in train_loader:\n",
    "            xb = xb.to(device=device)\n",
    "            yb = yb.to(device=device)\n",
    "            yb = yb.long()\n",
    "            with torch.cuda.amp.autocast(enabled=True):\n",
    "                out = model(xb)\n",
    "                loss = loss_f(out, yb)\n",
    "                loss.backward()\n",
    "                optimizer.step()\n",
    "                optimizer.zero_grad()\n",
    "                loss_train += loss.item()\n",
    "                train_bar.update()\n",
    "\n",
    "        print('{}  |  Epoch {}  |  Training loss {:.3f}'.format(\n",
    "            datetime.datetime.now(), epoch,\n",
    "            loss_train / len(train_loader)))\n",
    "        train_bar.close()"
   ],
   "metadata": {
    "collapsed": false,
    "pycharm": {
     "name": "#%%\n"
    }
   },
   "execution_count": 61,
   "outputs": [
    {
     "name": "stdout",
     "output_type": "stream",
     "text": [
      "Device cuda.\n"
     ]
    }
   ]
  },
  {
   "cell_type": "code",
   "execution_count": 62,
   "outputs": [
    {
     "name": "stderr",
     "output_type": "stream",
     "text": [
      "Epoch progression: 100%|██████████| 9297/9297 [00:23<00:00, 389.69it/s]\n",
      "Epoch progression:   1%|          | 64/9297 [00:00<00:28, 327.59it/s]"
     ]
    },
    {
     "name": "stdout",
     "output_type": "stream",
     "text": [
      "2021-04-27 21:01:22.383899  |  Epoch 0  |  Training loss 2.151\n"
     ]
    },
    {
     "name": "stderr",
     "output_type": "stream",
     "text": [
      "Epoch progression: 100%|██████████| 9297/9297 [00:23<00:00, 392.91it/s]\n",
      "Epoch progression:   1%|          | 67/9297 [00:00<00:27, 339.37it/s]"
     ]
    },
    {
     "name": "stdout",
     "output_type": "stream",
     "text": [
      "2021-04-27 21:01:46.046892  |  Epoch 1  |  Training loss 1.814\n"
     ]
    },
    {
     "name": "stderr",
     "output_type": "stream",
     "text": [
      "Epoch progression: 100%|██████████| 9297/9297 [00:23<00:00, 390.85it/s]\n",
      "Epoch progression:   0%|          | 27/9297 [00:00<00:34, 269.76it/s]"
     ]
    },
    {
     "name": "stdout",
     "output_type": "stream",
     "text": [
      "2021-04-27 21:02:09.834627  |  Epoch 2  |  Training loss 1.709\n"
     ]
    },
    {
     "name": "stderr",
     "output_type": "stream",
     "text": [
      "Epoch progression: 100%|██████████| 9297/9297 [00:23<00:00, 397.23it/s]\n",
      "Epoch progression:   0%|          | 26/9297 [00:00<00:35, 259.77it/s]"
     ]
    },
    {
     "name": "stdout",
     "output_type": "stream",
     "text": [
      "2021-04-27 21:02:33.239391  |  Epoch 3  |  Training loss 1.648\n"
     ]
    },
    {
     "name": "stderr",
     "output_type": "stream",
     "text": [
      "Epoch progression: 100%|██████████| 9297/9297 [00:23<00:00, 393.17it/s]\n",
      "Epoch progression:   1%|          | 66/9297 [00:00<00:27, 338.29it/s]"
     ]
    },
    {
     "name": "stdout",
     "output_type": "stream",
     "text": [
      "2021-04-27 21:02:56.886872  |  Epoch 4  |  Training loss 1.607\n"
     ]
    },
    {
     "name": "stderr",
     "output_type": "stream",
     "text": [
      "Epoch progression: 100%|██████████| 9297/9297 [00:23<00:00, 390.43it/s]\n",
      "Epoch progression:   1%|          | 65/9297 [00:00<00:27, 332.84it/s]"
     ]
    },
    {
     "name": "stdout",
     "output_type": "stream",
     "text": [
      "2021-04-27 21:03:20.700008  |  Epoch 5  |  Training loss 1.577\n"
     ]
    },
    {
     "name": "stderr",
     "output_type": "stream",
     "text": [
      "Epoch progression: 100%|██████████| 9297/9297 [00:23<00:00, 397.26it/s]\n",
      "Epoch progression:   0%|          | 28/9297 [00:00<00:33, 276.98it/s]"
     ]
    },
    {
     "name": "stdout",
     "output_type": "stream",
     "text": [
      "2021-04-27 21:03:44.103765  |  Epoch 6  |  Training loss 1.554\n"
     ]
    },
    {
     "name": "stderr",
     "output_type": "stream",
     "text": [
      "Epoch progression: 100%|██████████| 9297/9297 [00:23<00:00, 392.86it/s]\n",
      "Epoch progression:   0%|          | 27/9297 [00:00<00:34, 268.40it/s]"
     ]
    },
    {
     "name": "stdout",
     "output_type": "stream",
     "text": [
      "2021-04-27 21:04:07.769768  |  Epoch 7  |  Training loss 1.535\n"
     ]
    },
    {
     "name": "stderr",
     "output_type": "stream",
     "text": [
      "Epoch progression: 100%|██████████| 9297/9297 [00:23<00:00, 390.34it/s]\n",
      "Epoch progression:   0%|          | 26/9297 [00:00<00:36, 254.67it/s]"
     ]
    },
    {
     "name": "stdout",
     "output_type": "stream",
     "text": [
      "2021-04-27 21:04:31.588406  |  Epoch 8  |  Training loss 1.520\n"
     ]
    },
    {
     "name": "stderr",
     "output_type": "stream",
     "text": [
      "Epoch progression: 100%|██████████| 9297/9297 [00:23<00:00, 397.00it/s]\n",
      "Epoch progression:   1%|          | 66/9297 [00:00<00:27, 336.91it/s]"
     ]
    },
    {
     "name": "stdout",
     "output_type": "stream",
     "text": [
      "2021-04-27 21:04:55.007687  |  Epoch 9  |  Training loss 1.508\n"
     ]
    },
    {
     "name": "stderr",
     "output_type": "stream",
     "text": [
      "Epoch progression: 100%|██████████| 9297/9297 [00:23<00:00, 393.13it/s]\n",
      "Epoch progression:   1%|          | 65/9297 [00:00<00:27, 334.79it/s]"
     ]
    },
    {
     "name": "stdout",
     "output_type": "stream",
     "text": [
      "2021-04-27 21:05:18.657483  |  Epoch 10  |  Training loss 1.498\n"
     ]
    },
    {
     "name": "stderr",
     "output_type": "stream",
     "text": [
      "Epoch progression: 100%|██████████| 9297/9297 [00:23<00:00, 391.39it/s]\n",
      "Epoch progression:   1%|          | 65/9297 [00:00<00:27, 332.84it/s]"
     ]
    },
    {
     "name": "stdout",
     "output_type": "stream",
     "text": [
      "2021-04-27 21:05:42.412070  |  Epoch 11  |  Training loss 1.489\n"
     ]
    },
    {
     "name": "stderr",
     "output_type": "stream",
     "text": [
      "Epoch progression: 100%|██████████| 9297/9297 [00:23<00:00, 396.02it/s]\n",
      "Epoch progression:   1%|          | 66/9297 [00:00<00:27, 336.32it/s]"
     ]
    },
    {
     "name": "stdout",
     "output_type": "stream",
     "text": [
      "2021-04-27 21:06:05.888895  |  Epoch 12  |  Training loss 1.481\n"
     ]
    },
    {
     "name": "stderr",
     "output_type": "stream",
     "text": [
      "Epoch progression: 100%|██████████| 9297/9297 [00:23<00:00, 392.98it/s]\n",
      "Epoch progression:   1%|          | 68/9297 [00:00<00:26, 346.80it/s]"
     ]
    },
    {
     "name": "stdout",
     "output_type": "stream",
     "text": [
      "2021-04-27 21:06:29.547406  |  Epoch 13  |  Training loss 1.473\n"
     ]
    },
    {
     "name": "stderr",
     "output_type": "stream",
     "text": [
      "Epoch progression: 100%|██████████| 9297/9297 [00:23<00:00, 391.37it/s]\n",
      "Epoch progression:   0%|          | 27/9297 [00:00<00:35, 264.47it/s]"
     ]
    },
    {
     "name": "stdout",
     "output_type": "stream",
     "text": [
      "2021-04-27 21:06:53.303489  |  Epoch 14  |  Training loss 1.467\n"
     ]
    },
    {
     "name": "stderr",
     "output_type": "stream",
     "text": [
      "Epoch progression: 100%|██████████| 9297/9297 [00:23<00:00, 395.64it/s]\n",
      "Epoch progression:   0%|          | 26/9297 [00:00<00:35, 259.76it/s]"
     ]
    },
    {
     "name": "stdout",
     "output_type": "stream",
     "text": [
      "2021-04-27 21:07:16.803212  |  Epoch 15  |  Training loss 1.462\n"
     ]
    },
    {
     "name": "stderr",
     "output_type": "stream",
     "text": [
      "Epoch progression: 100%|██████████| 9297/9297 [00:23<00:00, 394.13it/s]\n",
      "Epoch progression:   1%|          | 68/9297 [00:00<00:26, 345.06it/s]"
     ]
    },
    {
     "name": "stdout",
     "output_type": "stream",
     "text": [
      "2021-04-27 21:07:40.393118  |  Epoch 16  |  Training loss 1.457\n"
     ]
    },
    {
     "name": "stderr",
     "output_type": "stream",
     "text": [
      "Epoch progression: 100%|██████████| 9297/9297 [00:23<00:00, 393.03it/s]\n",
      "Epoch progression:   1%|          | 65/9297 [00:00<00:27, 335.95it/s]"
     ]
    },
    {
     "name": "stdout",
     "output_type": "stream",
     "text": [
      "2021-04-27 21:08:04.048608  |  Epoch 17  |  Training loss 1.452\n"
     ]
    },
    {
     "name": "stderr",
     "output_type": "stream",
     "text": [
      "Epoch progression: 100%|██████████| 9297/9297 [00:23<00:00, 394.36it/s]\n",
      "Epoch progression:   1%|          | 66/9297 [00:00<00:27, 334.96it/s]"
     ]
    },
    {
     "name": "stdout",
     "output_type": "stream",
     "text": [
      "2021-04-27 21:08:27.624458  |  Epoch 18  |  Training loss 1.448\n"
     ]
    },
    {
     "name": "stderr",
     "output_type": "stream",
     "text": [
      "Epoch progression: 100%|██████████| 9297/9297 [00:23<00:00, 392.17it/s]\n",
      "Epoch progression:   0%|          | 28/9297 [00:00<00:33, 276.98it/s]"
     ]
    },
    {
     "name": "stdout",
     "output_type": "stream",
     "text": [
      "2021-04-27 21:08:51.331988  |  Epoch 19  |  Training loss 1.444\n"
     ]
    },
    {
     "name": "stderr",
     "output_type": "stream",
     "text": [
      "Epoch progression: 100%|██████████| 9297/9297 [00:23<00:00, 394.65it/s]\n",
      "Epoch progression:   0%|          | 27/9297 [00:00<00:34, 267.09it/s]"
     ]
    },
    {
     "name": "stdout",
     "output_type": "stream",
     "text": [
      "2021-04-27 21:09:14.890389  |  Epoch 20  |  Training loss 1.441\n"
     ]
    },
    {
     "name": "stderr",
     "output_type": "stream",
     "text": [
      "Epoch progression: 100%|██████████| 9297/9297 [00:23<00:00, 393.05it/s]\n",
      "Epoch progression:   1%|          | 66/9297 [00:00<00:27, 336.54it/s]"
     ]
    },
    {
     "name": "stdout",
     "output_type": "stream",
     "text": [
      "2021-04-27 21:09:38.544879  |  Epoch 21  |  Training loss 1.437\n"
     ]
    },
    {
     "name": "stderr",
     "output_type": "stream",
     "text": [
      "Epoch progression: 100%|██████████| 9297/9297 [00:23<00:00, 391.65it/s]\n",
      "Epoch progression:   0%|          | 27/9297 [00:00<00:35, 264.47it/s]"
     ]
    },
    {
     "name": "stdout",
     "output_type": "stream",
     "text": [
      "2021-04-27 21:10:02.283945  |  Epoch 22  |  Training loss 1.434\n"
     ]
    },
    {
     "name": "stderr",
     "output_type": "stream",
     "text": [
      "Epoch progression: 100%|██████████| 9297/9297 [00:23<00:00, 396.23it/s]\n",
      "Epoch progression:   0%|          | 27/9297 [00:00<00:34, 269.76it/s]"
     ]
    },
    {
     "name": "stdout",
     "output_type": "stream",
     "text": [
      "2021-04-27 21:10:25.748755  |  Epoch 23  |  Training loss 1.431\n"
     ]
    },
    {
     "name": "stderr",
     "output_type": "stream",
     "text": [
      "Epoch progression: 100%|██████████| 9297/9297 [00:23<00:00, 392.80it/s]\n",
      "Epoch progression:   1%|          | 68/9297 [00:00<00:26, 343.40it/s]"
     ]
    },
    {
     "name": "stdout",
     "output_type": "stream",
     "text": [
      "2021-04-27 21:10:49.418252  |  Epoch 24  |  Training loss 1.429\n"
     ]
    },
    {
     "name": "stderr",
     "output_type": "stream",
     "text": [
      "Epoch progression: 100%|██████████| 9297/9297 [00:24<00:00, 384.35it/s]\n",
      "Epoch progression:   1%|          | 55/9297 [00:00<00:31, 289.74it/s]"
     ]
    },
    {
     "name": "stdout",
     "output_type": "stream",
     "text": [
      "2021-04-27 21:11:13.608263  |  Epoch 25  |  Training loss 1.426\n"
     ]
    },
    {
     "name": "stderr",
     "output_type": "stream",
     "text": [
      "Epoch progression: 100%|██████████| 9297/9297 [00:24<00:00, 382.85it/s]\n",
      "Epoch progression:   0%|          | 26/9297 [00:00<00:36, 257.20it/s]"
     ]
    },
    {
     "name": "stdout",
     "output_type": "stream",
     "text": [
      "2021-04-27 21:11:37.893135  |  Epoch 26  |  Training loss 1.424\n"
     ]
    },
    {
     "name": "stderr",
     "output_type": "stream",
     "text": [
      "Epoch progression: 100%|██████████| 9297/9297 [00:23<00:00, 389.71it/s]\n",
      "Epoch progression:   1%|          | 65/9297 [00:00<00:27, 336.17it/s]"
     ]
    },
    {
     "name": "stdout",
     "output_type": "stream",
     "text": [
      "2021-04-27 21:12:01.750301  |  Epoch 27  |  Training loss 1.421\n"
     ]
    },
    {
     "name": "stderr",
     "output_type": "stream",
     "text": [
      "Epoch progression: 100%|██████████| 9297/9297 [00:23<00:00, 389.28it/s]\n",
      "Epoch progression:   0%|          | 28/9297 [00:00<00:33, 279.75it/s]"
     ]
    },
    {
     "name": "stdout",
     "output_type": "stream",
     "text": [
      "2021-04-27 21:12:25.634128  |  Epoch 28  |  Training loss 1.419\n"
     ]
    },
    {
     "name": "stderr",
     "output_type": "stream",
     "text": [
      "Epoch progression: 100%|██████████| 9297/9297 [00:23<00:00, 396.18it/s]\n",
      "Epoch progression:   0%|          | 27/9297 [00:00<00:35, 264.47it/s]"
     ]
    },
    {
     "name": "stdout",
     "output_type": "stream",
     "text": [
      "2021-04-27 21:12:49.100440  |  Epoch 29  |  Training loss 1.417\n"
     ]
    },
    {
     "name": "stderr",
     "output_type": "stream",
     "text": [
      "Epoch progression: 100%|██████████| 9297/9297 [00:23<00:00, 391.46it/s]\n",
      "Epoch progression:   0%|          | 28/9297 [00:00<00:33, 279.75it/s]"
     ]
    },
    {
     "name": "stdout",
     "output_type": "stream",
     "text": [
      "2021-04-27 21:13:12.850853  |  Epoch 30  |  Training loss 1.416\n"
     ]
    },
    {
     "name": "stderr",
     "output_type": "stream",
     "text": [
      "Epoch progression: 100%|██████████| 9297/9297 [00:23<00:00, 389.54it/s]\n",
      "Epoch progression:   1%|          | 65/9297 [00:00<00:27, 334.40it/s]"
     ]
    },
    {
     "name": "stdout",
     "output_type": "stream",
     "text": [
      "2021-04-27 21:13:36.717444  |  Epoch 31  |  Training loss 1.414\n"
     ]
    },
    {
     "name": "stderr",
     "output_type": "stream",
     "text": [
      "Epoch progression: 100%|██████████| 9297/9297 [00:23<00:00, 395.01it/s]\n",
      "Epoch progression:   0%|          | 29/9297 [00:00<00:32, 286.87it/s]"
     ]
    },
    {
     "name": "stdout",
     "output_type": "stream",
     "text": [
      "2021-04-27 21:14:00.254321  |  Epoch 32  |  Training loss 1.412\n"
     ]
    },
    {
     "name": "stderr",
     "output_type": "stream",
     "text": [
      "Epoch progression: 100%|██████████| 9297/9297 [00:23<00:00, 391.15it/s]\n",
      "Epoch progression:   1%|          | 64/9297 [00:00<00:28, 325.69it/s]"
     ]
    },
    {
     "name": "stdout",
     "output_type": "stream",
     "text": [
      "2021-04-27 21:14:24.023639  |  Epoch 33  |  Training loss 1.411\n"
     ]
    },
    {
     "name": "stderr",
     "output_type": "stream",
     "text": [
      "Epoch progression: 100%|██████████| 9297/9297 [00:23<00:00, 389.81it/s]\n",
      "Epoch progression:   1%|          | 65/9297 [00:00<00:27, 331.49it/s]"
     ]
    },
    {
     "name": "stdout",
     "output_type": "stream",
     "text": [
      "2021-04-27 21:14:47.873565  |  Epoch 34  |  Training loss 1.409\n"
     ]
    },
    {
     "name": "stderr",
     "output_type": "stream",
     "text": [
      "Epoch progression: 100%|██████████| 9297/9297 [00:23<00:00, 394.99it/s]\n",
      "Epoch progression:   1%|          | 61/9297 [00:00<00:29, 314.33it/s]"
     ]
    },
    {
     "name": "stdout",
     "output_type": "stream",
     "text": [
      "2021-04-27 21:15:11.411984  |  Epoch 35  |  Training loss 1.408\n"
     ]
    },
    {
     "name": "stderr",
     "output_type": "stream",
     "text": [
      "Epoch progression: 100%|██████████| 9297/9297 [00:23<00:00, 391.95it/s]\n",
      "Epoch progression:   0%|          | 24/9297 [00:00<00:38, 239.78it/s]"
     ]
    },
    {
     "name": "stdout",
     "output_type": "stream",
     "text": [
      "2021-04-27 21:15:35.131563  |  Epoch 36  |  Training loss 1.406\n"
     ]
    },
    {
     "name": "stderr",
     "output_type": "stream",
     "text": [
      "Epoch progression: 100%|██████████| 9297/9297 [00:23<00:00, 391.08it/s]\n",
      "Epoch progression:   1%|          | 68/9297 [00:00<00:26, 348.52it/s]"
     ]
    },
    {
     "name": "stdout",
     "output_type": "stream",
     "text": [
      "2021-04-27 21:15:58.905122  |  Epoch 37  |  Training loss 1.405\n"
     ]
    },
    {
     "name": "stderr",
     "output_type": "stream",
     "text": [
      "Epoch progression: 100%|██████████| 9297/9297 [00:23<00:00, 394.59it/s]\n",
      "Epoch progression:   1%|          | 64/9297 [00:00<00:28, 327.02it/s]"
     ]
    },
    {
     "name": "stdout",
     "output_type": "stream",
     "text": [
      "2021-04-27 21:16:22.466358  |  Epoch 38  |  Training loss 1.404\n"
     ]
    },
    {
     "name": "stderr",
     "output_type": "stream",
     "text": [
      "Epoch progression: 100%|██████████| 9297/9297 [00:23<00:00, 392.54it/s]\n",
      "Epoch progression:   0%|          | 25/9297 [00:00<00:37, 247.30it/s]"
     ]
    },
    {
     "name": "stdout",
     "output_type": "stream",
     "text": [
      "2021-04-27 21:16:46.151401  |  Epoch 39  |  Training loss 1.403\n"
     ]
    },
    {
     "name": "stderr",
     "output_type": "stream",
     "text": [
      "Epoch progression: 100%|██████████| 9297/9297 [00:23<00:00, 392.81it/s]\n",
      "Epoch progression:   1%|          | 68/9297 [00:00<00:26, 346.20it/s]"
     ]
    },
    {
     "name": "stdout",
     "output_type": "stream",
     "text": [
      "2021-04-27 21:17:09.820399  |  Epoch 40  |  Training loss 1.402\n"
     ]
    },
    {
     "name": "stderr",
     "output_type": "stream",
     "text": [
      "Epoch progression: 100%|██████████| 9297/9297 [00:23<00:00, 393.38it/s]\n",
      "Epoch progression:   0%|          | 29/9297 [00:00<00:32, 286.87it/s]"
     ]
    },
    {
     "name": "stdout",
     "output_type": "stream",
     "text": [
      "2021-04-27 21:17:33.454763  |  Epoch 41  |  Training loss 1.400\n"
     ]
    },
    {
     "name": "stderr",
     "output_type": "stream",
     "text": [
      "Epoch progression: 100%|██████████| 9297/9297 [00:23<00:00, 390.49it/s]\n",
      "Epoch progression:   1%|          | 66/9297 [00:00<00:27, 337.13it/s]"
     ]
    },
    {
     "name": "stdout",
     "output_type": "stream",
     "text": [
      "2021-04-27 21:17:57.264392  |  Epoch 42  |  Training loss 1.399\n"
     ]
    },
    {
     "name": "stderr",
     "output_type": "stream",
     "text": [
      "Epoch progression: 100%|██████████| 9297/9297 [00:23<00:00, 394.63it/s]\n",
      "Epoch progression:   1%|          | 66/9297 [00:00<00:27, 337.13it/s]"
     ]
    },
    {
     "name": "stdout",
     "output_type": "stream",
     "text": [
      "2021-04-27 21:18:20.823078  |  Epoch 43  |  Training loss 1.399\n"
     ]
    },
    {
     "name": "stderr",
     "output_type": "stream",
     "text": [
      "Epoch progression: 100%|██████████| 9297/9297 [00:23<00:00, 392.30it/s]\n",
      "Epoch progression:   0%|          | 27/9297 [00:00<00:34, 267.11it/s]"
     ]
    },
    {
     "name": "stdout",
     "output_type": "stream",
     "text": [
      "2021-04-27 21:18:44.522860  |  Epoch 44  |  Training loss 1.397\n"
     ]
    },
    {
     "name": "stderr",
     "output_type": "stream",
     "text": [
      "Epoch progression: 100%|██████████| 9297/9297 [00:23<00:00, 390.39it/s]\n",
      "Epoch progression:   0%|          | 29/9297 [00:00<00:32, 284.06it/s]"
     ]
    },
    {
     "name": "stdout",
     "output_type": "stream",
     "text": [
      "2021-04-27 21:19:08.338255  |  Epoch 45  |  Training loss 1.397\n"
     ]
    },
    {
     "name": "stderr",
     "output_type": "stream",
     "text": [
      "Epoch progression: 100%|██████████| 9297/9297 [00:23<00:00, 395.84it/s]\n",
      "Epoch progression:   1%|          | 68/9297 [00:00<00:26, 345.66it/s]"
     ]
    },
    {
     "name": "stdout",
     "output_type": "stream",
     "text": [
      "2021-04-27 21:19:31.826119  |  Epoch 46  |  Training loss 1.396\n"
     ]
    },
    {
     "name": "stderr",
     "output_type": "stream",
     "text": [
      "Epoch progression: 100%|██████████| 9297/9297 [00:23<00:00, 392.26it/s]\n",
      "Epoch progression:   1%|          | 65/9297 [00:00<00:27, 336.17it/s]"
     ]
    },
    {
     "name": "stdout",
     "output_type": "stream",
     "text": [
      "2021-04-27 21:19:55.527420  |  Epoch 47  |  Training loss 1.395\n"
     ]
    },
    {
     "name": "stderr",
     "output_type": "stream",
     "text": [
      "Epoch progression: 100%|██████████| 9297/9297 [00:23<00:00, 389.94it/s]\n",
      "Epoch progression:   1%|          | 66/9297 [00:00<00:27, 340.28it/s]"
     ]
    },
    {
     "name": "stdout",
     "output_type": "stream",
     "text": [
      "2021-04-27 21:20:19.370334  |  Epoch 48  |  Training loss 1.394\n"
     ]
    },
    {
     "name": "stderr",
     "output_type": "stream",
     "text": [
      "Epoch progression: 100%|██████████| 9297/9297 [00:23<00:00, 396.12it/s]\n",
      "Epoch progression:   1%|          | 66/9297 [00:00<00:27, 336.54it/s]"
     ]
    },
    {
     "name": "stdout",
     "output_type": "stream",
     "text": [
      "2021-04-27 21:20:42.841288  |  Epoch 49  |  Training loss 1.393\n"
     ]
    },
    {
     "name": "stderr",
     "output_type": "stream",
     "text": [
      "Epoch progression: 100%|██████████| 9297/9297 [00:23<00:00, 393.10it/s]\n",
      "Epoch progression:   0%|          | 29/9297 [00:00<00:32, 284.06it/s]"
     ]
    },
    {
     "name": "stdout",
     "output_type": "stream",
     "text": [
      "2021-04-27 21:21:06.492774  |  Epoch 50  |  Training loss 1.393\n"
     ]
    },
    {
     "name": "stderr",
     "output_type": "stream",
     "text": [
      "Epoch progression: 100%|██████████| 9297/9297 [00:23<00:00, 390.56it/s]\n",
      "Epoch progression:   1%|          | 68/9297 [00:00<00:26, 348.22it/s]"
     ]
    },
    {
     "name": "stdout",
     "output_type": "stream",
     "text": [
      "2021-04-27 21:21:30.296901  |  Epoch 51  |  Training loss 1.392\n"
     ]
    },
    {
     "name": "stderr",
     "output_type": "stream",
     "text": [
      "Epoch progression: 100%|██████████| 9297/9297 [00:23<00:00, 397.38it/s]\n",
      "Epoch progression:   1%|          | 64/9297 [00:00<00:27, 332.05it/s]"
     ]
    },
    {
     "name": "stdout",
     "output_type": "stream",
     "text": [
      "2021-04-27 21:21:53.693907  |  Epoch 52  |  Training loss 1.391\n"
     ]
    },
    {
     "name": "stderr",
     "output_type": "stream",
     "text": [
      "Epoch progression: 100%|██████████| 9297/9297 [00:23<00:00, 391.88it/s]\n",
      "Epoch progression:   0%|          | 28/9297 [00:00<00:33, 279.75it/s]"
     ]
    },
    {
     "name": "stdout",
     "output_type": "stream",
     "text": [
      "2021-04-27 21:22:17.419265  |  Epoch 53  |  Training loss 1.390\n"
     ]
    },
    {
     "name": "stderr",
     "output_type": "stream",
     "text": [
      "Epoch progression: 100%|██████████| 9297/9297 [00:23<00:00, 390.38it/s]"
     ]
    },
    {
     "name": "stdout",
     "output_type": "stream",
     "text": [
      "2021-04-27 21:22:41.234231  |  Epoch 54  |  Training loss 1.390\n"
     ]
    },
    {
     "name": "stderr",
     "output_type": "stream",
     "text": [
      "\n"
     ]
    }
   ],
   "source": [
    "model = MyLSTM(len(vocab_dict), len(vocab_dict), 1, len(vocab_dict))\n",
    "opt = torch.optim.Adam(model.parameters())\n",
    "loss = torch.nn.CrossEntropyLoss()\n",
    "model.to(device=device)\n",
    "loss.to(device=device)\n",
    "train(model, opt, loss, 55, train_loader)"
   ],
   "metadata": {
    "collapsed": false,
    "pycharm": {
     "name": "#%%\n"
    }
   }
  },
  {
   "cell_type": "code",
   "execution_count": 63,
   "outputs": [],
   "source": [
    "def validate(model, val_loader, train_loader):\n",
    "    \"\"\"\n",
    "    Plot training and validation accuracy\n",
    "    \"\"\"\n",
    "    model.eval()\n",
    "    accdict = {}\n",
    "    for name, loader in [(\"train\", train_loader), (\"val\", val_loader)]:\n",
    "        correct = 0\n",
    "        total = 0\n",
    "\n",
    "        with torch.no_grad():\n",
    "            for imgs, labels in loader:\n",
    "                imgs = imgs.to(device=device)\n",
    "                labels = labels.to(device=device)\n",
    "\n",
    "                outputs = model(imgs)\n",
    "                _, predicted = torch.max(outputs, dim=1)\n",
    "                total += labels.shape[0]\n",
    "                correct += int((predicted == labels).sum())\n",
    "\n",
    "        print(\"Accuracy {}: {:.2f}\".format(name , correct / total))\n",
    "        accdict[name] = correct / total\n",
    "    return accdict"
   ],
   "metadata": {
    "collapsed": false,
    "pycharm": {
     "name": "#%%\n"
    }
   }
  },
  {
   "cell_type": "code",
   "execution_count": 64,
   "outputs": [
    {
     "name": "stdout",
     "output_type": "stream",
     "text": [
      "Accuracy train: 0.58\n",
      "Accuracy val: 0.56\n"
     ]
    },
    {
     "data": {
      "text/plain": "{'train': 0.5793831932773109, 'val': 0.5588034317819451}"
     },
     "execution_count": 64,
     "metadata": {},
     "output_type": "execute_result"
    }
   ],
   "source": [
    "validate(model, val_loader, train_loader)"
   ],
   "metadata": {
    "collapsed": false,
    "pycharm": {
     "name": "#%%\n"
    }
   }
  },
  {
   "cell_type": "code",
   "execution_count": 73,
   "outputs": [
    {
     "name": "stdout",
     "output_type": "stream",
     "text": [
      "There now is yo"
     ]
    }
   ],
   "source": [
    "def generate_text(model, seed):\n",
    "    seed = seed.to(device)\n",
    "    for i, t in enumerate(seq_seed_tensor[0]):\n",
    "        print(reversed_dict[torch.argmax(t).item()], end='')\n",
    "\n",
    "    for _ in range(500):\n",
    "        next_c = model(seed)[0]\n",
    "        next_c = torch.softmax(next_c, -1, next_c.dtype)\n",
    "        seed[0,:-1] = seed[0,1:].clone()\n",
    "        seed[0, -1] = vocab_dict[reversed_dict[torch.argmax(next_c).item()]]\n",
    "        print(reversed_dict[torch.argmax(next_c).item()], end='')\n",
    "\n",
    "seq_seed = \"There now is yo\"\n",
    "\n",
    "seq_seed_tensor = torch.zeros((1, L, len(vocab_dict)))\n",
    "for i, c in enumerate(seq_seed):\n",
    "    seq_seed_tensor[0, i] = vocab_dict[c]\n",
    "\n",
    "\n",
    "for i, t in enumerate(seq_seed_tensor[0]):\n",
    "    print(reversed_dict[torch.argmax(t).item()], end='')"
   ],
   "metadata": {
    "collapsed": false,
    "pycharm": {
     "name": "#%%\n"
    }
   }
  },
  {
   "cell_type": "code",
   "execution_count": 66,
   "outputs": [
    {
     "name": "stdout",
     "output_type": "stream",
     "text": [
      "There now      es of the strange of the strange of the strange of the strange of the strange of the strange of the strange of the strange of the strange of the strange of the strange of the strange of the strange of the strange of the strange of the strange of the strange of the strange of the strange of the strange of the strange of the strange of the strange of the strange of the strange of the strange of the strange of the strange of the strange of the strange of the strange of the strange of the strange of"
     ]
    }
   ],
   "source": [
    "generate_text(model, seq_seed_tensor)"
   ],
   "metadata": {
    "collapsed": false,
    "pycharm": {
     "name": "#%%\n"
    }
   }
  },
  {
   "cell_type": "markdown",
   "source": [
    "It repeats!"
   ],
   "metadata": {
    "collapsed": false
   }
  },
  {
   "cell_type": "code",
   "execution_count": 74,
   "outputs": [],
   "source": [
    "def generate_text_with_sampling(model, seed):\n",
    "    seed = seed.to(device)\n",
    "    for i, t in enumerate(seq_seed_tensor[0]):\n",
    "        print(reversed_dict[torch.argmax(t).item()], end='')\n",
    "\n",
    "    for _ in range(1000):\n",
    "        next_c = model(seed)[0]\n",
    "        next_c = torch.softmax(next_c, -1, next_c.dtype)\n",
    "        seed[0,:-1] = seed[0,1:].clone()\n",
    "        test_c = np.random.choice(len(vocab_dict), 1, p=next_c.cpu().detach().numpy())\n",
    "        seed[0, -1] = vocab_dict[reversed_dict[test_c[0]]]\n",
    "        print(reversed_dict[test_c[0]], end='')"
   ],
   "metadata": {
    "collapsed": false,
    "pycharm": {
     "name": "#%%\n"
    }
   }
  },
  {
   "cell_type": "code",
   "execution_count": 75,
   "outputs": [
    {
     "name": "stdout",
     "output_type": "stream",
     "text": [
      "There now is your swiftly dood-whale-seclman days in their faith as I looked forward makes him, his crew, was surprips against their possiblating in the whale and Plate, on all these ambergrawhed in fight tun, you largery of wheeling and, and a farningly so war dost or Headed when them, and as the joms, not old about among himself, is species a shuttering, ‘not blanks were terror yourpent in a fire a man, in rust begins, the summit—but they dreary, comanting to this has being a mates,” smeatic in that all the myself in the zark suppered—he parts, second heaverrance, was strange cape and weaul upwards raped old concent the deame from eateral racks, and aghe in this old man care-no there’s Man!” Pullants and below various drop away—pall. Coming then, than snappe the hours in persuags are feit, of broken of look to air were a lone papur wrinkly arm shroud, yon reap now, londerable. For slouch-devilizes them, was hide! is no suids, for a resideracce lass, but maning and stood, must can be before the prac"
     ]
    }
   ],
   "source": [
    "generate_text_with_sampling(model, seq_seed_tensor)"
   ],
   "metadata": {
    "collapsed": false,
    "pycharm": {
     "name": "#%%\n"
    }
   }
  },
  {
   "cell_type": "code",
   "execution_count": 69,
   "outputs": [
    {
     "name": "stderr",
     "output_type": "stream",
     "text": [
      "Epoch progression: 100%|██████████| 9297/9297 [00:23<00:00, 393.01it/s]\n",
      "Epoch progression:   1%|          | 66/9297 [00:00<00:27, 335.33it/s]"
     ]
    },
    {
     "name": "stdout",
     "output_type": "stream",
     "text": [
      "2021-04-27 21:23:17.174325  |  Epoch 0  |  Training loss 1.389\n"
     ]
    },
    {
     "name": "stderr",
     "output_type": "stream",
     "text": [
      "Epoch progression: 100%|██████████| 9297/9297 [00:23<00:00, 391.20it/s]\n",
      "Epoch progression:   0%|          | 28/9297 [00:00<00:33, 279.77it/s]"
     ]
    },
    {
     "name": "stdout",
     "output_type": "stream",
     "text": [
      "2021-04-27 21:23:40.940638  |  Epoch 1  |  Training loss 1.388\n"
     ]
    },
    {
     "name": "stderr",
     "output_type": "stream",
     "text": [
      "Epoch progression: 100%|██████████| 9297/9297 [00:23<00:00, 395.00it/s]\n",
      "Epoch progression:   0%|          | 23/9297 [00:00<00:40, 227.52it/s]"
     ]
    },
    {
     "name": "stdout",
     "output_type": "stream",
     "text": [
      "2021-04-27 21:24:04.478509  |  Epoch 2  |  Training loss 1.388\n"
     ]
    },
    {
     "name": "stderr",
     "output_type": "stream",
     "text": [
      "Epoch progression: 100%|██████████| 9297/9297 [00:24<00:00, 376.36it/s]\n",
      "Epoch progression:   1%|          | 56/9297 [00:00<00:32, 284.45it/s]"
     ]
    },
    {
     "name": "stdout",
     "output_type": "stream",
     "text": [
      "2021-04-27 21:24:29.181954  |  Epoch 3  |  Training loss 1.387\n"
     ]
    },
    {
     "name": "stderr",
     "output_type": "stream",
     "text": [
      "Epoch progression: 100%|██████████| 9297/9297 [00:24<00:00, 383.73it/s]\n",
      "Epoch progression:   0%|          | 24/9297 [00:00<00:39, 237.41it/s]"
     ]
    },
    {
     "name": "stdout",
     "output_type": "stream",
     "text": [
      "2021-04-27 21:24:53.410911  |  Epoch 4  |  Training loss 1.387\n"
     ]
    },
    {
     "name": "stderr",
     "output_type": "stream",
     "text": [
      "Epoch progression: 100%|██████████| 9297/9297 [00:23<00:00, 390.00it/s]\n",
      "Epoch progression:   1%|          | 67/9297 [00:00<00:26, 346.16it/s]"
     ]
    },
    {
     "name": "stdout",
     "output_type": "stream",
     "text": [
      "2021-04-27 21:25:17.250265  |  Epoch 5  |  Training loss 1.386\n"
     ]
    },
    {
     "name": "stderr",
     "output_type": "stream",
     "text": [
      "Epoch progression: 100%|██████████| 9297/9297 [00:23<00:00, 393.51it/s]\n",
      "Epoch progression:   1%|          | 68/9297 [00:00<00:26, 348.22it/s]"
     ]
    },
    {
     "name": "stdout",
     "output_type": "stream",
     "text": [
      "2021-04-27 21:25:40.877234  |  Epoch 6  |  Training loss 1.386\n"
     ]
    },
    {
     "name": "stderr",
     "output_type": "stream",
     "text": [
      "Epoch progression: 100%|██████████| 9297/9297 [00:23<00:00, 392.50it/s]\n",
      "Epoch progression:   0%|          | 28/9297 [00:00<00:33, 279.75it/s]"
     ]
    },
    {
     "name": "stdout",
     "output_type": "stream",
     "text": [
      "2021-04-27 21:26:04.564752  |  Epoch 7  |  Training loss 1.385\n"
     ]
    },
    {
     "name": "stderr",
     "output_type": "stream",
     "text": [
      "Epoch progression: 100%|██████████| 9297/9297 [00:23<00:00, 395.99it/s]\n",
      "Epoch progression:   1%|          | 67/9297 [00:00<00:27, 339.01it/s]"
     ]
    },
    {
     "name": "stdout",
     "output_type": "stream",
     "text": [
      "2021-04-27 21:26:28.043637  |  Epoch 8  |  Training loss 1.385\n"
     ]
    },
    {
     "name": "stderr",
     "output_type": "stream",
     "text": [
      "Epoch progression: 100%|██████████| 9297/9297 [00:23<00:00, 392.10it/s]\n",
      "Epoch progression:   0%|          | 28/9297 [00:00<00:33, 279.75it/s]"
     ]
    },
    {
     "name": "stdout",
     "output_type": "stream",
     "text": [
      "2021-04-27 21:26:51.755674  |  Epoch 9  |  Training loss 1.384\n"
     ]
    },
    {
     "name": "stderr",
     "output_type": "stream",
     "text": [
      "Epoch progression: 100%|██████████| 9297/9297 [00:23<00:00, 392.94it/s]\n",
      "Epoch progression:   0%|          | 29/9297 [00:00<00:32, 286.87it/s]"
     ]
    },
    {
     "name": "stdout",
     "output_type": "stream",
     "text": [
      "2021-04-27 21:27:15.416595  |  Epoch 10  |  Training loss 1.384\n"
     ]
    },
    {
     "name": "stderr",
     "output_type": "stream",
     "text": [
      "Epoch progression: 100%|██████████| 9297/9297 [00:23<00:00, 394.90it/s]\n",
      "Epoch progression:   0%|          | 29/9297 [00:00<00:32, 286.87it/s]"
     ]
    },
    {
     "name": "stdout",
     "output_type": "stream",
     "text": [
      "2021-04-27 21:27:38.960162  |  Epoch 11  |  Training loss 1.383\n"
     ]
    },
    {
     "name": "stderr",
     "output_type": "stream",
     "text": [
      "Epoch progression: 100%|██████████| 9297/9297 [00:23<00:00, 392.28it/s]\n",
      "Epoch progression:   0%|          | 29/9297 [00:00<00:32, 284.08it/s]"
     ]
    },
    {
     "name": "stdout",
     "output_type": "stream",
     "text": [
      "2021-04-27 21:28:02.661173  |  Epoch 12  |  Training loss 1.383\n"
     ]
    },
    {
     "name": "stderr",
     "output_type": "stream",
     "text": [
      "Epoch progression: 100%|██████████| 9297/9297 [00:23<00:00, 394.91it/s]\n",
      "Epoch progression:   1%|          | 67/9297 [00:00<00:27, 339.01it/s]"
     ]
    },
    {
     "name": "stdout",
     "output_type": "stream",
     "text": [
      "2021-04-27 21:28:26.204132  |  Epoch 13  |  Training loss 1.382\n"
     ]
    },
    {
     "name": "stderr",
     "output_type": "stream",
     "text": [
      "Epoch progression: 100%|██████████| 9297/9297 [00:23<00:00, 394.09it/s]\n",
      "Epoch progression:   1%|          | 68/9297 [00:00<00:26, 346.47it/s]"
     ]
    },
    {
     "name": "stdout",
     "output_type": "stream",
     "text": [
      "2021-04-27 21:28:49.796105  |  Epoch 14  |  Training loss 1.382\n"
     ]
    },
    {
     "name": "stderr",
     "output_type": "stream",
     "text": [
      "Epoch progression: 100%|██████████| 9297/9297 [00:23<00:00, 392.49it/s]\n",
      "Epoch progression:   1%|          | 67/9297 [00:00<00:27, 341.23it/s]"
     ]
    },
    {
     "name": "stdout",
     "output_type": "stream",
     "text": [
      "2021-04-27 21:29:13.484444  |  Epoch 15  |  Training loss 1.381\n"
     ]
    },
    {
     "name": "stderr",
     "output_type": "stream",
     "text": [
      "Epoch progression: 100%|██████████| 9297/9297 [00:23<00:00, 395.59it/s]\n",
      "Epoch progression:   1%|          | 67/9297 [00:00<00:26, 344.40it/s]"
     ]
    },
    {
     "name": "stdout",
     "output_type": "stream",
     "text": [
      "2021-04-27 21:29:36.987134  |  Epoch 16  |  Training loss 1.381\n"
     ]
    },
    {
     "name": "stderr",
     "output_type": "stream",
     "text": [
      "Epoch progression: 100%|██████████| 9297/9297 [00:23<00:00, 392.15it/s]\n",
      "Epoch progression:   0%|          | 29/9297 [00:00<00:32, 284.06it/s]"
     ]
    },
    {
     "name": "stdout",
     "output_type": "stream",
     "text": [
      "2021-04-27 21:30:00.696168  |  Epoch 17  |  Training loss 1.381\n"
     ]
    },
    {
     "name": "stderr",
     "output_type": "stream",
     "text": [
      "Epoch progression: 100%|██████████| 9297/9297 [00:23<00:00, 390.69it/s]\n",
      "Epoch progression:   0%|          | 28/9297 [00:00<00:33, 279.75it/s]"
     ]
    },
    {
     "name": "stdout",
     "output_type": "stream",
     "text": [
      "2021-04-27 21:30:24.493829  |  Epoch 18  |  Training loss 1.381\n"
     ]
    },
    {
     "name": "stderr",
     "output_type": "stream",
     "text": [
      "Epoch progression: 100%|██████████| 9297/9297 [00:23<00:00, 396.24it/s]\n",
      "Epoch progression:   0%|          | 26/9297 [00:00<00:36, 254.67it/s]"
     ]
    },
    {
     "name": "stdout",
     "output_type": "stream",
     "text": [
      "2021-04-27 21:30:47.957587  |  Epoch 19  |  Training loss 1.380\n"
     ]
    },
    {
     "name": "stderr",
     "output_type": "stream",
     "text": [
      "Epoch progression: 100%|██████████| 9297/9297 [00:23<00:00, 392.43it/s]\n",
      "Epoch progression:   1%|          | 69/9297 [00:00<00:26, 351.49it/s]"
     ]
    },
    {
     "name": "stdout",
     "output_type": "stream",
     "text": [
      "2021-04-27 21:31:11.649613  |  Epoch 20  |  Training loss 1.380\n"
     ]
    },
    {
     "name": "stderr",
     "output_type": "stream",
     "text": [
      "Epoch progression: 100%|██████████| 9297/9297 [00:23<00:00, 390.31it/s]\n",
      "Epoch progression:   0%|          | 29/9297 [00:00<00:32, 284.06it/s]"
     ]
    },
    {
     "name": "stdout",
     "output_type": "stream",
     "text": [
      "2021-04-27 21:31:35.470116  |  Epoch 21  |  Training loss 1.379\n"
     ]
    },
    {
     "name": "stderr",
     "output_type": "stream",
     "text": [
      "Epoch progression: 100%|██████████| 9297/9297 [00:23<00:00, 396.90it/s]\n",
      "Epoch progression:   1%|          | 65/9297 [00:00<00:27, 336.17it/s]"
     ]
    },
    {
     "name": "stdout",
     "output_type": "stream",
     "text": [
      "2021-04-27 21:31:58.895397  |  Epoch 22  |  Training loss 1.379\n"
     ]
    },
    {
     "name": "stderr",
     "output_type": "stream",
     "text": [
      "Epoch progression: 100%|██████████| 9297/9297 [00:23<00:00, 392.68it/s]\n",
      "Epoch progression:   1%|          | 64/9297 [00:00<00:27, 330.29it/s]"
     ]
    },
    {
     "name": "stdout",
     "output_type": "stream",
     "text": [
      "2021-04-27 21:32:22.572409  |  Epoch 23  |  Training loss 1.379\n"
     ]
    },
    {
     "name": "stderr",
     "output_type": "stream",
     "text": [
      "Epoch progression: 100%|██████████| 9297/9297 [00:23<00:00, 389.67it/s]"
     ]
    },
    {
     "name": "stdout",
     "output_type": "stream",
     "text": [
      "2021-04-27 21:32:46.430812  |  Epoch 24  |  Training loss 1.379\n"
     ]
    },
    {
     "name": "stderr",
     "output_type": "stream",
     "text": [
      "\n"
     ]
    }
   ],
   "source": [
    "train(model, opt, loss, 25, train_loader)"
   ],
   "metadata": {
    "collapsed": false,
    "pycharm": {
     "name": "#%%\n"
    }
   }
  },
  {
   "cell_type": "code",
   "execution_count": 72,
   "outputs": [
    {
     "name": "stdout",
     "output_type": "stream",
     "text": [
      "Call me Ishmaelly so is hained his age he much a-pidest slide about veaully drivend at the unompleable and mentioned as out be something, an indivive battort seen in certain fore showerdable feet declaced to combined and scraping them nears. Though, the Sperm Whales in the sanctest inchernters consece than they rushed the deep in this vilially us to othermow compot this way, Hip then, as innerroniay whole even or one said in heavenly is turning the such energy, as queer through but pretening! What and if higher shout. But alwalloa his virguind replenis of the books of Englanderous lance is over the Ligath all it plane of Prowlinets. That thy time. And is marked Steelkilt but all who man yet?” “Thy heared the whale-kings huilied here? Out was that Eplances. Nower a things and backle my lass of the voyage boltss tallimple days poor tache, for, what is on zoling his blander, the clisked Whaling boat’s, and their didn’t reversed to see eye echant off from the deserted pair him the ship, exploded in the a"
     ]
    }
   ],
   "source": [
    "seq_seed = \"Call me Ishmael\"\n",
    "\n",
    "seq_seed_tensor = torch.zeros((1, L, len(vocab_dict)))\n",
    "for i, c in enumerate(seq_seed):\n",
    "    seq_seed_tensor[0, i] = vocab_dict[c]\n",
    "\n",
    "generate_text_with_sampling(model, seq_seed_tensor)"
   ],
   "metadata": {
    "collapsed": false,
    "pycharm": {
     "name": "#%%\n"
    }
   }
  },
  {
   "cell_type": "code",
   "execution_count": 71,
   "outputs": [
    {
     "name": "stdout",
     "output_type": "stream",
     "text": [
      "Accuracy train: 0.58\n",
      "Accuracy val: 0.56\n"
     ]
    },
    {
     "data": {
      "text/plain": "{'train': 0.5823983193277311, 'val': 0.5575127173335358}"
     },
     "execution_count": 71,
     "metadata": {},
     "output_type": "execute_result"
    }
   ],
   "source": [
    "validate(model, val_loader, train_loader)\n",
    "\n"
   ],
   "metadata": {
    "collapsed": false,
    "pycharm": {
     "name": "#%%\n"
    }
   }
  }
 ],
 "metadata": {
  "kernelspec": {
   "display_name": "Python 3",
   "language": "python",
   "name": "python3"
  },
  "language_info": {
   "codemirror_mode": {
    "name": "ipython",
    "version": 2
   },
   "file_extension": ".py",
   "mimetype": "text/x-python",
   "name": "python",
   "nbconvert_exporter": "python",
   "pygments_lexer": "ipython2",
   "version": "2.7.6"
  }
 },
 "nbformat": 4,
 "nbformat_minor": 0
}